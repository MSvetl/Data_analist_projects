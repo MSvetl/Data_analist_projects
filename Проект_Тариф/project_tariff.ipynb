{
 "cells": [
  {
   "cell_type": "markdown",
   "metadata": {},
   "source": [
    "# Определение перспективного тарифа для телеком-компании"
   ]
  },
  {
   "cell_type": "markdown",
   "metadata": {},
   "source": [
    "## Описание"
   ]
  },
  {
   "cell_type": "markdown",
   "metadata": {},
   "source": [
    "Для компании оператора сотовой связи необходимо понять, какой тариф приносит больше денег, чтобы скорректировать рекламный бюджет. Предстоит сделать предварительный анализ тарифов на небольшой выборке в 500 клиентови двум тарифам.\n",
    "\n",
    "<font color=blue>Описание тарифов</font>.\n",
    "\n",
    "</div>\n",
    "\n",
    "<font color=orange>Тариф «Смарт»</font>\n",
    "\n",
    "Ежемесячная плата: 550 рублей\n",
    "Включено 500 минут разговора, 50 сообщений и 15 Гб интернет-трафика\n",
    "Стоимость услуг сверх тарифного пакета: 1. минута разговора: 3 рубля («Мегалайн» всегда округляет вверх значения минут и мегабайтов. Если пользователь проговорил всего 1 секунду, в тарифе засчитывается целая минута); 2. сообщение: 3 рубля; 3. 1 Гб интернет-трафика: 200 рублей.\n",
    "\n",
    "<font color=orange>Тариф «Ультра»</font>\n",
    "\n",
    "Ежемесячная плата: 1950 рублей\n",
    "Включено 3000 минут разговора, 1000 сообщений и 30 Гб интернет-трафика\n",
    "Стоимость услуг сверх тарифного пакета: 1. минута разговора: 1 рубль; 2. сообщение: 1 рубль; 3. 1 Гб интернет-трафика: 150 рублей.\n",
    "\n",
    "<font color=blue>Примечание:</font>\n",
    "\n",
    "</div>\n",
    "\n",
    "Оператор всегда округляет секунды до минут, а мегабайты — до гигабайт. Каждый звонок округляется отдельно: даже если он длился всего 1 секунду, будет засчитан как 1 минута.\n",
    "Для веб-трафика отдельные сессии не считаются. Вместо этого общая сумма за месяц округляется в бо́льшую сторону. Если абонент использует 1025 мегабайт в этом месяце, с него возьмут плату за 2 гигабайта."
   ]
  },
  {
   "cell_type": "markdown",
   "metadata": {},
   "source": [
    "## Цель"
   ]
  },
  {
   "cell_type": "markdown",
   "metadata": {},
   "source": [
    "Проанализировать поведение клиентов и выбрать наилучший тариф."
   ]
  },
  {
   "cell_type": "markdown",
   "metadata": {},
   "source": [
    "## Вывод"
   ]
  },
  {
   "cell_type": "markdown",
   "metadata": {},
   "source": [
    "Из проведенного анализа можно сделать такие выводы:\n",
    "\n",
    "По тарифам наиболее прибыльным является тариф Смарт, так как пользователи больше используют смс, минут и трафика интернета сверх тарифа. И таких пользователей значительно больше."
   ]
  },
  {
   "cell_type": "markdown",
   "metadata": {},
   "source": [
    "## Предварительная обработка"
   ]
  },
  {
   "cell_type": "code",
   "execution_count": 1,
   "metadata": {},
   "outputs": [],
   "source": [
    "import pandas as pd\n",
    "import matplotlib.pyplot as plt\n",
    "import seaborn as sb\n",
    "import math\n",
    "from scipy import stats as st\n",
    "import numpy as np"
   ]
  },
  {
   "cell_type": "code",
   "execution_count": 2,
   "metadata": {
    "scrolled": false
   },
   "outputs": [],
   "source": [
    "# прочитаем данные\n",
    "df_calls = pd.read_csv('calls.csv',  index_col=0)"
   ]
  },
  {
   "cell_type": "code",
   "execution_count": 3,
   "metadata": {},
   "outputs": [],
   "source": [
    "# напишем фукнцию вывода информации о данных\n",
    "def info(df):\n",
    "    display(df.info())\n",
    "    display(df.describe())\n",
    "    print('Дубликаты:', df.duplicated().sum())\n",
    "    display(df.head())    "
   ]
  },
  {
   "cell_type": "code",
   "execution_count": 4,
   "metadata": {},
   "outputs": [
    {
     "name": "stdout",
     "output_type": "stream",
     "text": [
      "<class 'pandas.core.frame.DataFrame'>\n",
      "Index: 202607 entries, 1000_0 to 1499_219\n",
      "Data columns (total 3 columns):\n",
      " #   Column     Non-Null Count   Dtype  \n",
      "---  ------     --------------   -----  \n",
      " 0   call_date  202607 non-null  object \n",
      " 1   duration   202607 non-null  float64\n",
      " 2   user_id    202607 non-null  int64  \n",
      "dtypes: float64(1), int64(1), object(1)\n",
      "memory usage: 6.2+ MB\n"
     ]
    },
    {
     "data": {
      "text/plain": [
       "None"
      ]
     },
     "metadata": {},
     "output_type": "display_data"
    },
    {
     "data": {
      "text/html": [
       "<div>\n",
       "<style scoped>\n",
       "    .dataframe tbody tr th:only-of-type {\n",
       "        vertical-align: middle;\n",
       "    }\n",
       "\n",
       "    .dataframe tbody tr th {\n",
       "        vertical-align: top;\n",
       "    }\n",
       "\n",
       "    .dataframe thead th {\n",
       "        text-align: right;\n",
       "    }\n",
       "</style>\n",
       "<table border=\"1\" class=\"dataframe\">\n",
       "  <thead>\n",
       "    <tr style=\"text-align: right;\">\n",
       "      <th></th>\n",
       "      <th>duration</th>\n",
       "      <th>user_id</th>\n",
       "    </tr>\n",
       "  </thead>\n",
       "  <tbody>\n",
       "    <tr>\n",
       "      <th>count</th>\n",
       "      <td>202607.000000</td>\n",
       "      <td>202607.000000</td>\n",
       "    </tr>\n",
       "    <tr>\n",
       "      <th>mean</th>\n",
       "      <td>6.755887</td>\n",
       "      <td>1253.940619</td>\n",
       "    </tr>\n",
       "    <tr>\n",
       "      <th>std</th>\n",
       "      <td>5.843365</td>\n",
       "      <td>144.722751</td>\n",
       "    </tr>\n",
       "    <tr>\n",
       "      <th>min</th>\n",
       "      <td>0.000000</td>\n",
       "      <td>1000.000000</td>\n",
       "    </tr>\n",
       "    <tr>\n",
       "      <th>25%</th>\n",
       "      <td>1.300000</td>\n",
       "      <td>1126.000000</td>\n",
       "    </tr>\n",
       "    <tr>\n",
       "      <th>50%</th>\n",
       "      <td>6.000000</td>\n",
       "      <td>1260.000000</td>\n",
       "    </tr>\n",
       "    <tr>\n",
       "      <th>75%</th>\n",
       "      <td>10.700000</td>\n",
       "      <td>1379.000000</td>\n",
       "    </tr>\n",
       "    <tr>\n",
       "      <th>max</th>\n",
       "      <td>38.000000</td>\n",
       "      <td>1499.000000</td>\n",
       "    </tr>\n",
       "  </tbody>\n",
       "</table>\n",
       "</div>"
      ],
      "text/plain": [
       "            duration        user_id\n",
       "count  202607.000000  202607.000000\n",
       "mean        6.755887    1253.940619\n",
       "std         5.843365     144.722751\n",
       "min         0.000000    1000.000000\n",
       "25%         1.300000    1126.000000\n",
       "50%         6.000000    1260.000000\n",
       "75%        10.700000    1379.000000\n",
       "max        38.000000    1499.000000"
      ]
     },
     "metadata": {},
     "output_type": "display_data"
    },
    {
     "name": "stdout",
     "output_type": "stream",
     "text": [
      "Дубликаты: 8838\n"
     ]
    },
    {
     "data": {
      "text/html": [
       "<div>\n",
       "<style scoped>\n",
       "    .dataframe tbody tr th:only-of-type {\n",
       "        vertical-align: middle;\n",
       "    }\n",
       "\n",
       "    .dataframe tbody tr th {\n",
       "        vertical-align: top;\n",
       "    }\n",
       "\n",
       "    .dataframe thead th {\n",
       "        text-align: right;\n",
       "    }\n",
       "</style>\n",
       "<table border=\"1\" class=\"dataframe\">\n",
       "  <thead>\n",
       "    <tr style=\"text-align: right;\">\n",
       "      <th></th>\n",
       "      <th>call_date</th>\n",
       "      <th>duration</th>\n",
       "      <th>user_id</th>\n",
       "    </tr>\n",
       "    <tr>\n",
       "      <th>id</th>\n",
       "      <th></th>\n",
       "      <th></th>\n",
       "      <th></th>\n",
       "    </tr>\n",
       "  </thead>\n",
       "  <tbody>\n",
       "    <tr>\n",
       "      <th>1000_0</th>\n",
       "      <td>2018-07-25</td>\n",
       "      <td>0.00</td>\n",
       "      <td>1000</td>\n",
       "    </tr>\n",
       "    <tr>\n",
       "      <th>1000_1</th>\n",
       "      <td>2018-08-17</td>\n",
       "      <td>0.00</td>\n",
       "      <td>1000</td>\n",
       "    </tr>\n",
       "    <tr>\n",
       "      <th>1000_2</th>\n",
       "      <td>2018-06-11</td>\n",
       "      <td>2.85</td>\n",
       "      <td>1000</td>\n",
       "    </tr>\n",
       "    <tr>\n",
       "      <th>1000_3</th>\n",
       "      <td>2018-09-21</td>\n",
       "      <td>13.80</td>\n",
       "      <td>1000</td>\n",
       "    </tr>\n",
       "    <tr>\n",
       "      <th>1000_4</th>\n",
       "      <td>2018-12-15</td>\n",
       "      <td>5.18</td>\n",
       "      <td>1000</td>\n",
       "    </tr>\n",
       "  </tbody>\n",
       "</table>\n",
       "</div>"
      ],
      "text/plain": [
       "         call_date  duration  user_id\n",
       "id                                   \n",
       "1000_0  2018-07-25      0.00     1000\n",
       "1000_1  2018-08-17      0.00     1000\n",
       "1000_2  2018-06-11      2.85     1000\n",
       "1000_3  2018-09-21     13.80     1000\n",
       "1000_4  2018-12-15      5.18     1000"
      ]
     },
     "metadata": {},
     "output_type": "display_data"
    }
   ],
   "source": [
    "# посмотрим на данные\n",
    "info(df_calls)"
   ]
  },
  {
   "cell_type": "markdown",
   "metadata": {},
   "source": [
    "Описание полей:\n",
    "\n",
    "- id — уникальный номер звонка\n",
    "- call_date — дата звонка\n",
    "- duration — длительность звонка в минутах\n",
    "- user_id — идентификатор пользователя, сделавшего звонок"
   ]
  },
  {
   "cell_type": "code",
   "execution_count": 5,
   "metadata": {},
   "outputs": [],
   "source": [
    "#удалим дубликаты\n",
    "df_calls = df_calls.drop_duplicates().reset_index(drop = True)"
   ]
  },
  {
   "cell_type": "code",
   "execution_count": 6,
   "metadata": {},
   "outputs": [
    {
     "data": {
      "text/plain": [
       "0"
      ]
     },
     "execution_count": 6,
     "metadata": {},
     "output_type": "execute_result"
    }
   ],
   "source": [
    "# проверим дубликаты\n",
    "df_calls.duplicated().sum()"
   ]
  },
  {
   "cell_type": "code",
   "execution_count": 7,
   "metadata": {},
   "outputs": [
    {
     "data": {
      "text/plain": [
       "193769"
      ]
     },
     "execution_count": 7,
     "metadata": {},
     "output_type": "execute_result"
    }
   ],
   "source": [
    "# посмотрим сколько данных\n",
    "len(df_calls)"
   ]
  },
  {
   "cell_type": "markdown",
   "metadata": {},
   "source": [
    "В df_calls названия столбцов корректные, Null данных нет, типы данных корректные, среднее и медиана примерно одинаковое, дубликаты удалены, данные годные для анализа. "
   ]
  },
  {
   "cell_type": "code",
   "execution_count": 8,
   "metadata": {},
   "outputs": [],
   "source": [
    "# прочитаем на данные об интернет трафике\n",
    "df_internet = pd.read_csv('internet.csv',  index_col=0)"
   ]
  },
  {
   "cell_type": "code",
   "execution_count": 9,
   "metadata": {},
   "outputs": [
    {
     "name": "stdout",
     "output_type": "stream",
     "text": [
      "<class 'pandas.core.frame.DataFrame'>\n",
      "Int64Index: 149396 entries, 0 to 149395\n",
      "Data columns (total 4 columns):\n",
      " #   Column        Non-Null Count   Dtype  \n",
      "---  ------        --------------   -----  \n",
      " 0   id            149396 non-null  object \n",
      " 1   mb_used       149396 non-null  float64\n",
      " 2   session_date  149396 non-null  object \n",
      " 3   user_id       149396 non-null  int64  \n",
      "dtypes: float64(1), int64(1), object(2)\n",
      "memory usage: 5.7+ MB\n"
     ]
    },
    {
     "data": {
      "text/plain": [
       "None"
      ]
     },
     "metadata": {},
     "output_type": "display_data"
    },
    {
     "data": {
      "text/html": [
       "<div>\n",
       "<style scoped>\n",
       "    .dataframe tbody tr th:only-of-type {\n",
       "        vertical-align: middle;\n",
       "    }\n",
       "\n",
       "    .dataframe tbody tr th {\n",
       "        vertical-align: top;\n",
       "    }\n",
       "\n",
       "    .dataframe thead th {\n",
       "        text-align: right;\n",
       "    }\n",
       "</style>\n",
       "<table border=\"1\" class=\"dataframe\">\n",
       "  <thead>\n",
       "    <tr style=\"text-align: right;\">\n",
       "      <th></th>\n",
       "      <th>mb_used</th>\n",
       "      <th>user_id</th>\n",
       "    </tr>\n",
       "  </thead>\n",
       "  <tbody>\n",
       "    <tr>\n",
       "      <th>count</th>\n",
       "      <td>149396.000000</td>\n",
       "      <td>149396.000000</td>\n",
       "    </tr>\n",
       "    <tr>\n",
       "      <th>mean</th>\n",
       "      <td>370.192426</td>\n",
       "      <td>1252.099842</td>\n",
       "    </tr>\n",
       "    <tr>\n",
       "      <th>std</th>\n",
       "      <td>278.300951</td>\n",
       "      <td>144.050823</td>\n",
       "    </tr>\n",
       "    <tr>\n",
       "      <th>min</th>\n",
       "      <td>0.000000</td>\n",
       "      <td>1000.000000</td>\n",
       "    </tr>\n",
       "    <tr>\n",
       "      <th>25%</th>\n",
       "      <td>138.187500</td>\n",
       "      <td>1130.000000</td>\n",
       "    </tr>\n",
       "    <tr>\n",
       "      <th>50%</th>\n",
       "      <td>348.015000</td>\n",
       "      <td>1251.000000</td>\n",
       "    </tr>\n",
       "    <tr>\n",
       "      <th>75%</th>\n",
       "      <td>559.552500</td>\n",
       "      <td>1380.000000</td>\n",
       "    </tr>\n",
       "    <tr>\n",
       "      <th>max</th>\n",
       "      <td>1724.830000</td>\n",
       "      <td>1499.000000</td>\n",
       "    </tr>\n",
       "  </tbody>\n",
       "</table>\n",
       "</div>"
      ],
      "text/plain": [
       "             mb_used        user_id\n",
       "count  149396.000000  149396.000000\n",
       "mean      370.192426    1252.099842\n",
       "std       278.300951     144.050823\n",
       "min         0.000000    1000.000000\n",
       "25%       138.187500    1130.000000\n",
       "50%       348.015000    1251.000000\n",
       "75%       559.552500    1380.000000\n",
       "max      1724.830000    1499.000000"
      ]
     },
     "metadata": {},
     "output_type": "display_data"
    },
    {
     "name": "stdout",
     "output_type": "stream",
     "text": [
      "Дубликаты: 0\n"
     ]
    },
    {
     "data": {
      "text/html": [
       "<div>\n",
       "<style scoped>\n",
       "    .dataframe tbody tr th:only-of-type {\n",
       "        vertical-align: middle;\n",
       "    }\n",
       "\n",
       "    .dataframe tbody tr th {\n",
       "        vertical-align: top;\n",
       "    }\n",
       "\n",
       "    .dataframe thead th {\n",
       "        text-align: right;\n",
       "    }\n",
       "</style>\n",
       "<table border=\"1\" class=\"dataframe\">\n",
       "  <thead>\n",
       "    <tr style=\"text-align: right;\">\n",
       "      <th></th>\n",
       "      <th>id</th>\n",
       "      <th>mb_used</th>\n",
       "      <th>session_date</th>\n",
       "      <th>user_id</th>\n",
       "    </tr>\n",
       "  </thead>\n",
       "  <tbody>\n",
       "    <tr>\n",
       "      <th>0</th>\n",
       "      <td>1000_0</td>\n",
       "      <td>112.95</td>\n",
       "      <td>2018-11-25</td>\n",
       "      <td>1000</td>\n",
       "    </tr>\n",
       "    <tr>\n",
       "      <th>1</th>\n",
       "      <td>1000_1</td>\n",
       "      <td>1052.81</td>\n",
       "      <td>2018-09-07</td>\n",
       "      <td>1000</td>\n",
       "    </tr>\n",
       "    <tr>\n",
       "      <th>2</th>\n",
       "      <td>1000_2</td>\n",
       "      <td>1197.26</td>\n",
       "      <td>2018-06-25</td>\n",
       "      <td>1000</td>\n",
       "    </tr>\n",
       "    <tr>\n",
       "      <th>3</th>\n",
       "      <td>1000_3</td>\n",
       "      <td>550.27</td>\n",
       "      <td>2018-08-22</td>\n",
       "      <td>1000</td>\n",
       "    </tr>\n",
       "    <tr>\n",
       "      <th>4</th>\n",
       "      <td>1000_4</td>\n",
       "      <td>302.56</td>\n",
       "      <td>2018-09-24</td>\n",
       "      <td>1000</td>\n",
       "    </tr>\n",
       "  </tbody>\n",
       "</table>\n",
       "</div>"
      ],
      "text/plain": [
       "       id  mb_used session_date  user_id\n",
       "0  1000_0   112.95   2018-11-25     1000\n",
       "1  1000_1  1052.81   2018-09-07     1000\n",
       "2  1000_2  1197.26   2018-06-25     1000\n",
       "3  1000_3   550.27   2018-08-22     1000\n",
       "4  1000_4   302.56   2018-09-24     1000"
      ]
     },
     "metadata": {},
     "output_type": "display_data"
    }
   ],
   "source": [
    "# посмотрим на данные\n",
    "info(df_internet)"
   ]
  },
  {
   "cell_type": "markdown",
   "metadata": {},
   "source": [
    "Описание:\n",
    "- id — уникальный номер сессии\n",
    "- mb_used — объём потраченного за сессию интернет-трафика (в мегабайтах)\n",
    "- session_date — дата интернет-сессии\n",
    "- user_id — идентификатор пользователя"
   ]
  },
  {
   "cell_type": "markdown",
   "metadata": {},
   "source": [
    "В df_internet названия столбцов корректные, Null данных нет, типы данных корректные, среднее и медиана примерно одинаковое, дубликатов нет, значит данные годные для анализа. Добавим столбец gb_used — объём потраченного за сессию интернет-трафика (в гигабайтах)."
   ]
  },
  {
   "cell_type": "code",
   "execution_count": 10,
   "metadata": {},
   "outputs": [],
   "source": [
    "# переведем МБ в ГБ\n",
    "df_internet['gb_used'] = df_internet['mb_used']/1024"
   ]
  },
  {
   "cell_type": "code",
   "execution_count": 11,
   "metadata": {},
   "outputs": [
    {
     "name": "stdout",
     "output_type": "stream",
     "text": [
      "<class 'pandas.core.frame.DataFrame'>\n",
      "Int64Index: 149396 entries, 0 to 149395\n",
      "Data columns (total 5 columns):\n",
      " #   Column        Non-Null Count   Dtype  \n",
      "---  ------        --------------   -----  \n",
      " 0   id            149396 non-null  object \n",
      " 1   mb_used       149396 non-null  float64\n",
      " 2   session_date  149396 non-null  object \n",
      " 3   user_id       149396 non-null  int64  \n",
      " 4   gb_used       149396 non-null  float64\n",
      "dtypes: float64(2), int64(1), object(2)\n",
      "memory usage: 6.8+ MB\n"
     ]
    },
    {
     "data": {
      "text/plain": [
       "None"
      ]
     },
     "metadata": {},
     "output_type": "display_data"
    },
    {
     "data": {
      "text/html": [
       "<div>\n",
       "<style scoped>\n",
       "    .dataframe tbody tr th:only-of-type {\n",
       "        vertical-align: middle;\n",
       "    }\n",
       "\n",
       "    .dataframe tbody tr th {\n",
       "        vertical-align: top;\n",
       "    }\n",
       "\n",
       "    .dataframe thead th {\n",
       "        text-align: right;\n",
       "    }\n",
       "</style>\n",
       "<table border=\"1\" class=\"dataframe\">\n",
       "  <thead>\n",
       "    <tr style=\"text-align: right;\">\n",
       "      <th></th>\n",
       "      <th>mb_used</th>\n",
       "      <th>user_id</th>\n",
       "      <th>gb_used</th>\n",
       "    </tr>\n",
       "  </thead>\n",
       "  <tbody>\n",
       "    <tr>\n",
       "      <th>count</th>\n",
       "      <td>149396.000000</td>\n",
       "      <td>149396.000000</td>\n",
       "      <td>149396.000000</td>\n",
       "    </tr>\n",
       "    <tr>\n",
       "      <th>mean</th>\n",
       "      <td>370.192426</td>\n",
       "      <td>1252.099842</td>\n",
       "      <td>0.361516</td>\n",
       "    </tr>\n",
       "    <tr>\n",
       "      <th>std</th>\n",
       "      <td>278.300951</td>\n",
       "      <td>144.050823</td>\n",
       "      <td>0.271778</td>\n",
       "    </tr>\n",
       "    <tr>\n",
       "      <th>min</th>\n",
       "      <td>0.000000</td>\n",
       "      <td>1000.000000</td>\n",
       "      <td>0.000000</td>\n",
       "    </tr>\n",
       "    <tr>\n",
       "      <th>25%</th>\n",
       "      <td>138.187500</td>\n",
       "      <td>1130.000000</td>\n",
       "      <td>0.134949</td>\n",
       "    </tr>\n",
       "    <tr>\n",
       "      <th>50%</th>\n",
       "      <td>348.015000</td>\n",
       "      <td>1251.000000</td>\n",
       "      <td>0.339858</td>\n",
       "    </tr>\n",
       "    <tr>\n",
       "      <th>75%</th>\n",
       "      <td>559.552500</td>\n",
       "      <td>1380.000000</td>\n",
       "      <td>0.546438</td>\n",
       "    </tr>\n",
       "    <tr>\n",
       "      <th>max</th>\n",
       "      <td>1724.830000</td>\n",
       "      <td>1499.000000</td>\n",
       "      <td>1.684404</td>\n",
       "    </tr>\n",
       "  </tbody>\n",
       "</table>\n",
       "</div>"
      ],
      "text/plain": [
       "             mb_used        user_id        gb_used\n",
       "count  149396.000000  149396.000000  149396.000000\n",
       "mean      370.192426    1252.099842       0.361516\n",
       "std       278.300951     144.050823       0.271778\n",
       "min         0.000000    1000.000000       0.000000\n",
       "25%       138.187500    1130.000000       0.134949\n",
       "50%       348.015000    1251.000000       0.339858\n",
       "75%       559.552500    1380.000000       0.546438\n",
       "max      1724.830000    1499.000000       1.684404"
      ]
     },
     "metadata": {},
     "output_type": "display_data"
    },
    {
     "name": "stdout",
     "output_type": "stream",
     "text": [
      "Дубликаты: 0\n"
     ]
    },
    {
     "data": {
      "text/html": [
       "<div>\n",
       "<style scoped>\n",
       "    .dataframe tbody tr th:only-of-type {\n",
       "        vertical-align: middle;\n",
       "    }\n",
       "\n",
       "    .dataframe tbody tr th {\n",
       "        vertical-align: top;\n",
       "    }\n",
       "\n",
       "    .dataframe thead th {\n",
       "        text-align: right;\n",
       "    }\n",
       "</style>\n",
       "<table border=\"1\" class=\"dataframe\">\n",
       "  <thead>\n",
       "    <tr style=\"text-align: right;\">\n",
       "      <th></th>\n",
       "      <th>id</th>\n",
       "      <th>mb_used</th>\n",
       "      <th>session_date</th>\n",
       "      <th>user_id</th>\n",
       "      <th>gb_used</th>\n",
       "    </tr>\n",
       "  </thead>\n",
       "  <tbody>\n",
       "    <tr>\n",
       "      <th>0</th>\n",
       "      <td>1000_0</td>\n",
       "      <td>112.95</td>\n",
       "      <td>2018-11-25</td>\n",
       "      <td>1000</td>\n",
       "      <td>0.110303</td>\n",
       "    </tr>\n",
       "    <tr>\n",
       "      <th>1</th>\n",
       "      <td>1000_1</td>\n",
       "      <td>1052.81</td>\n",
       "      <td>2018-09-07</td>\n",
       "      <td>1000</td>\n",
       "      <td>1.028135</td>\n",
       "    </tr>\n",
       "    <tr>\n",
       "      <th>2</th>\n",
       "      <td>1000_2</td>\n",
       "      <td>1197.26</td>\n",
       "      <td>2018-06-25</td>\n",
       "      <td>1000</td>\n",
       "      <td>1.169199</td>\n",
       "    </tr>\n",
       "    <tr>\n",
       "      <th>3</th>\n",
       "      <td>1000_3</td>\n",
       "      <td>550.27</td>\n",
       "      <td>2018-08-22</td>\n",
       "      <td>1000</td>\n",
       "      <td>0.537373</td>\n",
       "    </tr>\n",
       "    <tr>\n",
       "      <th>4</th>\n",
       "      <td>1000_4</td>\n",
       "      <td>302.56</td>\n",
       "      <td>2018-09-24</td>\n",
       "      <td>1000</td>\n",
       "      <td>0.295469</td>\n",
       "    </tr>\n",
       "  </tbody>\n",
       "</table>\n",
       "</div>"
      ],
      "text/plain": [
       "       id  mb_used session_date  user_id   gb_used\n",
       "0  1000_0   112.95   2018-11-25     1000  0.110303\n",
       "1  1000_1  1052.81   2018-09-07     1000  1.028135\n",
       "2  1000_2  1197.26   2018-06-25     1000  1.169199\n",
       "3  1000_3   550.27   2018-08-22     1000  0.537373\n",
       "4  1000_4   302.56   2018-09-24     1000  0.295469"
      ]
     },
     "metadata": {},
     "output_type": "display_data"
    }
   ],
   "source": [
    "info(df_internet)"
   ]
  },
  {
   "cell_type": "code",
   "execution_count": 12,
   "metadata": {
    "scrolled": true
   },
   "outputs": [
    {
     "data": {
      "image/png": "[encoded data removed]",
      "text/plain": [
       "<Figure size 432x288 with 1 Axes>"
      ]
     },
     "metadata": {
      "needs_background": "light"
     },
     "output_type": "display_data"
    }
   ],
   "source": [
    "# посмoтрим на распределение данных в mb_used\n",
    "df_internet['mb_used'].hist(bins=100);"
   ]
  },
  {
   "cell_type": "code",
   "execution_count": 13,
   "metadata": {},
   "outputs": [
    {
     "data": {
      "text/html": [
       "<div>\n",
       "<style scoped>\n",
       "    .dataframe tbody tr th:only-of-type {\n",
       "        vertical-align: middle;\n",
       "    }\n",
       "\n",
       "    .dataframe tbody tr th {\n",
       "        vertical-align: top;\n",
       "    }\n",
       "\n",
       "    .dataframe thead th {\n",
       "        text-align: right;\n",
       "    }\n",
       "</style>\n",
       "<table border=\"1\" class=\"dataframe\">\n",
       "  <thead>\n",
       "    <tr style=\"text-align: right;\">\n",
       "      <th></th>\n",
       "      <th>id</th>\n",
       "      <th>mb_used</th>\n",
       "      <th>session_date</th>\n",
       "      <th>user_id</th>\n",
       "      <th>gb_used</th>\n",
       "    </tr>\n",
       "  </thead>\n",
       "  <tbody>\n",
       "    <tr>\n",
       "      <th>11</th>\n",
       "      <td>1000_11</td>\n",
       "      <td>0.0</td>\n",
       "      <td>2018-08-28</td>\n",
       "      <td>1000</td>\n",
       "      <td>0.0</td>\n",
       "    </tr>\n",
       "    <tr>\n",
       "      <th>38</th>\n",
       "      <td>1000_38</td>\n",
       "      <td>0.0</td>\n",
       "      <td>2018-11-27</td>\n",
       "      <td>1000</td>\n",
       "      <td>0.0</td>\n",
       "    </tr>\n",
       "    <tr>\n",
       "      <th>46</th>\n",
       "      <td>1000_46</td>\n",
       "      <td>0.0</td>\n",
       "      <td>2018-06-30</td>\n",
       "      <td>1000</td>\n",
       "      <td>0.0</td>\n",
       "    </tr>\n",
       "    <tr>\n",
       "      <th>67</th>\n",
       "      <td>1000_67</td>\n",
       "      <td>0.0</td>\n",
       "      <td>2018-06-16</td>\n",
       "      <td>1000</td>\n",
       "      <td>0.0</td>\n",
       "    </tr>\n",
       "    <tr>\n",
       "      <th>72</th>\n",
       "      <td>1000_72</td>\n",
       "      <td>0.0</td>\n",
       "      <td>2018-06-15</td>\n",
       "      <td>1000</td>\n",
       "      <td>0.0</td>\n",
       "    </tr>\n",
       "    <tr>\n",
       "      <th>...</th>\n",
       "      <td>...</td>\n",
       "      <td>...</td>\n",
       "      <td>...</td>\n",
       "      <td>...</td>\n",
       "      <td>...</td>\n",
       "    </tr>\n",
       "    <tr>\n",
       "      <th>149380</th>\n",
       "      <td>1499_141</td>\n",
       "      <td>0.0</td>\n",
       "      <td>2018-12-11</td>\n",
       "      <td>1499</td>\n",
       "      <td>0.0</td>\n",
       "    </tr>\n",
       "    <tr>\n",
       "      <th>149381</th>\n",
       "      <td>1499_142</td>\n",
       "      <td>0.0</td>\n",
       "      <td>2018-11-01</td>\n",
       "      <td>1499</td>\n",
       "      <td>0.0</td>\n",
       "    </tr>\n",
       "    <tr>\n",
       "      <th>149383</th>\n",
       "      <td>1499_144</td>\n",
       "      <td>0.0</td>\n",
       "      <td>2018-11-27</td>\n",
       "      <td>1499</td>\n",
       "      <td>0.0</td>\n",
       "    </tr>\n",
       "    <tr>\n",
       "      <th>149386</th>\n",
       "      <td>1499_147</td>\n",
       "      <td>0.0</td>\n",
       "      <td>2018-10-21</td>\n",
       "      <td>1499</td>\n",
       "      <td>0.0</td>\n",
       "    </tr>\n",
       "    <tr>\n",
       "      <th>149393</th>\n",
       "      <td>1499_154</td>\n",
       "      <td>0.0</td>\n",
       "      <td>2018-10-27</td>\n",
       "      <td>1499</td>\n",
       "      <td>0.0</td>\n",
       "    </tr>\n",
       "  </tbody>\n",
       "</table>\n",
       "<p>19598 rows × 5 columns</p>\n",
       "</div>"
      ],
      "text/plain": [
       "              id  mb_used session_date  user_id  gb_used\n",
       "11       1000_11      0.0   2018-08-28     1000      0.0\n",
       "38       1000_38      0.0   2018-11-27     1000      0.0\n",
       "46       1000_46      0.0   2018-06-30     1000      0.0\n",
       "67       1000_67      0.0   2018-06-16     1000      0.0\n",
       "72       1000_72      0.0   2018-06-15     1000      0.0\n",
       "...          ...      ...          ...      ...      ...\n",
       "149380  1499_141      0.0   2018-12-11     1499      0.0\n",
       "149381  1499_142      0.0   2018-11-01     1499      0.0\n",
       "149383  1499_144      0.0   2018-11-27     1499      0.0\n",
       "149386  1499_147      0.0   2018-10-21     1499      0.0\n",
       "149393  1499_154      0.0   2018-10-27     1499      0.0\n",
       "\n",
       "[19598 rows x 5 columns]"
      ]
     },
     "execution_count": 13,
     "metadata": {},
     "output_type": "execute_result"
    }
   ],
   "source": [
    "# посмотрим на записи с нулевым значением.\n",
    "df_internet.loc[df_internet['mb_used']==0]"
   ]
  },
  {
   "cell_type": "code",
   "execution_count": 14,
   "metadata": {},
   "outputs": [],
   "source": [
    "# такие записи можно исключить, так как они не информативны и не влияют на дальнейшую оценку тарифов\n",
    "df_internet = df_internet.loc[df_internet['mb_used'] > 0]"
   ]
  },
  {
   "cell_type": "code",
   "execution_count": 15,
   "metadata": {
    "scrolled": false
   },
   "outputs": [
    {
     "data": {
      "image/png": "[encoded data removed]",
      "text/plain": [
       "<Figure size 432x288 with 1 Axes>"
      ]
     },
     "metadata": {
      "needs_background": "light"
     },
     "output_type": "display_data"
    }
   ],
   "source": [
    "# построим новую гистограмму\n",
    "df_internet['mb_used'].hist(bins=100);"
   ]
  },
  {
   "cell_type": "markdown",
   "metadata": {},
   "source": [
    "Наибольшее количество расхода от 250 до 500 МБ. Свыше 1000 МБ менее 500."
   ]
  },
  {
   "cell_type": "markdown",
   "metadata": {},
   "source": [
    "до 500 МБ трафика расходуется больше всего, свыше 1000 МБ совсем немного."
   ]
  },
  {
   "cell_type": "code",
   "execution_count": 16,
   "metadata": {},
   "outputs": [],
   "source": [
    "# прочитаем данные о сообщениях\n",
    "df_messages = pd.read_csv('messages.csv')"
   ]
  },
  {
   "cell_type": "code",
   "execution_count": 17,
   "metadata": {},
   "outputs": [
    {
     "name": "stdout",
     "output_type": "stream",
     "text": [
      "<class 'pandas.core.frame.DataFrame'>\n",
      "RangeIndex: 123036 entries, 0 to 123035\n",
      "Data columns (total 3 columns):\n",
      " #   Column        Non-Null Count   Dtype \n",
      "---  ------        --------------   ----- \n",
      " 0   id            123036 non-null  object\n",
      " 1   message_date  123036 non-null  object\n",
      " 2   user_id       123036 non-null  int64 \n",
      "dtypes: int64(1), object(2)\n",
      "memory usage: 2.8+ MB\n"
     ]
    },
    {
     "data": {
      "text/plain": [
       "None"
      ]
     },
     "metadata": {},
     "output_type": "display_data"
    },
    {
     "data": {
      "text/html": [
       "<div>\n",
       "<style scoped>\n",
       "    .dataframe tbody tr th:only-of-type {\n",
       "        vertical-align: middle;\n",
       "    }\n",
       "\n",
       "    .dataframe tbody tr th {\n",
       "        vertical-align: top;\n",
       "    }\n",
       "\n",
       "    .dataframe thead th {\n",
       "        text-align: right;\n",
       "    }\n",
       "</style>\n",
       "<table border=\"1\" class=\"dataframe\">\n",
       "  <thead>\n",
       "    <tr style=\"text-align: right;\">\n",
       "      <th></th>\n",
       "      <th>user_id</th>\n",
       "    </tr>\n",
       "  </thead>\n",
       "  <tbody>\n",
       "    <tr>\n",
       "      <th>count</th>\n",
       "      <td>123036.000000</td>\n",
       "    </tr>\n",
       "    <tr>\n",
       "      <th>mean</th>\n",
       "      <td>1256.989410</td>\n",
       "    </tr>\n",
       "    <tr>\n",
       "      <th>std</th>\n",
       "      <td>143.523967</td>\n",
       "    </tr>\n",
       "    <tr>\n",
       "      <th>min</th>\n",
       "      <td>1000.000000</td>\n",
       "    </tr>\n",
       "    <tr>\n",
       "      <th>25%</th>\n",
       "      <td>1134.000000</td>\n",
       "    </tr>\n",
       "    <tr>\n",
       "      <th>50%</th>\n",
       "      <td>1271.000000</td>\n",
       "    </tr>\n",
       "    <tr>\n",
       "      <th>75%</th>\n",
       "      <td>1381.000000</td>\n",
       "    </tr>\n",
       "    <tr>\n",
       "      <th>max</th>\n",
       "      <td>1499.000000</td>\n",
       "    </tr>\n",
       "  </tbody>\n",
       "</table>\n",
       "</div>"
      ],
      "text/plain": [
       "             user_id\n",
       "count  123036.000000\n",
       "mean     1256.989410\n",
       "std       143.523967\n",
       "min      1000.000000\n",
       "25%      1134.000000\n",
       "50%      1271.000000\n",
       "75%      1381.000000\n",
       "max      1499.000000"
      ]
     },
     "metadata": {},
     "output_type": "display_data"
    },
    {
     "name": "stdout",
     "output_type": "stream",
     "text": [
      "Дубликаты: 0\n"
     ]
    },
    {
     "data": {
      "text/html": [
       "<div>\n",
       "<style scoped>\n",
       "    .dataframe tbody tr th:only-of-type {\n",
       "        vertical-align: middle;\n",
       "    }\n",
       "\n",
       "    .dataframe tbody tr th {\n",
       "        vertical-align: top;\n",
       "    }\n",
       "\n",
       "    .dataframe thead th {\n",
       "        text-align: right;\n",
       "    }\n",
       "</style>\n",
       "<table border=\"1\" class=\"dataframe\">\n",
       "  <thead>\n",
       "    <tr style=\"text-align: right;\">\n",
       "      <th></th>\n",
       "      <th>id</th>\n",
       "      <th>message_date</th>\n",
       "      <th>user_id</th>\n",
       "    </tr>\n",
       "  </thead>\n",
       "  <tbody>\n",
       "    <tr>\n",
       "      <th>0</th>\n",
       "      <td>1000_0</td>\n",
       "      <td>2018-06-27</td>\n",
       "      <td>1000</td>\n",
       "    </tr>\n",
       "    <tr>\n",
       "      <th>1</th>\n",
       "      <td>1000_1</td>\n",
       "      <td>2018-10-08</td>\n",
       "      <td>1000</td>\n",
       "    </tr>\n",
       "    <tr>\n",
       "      <th>2</th>\n",
       "      <td>1000_2</td>\n",
       "      <td>2018-08-04</td>\n",
       "      <td>1000</td>\n",
       "    </tr>\n",
       "    <tr>\n",
       "      <th>3</th>\n",
       "      <td>1000_3</td>\n",
       "      <td>2018-06-16</td>\n",
       "      <td>1000</td>\n",
       "    </tr>\n",
       "    <tr>\n",
       "      <th>4</th>\n",
       "      <td>1000_4</td>\n",
       "      <td>2018-12-05</td>\n",
       "      <td>1000</td>\n",
       "    </tr>\n",
       "  </tbody>\n",
       "</table>\n",
       "</div>"
      ],
      "text/plain": [
       "       id message_date  user_id\n",
       "0  1000_0   2018-06-27     1000\n",
       "1  1000_1   2018-10-08     1000\n",
       "2  1000_2   2018-08-04     1000\n",
       "3  1000_3   2018-06-16     1000\n",
       "4  1000_4   2018-12-05     1000"
      ]
     },
     "metadata": {},
     "output_type": "display_data"
    }
   ],
   "source": [
    "# посмотрим на данные о сообщениях\n",
    "info(df_messages)"
   ]
  },
  {
   "cell_type": "markdown",
   "metadata": {},
   "source": [
    "Описание полей:\n",
    "- id — уникальный номер сообщения\n",
    "- message_date — дата сообщения\n",
    "- user_id — идентификатор пользователя, отправившего сообщение"
   ]
  },
  {
   "cell_type": "markdown",
   "metadata": {},
   "source": [
    "В df_messages названия столбцов корректные, Null данных нет, типы данных корректные, среднее и медиана примерно одинаковое, дубликатов нет, значит данные годные для анализа. "
   ]
  },
  {
   "cell_type": "code",
   "execution_count": 18,
   "metadata": {},
   "outputs": [],
   "source": [
    "# прочитаем данные о тарифах\n",
    "df_tariffs = pd.read_csv('tariffs.csv')"
   ]
  },
  {
   "cell_type": "code",
   "execution_count": 19,
   "metadata": {},
   "outputs": [
    {
     "name": "stdout",
     "output_type": "stream",
     "text": [
      "<class 'pandas.core.frame.DataFrame'>\n",
      "RangeIndex: 2 entries, 0 to 1\n",
      "Data columns (total 8 columns):\n",
      " #   Column                 Non-Null Count  Dtype \n",
      "---  ------                 --------------  ----- \n",
      " 0   messages_included      2 non-null      int64 \n",
      " 1   mb_per_month_included  2 non-null      int64 \n",
      " 2   minutes_included       2 non-null      int64 \n",
      " 3   rub_monthly_fee        2 non-null      int64 \n",
      " 4   rub_per_gb             2 non-null      int64 \n",
      " 5   rub_per_message        2 non-null      int64 \n",
      " 6   rub_per_minute         2 non-null      int64 \n",
      " 7   tariff_name            2 non-null      object\n",
      "dtypes: int64(7), object(1)\n",
      "memory usage: 256.0+ bytes\n"
     ]
    },
    {
     "data": {
      "text/plain": [
       "None"
      ]
     },
     "metadata": {},
     "output_type": "display_data"
    },
    {
     "data": {
      "text/html": [
       "<div>\n",
       "<style scoped>\n",
       "    .dataframe tbody tr th:only-of-type {\n",
       "        vertical-align: middle;\n",
       "    }\n",
       "\n",
       "    .dataframe tbody tr th {\n",
       "        vertical-align: top;\n",
       "    }\n",
       "\n",
       "    .dataframe thead th {\n",
       "        text-align: right;\n",
       "    }\n",
       "</style>\n",
       "<table border=\"1\" class=\"dataframe\">\n",
       "  <thead>\n",
       "    <tr style=\"text-align: right;\">\n",
       "      <th></th>\n",
       "      <th>messages_included</th>\n",
       "      <th>mb_per_month_included</th>\n",
       "      <th>minutes_included</th>\n",
       "      <th>rub_monthly_fee</th>\n",
       "      <th>rub_per_gb</th>\n",
       "      <th>rub_per_message</th>\n",
       "      <th>rub_per_minute</th>\n",
       "    </tr>\n",
       "  </thead>\n",
       "  <tbody>\n",
       "    <tr>\n",
       "      <th>count</th>\n",
       "      <td>2.000000</td>\n",
       "      <td>2.000000</td>\n",
       "      <td>2.000000</td>\n",
       "      <td>2.000000</td>\n",
       "      <td>2.000000</td>\n",
       "      <td>2.000000</td>\n",
       "      <td>2.000000</td>\n",
       "    </tr>\n",
       "    <tr>\n",
       "      <th>mean</th>\n",
       "      <td>525.000000</td>\n",
       "      <td>23040.000000</td>\n",
       "      <td>1750.000000</td>\n",
       "      <td>1250.000000</td>\n",
       "      <td>175.000000</td>\n",
       "      <td>2.000000</td>\n",
       "      <td>2.000000</td>\n",
       "    </tr>\n",
       "    <tr>\n",
       "      <th>std</th>\n",
       "      <td>671.751442</td>\n",
       "      <td>10861.160159</td>\n",
       "      <td>1767.766953</td>\n",
       "      <td>989.949494</td>\n",
       "      <td>35.355339</td>\n",
       "      <td>1.414214</td>\n",
       "      <td>1.414214</td>\n",
       "    </tr>\n",
       "    <tr>\n",
       "      <th>min</th>\n",
       "      <td>50.000000</td>\n",
       "      <td>15360.000000</td>\n",
       "      <td>500.000000</td>\n",
       "      <td>550.000000</td>\n",
       "      <td>150.000000</td>\n",
       "      <td>1.000000</td>\n",
       "      <td>1.000000</td>\n",
       "    </tr>\n",
       "    <tr>\n",
       "      <th>25%</th>\n",
       "      <td>287.500000</td>\n",
       "      <td>19200.000000</td>\n",
       "      <td>1125.000000</td>\n",
       "      <td>900.000000</td>\n",
       "      <td>162.500000</td>\n",
       "      <td>1.500000</td>\n",
       "      <td>1.500000</td>\n",
       "    </tr>\n",
       "    <tr>\n",
       "      <th>50%</th>\n",
       "      <td>525.000000</td>\n",
       "      <td>23040.000000</td>\n",
       "      <td>1750.000000</td>\n",
       "      <td>1250.000000</td>\n",
       "      <td>175.000000</td>\n",
       "      <td>2.000000</td>\n",
       "      <td>2.000000</td>\n",
       "    </tr>\n",
       "    <tr>\n",
       "      <th>75%</th>\n",
       "      <td>762.500000</td>\n",
       "      <td>26880.000000</td>\n",
       "      <td>2375.000000</td>\n",
       "      <td>1600.000000</td>\n",
       "      <td>187.500000</td>\n",
       "      <td>2.500000</td>\n",
       "      <td>2.500000</td>\n",
       "    </tr>\n",
       "    <tr>\n",
       "      <th>max</th>\n",
       "      <td>1000.000000</td>\n",
       "      <td>30720.000000</td>\n",
       "      <td>3000.000000</td>\n",
       "      <td>1950.000000</td>\n",
       "      <td>200.000000</td>\n",
       "      <td>3.000000</td>\n",
       "      <td>3.000000</td>\n",
       "    </tr>\n",
       "  </tbody>\n",
       "</table>\n",
       "</div>"
      ],
      "text/plain": [
       "       messages_included  mb_per_month_included  minutes_included  \\\n",
       "count           2.000000               2.000000          2.000000   \n",
       "mean          525.000000           23040.000000       1750.000000   \n",
       "std           671.751442           10861.160159       1767.766953   \n",
       "min            50.000000           15360.000000        500.000000   \n",
       "25%           287.500000           19200.000000       1125.000000   \n",
       "50%           525.000000           23040.000000       1750.000000   \n",
       "75%           762.500000           26880.000000       2375.000000   \n",
       "max          1000.000000           30720.000000       3000.000000   \n",
       "\n",
       "       rub_monthly_fee  rub_per_gb  rub_per_message  rub_per_minute  \n",
       "count         2.000000    2.000000         2.000000        2.000000  \n",
       "mean       1250.000000  175.000000         2.000000        2.000000  \n",
       "std         989.949494   35.355339         1.414214        1.414214  \n",
       "min         550.000000  150.000000         1.000000        1.000000  \n",
       "25%         900.000000  162.500000         1.500000        1.500000  \n",
       "50%        1250.000000  175.000000         2.000000        2.000000  \n",
       "75%        1600.000000  187.500000         2.500000        2.500000  \n",
       "max        1950.000000  200.000000         3.000000        3.000000  "
      ]
     },
     "metadata": {},
     "output_type": "display_data"
    },
    {
     "name": "stdout",
     "output_type": "stream",
     "text": [
      "Дубликаты: 0\n"
     ]
    },
    {
     "data": {
      "text/html": [
       "<div>\n",
       "<style scoped>\n",
       "    .dataframe tbody tr th:only-of-type {\n",
       "        vertical-align: middle;\n",
       "    }\n",
       "\n",
       "    .dataframe tbody tr th {\n",
       "        vertical-align: top;\n",
       "    }\n",
       "\n",
       "    .dataframe thead th {\n",
       "        text-align: right;\n",
       "    }\n",
       "</style>\n",
       "<table border=\"1\" class=\"dataframe\">\n",
       "  <thead>\n",
       "    <tr style=\"text-align: right;\">\n",
       "      <th></th>\n",
       "      <th>messages_included</th>\n",
       "      <th>mb_per_month_included</th>\n",
       "      <th>minutes_included</th>\n",
       "      <th>rub_monthly_fee</th>\n",
       "      <th>rub_per_gb</th>\n",
       "      <th>rub_per_message</th>\n",
       "      <th>rub_per_minute</th>\n",
       "      <th>tariff_name</th>\n",
       "    </tr>\n",
       "  </thead>\n",
       "  <tbody>\n",
       "    <tr>\n",
       "      <th>0</th>\n",
       "      <td>50</td>\n",
       "      <td>15360</td>\n",
       "      <td>500</td>\n",
       "      <td>550</td>\n",
       "      <td>200</td>\n",
       "      <td>3</td>\n",
       "      <td>3</td>\n",
       "      <td>smart</td>\n",
       "    </tr>\n",
       "    <tr>\n",
       "      <th>1</th>\n",
       "      <td>1000</td>\n",
       "      <td>30720</td>\n",
       "      <td>3000</td>\n",
       "      <td>1950</td>\n",
       "      <td>150</td>\n",
       "      <td>1</td>\n",
       "      <td>1</td>\n",
       "      <td>ultra</td>\n",
       "    </tr>\n",
       "  </tbody>\n",
       "</table>\n",
       "</div>"
      ],
      "text/plain": [
       "   messages_included  mb_per_month_included  minutes_included  \\\n",
       "0                 50                  15360               500   \n",
       "1               1000                  30720              3000   \n",
       "\n",
       "   rub_monthly_fee  rub_per_gb  rub_per_message  rub_per_minute tariff_name  \n",
       "0              550         200                3               3       smart  \n",
       "1             1950         150                1               1       ultra  "
      ]
     },
     "metadata": {},
     "output_type": "display_data"
    }
   ],
   "source": [
    "# посмотрим на данных о тарифах\n",
    "info(df_tariffs)"
   ]
  },
  {
   "cell_type": "markdown",
   "metadata": {},
   "source": [
    "Описание:\n",
    "- tariff_name — название тарифа\n",
    "- rub_monthly_fee — ежемесячная абонентская плата в рублях\n",
    "- minutes_included — количество минут разговора в месяц, включённых в абонентскую плату\n",
    "- messages_included — количество сообщений в месяц, включённых в абонентскую плату\n",
    "- mb_per_month_included — объём интернет-трафика, включённого в абонентскую плату (в мегабайтах)\n",
    "- rub_per_minute — стоимость минуты разговора сверх тарифного пакета (например, если в тарифе 100 минут разговора в месяц, то со 101 минуты будет взиматься плата)\n",
    "- rub_per_message — стоимость отправки сообщения сверх тарифного пакета\n",
    "- rub_per_gb — стоимость дополнительного гигабайта интернет-трафика сверх тарифного пакета (1 гигабайт = 1024 мегабайта)"
   ]
  },
  {
   "cell_type": "markdown",
   "metadata": {},
   "source": [
    "В df_tariffs названия столбцов корректные, Null данных нет, типы данных корректные, дубликатов нет, значит данные годные для анализа. Meтод describe можно не смотреть, так как это только тарифы, он больше подходит для данных по пользователям."
   ]
  },
  {
   "cell_type": "code",
   "execution_count": 20,
   "metadata": {
    "scrolled": true
   },
   "outputs": [],
   "source": [
    "# прочитаем данные о пользователях\n",
    "df_users = pd.read_csv('users.csv')"
   ]
  },
  {
   "cell_type": "code",
   "execution_count": 21,
   "metadata": {},
   "outputs": [
    {
     "name": "stdout",
     "output_type": "stream",
     "text": [
      "<class 'pandas.core.frame.DataFrame'>\n",
      "RangeIndex: 500 entries, 0 to 499\n",
      "Data columns (total 8 columns):\n",
      " #   Column      Non-Null Count  Dtype \n",
      "---  ------      --------------  ----- \n",
      " 0   user_id     500 non-null    int64 \n",
      " 1   age         500 non-null    int64 \n",
      " 2   churn_date  38 non-null     object\n",
      " 3   city        500 non-null    object\n",
      " 4   first_name  500 non-null    object\n",
      " 5   last_name   500 non-null    object\n",
      " 6   reg_date    500 non-null    object\n",
      " 7   tariff      500 non-null    object\n",
      "dtypes: int64(2), object(6)\n",
      "memory usage: 31.4+ KB\n"
     ]
    },
    {
     "data": {
      "text/plain": [
       "None"
      ]
     },
     "metadata": {},
     "output_type": "display_data"
    },
    {
     "data": {
      "text/html": [
       "<div>\n",
       "<style scoped>\n",
       "    .dataframe tbody tr th:only-of-type {\n",
       "        vertical-align: middle;\n",
       "    }\n",
       "\n",
       "    .dataframe tbody tr th {\n",
       "        vertical-align: top;\n",
       "    }\n",
       "\n",
       "    .dataframe thead th {\n",
       "        text-align: right;\n",
       "    }\n",
       "</style>\n",
       "<table border=\"1\" class=\"dataframe\">\n",
       "  <thead>\n",
       "    <tr style=\"text-align: right;\">\n",
       "      <th></th>\n",
       "      <th>user_id</th>\n",
       "      <th>age</th>\n",
       "    </tr>\n",
       "  </thead>\n",
       "  <tbody>\n",
       "    <tr>\n",
       "      <th>count</th>\n",
       "      <td>500.000000</td>\n",
       "      <td>500.00000</td>\n",
       "    </tr>\n",
       "    <tr>\n",
       "      <th>mean</th>\n",
       "      <td>1249.500000</td>\n",
       "      <td>46.58800</td>\n",
       "    </tr>\n",
       "    <tr>\n",
       "      <th>std</th>\n",
       "      <td>144.481833</td>\n",
       "      <td>16.66763</td>\n",
       "    </tr>\n",
       "    <tr>\n",
       "      <th>min</th>\n",
       "      <td>1000.000000</td>\n",
       "      <td>18.00000</td>\n",
       "    </tr>\n",
       "    <tr>\n",
       "      <th>25%</th>\n",
       "      <td>1124.750000</td>\n",
       "      <td>32.00000</td>\n",
       "    </tr>\n",
       "    <tr>\n",
       "      <th>50%</th>\n",
       "      <td>1249.500000</td>\n",
       "      <td>46.00000</td>\n",
       "    </tr>\n",
       "    <tr>\n",
       "      <th>75%</th>\n",
       "      <td>1374.250000</td>\n",
       "      <td>62.00000</td>\n",
       "    </tr>\n",
       "    <tr>\n",
       "      <th>max</th>\n",
       "      <td>1499.000000</td>\n",
       "      <td>75.00000</td>\n",
       "    </tr>\n",
       "  </tbody>\n",
       "</table>\n",
       "</div>"
      ],
      "text/plain": [
       "           user_id        age\n",
       "count   500.000000  500.00000\n",
       "mean   1249.500000   46.58800\n",
       "std     144.481833   16.66763\n",
       "min    1000.000000   18.00000\n",
       "25%    1124.750000   32.00000\n",
       "50%    1249.500000   46.00000\n",
       "75%    1374.250000   62.00000\n",
       "max    1499.000000   75.00000"
      ]
     },
     "metadata": {},
     "output_type": "display_data"
    },
    {
     "name": "stdout",
     "output_type": "stream",
     "text": [
      "Дубликаты: 0\n"
     ]
    },
    {
     "data": {
      "text/html": [
       "<div>\n",
       "<style scoped>\n",
       "    .dataframe tbody tr th:only-of-type {\n",
       "        vertical-align: middle;\n",
       "    }\n",
       "\n",
       "    .dataframe tbody tr th {\n",
       "        vertical-align: top;\n",
       "    }\n",
       "\n",
       "    .dataframe thead th {\n",
       "        text-align: right;\n",
       "    }\n",
       "</style>\n",
       "<table border=\"1\" class=\"dataframe\">\n",
       "  <thead>\n",
       "    <tr style=\"text-align: right;\">\n",
       "      <th></th>\n",
       "      <th>user_id</th>\n",
       "      <th>age</th>\n",
       "      <th>churn_date</th>\n",
       "      <th>city</th>\n",
       "      <th>first_name</th>\n",
       "      <th>last_name</th>\n",
       "      <th>reg_date</th>\n",
       "      <th>tariff</th>\n",
       "    </tr>\n",
       "  </thead>\n",
       "  <tbody>\n",
       "    <tr>\n",
       "      <th>0</th>\n",
       "      <td>1000</td>\n",
       "      <td>52</td>\n",
       "      <td>NaN</td>\n",
       "      <td>Краснодар</td>\n",
       "      <td>Рафаил</td>\n",
       "      <td>Верещагин</td>\n",
       "      <td>2018-05-25</td>\n",
       "      <td>ultra</td>\n",
       "    </tr>\n",
       "    <tr>\n",
       "      <th>1</th>\n",
       "      <td>1001</td>\n",
       "      <td>41</td>\n",
       "      <td>NaN</td>\n",
       "      <td>Москва</td>\n",
       "      <td>Иван</td>\n",
       "      <td>Ежов</td>\n",
       "      <td>2018-11-01</td>\n",
       "      <td>smart</td>\n",
       "    </tr>\n",
       "    <tr>\n",
       "      <th>2</th>\n",
       "      <td>1002</td>\n",
       "      <td>59</td>\n",
       "      <td>NaN</td>\n",
       "      <td>Стерлитамак</td>\n",
       "      <td>Евгений</td>\n",
       "      <td>Абрамович</td>\n",
       "      <td>2018-06-17</td>\n",
       "      <td>smart</td>\n",
       "    </tr>\n",
       "    <tr>\n",
       "      <th>3</th>\n",
       "      <td>1003</td>\n",
       "      <td>23</td>\n",
       "      <td>NaN</td>\n",
       "      <td>Москва</td>\n",
       "      <td>Белла</td>\n",
       "      <td>Белякова</td>\n",
       "      <td>2018-08-17</td>\n",
       "      <td>ultra</td>\n",
       "    </tr>\n",
       "    <tr>\n",
       "      <th>4</th>\n",
       "      <td>1004</td>\n",
       "      <td>68</td>\n",
       "      <td>NaN</td>\n",
       "      <td>Новокузнецк</td>\n",
       "      <td>Татьяна</td>\n",
       "      <td>Авдеенко</td>\n",
       "      <td>2018-05-14</td>\n",
       "      <td>ultra</td>\n",
       "    </tr>\n",
       "  </tbody>\n",
       "</table>\n",
       "</div>"
      ],
      "text/plain": [
       "   user_id  age churn_date         city first_name  last_name    reg_date  \\\n",
       "0     1000   52        NaN    Краснодар     Рафаил  Верещагин  2018-05-25   \n",
       "1     1001   41        NaN       Москва       Иван       Ежов  2018-11-01   \n",
       "2     1002   59        NaN  Стерлитамак    Евгений  Абрамович  2018-06-17   \n",
       "3     1003   23        NaN       Москва      Белла   Белякова  2018-08-17   \n",
       "4     1004   68        NaN  Новокузнецк    Татьяна   Авдеенко  2018-05-14   \n",
       "\n",
       "  tariff  \n",
       "0  ultra  \n",
       "1  smart  \n",
       "2  smart  \n",
       "3  ultra  \n",
       "4  ultra  "
      ]
     },
     "metadata": {},
     "output_type": "display_data"
    }
   ],
   "source": [
    "# посмотрим на данные о пользователях\n",
    "info(df_users)"
   ]
  },
  {
   "cell_type": "markdown",
   "metadata": {},
   "source": [
    "Описание:\n",
    "- user_id — уникальный идентификатор пользователя\n",
    "- first_name — имя пользователя\n",
    "- last_name — фамилия пользователя\n",
    "- age — возраст пользователя (годы)\n",
    "- reg_date — дата подключения тарифа (день, месяц, год)\n",
    "- churn_date — дата прекращения пользования тарифом (если значение пропущено, то тариф ещё действовал на момент выгрузки данных)\n",
    "- city — город проживания пользователя\n",
    "- tarif — название тарифного плана"
   ]
  },
  {
   "cell_type": "code",
   "execution_count": 22,
   "metadata": {},
   "outputs": [],
   "source": [
    "# заменим пропущенные значения на дату 999999, что равно 9999-12-31 года, так как тариф еще действует\n",
    "df_users['churn_date'] = df_users['churn_date'].fillna('9999-12-31')"
   ]
  },
  {
   "cell_type": "code",
   "execution_count": 23,
   "metadata": {},
   "outputs": [
    {
     "name": "stdout",
     "output_type": "stream",
     "text": [
      "<class 'pandas.core.frame.DataFrame'>\n",
      "RangeIndex: 500 entries, 0 to 499\n",
      "Data columns (total 8 columns):\n",
      " #   Column      Non-Null Count  Dtype \n",
      "---  ------      --------------  ----- \n",
      " 0   user_id     500 non-null    int64 \n",
      " 1   age         500 non-null    int64 \n",
      " 2   churn_date  500 non-null    object\n",
      " 3   city        500 non-null    object\n",
      " 4   first_name  500 non-null    object\n",
      " 5   last_name   500 non-null    object\n",
      " 6   reg_date    500 non-null    object\n",
      " 7   tariff      500 non-null    object\n",
      "dtypes: int64(2), object(6)\n",
      "memory usage: 31.4+ KB\n"
     ]
    }
   ],
   "source": [
    "df_users.info()"
   ]
  },
  {
   "cell_type": "markdown",
   "metadata": {},
   "source": [
    "В df_users названия столбцов корректные, Null заполнены, типы данных корректные, дубликатов нет, среднее и медиана примерно одинаковое, дубликатов нет, значит данные годные для анализа."
   ]
  },
  {
   "cell_type": "markdown",
   "metadata": {},
   "source": [
    "# Посчитаем для каждого пользователя:\n",
    "\n",
    "количество сделанных звонков и израсходованных минут разговора по месяцам;\n",
    "\n",
    "количество отправленных сообщений по месяцам;\n",
    "\n",
    "объем израсходованного интернет-трафика по месяцам;\n",
    "\n",
    "помесячную выручку с каждого пользователя (вычтите бесплатный лимит из суммарного количества звонков, сообщений и интернет-трафика; остаток умножьте на значение из тарифного плана; прибавьте абонентскую плату, соответствующую тарифному плану)."
   ]
  },
  {
   "cell_type": "markdown",
   "metadata": {},
   "source": [
    "Для подсчета звонков и израсходованных минут  по месяцам выделим месяц из даты звонка call_date. Но прежде поменяем тип на date"
   ]
  },
  {
   "cell_type": "code",
   "execution_count": 24,
   "metadata": {},
   "outputs": [
    {
     "data": {
      "text/html": [
       "<div>\n",
       "<style scoped>\n",
       "    .dataframe tbody tr th:only-of-type {\n",
       "        vertical-align: middle;\n",
       "    }\n",
       "\n",
       "    .dataframe tbody tr th {\n",
       "        vertical-align: top;\n",
       "    }\n",
       "\n",
       "    .dataframe thead th {\n",
       "        text-align: right;\n",
       "    }\n",
       "</style>\n",
       "<table border=\"1\" class=\"dataframe\">\n",
       "  <thead>\n",
       "    <tr style=\"text-align: right;\">\n",
       "      <th></th>\n",
       "      <th>call_date</th>\n",
       "      <th>duration</th>\n",
       "      <th>user_id</th>\n",
       "    </tr>\n",
       "  </thead>\n",
       "  <tbody>\n",
       "    <tr>\n",
       "      <th>0</th>\n",
       "      <td>2018-07-25</td>\n",
       "      <td>0.00</td>\n",
       "      <td>1000</td>\n",
       "    </tr>\n",
       "    <tr>\n",
       "      <th>1</th>\n",
       "      <td>2018-08-17</td>\n",
       "      <td>0.00</td>\n",
       "      <td>1000</td>\n",
       "    </tr>\n",
       "    <tr>\n",
       "      <th>2</th>\n",
       "      <td>2018-06-11</td>\n",
       "      <td>2.85</td>\n",
       "      <td>1000</td>\n",
       "    </tr>\n",
       "    <tr>\n",
       "      <th>3</th>\n",
       "      <td>2018-09-21</td>\n",
       "      <td>13.80</td>\n",
       "      <td>1000</td>\n",
       "    </tr>\n",
       "    <tr>\n",
       "      <th>4</th>\n",
       "      <td>2018-12-15</td>\n",
       "      <td>5.18</td>\n",
       "      <td>1000</td>\n",
       "    </tr>\n",
       "  </tbody>\n",
       "</table>\n",
       "</div>"
      ],
      "text/plain": [
       "   call_date  duration  user_id\n",
       "0 2018-07-25      0.00     1000\n",
       "1 2018-08-17      0.00     1000\n",
       "2 2018-06-11      2.85     1000\n",
       "3 2018-09-21     13.80     1000\n",
       "4 2018-12-15      5.18     1000"
      ]
     },
     "execution_count": 24,
     "metadata": {},
     "output_type": "execute_result"
    }
   ],
   "source": [
    "# Меняем тип данных на дату\n",
    "df_calls['call_date'] = pd.to_datetime(df_calls['call_date'])\n",
    "df_calls.head()"
   ]
  },
  {
   "cell_type": "code",
   "execution_count": 25,
   "metadata": {},
   "outputs": [
    {
     "name": "stdout",
     "output_type": "stream",
     "text": [
      "<class 'pandas.core.frame.DataFrame'>\n",
      "RangeIndex: 193769 entries, 0 to 193768\n",
      "Data columns (total 4 columns):\n",
      " #   Column     Non-Null Count   Dtype         \n",
      "---  ------     --------------   -----         \n",
      " 0   call_date  193769 non-null  datetime64[ns]\n",
      " 1   duration   193769 non-null  float64       \n",
      " 2   user_id    193769 non-null  int64         \n",
      " 3   month      193769 non-null  int64         \n",
      "dtypes: datetime64[ns](1), float64(1), int64(2)\n",
      "memory usage: 5.9 MB\n"
     ]
    }
   ],
   "source": [
    "# выделяем месяц и записываем новый столбец month - месяц звонка\n",
    "df_calls['month'] = df_calls['call_date'].dt.month\n",
    "df_calls.info()"
   ]
  },
  {
   "cell_type": "code",
   "execution_count": 26,
   "metadata": {},
   "outputs": [
    {
     "data": {
      "text/html": [
       "<div>\n",
       "<style scoped>\n",
       "    .dataframe tbody tr th:only-of-type {\n",
       "        vertical-align: middle;\n",
       "    }\n",
       "\n",
       "    .dataframe tbody tr th {\n",
       "        vertical-align: top;\n",
       "    }\n",
       "\n",
       "    .dataframe thead th {\n",
       "        text-align: right;\n",
       "    }\n",
       "</style>\n",
       "<table border=\"1\" class=\"dataframe\">\n",
       "  <thead>\n",
       "    <tr style=\"text-align: right;\">\n",
       "      <th></th>\n",
       "      <th>call_date</th>\n",
       "      <th>duration</th>\n",
       "      <th>user_id</th>\n",
       "      <th>month</th>\n",
       "    </tr>\n",
       "  </thead>\n",
       "  <tbody>\n",
       "    <tr>\n",
       "      <th>0</th>\n",
       "      <td>2018-07-25</td>\n",
       "      <td>0</td>\n",
       "      <td>1000</td>\n",
       "      <td>7</td>\n",
       "    </tr>\n",
       "    <tr>\n",
       "      <th>1</th>\n",
       "      <td>2018-08-17</td>\n",
       "      <td>0</td>\n",
       "      <td>1000</td>\n",
       "      <td>8</td>\n",
       "    </tr>\n",
       "    <tr>\n",
       "      <th>2</th>\n",
       "      <td>2018-06-11</td>\n",
       "      <td>3</td>\n",
       "      <td>1000</td>\n",
       "      <td>6</td>\n",
       "    </tr>\n",
       "    <tr>\n",
       "      <th>3</th>\n",
       "      <td>2018-09-21</td>\n",
       "      <td>14</td>\n",
       "      <td>1000</td>\n",
       "      <td>9</td>\n",
       "    </tr>\n",
       "    <tr>\n",
       "      <th>4</th>\n",
       "      <td>2018-12-15</td>\n",
       "      <td>6</td>\n",
       "      <td>1000</td>\n",
       "      <td>12</td>\n",
       "    </tr>\n",
       "  </tbody>\n",
       "</table>\n",
       "</div>"
      ],
      "text/plain": [
       "   call_date  duration  user_id  month\n",
       "0 2018-07-25         0     1000      7\n",
       "1 2018-08-17         0     1000      8\n",
       "2 2018-06-11         3     1000      6\n",
       "3 2018-09-21        14     1000      9\n",
       "4 2018-12-15         6     1000     12"
      ]
     },
     "execution_count": 26,
     "metadata": {},
     "output_type": "execute_result"
    }
   ],
   "source": [
    "# округлим продолжительность звонка duration до большего значения в минутах и запишем в тип int\n",
    "df_calls['duration'] = np.ceil(df_calls['duration']).astype('int')\n",
    "df_calls.head()"
   ]
  },
  {
   "cell_type": "code",
   "execution_count": 27,
   "metadata": {
    "scrolled": true
   },
   "outputs": [
    {
     "data": {
      "text/html": [
       "<div>\n",
       "<style scoped>\n",
       "    .dataframe tbody tr th:only-of-type {\n",
       "        vertical-align: middle;\n",
       "    }\n",
       "\n",
       "    .dataframe tbody tr th {\n",
       "        vertical-align: top;\n",
       "    }\n",
       "\n",
       "    .dataframe thead th {\n",
       "        text-align: right;\n",
       "    }\n",
       "</style>\n",
       "<table border=\"1\" class=\"dataframe\">\n",
       "  <thead>\n",
       "    <tr style=\"text-align: right;\">\n",
       "      <th></th>\n",
       "      <th>user_id</th>\n",
       "      <th>month</th>\n",
       "      <th>duration</th>\n",
       "    </tr>\n",
       "  </thead>\n",
       "  <tbody>\n",
       "    <tr>\n",
       "      <th>0</th>\n",
       "      <td>1000</td>\n",
       "      <td>5</td>\n",
       "      <td>159</td>\n",
       "    </tr>\n",
       "    <tr>\n",
       "      <th>1</th>\n",
       "      <td>1000</td>\n",
       "      <td>6</td>\n",
       "      <td>172</td>\n",
       "    </tr>\n",
       "    <tr>\n",
       "      <th>2</th>\n",
       "      <td>1000</td>\n",
       "      <td>7</td>\n",
       "      <td>340</td>\n",
       "    </tr>\n",
       "    <tr>\n",
       "      <th>3</th>\n",
       "      <td>1000</td>\n",
       "      <td>8</td>\n",
       "      <td>408</td>\n",
       "    </tr>\n",
       "    <tr>\n",
       "      <th>4</th>\n",
       "      <td>1000</td>\n",
       "      <td>9</td>\n",
       "      <td>466</td>\n",
       "    </tr>\n",
       "    <tr>\n",
       "      <th>5</th>\n",
       "      <td>1000</td>\n",
       "      <td>10</td>\n",
       "      <td>350</td>\n",
       "    </tr>\n",
       "    <tr>\n",
       "      <th>6</th>\n",
       "      <td>1000</td>\n",
       "      <td>11</td>\n",
       "      <td>338</td>\n",
       "    </tr>\n",
       "    <tr>\n",
       "      <th>7</th>\n",
       "      <td>1000</td>\n",
       "      <td>12</td>\n",
       "      <td>333</td>\n",
       "    </tr>\n",
       "    <tr>\n",
       "      <th>8</th>\n",
       "      <td>1001</td>\n",
       "      <td>11</td>\n",
       "      <td>430</td>\n",
       "    </tr>\n",
       "    <tr>\n",
       "      <th>9</th>\n",
       "      <td>1001</td>\n",
       "      <td>12</td>\n",
       "      <td>414</td>\n",
       "    </tr>\n",
       "    <tr>\n",
       "      <th>10</th>\n",
       "      <td>1002</td>\n",
       "      <td>6</td>\n",
       "      <td>117</td>\n",
       "    </tr>\n",
       "    <tr>\n",
       "      <th>11</th>\n",
       "      <td>1002</td>\n",
       "      <td>7</td>\n",
       "      <td>214</td>\n",
       "    </tr>\n",
       "  </tbody>\n",
       "</table>\n",
       "</div>"
      ],
      "text/plain": [
       "    user_id  month  duration\n",
       "0      1000      5       159\n",
       "1      1000      6       172\n",
       "2      1000      7       340\n",
       "3      1000      8       408\n",
       "4      1000      9       466\n",
       "5      1000     10       350\n",
       "6      1000     11       338\n",
       "7      1000     12       333\n",
       "8      1001     11       430\n",
       "9      1001     12       414\n",
       "10     1002      6       117\n",
       "11     1002      7       214"
      ]
     },
     "execution_count": 27,
     "metadata": {},
     "output_type": "execute_result"
    }
   ],
   "source": [
    "# почитаем количество звонков помесячно для каждого пользователясделаем, сводные таблицы\n",
    "calls = df_calls.pivot_table(index= ['user_id', 'month'], values='duration', aggfunc='sum').reset_index()\n",
    "calls.head(12)"
   ]
  },
  {
   "cell_type": "code",
   "execution_count": 28,
   "metadata": {},
   "outputs": [],
   "source": [
    "# переименуем duration в count_minutes\n",
    "calls = calls.rename(columns = {'duration' : 'count_minutes'})"
   ]
  },
  {
   "cell_type": "code",
   "execution_count": 29,
   "metadata": {},
   "outputs": [
    {
     "name": "stdout",
     "output_type": "stream",
     "text": [
      "<class 'pandas.core.frame.DataFrame'>\n",
      "RangeIndex: 123036 entries, 0 to 123035\n",
      "Data columns (total 3 columns):\n",
      " #   Column        Non-Null Count   Dtype \n",
      "---  ------        --------------   ----- \n",
      " 0   id            123036 non-null  object\n",
      " 1   message_date  123036 non-null  object\n",
      " 2   user_id       123036 non-null  int64 \n",
      "dtypes: int64(1), object(2)\n",
      "memory usage: 2.8+ MB\n"
     ]
    }
   ],
   "source": [
    "# посмотрим на таблицу messages\n",
    "df_messages.info()"
   ]
  },
  {
   "cell_type": "code",
   "execution_count": 30,
   "metadata": {},
   "outputs": [
    {
     "name": "stdout",
     "output_type": "stream",
     "text": [
      "<class 'pandas.core.frame.DataFrame'>\n",
      "RangeIndex: 123036 entries, 0 to 123035\n",
      "Data columns (total 3 columns):\n",
      " #   Column        Non-Null Count   Dtype         \n",
      "---  ------        --------------   -----         \n",
      " 0   id            123036 non-null  object        \n",
      " 1   message_date  123036 non-null  datetime64[ns]\n",
      " 2   user_id       123036 non-null  int64         \n",
      "dtypes: datetime64[ns](1), int64(1), object(1)\n",
      "memory usage: 2.8+ MB\n"
     ]
    }
   ],
   "source": [
    "# Меняем тип данных на дату\n",
    "df_messages['message_date'] = pd.to_datetime(df_messages['message_date'])\n",
    "df_messages.info()"
   ]
  },
  {
   "cell_type": "code",
   "execution_count": 31,
   "metadata": {},
   "outputs": [
    {
     "data": {
      "text/html": [
       "<div>\n",
       "<style scoped>\n",
       "    .dataframe tbody tr th:only-of-type {\n",
       "        vertical-align: middle;\n",
       "    }\n",
       "\n",
       "    .dataframe tbody tr th {\n",
       "        vertical-align: top;\n",
       "    }\n",
       "\n",
       "    .dataframe thead th {\n",
       "        text-align: right;\n",
       "    }\n",
       "</style>\n",
       "<table border=\"1\" class=\"dataframe\">\n",
       "  <thead>\n",
       "    <tr style=\"text-align: right;\">\n",
       "      <th></th>\n",
       "      <th>id</th>\n",
       "      <th>message_date</th>\n",
       "      <th>user_id</th>\n",
       "      <th>month</th>\n",
       "    </tr>\n",
       "  </thead>\n",
       "  <tbody>\n",
       "    <tr>\n",
       "      <th>0</th>\n",
       "      <td>1000_0</td>\n",
       "      <td>2018-06-27</td>\n",
       "      <td>1000</td>\n",
       "      <td>6</td>\n",
       "    </tr>\n",
       "    <tr>\n",
       "      <th>1</th>\n",
       "      <td>1000_1</td>\n",
       "      <td>2018-10-08</td>\n",
       "      <td>1000</td>\n",
       "      <td>10</td>\n",
       "    </tr>\n",
       "    <tr>\n",
       "      <th>2</th>\n",
       "      <td>1000_2</td>\n",
       "      <td>2018-08-04</td>\n",
       "      <td>1000</td>\n",
       "      <td>8</td>\n",
       "    </tr>\n",
       "    <tr>\n",
       "      <th>3</th>\n",
       "      <td>1000_3</td>\n",
       "      <td>2018-06-16</td>\n",
       "      <td>1000</td>\n",
       "      <td>6</td>\n",
       "    </tr>\n",
       "    <tr>\n",
       "      <th>4</th>\n",
       "      <td>1000_4</td>\n",
       "      <td>2018-12-05</td>\n",
       "      <td>1000</td>\n",
       "      <td>12</td>\n",
       "    </tr>\n",
       "  </tbody>\n",
       "</table>\n",
       "</div>"
      ],
      "text/plain": [
       "       id message_date  user_id  month\n",
       "0  1000_0   2018-06-27     1000      6\n",
       "1  1000_1   2018-10-08     1000     10\n",
       "2  1000_2   2018-08-04     1000      8\n",
       "3  1000_3   2018-06-16     1000      6\n",
       "4  1000_4   2018-12-05     1000     12"
      ]
     },
     "execution_count": 31,
     "metadata": {},
     "output_type": "execute_result"
    }
   ],
   "source": [
    "# выделяем месяц и записываем новый столбец month - месяц смс\n",
    "df_messages['month'] = df_messages['message_date'].dt.month\n",
    "df_messages.head()"
   ]
  },
  {
   "cell_type": "code",
   "execution_count": 32,
   "metadata": {
    "scrolled": true
   },
   "outputs": [
    {
     "data": {
      "text/html": [
       "<div>\n",
       "<style scoped>\n",
       "    .dataframe tbody tr th:only-of-type {\n",
       "        vertical-align: middle;\n",
       "    }\n",
       "\n",
       "    .dataframe tbody tr th {\n",
       "        vertical-align: top;\n",
       "    }\n",
       "\n",
       "    .dataframe thead th {\n",
       "        text-align: right;\n",
       "    }\n",
       "</style>\n",
       "<table border=\"1\" class=\"dataframe\">\n",
       "  <thead>\n",
       "    <tr style=\"text-align: right;\">\n",
       "      <th></th>\n",
       "      <th>user_id</th>\n",
       "      <th>month</th>\n",
       "      <th>id</th>\n",
       "    </tr>\n",
       "  </thead>\n",
       "  <tbody>\n",
       "    <tr>\n",
       "      <th>0</th>\n",
       "      <td>1000</td>\n",
       "      <td>5</td>\n",
       "      <td>22</td>\n",
       "    </tr>\n",
       "    <tr>\n",
       "      <th>1</th>\n",
       "      <td>1000</td>\n",
       "      <td>6</td>\n",
       "      <td>60</td>\n",
       "    </tr>\n",
       "    <tr>\n",
       "      <th>2</th>\n",
       "      <td>1000</td>\n",
       "      <td>7</td>\n",
       "      <td>75</td>\n",
       "    </tr>\n",
       "    <tr>\n",
       "      <th>3</th>\n",
       "      <td>1000</td>\n",
       "      <td>8</td>\n",
       "      <td>81</td>\n",
       "    </tr>\n",
       "    <tr>\n",
       "      <th>4</th>\n",
       "      <td>1000</td>\n",
       "      <td>9</td>\n",
       "      <td>57</td>\n",
       "    </tr>\n",
       "    <tr>\n",
       "      <th>5</th>\n",
       "      <td>1000</td>\n",
       "      <td>10</td>\n",
       "      <td>73</td>\n",
       "    </tr>\n",
       "    <tr>\n",
       "      <th>6</th>\n",
       "      <td>1000</td>\n",
       "      <td>11</td>\n",
       "      <td>58</td>\n",
       "    </tr>\n",
       "    <tr>\n",
       "      <th>7</th>\n",
       "      <td>1000</td>\n",
       "      <td>12</td>\n",
       "      <td>70</td>\n",
       "    </tr>\n",
       "    <tr>\n",
       "      <th>8</th>\n",
       "      <td>1002</td>\n",
       "      <td>6</td>\n",
       "      <td>4</td>\n",
       "    </tr>\n",
       "    <tr>\n",
       "      <th>9</th>\n",
       "      <td>1002</td>\n",
       "      <td>7</td>\n",
       "      <td>11</td>\n",
       "    </tr>\n",
       "    <tr>\n",
       "      <th>10</th>\n",
       "      <td>1002</td>\n",
       "      <td>8</td>\n",
       "      <td>13</td>\n",
       "    </tr>\n",
       "    <tr>\n",
       "      <th>11</th>\n",
       "      <td>1002</td>\n",
       "      <td>9</td>\n",
       "      <td>4</td>\n",
       "    </tr>\n",
       "  </tbody>\n",
       "</table>\n",
       "</div>"
      ],
      "text/plain": [
       "    user_id  month  id\n",
       "0      1000      5  22\n",
       "1      1000      6  60\n",
       "2      1000      7  75\n",
       "3      1000      8  81\n",
       "4      1000      9  57\n",
       "5      1000     10  73\n",
       "6      1000     11  58\n",
       "7      1000     12  70\n",
       "8      1002      6   4\n",
       "9      1002      7  11\n",
       "10     1002      8  13\n",
       "11     1002      9   4"
      ]
     },
     "execution_count": 32,
     "metadata": {},
     "output_type": "execute_result"
    }
   ],
   "source": [
    "# посчитаем количество израсходованных смс по месяцам, сделаем сводные таблицы\n",
    "messages = df_messages.pivot_table(index= ['user_id', 'month'], values='id', aggfunc='count').reset_index()\n",
    "messages.head(12)"
   ]
  },
  {
   "cell_type": "code",
   "execution_count": 33,
   "metadata": {},
   "outputs": [],
   "source": [
    "# переименум id в count_sms\n",
    "messages = messages.rename(columns = {'id': 'count_sms'})"
   ]
  },
  {
   "cell_type": "code",
   "execution_count": 34,
   "metadata": {},
   "outputs": [
    {
     "name": "stdout",
     "output_type": "stream",
     "text": [
      "<class 'pandas.core.frame.DataFrame'>\n",
      "Int64Index: 129798 entries, 0 to 149395\n",
      "Data columns (total 5 columns):\n",
      " #   Column        Non-Null Count   Dtype  \n",
      "---  ------        --------------   -----  \n",
      " 0   id            129798 non-null  object \n",
      " 1   mb_used       129798 non-null  float64\n",
      " 2   session_date  129798 non-null  object \n",
      " 3   user_id       129798 non-null  int64  \n",
      " 4   gb_used       129798 non-null  float64\n",
      "dtypes: float64(2), int64(1), object(2)\n",
      "memory usage: 5.9+ MB\n"
     ]
    }
   ],
   "source": [
    "# посмотрим на таблицу internet\n",
    "df_internet.info()"
   ]
  },
  {
   "cell_type": "code",
   "execution_count": 35,
   "metadata": {},
   "outputs": [
    {
     "name": "stdout",
     "output_type": "stream",
     "text": [
      "<class 'pandas.core.frame.DataFrame'>\n",
      "Int64Index: 129798 entries, 0 to 149395\n",
      "Data columns (total 5 columns):\n",
      " #   Column        Non-Null Count   Dtype         \n",
      "---  ------        --------------   -----         \n",
      " 0   id            129798 non-null  object        \n",
      " 1   mb_used       129798 non-null  float64       \n",
      " 2   session_date  129798 non-null  datetime64[ns]\n",
      " 3   user_id       129798 non-null  int64         \n",
      " 4   gb_used       129798 non-null  float64       \n",
      "dtypes: datetime64[ns](1), float64(2), int64(1), object(1)\n",
      "memory usage: 5.9+ MB\n"
     ]
    }
   ],
   "source": [
    "# меняем тип данных на дату\n",
    "df_internet['session_date'] = pd.to_datetime(df_internet['session_date'])\n",
    "df_internet.info()"
   ]
  },
  {
   "cell_type": "code",
   "execution_count": 36,
   "metadata": {
    "scrolled": true
   },
   "outputs": [
    {
     "data": {
      "text/html": [
       "<div>\n",
       "<style scoped>\n",
       "    .dataframe tbody tr th:only-of-type {\n",
       "        vertical-align: middle;\n",
       "    }\n",
       "\n",
       "    .dataframe tbody tr th {\n",
       "        vertical-align: top;\n",
       "    }\n",
       "\n",
       "    .dataframe thead th {\n",
       "        text-align: right;\n",
       "    }\n",
       "</style>\n",
       "<table border=\"1\" class=\"dataframe\">\n",
       "  <thead>\n",
       "    <tr style=\"text-align: right;\">\n",
       "      <th></th>\n",
       "      <th>id</th>\n",
       "      <th>mb_used</th>\n",
       "      <th>session_date</th>\n",
       "      <th>user_id</th>\n",
       "      <th>gb_used</th>\n",
       "      <th>month</th>\n",
       "    </tr>\n",
       "  </thead>\n",
       "  <tbody>\n",
       "    <tr>\n",
       "      <th>0</th>\n",
       "      <td>1000_0</td>\n",
       "      <td>112.95</td>\n",
       "      <td>2018-11-25</td>\n",
       "      <td>1000</td>\n",
       "      <td>0.110303</td>\n",
       "      <td>11</td>\n",
       "    </tr>\n",
       "    <tr>\n",
       "      <th>1</th>\n",
       "      <td>1000_1</td>\n",
       "      <td>1052.81</td>\n",
       "      <td>2018-09-07</td>\n",
       "      <td>1000</td>\n",
       "      <td>1.028135</td>\n",
       "      <td>9</td>\n",
       "    </tr>\n",
       "    <tr>\n",
       "      <th>2</th>\n",
       "      <td>1000_2</td>\n",
       "      <td>1197.26</td>\n",
       "      <td>2018-06-25</td>\n",
       "      <td>1000</td>\n",
       "      <td>1.169199</td>\n",
       "      <td>6</td>\n",
       "    </tr>\n",
       "    <tr>\n",
       "      <th>3</th>\n",
       "      <td>1000_3</td>\n",
       "      <td>550.27</td>\n",
       "      <td>2018-08-22</td>\n",
       "      <td>1000</td>\n",
       "      <td>0.537373</td>\n",
       "      <td>8</td>\n",
       "    </tr>\n",
       "    <tr>\n",
       "      <th>4</th>\n",
       "      <td>1000_4</td>\n",
       "      <td>302.56</td>\n",
       "      <td>2018-09-24</td>\n",
       "      <td>1000</td>\n",
       "      <td>0.295469</td>\n",
       "      <td>9</td>\n",
       "    </tr>\n",
       "  </tbody>\n",
       "</table>\n",
       "</div>"
      ],
      "text/plain": [
       "       id  mb_used session_date  user_id   gb_used  month\n",
       "0  1000_0   112.95   2018-11-25     1000  0.110303     11\n",
       "1  1000_1  1052.81   2018-09-07     1000  1.028135      9\n",
       "2  1000_2  1197.26   2018-06-25     1000  1.169199      6\n",
       "3  1000_3   550.27   2018-08-22     1000  0.537373      8\n",
       "4  1000_4   302.56   2018-09-24     1000  0.295469      9"
      ]
     },
     "execution_count": 36,
     "metadata": {},
     "output_type": "execute_result"
    }
   ],
   "source": [
    "# выделяем месяц и записываем новый столбец month - месяц интернет сессии\n",
    "df_internet['month'] = df_internet['session_date'].dt.month\n",
    "df_internet.head()"
   ]
  },
  {
   "cell_type": "code",
   "execution_count": 37,
   "metadata": {
    "scrolled": true
   },
   "outputs": [
    {
     "data": {
      "text/html": [
       "<div>\n",
       "<style scoped>\n",
       "    .dataframe tbody tr th:only-of-type {\n",
       "        vertical-align: middle;\n",
       "    }\n",
       "\n",
       "    .dataframe tbody tr th {\n",
       "        vertical-align: top;\n",
       "    }\n",
       "\n",
       "    .dataframe thead th {\n",
       "        text-align: right;\n",
       "    }\n",
       "</style>\n",
       "<table border=\"1\" class=\"dataframe\">\n",
       "  <thead>\n",
       "    <tr style=\"text-align: right;\">\n",
       "      <th></th>\n",
       "      <th>user_id</th>\n",
       "      <th>month</th>\n",
       "      <th>gb_used</th>\n",
       "    </tr>\n",
       "  </thead>\n",
       "  <tbody>\n",
       "    <tr>\n",
       "      <th>0</th>\n",
       "      <td>1000</td>\n",
       "      <td>5</td>\n",
       "      <td>2.200674</td>\n",
       "    </tr>\n",
       "    <tr>\n",
       "      <th>1</th>\n",
       "      <td>1000</td>\n",
       "      <td>6</td>\n",
       "      <td>22.689229</td>\n",
       "    </tr>\n",
       "    <tr>\n",
       "      <th>2</th>\n",
       "      <td>1000</td>\n",
       "      <td>7</td>\n",
       "      <td>13.675430</td>\n",
       "    </tr>\n",
       "    <tr>\n",
       "      <th>3</th>\n",
       "      <td>1000</td>\n",
       "      <td>8</td>\n",
       "      <td>13.726494</td>\n",
       "    </tr>\n",
       "    <tr>\n",
       "      <th>4</th>\n",
       "      <td>1000</td>\n",
       "      <td>9</td>\n",
       "      <td>14.227451</td>\n",
       "    </tr>\n",
       "    <tr>\n",
       "      <th>5</th>\n",
       "      <td>1000</td>\n",
       "      <td>10</td>\n",
       "      <td>14.357900</td>\n",
       "    </tr>\n",
       "    <tr>\n",
       "      <th>6</th>\n",
       "      <td>1000</td>\n",
       "      <td>11</td>\n",
       "      <td>14.410615</td>\n",
       "    </tr>\n",
       "    <tr>\n",
       "      <th>7</th>\n",
       "      <td>1000</td>\n",
       "      <td>12</td>\n",
       "      <td>9.587510</td>\n",
       "    </tr>\n",
       "    <tr>\n",
       "      <th>8</th>\n",
       "      <td>1001</td>\n",
       "      <td>11</td>\n",
       "      <td>17.997402</td>\n",
       "    </tr>\n",
       "    <tr>\n",
       "      <th>9</th>\n",
       "      <td>1001</td>\n",
       "      <td>12</td>\n",
       "      <td>13.707676</td>\n",
       "    </tr>\n",
       "    <tr>\n",
       "      <th>10</th>\n",
       "      <td>1002</td>\n",
       "      <td>6</td>\n",
       "      <td>10.602363</td>\n",
       "    </tr>\n",
       "    <tr>\n",
       "      <th>11</th>\n",
       "      <td>1002</td>\n",
       "      <td>7</td>\n",
       "      <td>17.168066</td>\n",
       "    </tr>\n",
       "  </tbody>\n",
       "</table>\n",
       "</div>"
      ],
      "text/plain": [
       "    user_id  month    gb_used\n",
       "0      1000      5   2.200674\n",
       "1      1000      6  22.689229\n",
       "2      1000      7  13.675430\n",
       "3      1000      8  13.726494\n",
       "4      1000      9  14.227451\n",
       "5      1000     10  14.357900\n",
       "6      1000     11  14.410615\n",
       "7      1000     12   9.587510\n",
       "8      1001     11  17.997402\n",
       "9      1001     12  13.707676\n",
       "10     1002      6  10.602363\n",
       "11     1002      7  17.168066"
      ]
     },
     "execution_count": 37,
     "metadata": {},
     "output_type": "execute_result"
    }
   ],
   "source": [
    "# посчитаем количество израсходованных гигабайт по месяцам, сделаем сводные таблицы\n",
    "internet = df_internet.pivot_table(index= ['user_id', 'month'], values='gb_used', aggfunc='sum').reset_index()\n",
    "internet.head(12)"
   ]
  },
  {
   "cell_type": "code",
   "execution_count": 38,
   "metadata": {},
   "outputs": [
    {
     "data": {
      "text/html": [
       "<div>\n",
       "<style scoped>\n",
       "    .dataframe tbody tr th:only-of-type {\n",
       "        vertical-align: middle;\n",
       "    }\n",
       "\n",
       "    .dataframe tbody tr th {\n",
       "        vertical-align: top;\n",
       "    }\n",
       "\n",
       "    .dataframe thead th {\n",
       "        text-align: right;\n",
       "    }\n",
       "</style>\n",
       "<table border=\"1\" class=\"dataframe\">\n",
       "  <thead>\n",
       "    <tr style=\"text-align: right;\">\n",
       "      <th></th>\n",
       "      <th>user_id</th>\n",
       "      <th>month</th>\n",
       "      <th>gb_used</th>\n",
       "    </tr>\n",
       "  </thead>\n",
       "  <tbody>\n",
       "    <tr>\n",
       "      <th>0</th>\n",
       "      <td>1000</td>\n",
       "      <td>5</td>\n",
       "      <td>3</td>\n",
       "    </tr>\n",
       "    <tr>\n",
       "      <th>1</th>\n",
       "      <td>1000</td>\n",
       "      <td>6</td>\n",
       "      <td>23</td>\n",
       "    </tr>\n",
       "    <tr>\n",
       "      <th>2</th>\n",
       "      <td>1000</td>\n",
       "      <td>7</td>\n",
       "      <td>14</td>\n",
       "    </tr>\n",
       "    <tr>\n",
       "      <th>3</th>\n",
       "      <td>1000</td>\n",
       "      <td>8</td>\n",
       "      <td>14</td>\n",
       "    </tr>\n",
       "    <tr>\n",
       "      <th>4</th>\n",
       "      <td>1000</td>\n",
       "      <td>9</td>\n",
       "      <td>15</td>\n",
       "    </tr>\n",
       "  </tbody>\n",
       "</table>\n",
       "</div>"
      ],
      "text/plain": [
       "   user_id  month  gb_used\n",
       "0     1000      5        3\n",
       "1     1000      6       23\n",
       "2     1000      7       14\n",
       "3     1000      8       14\n",
       "4     1000      9       15"
      ]
     },
     "execution_count": 38,
     "metadata": {},
     "output_type": "execute_result"
    }
   ],
   "source": [
    "# округлим gb до целого в большую сторону\n",
    "internet['gb_used'] = np.ceil(internet['gb_used']).astype('int')\n",
    "internet.head()"
   ]
  },
  {
   "cell_type": "code",
   "execution_count": 39,
   "metadata": {},
   "outputs": [
    {
     "data": {
      "text/html": [
       "<div>\n",
       "<style scoped>\n",
       "    .dataframe tbody tr th:only-of-type {\n",
       "        vertical-align: middle;\n",
       "    }\n",
       "\n",
       "    .dataframe tbody tr th {\n",
       "        vertical-align: top;\n",
       "    }\n",
       "\n",
       "    .dataframe thead th {\n",
       "        text-align: right;\n",
       "    }\n",
       "</style>\n",
       "<table border=\"1\" class=\"dataframe\">\n",
       "  <thead>\n",
       "    <tr style=\"text-align: right;\">\n",
       "      <th></th>\n",
       "      <th>user_id</th>\n",
       "      <th>month</th>\n",
       "      <th>count_gb</th>\n",
       "    </tr>\n",
       "  </thead>\n",
       "  <tbody>\n",
       "    <tr>\n",
       "      <th>0</th>\n",
       "      <td>1000</td>\n",
       "      <td>5</td>\n",
       "      <td>3</td>\n",
       "    </tr>\n",
       "    <tr>\n",
       "      <th>1</th>\n",
       "      <td>1000</td>\n",
       "      <td>6</td>\n",
       "      <td>23</td>\n",
       "    </tr>\n",
       "    <tr>\n",
       "      <th>2</th>\n",
       "      <td>1000</td>\n",
       "      <td>7</td>\n",
       "      <td>14</td>\n",
       "    </tr>\n",
       "    <tr>\n",
       "      <th>3</th>\n",
       "      <td>1000</td>\n",
       "      <td>8</td>\n",
       "      <td>14</td>\n",
       "    </tr>\n",
       "    <tr>\n",
       "      <th>4</th>\n",
       "      <td>1000</td>\n",
       "      <td>9</td>\n",
       "      <td>15</td>\n",
       "    </tr>\n",
       "  </tbody>\n",
       "</table>\n",
       "</div>"
      ],
      "text/plain": [
       "   user_id  month  count_gb\n",
       "0     1000      5         3\n",
       "1     1000      6        23\n",
       "2     1000      7        14\n",
       "3     1000      8        14\n",
       "4     1000      9        15"
      ]
     },
     "execution_count": 39,
     "metadata": {},
     "output_type": "execute_result"
    }
   ],
   "source": [
    "# переименуем gb_used в count_gb\n",
    "internet = internet.rename(columns = {'gb_used': 'count_gb'})\n",
    "internet.head()"
   ]
  },
  {
   "cell_type": "markdown",
   "metadata": {},
   "source": [
    "Объединим таблицы users, calls, messages, internet по user_id и tariffs по tariff_name"
   ]
  },
  {
   "cell_type": "code",
   "execution_count": 40,
   "metadata": {
    "scrolled": false
   },
   "outputs": [
    {
     "data": {
      "text/html": [
       "<div>\n",
       "<style scoped>\n",
       "    .dataframe tbody tr th:only-of-type {\n",
       "        vertical-align: middle;\n",
       "    }\n",
       "\n",
       "    .dataframe tbody tr th {\n",
       "        vertical-align: top;\n",
       "    }\n",
       "\n",
       "    .dataframe thead th {\n",
       "        text-align: right;\n",
       "    }\n",
       "</style>\n",
       "<table border=\"1\" class=\"dataframe\">\n",
       "  <thead>\n",
       "    <tr style=\"text-align: right;\">\n",
       "      <th></th>\n",
       "      <th>user_id</th>\n",
       "      <th>month</th>\n",
       "      <th>count_minutes</th>\n",
       "      <th>count_sms</th>\n",
       "    </tr>\n",
       "  </thead>\n",
       "  <tbody>\n",
       "    <tr>\n",
       "      <th>0</th>\n",
       "      <td>1000</td>\n",
       "      <td>5</td>\n",
       "      <td>159.0</td>\n",
       "      <td>22.0</td>\n",
       "    </tr>\n",
       "    <tr>\n",
       "      <th>1</th>\n",
       "      <td>1000</td>\n",
       "      <td>6</td>\n",
       "      <td>172.0</td>\n",
       "      <td>60.0</td>\n",
       "    </tr>\n",
       "    <tr>\n",
       "      <th>2</th>\n",
       "      <td>1000</td>\n",
       "      <td>7</td>\n",
       "      <td>340.0</td>\n",
       "      <td>75.0</td>\n",
       "    </tr>\n",
       "    <tr>\n",
       "      <th>3</th>\n",
       "      <td>1000</td>\n",
       "      <td>8</td>\n",
       "      <td>408.0</td>\n",
       "      <td>81.0</td>\n",
       "    </tr>\n",
       "    <tr>\n",
       "      <th>4</th>\n",
       "      <td>1000</td>\n",
       "      <td>9</td>\n",
       "      <td>466.0</td>\n",
       "      <td>57.0</td>\n",
       "    </tr>\n",
       "  </tbody>\n",
       "</table>\n",
       "</div>"
      ],
      "text/plain": [
       "   user_id  month  count_minutes  count_sms\n",
       "0     1000      5          159.0       22.0\n",
       "1     1000      6          172.0       60.0\n",
       "2     1000      7          340.0       75.0\n",
       "3     1000      8          408.0       81.0\n",
       "4     1000      9          466.0       57.0"
      ]
     },
     "execution_count": 40,
     "metadata": {},
     "output_type": "execute_result"
    }
   ],
   "source": [
    "users_merge = calls.merge(messages, on=['user_id', 'month'], how='outer')  \n",
    "users_merge.head()"
   ]
  },
  {
   "cell_type": "code",
   "execution_count": 41,
   "metadata": {},
   "outputs": [
    {
     "data": {
      "text/html": [
       "<div>\n",
       "<style scoped>\n",
       "    .dataframe tbody tr th:only-of-type {\n",
       "        vertical-align: middle;\n",
       "    }\n",
       "\n",
       "    .dataframe tbody tr th {\n",
       "        vertical-align: top;\n",
       "    }\n",
       "\n",
       "    .dataframe thead th {\n",
       "        text-align: right;\n",
       "    }\n",
       "</style>\n",
       "<table border=\"1\" class=\"dataframe\">\n",
       "  <thead>\n",
       "    <tr style=\"text-align: right;\">\n",
       "      <th></th>\n",
       "      <th>user_id</th>\n",
       "      <th>month</th>\n",
       "      <th>count_minutes</th>\n",
       "      <th>count_sms</th>\n",
       "      <th>count_gb</th>\n",
       "    </tr>\n",
       "  </thead>\n",
       "  <tbody>\n",
       "    <tr>\n",
       "      <th>0</th>\n",
       "      <td>1000</td>\n",
       "      <td>5</td>\n",
       "      <td>159.0</td>\n",
       "      <td>22.0</td>\n",
       "      <td>3.0</td>\n",
       "    </tr>\n",
       "    <tr>\n",
       "      <th>1</th>\n",
       "      <td>1000</td>\n",
       "      <td>6</td>\n",
       "      <td>172.0</td>\n",
       "      <td>60.0</td>\n",
       "      <td>23.0</td>\n",
       "    </tr>\n",
       "    <tr>\n",
       "      <th>2</th>\n",
       "      <td>1000</td>\n",
       "      <td>7</td>\n",
       "      <td>340.0</td>\n",
       "      <td>75.0</td>\n",
       "      <td>14.0</td>\n",
       "    </tr>\n",
       "    <tr>\n",
       "      <th>3</th>\n",
       "      <td>1000</td>\n",
       "      <td>8</td>\n",
       "      <td>408.0</td>\n",
       "      <td>81.0</td>\n",
       "      <td>14.0</td>\n",
       "    </tr>\n",
       "    <tr>\n",
       "      <th>4</th>\n",
       "      <td>1000</td>\n",
       "      <td>9</td>\n",
       "      <td>466.0</td>\n",
       "      <td>57.0</td>\n",
       "      <td>15.0</td>\n",
       "    </tr>\n",
       "  </tbody>\n",
       "</table>\n",
       "</div>"
      ],
      "text/plain": [
       "   user_id  month  count_minutes  count_sms  count_gb\n",
       "0     1000      5          159.0       22.0       3.0\n",
       "1     1000      6          172.0       60.0      23.0\n",
       "2     1000      7          340.0       75.0      14.0\n",
       "3     1000      8          408.0       81.0      14.0\n",
       "4     1000      9          466.0       57.0      15.0"
      ]
     },
     "execution_count": 41,
     "metadata": {},
     "output_type": "execute_result"
    }
   ],
   "source": [
    "users_merge = users_merge.merge(internet, on=['user_id', 'month'], how='outer')\n",
    "users_merge.head()"
   ]
  },
  {
   "cell_type": "code",
   "execution_count": 42,
   "metadata": {},
   "outputs": [
    {
     "data": {
      "text/html": [
       "<div>\n",
       "<style scoped>\n",
       "    .dataframe tbody tr th:only-of-type {\n",
       "        vertical-align: middle;\n",
       "    }\n",
       "\n",
       "    .dataframe tbody tr th {\n",
       "        vertical-align: top;\n",
       "    }\n",
       "\n",
       "    .dataframe thead th {\n",
       "        text-align: right;\n",
       "    }\n",
       "</style>\n",
       "<table border=\"1\" class=\"dataframe\">\n",
       "  <thead>\n",
       "    <tr style=\"text-align: right;\">\n",
       "      <th></th>\n",
       "      <th>user_id</th>\n",
       "      <th>month</th>\n",
       "      <th>count_minutes</th>\n",
       "      <th>count_sms</th>\n",
       "      <th>count_gb</th>\n",
       "      <th>tariff</th>\n",
       "    </tr>\n",
       "  </thead>\n",
       "  <tbody>\n",
       "    <tr>\n",
       "      <th>0</th>\n",
       "      <td>1000</td>\n",
       "      <td>5.0</td>\n",
       "      <td>159.0</td>\n",
       "      <td>22.0</td>\n",
       "      <td>3.0</td>\n",
       "      <td>ultra</td>\n",
       "    </tr>\n",
       "    <tr>\n",
       "      <th>1</th>\n",
       "      <td>1000</td>\n",
       "      <td>6.0</td>\n",
       "      <td>172.0</td>\n",
       "      <td>60.0</td>\n",
       "      <td>23.0</td>\n",
       "      <td>ultra</td>\n",
       "    </tr>\n",
       "    <tr>\n",
       "      <th>2</th>\n",
       "      <td>1000</td>\n",
       "      <td>7.0</td>\n",
       "      <td>340.0</td>\n",
       "      <td>75.0</td>\n",
       "      <td>14.0</td>\n",
       "      <td>ultra</td>\n",
       "    </tr>\n",
       "    <tr>\n",
       "      <th>3</th>\n",
       "      <td>1000</td>\n",
       "      <td>8.0</td>\n",
       "      <td>408.0</td>\n",
       "      <td>81.0</td>\n",
       "      <td>14.0</td>\n",
       "      <td>ultra</td>\n",
       "    </tr>\n",
       "    <tr>\n",
       "      <th>4</th>\n",
       "      <td>1000</td>\n",
       "      <td>9.0</td>\n",
       "      <td>466.0</td>\n",
       "      <td>57.0</td>\n",
       "      <td>15.0</td>\n",
       "      <td>ultra</td>\n",
       "    </tr>\n",
       "  </tbody>\n",
       "</table>\n",
       "</div>"
      ],
      "text/plain": [
       "   user_id  month  count_minutes  count_sms  count_gb tariff\n",
       "0     1000    5.0          159.0       22.0       3.0  ultra\n",
       "1     1000    6.0          172.0       60.0      23.0  ultra\n",
       "2     1000    7.0          340.0       75.0      14.0  ultra\n",
       "3     1000    8.0          408.0       81.0      14.0  ultra\n",
       "4     1000    9.0          466.0       57.0      15.0  ultra"
      ]
     },
     "execution_count": 42,
     "metadata": {},
     "output_type": "execute_result"
    }
   ],
   "source": [
    "users_merge = users_merge.merge(df_users[['user_id', 'tariff']] , on='user_id', how='outer')\n",
    "users_merge.head()"
   ]
  },
  {
   "cell_type": "code",
   "execution_count": 43,
   "metadata": {
    "scrolled": true
   },
   "outputs": [
    {
     "data": {
      "text/html": [
       "<div>\n",
       "<style scoped>\n",
       "    .dataframe tbody tr th:only-of-type {\n",
       "        vertical-align: middle;\n",
       "    }\n",
       "\n",
       "    .dataframe tbody tr th {\n",
       "        vertical-align: top;\n",
       "    }\n",
       "\n",
       "    .dataframe thead th {\n",
       "        text-align: right;\n",
       "    }\n",
       "</style>\n",
       "<table border=\"1\" class=\"dataframe\">\n",
       "  <thead>\n",
       "    <tr style=\"text-align: right;\">\n",
       "      <th></th>\n",
       "      <th>messages_included</th>\n",
       "      <th>mb_per_month_included</th>\n",
       "      <th>minutes_included</th>\n",
       "      <th>rub_monthly_fee</th>\n",
       "      <th>rub_per_gb</th>\n",
       "      <th>rub_per_message</th>\n",
       "      <th>rub_per_minute</th>\n",
       "      <th>tariff</th>\n",
       "    </tr>\n",
       "  </thead>\n",
       "  <tbody>\n",
       "    <tr>\n",
       "      <th>0</th>\n",
       "      <td>50</td>\n",
       "      <td>15360</td>\n",
       "      <td>500</td>\n",
       "      <td>550</td>\n",
       "      <td>200</td>\n",
       "      <td>3</td>\n",
       "      <td>3</td>\n",
       "      <td>smart</td>\n",
       "    </tr>\n",
       "    <tr>\n",
       "      <th>1</th>\n",
       "      <td>1000</td>\n",
       "      <td>30720</td>\n",
       "      <td>3000</td>\n",
       "      <td>1950</td>\n",
       "      <td>150</td>\n",
       "      <td>1</td>\n",
       "      <td>1</td>\n",
       "      <td>ultra</td>\n",
       "    </tr>\n",
       "  </tbody>\n",
       "</table>\n",
       "</div>"
      ],
      "text/plain": [
       "   messages_included  mb_per_month_included  minutes_included  \\\n",
       "0                 50                  15360               500   \n",
       "1               1000                  30720              3000   \n",
       "\n",
       "   rub_monthly_fee  rub_per_gb  rub_per_message  rub_per_minute tariff  \n",
       "0              550         200                3               3  smart  \n",
       "1             1950         150                1               1  ultra  "
      ]
     },
     "execution_count": 43,
     "metadata": {},
     "output_type": "execute_result"
    }
   ],
   "source": [
    "# переименуем tariff_name в таблице tariffs в tariff\n",
    "df_tariffs = df_tariffs.rename(columns={'tariff_name':'tariff'})\n",
    "df_tariffs.head()"
   ]
  },
  {
   "cell_type": "code",
   "execution_count": 44,
   "metadata": {},
   "outputs": [
    {
     "data": {
      "text/html": [
       "<div>\n",
       "<style scoped>\n",
       "    .dataframe tbody tr th:only-of-type {\n",
       "        vertical-align: middle;\n",
       "    }\n",
       "\n",
       "    .dataframe tbody tr th {\n",
       "        vertical-align: top;\n",
       "    }\n",
       "\n",
       "    .dataframe thead th {\n",
       "        text-align: right;\n",
       "    }\n",
       "</style>\n",
       "<table border=\"1\" class=\"dataframe\">\n",
       "  <thead>\n",
       "    <tr style=\"text-align: right;\">\n",
       "      <th></th>\n",
       "      <th>user_id</th>\n",
       "      <th>month</th>\n",
       "      <th>count_minutes</th>\n",
       "      <th>count_sms</th>\n",
       "      <th>count_gb</th>\n",
       "      <th>tariff</th>\n",
       "    </tr>\n",
       "  </thead>\n",
       "  <tbody>\n",
       "    <tr>\n",
       "      <th>0</th>\n",
       "      <td>1000</td>\n",
       "      <td>5.0</td>\n",
       "      <td>159.0</td>\n",
       "      <td>22.0</td>\n",
       "      <td>3.0</td>\n",
       "      <td>ultra</td>\n",
       "    </tr>\n",
       "  </tbody>\n",
       "</table>\n",
       "</div>"
      ],
      "text/plain": [
       "   user_id  month  count_minutes  count_sms  count_gb tariff\n",
       "0     1000    5.0          159.0       22.0       3.0  ultra"
      ]
     },
     "execution_count": 44,
     "metadata": {},
     "output_type": "execute_result"
    }
   ],
   "source": [
    "users_merge.head(1)"
   ]
  },
  {
   "cell_type": "code",
   "execution_count": 45,
   "metadata": {
    "scrolled": false
   },
   "outputs": [
    {
     "data": {
      "text/html": [
       "<div>\n",
       "<style scoped>\n",
       "    .dataframe tbody tr th:only-of-type {\n",
       "        vertical-align: middle;\n",
       "    }\n",
       "\n",
       "    .dataframe tbody tr th {\n",
       "        vertical-align: top;\n",
       "    }\n",
       "\n",
       "    .dataframe thead th {\n",
       "        text-align: right;\n",
       "    }\n",
       "</style>\n",
       "<table border=\"1\" class=\"dataframe\">\n",
       "  <thead>\n",
       "    <tr style=\"text-align: right;\">\n",
       "      <th></th>\n",
       "      <th>user_id</th>\n",
       "      <th>month</th>\n",
       "      <th>count_minutes</th>\n",
       "      <th>count_sms</th>\n",
       "      <th>count_gb</th>\n",
       "      <th>tariff</th>\n",
       "      <th>messages_included</th>\n",
       "      <th>mb_per_month_included</th>\n",
       "      <th>minutes_included</th>\n",
       "      <th>rub_monthly_fee</th>\n",
       "      <th>rub_per_gb</th>\n",
       "      <th>rub_per_message</th>\n",
       "      <th>rub_per_minute</th>\n",
       "    </tr>\n",
       "  </thead>\n",
       "  <tbody>\n",
       "    <tr>\n",
       "      <th>0</th>\n",
       "      <td>1000</td>\n",
       "      <td>5.0</td>\n",
       "      <td>159.0</td>\n",
       "      <td>22.0</td>\n",
       "      <td>3.0</td>\n",
       "      <td>ultra</td>\n",
       "      <td>1000</td>\n",
       "      <td>30720</td>\n",
       "      <td>3000</td>\n",
       "      <td>1950</td>\n",
       "      <td>150</td>\n",
       "      <td>1</td>\n",
       "      <td>1</td>\n",
       "    </tr>\n",
       "    <tr>\n",
       "      <th>1</th>\n",
       "      <td>1000</td>\n",
       "      <td>6.0</td>\n",
       "      <td>172.0</td>\n",
       "      <td>60.0</td>\n",
       "      <td>23.0</td>\n",
       "      <td>ultra</td>\n",
       "      <td>1000</td>\n",
       "      <td>30720</td>\n",
       "      <td>3000</td>\n",
       "      <td>1950</td>\n",
       "      <td>150</td>\n",
       "      <td>1</td>\n",
       "      <td>1</td>\n",
       "    </tr>\n",
       "    <tr>\n",
       "      <th>2</th>\n",
       "      <td>1000</td>\n",
       "      <td>7.0</td>\n",
       "      <td>340.0</td>\n",
       "      <td>75.0</td>\n",
       "      <td>14.0</td>\n",
       "      <td>ultra</td>\n",
       "      <td>1000</td>\n",
       "      <td>30720</td>\n",
       "      <td>3000</td>\n",
       "      <td>1950</td>\n",
       "      <td>150</td>\n",
       "      <td>1</td>\n",
       "      <td>1</td>\n",
       "    </tr>\n",
       "    <tr>\n",
       "      <th>3</th>\n",
       "      <td>1000</td>\n",
       "      <td>8.0</td>\n",
       "      <td>408.0</td>\n",
       "      <td>81.0</td>\n",
       "      <td>14.0</td>\n",
       "      <td>ultra</td>\n",
       "      <td>1000</td>\n",
       "      <td>30720</td>\n",
       "      <td>3000</td>\n",
       "      <td>1950</td>\n",
       "      <td>150</td>\n",
       "      <td>1</td>\n",
       "      <td>1</td>\n",
       "    </tr>\n",
       "    <tr>\n",
       "      <th>4</th>\n",
       "      <td>1000</td>\n",
       "      <td>9.0</td>\n",
       "      <td>466.0</td>\n",
       "      <td>57.0</td>\n",
       "      <td>15.0</td>\n",
       "      <td>ultra</td>\n",
       "      <td>1000</td>\n",
       "      <td>30720</td>\n",
       "      <td>3000</td>\n",
       "      <td>1950</td>\n",
       "      <td>150</td>\n",
       "      <td>1</td>\n",
       "      <td>1</td>\n",
       "    </tr>\n",
       "  </tbody>\n",
       "</table>\n",
       "</div>"
      ],
      "text/plain": [
       "   user_id  month  count_minutes  count_sms  count_gb tariff  \\\n",
       "0     1000    5.0          159.0       22.0       3.0  ultra   \n",
       "1     1000    6.0          172.0       60.0      23.0  ultra   \n",
       "2     1000    7.0          340.0       75.0      14.0  ultra   \n",
       "3     1000    8.0          408.0       81.0      14.0  ultra   \n",
       "4     1000    9.0          466.0       57.0      15.0  ultra   \n",
       "\n",
       "   messages_included  mb_per_month_included  minutes_included  \\\n",
       "0               1000                  30720              3000   \n",
       "1               1000                  30720              3000   \n",
       "2               1000                  30720              3000   \n",
       "3               1000                  30720              3000   \n",
       "4               1000                  30720              3000   \n",
       "\n",
       "   rub_monthly_fee  rub_per_gb  rub_per_message  rub_per_minute  \n",
       "0             1950         150                1               1  \n",
       "1             1950         150                1               1  \n",
       "2             1950         150                1               1  \n",
       "3             1950         150                1               1  \n",
       "4             1950         150                1               1  "
      ]
     },
     "execution_count": 45,
     "metadata": {},
     "output_type": "execute_result"
    }
   ],
   "source": [
    "# соединим users_merge и df_tariffs по тарифу\n",
    "users_merge = users_merge.merge(df_tariffs, on='tariff', how='left')\n",
    "users_merge.head()"
   ]
  },
  {
   "cell_type": "code",
   "execution_count": 46,
   "metadata": {},
   "outputs": [],
   "source": [
    "# создадим столбец gb_per_month_included — объём интернет-трафика, включённого в абонентскую плату (в гигабайтах)\n",
    "users_merge['gb_per_month_included'] = users_merge['mb_per_month_included']/1024"
   ]
  },
  {
   "cell_type": "markdown",
   "metadata": {},
   "source": [
    "Посчитаем количество превышений минут, смс и интернета в ГБ и запишем в столбцы"
   ]
  },
  {
   "cell_type": "code",
   "execution_count": 47,
   "metadata": {},
   "outputs": [],
   "source": [
    "users_merge['excess_calls'] = users_merge['count_minutes'] - users_merge['minutes_included']"
   ]
  },
  {
   "cell_type": "code",
   "execution_count": 48,
   "metadata": {},
   "outputs": [],
   "source": [
    "users_merge['excess_messages'] = users_merge['count_sms'] - users_merge['messages_included']"
   ]
  },
  {
   "cell_type": "code",
   "execution_count": 49,
   "metadata": {},
   "outputs": [],
   "source": [
    "users_merge['excess_internet'] = users_merge['count_gb'] - users_merge['gb_per_month_included']"
   ]
  },
  {
   "cell_type": "code",
   "execution_count": 50,
   "metadata": {
    "scrolled": true
   },
   "outputs": [
    {
     "data": {
      "text/html": [
       "<div>\n",
       "<style scoped>\n",
       "    .dataframe tbody tr th:only-of-type {\n",
       "        vertical-align: middle;\n",
       "    }\n",
       "\n",
       "    .dataframe tbody tr th {\n",
       "        vertical-align: top;\n",
       "    }\n",
       "\n",
       "    .dataframe thead th {\n",
       "        text-align: right;\n",
       "    }\n",
       "</style>\n",
       "<table border=\"1\" class=\"dataframe\">\n",
       "  <thead>\n",
       "    <tr style=\"text-align: right;\">\n",
       "      <th></th>\n",
       "      <th>user_id</th>\n",
       "      <th>month</th>\n",
       "      <th>count_minutes</th>\n",
       "      <th>count_sms</th>\n",
       "      <th>count_gb</th>\n",
       "      <th>tariff</th>\n",
       "      <th>messages_included</th>\n",
       "      <th>mb_per_month_included</th>\n",
       "      <th>minutes_included</th>\n",
       "      <th>rub_monthly_fee</th>\n",
       "      <th>rub_per_gb</th>\n",
       "      <th>rub_per_message</th>\n",
       "      <th>rub_per_minute</th>\n",
       "      <th>gb_per_month_included</th>\n",
       "      <th>excess_calls</th>\n",
       "      <th>excess_messages</th>\n",
       "      <th>excess_internet</th>\n",
       "    </tr>\n",
       "  </thead>\n",
       "  <tbody>\n",
       "    <tr>\n",
       "      <th>0</th>\n",
       "      <td>1000</td>\n",
       "      <td>5.0</td>\n",
       "      <td>159.0</td>\n",
       "      <td>22.0</td>\n",
       "      <td>3.0</td>\n",
       "      <td>ultra</td>\n",
       "      <td>1000</td>\n",
       "      <td>30720</td>\n",
       "      <td>3000</td>\n",
       "      <td>1950</td>\n",
       "      <td>150</td>\n",
       "      <td>1</td>\n",
       "      <td>1</td>\n",
       "      <td>30.0</td>\n",
       "      <td>-2841.0</td>\n",
       "      <td>-978.0</td>\n",
       "      <td>-27.0</td>\n",
       "    </tr>\n",
       "    <tr>\n",
       "      <th>1</th>\n",
       "      <td>1000</td>\n",
       "      <td>6.0</td>\n",
       "      <td>172.0</td>\n",
       "      <td>60.0</td>\n",
       "      <td>23.0</td>\n",
       "      <td>ultra</td>\n",
       "      <td>1000</td>\n",
       "      <td>30720</td>\n",
       "      <td>3000</td>\n",
       "      <td>1950</td>\n",
       "      <td>150</td>\n",
       "      <td>1</td>\n",
       "      <td>1</td>\n",
       "      <td>30.0</td>\n",
       "      <td>-2828.0</td>\n",
       "      <td>-940.0</td>\n",
       "      <td>-7.0</td>\n",
       "    </tr>\n",
       "    <tr>\n",
       "      <th>2</th>\n",
       "      <td>1000</td>\n",
       "      <td>7.0</td>\n",
       "      <td>340.0</td>\n",
       "      <td>75.0</td>\n",
       "      <td>14.0</td>\n",
       "      <td>ultra</td>\n",
       "      <td>1000</td>\n",
       "      <td>30720</td>\n",
       "      <td>3000</td>\n",
       "      <td>1950</td>\n",
       "      <td>150</td>\n",
       "      <td>1</td>\n",
       "      <td>1</td>\n",
       "      <td>30.0</td>\n",
       "      <td>-2660.0</td>\n",
       "      <td>-925.0</td>\n",
       "      <td>-16.0</td>\n",
       "    </tr>\n",
       "    <tr>\n",
       "      <th>3</th>\n",
       "      <td>1000</td>\n",
       "      <td>8.0</td>\n",
       "      <td>408.0</td>\n",
       "      <td>81.0</td>\n",
       "      <td>14.0</td>\n",
       "      <td>ultra</td>\n",
       "      <td>1000</td>\n",
       "      <td>30720</td>\n",
       "      <td>3000</td>\n",
       "      <td>1950</td>\n",
       "      <td>150</td>\n",
       "      <td>1</td>\n",
       "      <td>1</td>\n",
       "      <td>30.0</td>\n",
       "      <td>-2592.0</td>\n",
       "      <td>-919.0</td>\n",
       "      <td>-16.0</td>\n",
       "    </tr>\n",
       "    <tr>\n",
       "      <th>4</th>\n",
       "      <td>1000</td>\n",
       "      <td>9.0</td>\n",
       "      <td>466.0</td>\n",
       "      <td>57.0</td>\n",
       "      <td>15.0</td>\n",
       "      <td>ultra</td>\n",
       "      <td>1000</td>\n",
       "      <td>30720</td>\n",
       "      <td>3000</td>\n",
       "      <td>1950</td>\n",
       "      <td>150</td>\n",
       "      <td>1</td>\n",
       "      <td>1</td>\n",
       "      <td>30.0</td>\n",
       "      <td>-2534.0</td>\n",
       "      <td>-943.0</td>\n",
       "      <td>-15.0</td>\n",
       "    </tr>\n",
       "  </tbody>\n",
       "</table>\n",
       "</div>"
      ],
      "text/plain": [
       "   user_id  month  count_minutes  count_sms  count_gb tariff  \\\n",
       "0     1000    5.0          159.0       22.0       3.0  ultra   \n",
       "1     1000    6.0          172.0       60.0      23.0  ultra   \n",
       "2     1000    7.0          340.0       75.0      14.0  ultra   \n",
       "3     1000    8.0          408.0       81.0      14.0  ultra   \n",
       "4     1000    9.0          466.0       57.0      15.0  ultra   \n",
       "\n",
       "   messages_included  mb_per_month_included  minutes_included  \\\n",
       "0               1000                  30720              3000   \n",
       "1               1000                  30720              3000   \n",
       "2               1000                  30720              3000   \n",
       "3               1000                  30720              3000   \n",
       "4               1000                  30720              3000   \n",
       "\n",
       "   rub_monthly_fee  rub_per_gb  rub_per_message  rub_per_minute  \\\n",
       "0             1950         150                1               1   \n",
       "1             1950         150                1               1   \n",
       "2             1950         150                1               1   \n",
       "3             1950         150                1               1   \n",
       "4             1950         150                1               1   \n",
       "\n",
       "   gb_per_month_included  excess_calls  excess_messages  excess_internet  \n",
       "0                   30.0       -2841.0           -978.0            -27.0  \n",
       "1                   30.0       -2828.0           -940.0             -7.0  \n",
       "2                   30.0       -2660.0           -925.0            -16.0  \n",
       "3                   30.0       -2592.0           -919.0            -16.0  \n",
       "4                   30.0       -2534.0           -943.0            -15.0  "
      ]
     },
     "execution_count": 50,
     "metadata": {},
     "output_type": "execute_result"
    }
   ],
   "source": [
    "users_merge.head()"
   ]
  },
  {
   "cell_type": "code",
   "execution_count": 51,
   "metadata": {},
   "outputs": [],
   "source": [
    "# напишем функцию для расчета выручки от использования звонков, смс и гб сверх тарифа\n",
    "# запишем в новый столбец revenue\n",
    "def revenue(row):\n",
    "    revenue_by_min = 0\n",
    "    revenue_by_sms = 0\n",
    "    revenue_by_gb = 0\n",
    "    if row['excess_calls'] > 0:\n",
    "        revenue_by_min = row['excess_calls'] * row['rub_per_minute']\n",
    "    if row['excess_messages'] > 0:\n",
    "        revenue_by_sms = row['excess_messages'] * row['rub_per_message']\n",
    "    if row['excess_internet'] > 0:\n",
    "        revenue_by_sms = row['excess_internet'] * row['rub_per_gb']\n",
    "    return revenue_by_min + revenue_by_sms + revenue_by_gb + row['rub_monthly_fee']\n",
    "users_merge['revenue'] = users_merge.apply(revenue, axis=1)"
   ]
  },
  {
   "cell_type": "code",
   "execution_count": 52,
   "metadata": {},
   "outputs": [
    {
     "data": {
      "text/html": [
       "<div>\n",
       "<style scoped>\n",
       "    .dataframe tbody tr th:only-of-type {\n",
       "        vertical-align: middle;\n",
       "    }\n",
       "\n",
       "    .dataframe tbody tr th {\n",
       "        vertical-align: top;\n",
       "    }\n",
       "\n",
       "    .dataframe thead th {\n",
       "        text-align: right;\n",
       "    }\n",
       "</style>\n",
       "<table border=\"1\" class=\"dataframe\">\n",
       "  <thead>\n",
       "    <tr style=\"text-align: right;\">\n",
       "      <th></th>\n",
       "      <th>user_id</th>\n",
       "      <th>month</th>\n",
       "      <th>count_minutes</th>\n",
       "      <th>count_sms</th>\n",
       "      <th>count_gb</th>\n",
       "      <th>tariff</th>\n",
       "      <th>messages_included</th>\n",
       "      <th>mb_per_month_included</th>\n",
       "      <th>minutes_included</th>\n",
       "      <th>rub_monthly_fee</th>\n",
       "      <th>rub_per_gb</th>\n",
       "      <th>rub_per_message</th>\n",
       "      <th>rub_per_minute</th>\n",
       "      <th>gb_per_month_included</th>\n",
       "      <th>excess_calls</th>\n",
       "      <th>excess_messages</th>\n",
       "      <th>excess_internet</th>\n",
       "      <th>revenue</th>\n",
       "    </tr>\n",
       "  </thead>\n",
       "  <tbody>\n",
       "    <tr>\n",
       "      <th>0</th>\n",
       "      <td>1000</td>\n",
       "      <td>5.0</td>\n",
       "      <td>159.0</td>\n",
       "      <td>22.0</td>\n",
       "      <td>3.0</td>\n",
       "      <td>ultra</td>\n",
       "      <td>1000</td>\n",
       "      <td>30720</td>\n",
       "      <td>3000</td>\n",
       "      <td>1950</td>\n",
       "      <td>150</td>\n",
       "      <td>1</td>\n",
       "      <td>1</td>\n",
       "      <td>30.0</td>\n",
       "      <td>-2841.0</td>\n",
       "      <td>-978.0</td>\n",
       "      <td>-27.0</td>\n",
       "      <td>1950.0</td>\n",
       "    </tr>\n",
       "    <tr>\n",
       "      <th>1</th>\n",
       "      <td>1000</td>\n",
       "      <td>6.0</td>\n",
       "      <td>172.0</td>\n",
       "      <td>60.0</td>\n",
       "      <td>23.0</td>\n",
       "      <td>ultra</td>\n",
       "      <td>1000</td>\n",
       "      <td>30720</td>\n",
       "      <td>3000</td>\n",
       "      <td>1950</td>\n",
       "      <td>150</td>\n",
       "      <td>1</td>\n",
       "      <td>1</td>\n",
       "      <td>30.0</td>\n",
       "      <td>-2828.0</td>\n",
       "      <td>-940.0</td>\n",
       "      <td>-7.0</td>\n",
       "      <td>1950.0</td>\n",
       "    </tr>\n",
       "    <tr>\n",
       "      <th>2</th>\n",
       "      <td>1000</td>\n",
       "      <td>7.0</td>\n",
       "      <td>340.0</td>\n",
       "      <td>75.0</td>\n",
       "      <td>14.0</td>\n",
       "      <td>ultra</td>\n",
       "      <td>1000</td>\n",
       "      <td>30720</td>\n",
       "      <td>3000</td>\n",
       "      <td>1950</td>\n",
       "      <td>150</td>\n",
       "      <td>1</td>\n",
       "      <td>1</td>\n",
       "      <td>30.0</td>\n",
       "      <td>-2660.0</td>\n",
       "      <td>-925.0</td>\n",
       "      <td>-16.0</td>\n",
       "      <td>1950.0</td>\n",
       "    </tr>\n",
       "    <tr>\n",
       "      <th>3</th>\n",
       "      <td>1000</td>\n",
       "      <td>8.0</td>\n",
       "      <td>408.0</td>\n",
       "      <td>81.0</td>\n",
       "      <td>14.0</td>\n",
       "      <td>ultra</td>\n",
       "      <td>1000</td>\n",
       "      <td>30720</td>\n",
       "      <td>3000</td>\n",
       "      <td>1950</td>\n",
       "      <td>150</td>\n",
       "      <td>1</td>\n",
       "      <td>1</td>\n",
       "      <td>30.0</td>\n",
       "      <td>-2592.0</td>\n",
       "      <td>-919.0</td>\n",
       "      <td>-16.0</td>\n",
       "      <td>1950.0</td>\n",
       "    </tr>\n",
       "    <tr>\n",
       "      <th>4</th>\n",
       "      <td>1000</td>\n",
       "      <td>9.0</td>\n",
       "      <td>466.0</td>\n",
       "      <td>57.0</td>\n",
       "      <td>15.0</td>\n",
       "      <td>ultra</td>\n",
       "      <td>1000</td>\n",
       "      <td>30720</td>\n",
       "      <td>3000</td>\n",
       "      <td>1950</td>\n",
       "      <td>150</td>\n",
       "      <td>1</td>\n",
       "      <td>1</td>\n",
       "      <td>30.0</td>\n",
       "      <td>-2534.0</td>\n",
       "      <td>-943.0</td>\n",
       "      <td>-15.0</td>\n",
       "      <td>1950.0</td>\n",
       "    </tr>\n",
       "  </tbody>\n",
       "</table>\n",
       "</div>"
      ],
      "text/plain": [
       "   user_id  month  count_minutes  count_sms  count_gb tariff  \\\n",
       "0     1000    5.0          159.0       22.0       3.0  ultra   \n",
       "1     1000    6.0          172.0       60.0      23.0  ultra   \n",
       "2     1000    7.0          340.0       75.0      14.0  ultra   \n",
       "3     1000    8.0          408.0       81.0      14.0  ultra   \n",
       "4     1000    9.0          466.0       57.0      15.0  ultra   \n",
       "\n",
       "   messages_included  mb_per_month_included  minutes_included  \\\n",
       "0               1000                  30720              3000   \n",
       "1               1000                  30720              3000   \n",
       "2               1000                  30720              3000   \n",
       "3               1000                  30720              3000   \n",
       "4               1000                  30720              3000   \n",
       "\n",
       "   rub_monthly_fee  rub_per_gb  rub_per_message  rub_per_minute  \\\n",
       "0             1950         150                1               1   \n",
       "1             1950         150                1               1   \n",
       "2             1950         150                1               1   \n",
       "3             1950         150                1               1   \n",
       "4             1950         150                1               1   \n",
       "\n",
       "   gb_per_month_included  excess_calls  excess_messages  excess_internet  \\\n",
       "0                   30.0       -2841.0           -978.0            -27.0   \n",
       "1                   30.0       -2828.0           -940.0             -7.0   \n",
       "2                   30.0       -2660.0           -925.0            -16.0   \n",
       "3                   30.0       -2592.0           -919.0            -16.0   \n",
       "4                   30.0       -2534.0           -943.0            -15.0   \n",
       "\n",
       "   revenue  \n",
       "0   1950.0  \n",
       "1   1950.0  \n",
       "2   1950.0  \n",
       "3   1950.0  \n",
       "4   1950.0  "
      ]
     },
     "execution_count": 52,
     "metadata": {},
     "output_type": "execute_result"
    }
   ],
   "source": [
    "users_merge.head()"
   ]
  },
  {
   "cell_type": "code",
   "execution_count": 53,
   "metadata": {},
   "outputs": [],
   "source": [
    "# создадим столбец sum_revenue с полной выручкой, включая абонентскую плату \n",
    "users_merge['sum_revenue'] = users_merge['revenue'] + users_merge['rub_monthly_fee']"
   ]
  },
  {
   "cell_type": "code",
   "execution_count": 54,
   "metadata": {},
   "outputs": [
    {
     "data": {
      "text/html": [
       "<div>\n",
       "<style scoped>\n",
       "    .dataframe tbody tr th:only-of-type {\n",
       "        vertical-align: middle;\n",
       "    }\n",
       "\n",
       "    .dataframe tbody tr th {\n",
       "        vertical-align: top;\n",
       "    }\n",
       "\n",
       "    .dataframe thead th {\n",
       "        text-align: right;\n",
       "    }\n",
       "</style>\n",
       "<table border=\"1\" class=\"dataframe\">\n",
       "  <thead>\n",
       "    <tr style=\"text-align: right;\">\n",
       "      <th></th>\n",
       "      <th>user_id</th>\n",
       "      <th>month</th>\n",
       "      <th>count_minutes</th>\n",
       "      <th>count_sms</th>\n",
       "      <th>count_gb</th>\n",
       "      <th>tariff</th>\n",
       "      <th>messages_included</th>\n",
       "      <th>mb_per_month_included</th>\n",
       "      <th>minutes_included</th>\n",
       "      <th>rub_monthly_fee</th>\n",
       "      <th>rub_per_gb</th>\n",
       "      <th>rub_per_message</th>\n",
       "      <th>rub_per_minute</th>\n",
       "      <th>gb_per_month_included</th>\n",
       "      <th>excess_calls</th>\n",
       "      <th>excess_messages</th>\n",
       "      <th>excess_internet</th>\n",
       "      <th>revenue</th>\n",
       "      <th>sum_revenue</th>\n",
       "    </tr>\n",
       "  </thead>\n",
       "  <tbody>\n",
       "    <tr>\n",
       "      <th>0</th>\n",
       "      <td>1000</td>\n",
       "      <td>5.0</td>\n",
       "      <td>159.0</td>\n",
       "      <td>22.0</td>\n",
       "      <td>3.0</td>\n",
       "      <td>ultra</td>\n",
       "      <td>1000</td>\n",
       "      <td>30720</td>\n",
       "      <td>3000</td>\n",
       "      <td>1950</td>\n",
       "      <td>150</td>\n",
       "      <td>1</td>\n",
       "      <td>1</td>\n",
       "      <td>30.0</td>\n",
       "      <td>-2841.0</td>\n",
       "      <td>-978.0</td>\n",
       "      <td>-27.0</td>\n",
       "      <td>1950.0</td>\n",
       "      <td>3900.0</td>\n",
       "    </tr>\n",
       "    <tr>\n",
       "      <th>1</th>\n",
       "      <td>1000</td>\n",
       "      <td>6.0</td>\n",
       "      <td>172.0</td>\n",
       "      <td>60.0</td>\n",
       "      <td>23.0</td>\n",
       "      <td>ultra</td>\n",
       "      <td>1000</td>\n",
       "      <td>30720</td>\n",
       "      <td>3000</td>\n",
       "      <td>1950</td>\n",
       "      <td>150</td>\n",
       "      <td>1</td>\n",
       "      <td>1</td>\n",
       "      <td>30.0</td>\n",
       "      <td>-2828.0</td>\n",
       "      <td>-940.0</td>\n",
       "      <td>-7.0</td>\n",
       "      <td>1950.0</td>\n",
       "      <td>3900.0</td>\n",
       "    </tr>\n",
       "    <tr>\n",
       "      <th>2</th>\n",
       "      <td>1000</td>\n",
       "      <td>7.0</td>\n",
       "      <td>340.0</td>\n",
       "      <td>75.0</td>\n",
       "      <td>14.0</td>\n",
       "      <td>ultra</td>\n",
       "      <td>1000</td>\n",
       "      <td>30720</td>\n",
       "      <td>3000</td>\n",
       "      <td>1950</td>\n",
       "      <td>150</td>\n",
       "      <td>1</td>\n",
       "      <td>1</td>\n",
       "      <td>30.0</td>\n",
       "      <td>-2660.0</td>\n",
       "      <td>-925.0</td>\n",
       "      <td>-16.0</td>\n",
       "      <td>1950.0</td>\n",
       "      <td>3900.0</td>\n",
       "    </tr>\n",
       "    <tr>\n",
       "      <th>3</th>\n",
       "      <td>1000</td>\n",
       "      <td>8.0</td>\n",
       "      <td>408.0</td>\n",
       "      <td>81.0</td>\n",
       "      <td>14.0</td>\n",
       "      <td>ultra</td>\n",
       "      <td>1000</td>\n",
       "      <td>30720</td>\n",
       "      <td>3000</td>\n",
       "      <td>1950</td>\n",
       "      <td>150</td>\n",
       "      <td>1</td>\n",
       "      <td>1</td>\n",
       "      <td>30.0</td>\n",
       "      <td>-2592.0</td>\n",
       "      <td>-919.0</td>\n",
       "      <td>-16.0</td>\n",
       "      <td>1950.0</td>\n",
       "      <td>3900.0</td>\n",
       "    </tr>\n",
       "    <tr>\n",
       "      <th>4</th>\n",
       "      <td>1000</td>\n",
       "      <td>9.0</td>\n",
       "      <td>466.0</td>\n",
       "      <td>57.0</td>\n",
       "      <td>15.0</td>\n",
       "      <td>ultra</td>\n",
       "      <td>1000</td>\n",
       "      <td>30720</td>\n",
       "      <td>3000</td>\n",
       "      <td>1950</td>\n",
       "      <td>150</td>\n",
       "      <td>1</td>\n",
       "      <td>1</td>\n",
       "      <td>30.0</td>\n",
       "      <td>-2534.0</td>\n",
       "      <td>-943.0</td>\n",
       "      <td>-15.0</td>\n",
       "      <td>1950.0</td>\n",
       "      <td>3900.0</td>\n",
       "    </tr>\n",
       "  </tbody>\n",
       "</table>\n",
       "</div>"
      ],
      "text/plain": [
       "   user_id  month  count_minutes  count_sms  count_gb tariff  \\\n",
       "0     1000    5.0          159.0       22.0       3.0  ultra   \n",
       "1     1000    6.0          172.0       60.0      23.0  ultra   \n",
       "2     1000    7.0          340.0       75.0      14.0  ultra   \n",
       "3     1000    8.0          408.0       81.0      14.0  ultra   \n",
       "4     1000    9.0          466.0       57.0      15.0  ultra   \n",
       "\n",
       "   messages_included  mb_per_month_included  minutes_included  \\\n",
       "0               1000                  30720              3000   \n",
       "1               1000                  30720              3000   \n",
       "2               1000                  30720              3000   \n",
       "3               1000                  30720              3000   \n",
       "4               1000                  30720              3000   \n",
       "\n",
       "   rub_monthly_fee  rub_per_gb  rub_per_message  rub_per_minute  \\\n",
       "0             1950         150                1               1   \n",
       "1             1950         150                1               1   \n",
       "2             1950         150                1               1   \n",
       "3             1950         150                1               1   \n",
       "4             1950         150                1               1   \n",
       "\n",
       "   gb_per_month_included  excess_calls  excess_messages  excess_internet  \\\n",
       "0                   30.0       -2841.0           -978.0            -27.0   \n",
       "1                   30.0       -2828.0           -940.0             -7.0   \n",
       "2                   30.0       -2660.0           -925.0            -16.0   \n",
       "3                   30.0       -2592.0           -919.0            -16.0   \n",
       "4                   30.0       -2534.0           -943.0            -15.0   \n",
       "\n",
       "   revenue  sum_revenue  \n",
       "0   1950.0       3900.0  \n",
       "1   1950.0       3900.0  \n",
       "2   1950.0       3900.0  \n",
       "3   1950.0       3900.0  \n",
       "4   1950.0       3900.0  "
      ]
     },
     "execution_count": 54,
     "metadata": {},
     "output_type": "execute_result"
    }
   ],
   "source": [
    "users_merge.head()"
   ]
  },
  {
   "cell_type": "markdown",
   "metadata": {},
   "source": [
    "# Анализ данных\n",
    "- посмотрим, сколько минут разговора, сколько сообщений и какой объём интернет-трафика требуется пользователям каждого тарифа в месяц? \n",
    "- посчитаем среднее количество, дисперсию и стандартное отклонение. \n",
    "- построим гистограммы."
   ]
  },
  {
   "cell_type": "code",
   "execution_count": 55,
   "metadata": {
    "scrolled": true
   },
   "outputs": [
    {
     "data": {
      "text/html": [
       "<div>\n",
       "<style scoped>\n",
       "    .dataframe tbody tr th:only-of-type {\n",
       "        vertical-align: middle;\n",
       "    }\n",
       "\n",
       "    .dataframe tbody tr th {\n",
       "        vertical-align: top;\n",
       "    }\n",
       "\n",
       "    .dataframe thead tr th {\n",
       "        text-align: left;\n",
       "    }\n",
       "</style>\n",
       "<table border=\"1\" class=\"dataframe\">\n",
       "  <thead>\n",
       "    <tr>\n",
       "      <th></th>\n",
       "      <th>tariff</th>\n",
       "      <th colspan=\"3\" halign=\"left\">mean</th>\n",
       "      <th colspan=\"3\" halign=\"left\">var</th>\n",
       "      <th colspan=\"3\" halign=\"left\">std</th>\n",
       "    </tr>\n",
       "    <tr>\n",
       "      <th></th>\n",
       "      <th></th>\n",
       "      <th>count_gb</th>\n",
       "      <th>count_minutes</th>\n",
       "      <th>count_sms</th>\n",
       "      <th>count_gb</th>\n",
       "      <th>count_minutes</th>\n",
       "      <th>count_sms</th>\n",
       "      <th>count_gb</th>\n",
       "      <th>count_minutes</th>\n",
       "      <th>count_sms</th>\n",
       "    </tr>\n",
       "  </thead>\n",
       "  <tbody>\n",
       "    <tr>\n",
       "      <th>0</th>\n",
       "      <td>smart</td>\n",
       "      <td>16.343511</td>\n",
       "      <td>418.820513</td>\n",
       "      <td>38.716441</td>\n",
       "      <td>32.818605</td>\n",
       "      <td>35783.909714</td>\n",
       "      <td>717.594201</td>\n",
       "      <td>5.728752</td>\n",
       "      <td>189.166355</td>\n",
       "      <td>26.787949</td>\n",
       "    </tr>\n",
       "    <tr>\n",
       "      <th>1</th>\n",
       "      <td>ultra</td>\n",
       "      <td>19.714579</td>\n",
       "      <td>545.028391</td>\n",
       "      <td>61.161006</td>\n",
       "      <td>93.844453</td>\n",
       "      <td>93924.008667</td>\n",
       "      <td>2109.659183</td>\n",
       "      <td>9.687335</td>\n",
       "      <td>306.470241</td>\n",
       "      <td>45.931026</td>\n",
       "    </tr>\n",
       "  </tbody>\n",
       "</table>\n",
       "</div>"
      ],
      "text/plain": [
       "  tariff       mean                                 var                \\\n",
       "           count_gb count_minutes  count_sms   count_gb count_minutes   \n",
       "0  smart  16.343511    418.820513  38.716441  32.818605  35783.909714   \n",
       "1  ultra  19.714579    545.028391  61.161006  93.844453  93924.008667   \n",
       "\n",
       "                     std                           \n",
       "     count_sms  count_gb count_minutes  count_sms  \n",
       "0   717.594201  5.728752    189.166355  26.787949  \n",
       "1  2109.659183  9.687335    306.470241  45.931026  "
      ]
     },
     "execution_count": 55,
     "metadata": {},
     "output_type": "execute_result"
    }
   ],
   "source": [
    "# посчитаем среднее, дисперсию, стандартное отклонение\n",
    "# для количества минут, смс и гб по каждому тарифу\n",
    "users_merge_mean = users_merge.pivot_table(index= ['tariff'],\\\n",
    "                                values= ['count_minutes', 'count_sms', 'count_gb'],\\\n",
    "                                aggfunc = ['mean', 'var', 'std']).reset_index()\n",
    "users_merge_mean"
   ]
  },
  {
   "cell_type": "code",
   "execution_count": 56,
   "metadata": {
    "scrolled": false
   },
   "outputs": [
    {
     "data": {
      "image/png": "[encoded data removed]",
      "text/plain": [
       "<Figure size 432x288 with 1 Axes>"
      ]
     },
     "metadata": {
      "needs_background": "light"
     },
     "output_type": "display_data"
    },
    {
     "data": {
      "image/png": "[encoded data removed]",
      "text/plain": [
       "<Figure size 432x288 with 1 Axes>"
      ]
     },
     "metadata": {
      "needs_background": "light"
     },
     "output_type": "display_data"
    },
    {
     "data": {
      "image/png": "[encoded data removed]",
      "text/plain": [
       "<Figure size 432x288 with 1 Axes>"
      ]
     },
     "metadata": {
      "needs_background": "light"
     },
     "output_type": "display_data"
    },
    {
     "data": {
      "image/png": "[encoded data removed]",
      "text/plain": [
       "<Figure size 432x288 with 1 Axes>"
      ]
     },
     "metadata": {
      "needs_background": "light"
     },
     "output_type": "display_data"
    },
    {
     "data": {
      "image/png": "[encoded data removed]",
      "text/plain": [
       "<Figure size 432x288 with 1 Axes>"
      ]
     },
     "metadata": {
      "needs_background": "light"
     },
     "output_type": "display_data"
    },
    {
     "data": {
      "image/png": "[encoded data removed]",
      "text/plain": [
       "<Figure size 432x288 with 1 Axes>"
      ]
     },
     "metadata": {
      "needs_background": "light"
     },
     "output_type": "display_data"
    },
    {
     "data": {
      "image/png": "[encoded data removed]",
      "text/plain": [
       "<Figure size 432x288 with 1 Axes>"
      ]
     },
     "metadata": {
      "needs_background": "light"
     },
     "output_type": "display_data"
    }
   ],
   "source": [
    "# построим гистограммы для количественных столбцов\n",
    "for column in ['count_minutes', 'count_sms', 'count_gb', 'excess_calls', 'excess_messages','excess_internet', 'sum_revenue']:\n",
    "        users_merge.loc[users_merge['tariff'] == 'smart'][column].hist(label='smart')\n",
    "        users_merge.loc[users_merge['tariff'] == 'ultra'][column].hist(label='ultra')\n",
    "        plt.title(column)\n",
    "        plt.legend()\n",
    "        plt.show();"
   ]
  },
  {
   "cell_type": "markdown",
   "metadata": {},
   "source": [
    "Вывод.\n",
    "\n",
    "По графикам видно, что наибольшее количество пользователей используют тариф smart. При этом эти же пользователи имеют больший перерасход минут, смс и ГБ, поэтому и выручка от таких пользователей выше. О чем нам говорит последняя гистограмма. Если брать примерные расчеты, выходит, что ultra: 4000р * 800 =3200000 рублей выручка, smart 1800 * 1200 + 2000 * 400 + 1700 * 250 + 3500 * 100 =3750000 рублей выручка."
   ]
  },
  {
   "cell_type": "markdown",
   "metadata": {},
   "source": [
    "# Проверим гипотезы\n",
    "1. Средняя выручка пользователей тарифов «Ультра» и «Смарт» различаются;\n",
    "\n",
    "2. Средняя выручка пользователей из Москвы отличается от выручки пользователей из других регионов."
   ]
  },
  {
   "cell_type": "markdown",
   "metadata": {},
   "source": [
    "Первая гипотеза.\n",
    "\n",
    "Нулевая гипотеза в том, что средняя выручка от тарифа Ультра равна средней выручки от тарифа Смарт. В этом случае наша первая гипотеза неверная.\n",
    "\n",
    "Альтельнативная гипотеза - не равна. В этом случае наша первая гипотеза верная."
   ]
  },
  {
   "cell_type": "markdown",
   "metadata": {},
   "source": [
    "Для проверки будем использовать метод scipy.stats.ttest_ind  для проверки гипотезы о равенстве среднего двух генеральных совокупностей. Alpha возьмем раное 5%, как общепринятое пороговое значение."
   ]
  },
  {
   "cell_type": "code",
   "execution_count": 57,
   "metadata": {},
   "outputs": [
    {
     "name": "stdout",
     "output_type": "stream",
     "text": [
      "p-значение:  0.0\n",
      "Отвергаем нулевую гипотезу\n"
     ]
    }
   ],
   "source": [
    "alpha = .05\n",
    "results = st.ttest_ind(\n",
    "    users_merge.loc[users_merge['tariff'] == 'smart']['sum_revenue'], \n",
    "    users_merge.loc[users_merge['tariff'] == 'ultra']['sum_revenue'])\n",
    "print('p-значение: ', results.pvalue)\n",
    "if results.pvalue < alpha:\n",
    "    print(\"Отвергаем нулевую гипотезу\")\n",
    "else:\n",
    "    print(\"Не получилось отвергнуть нулевую гипотезу\") "
   ]
  },
  {
   "cell_type": "markdown",
   "metadata": {},
   "source": [
    "Вывод:\n",
    "\n",
    "Альтернативная гипотеза верная, то есть наша первая гипотеза верна: средняя выручка по тарифам различается."
   ]
  },
  {
   "cell_type": "markdown",
   "metadata": {},
   "source": [
    "**2 гипотеза:**\n",
    "\n",
    "Средняя выручка пользователей из Москвы отличается от выручки пользователей из других регионов.\n",
    "\n",
    "Нулевая гипотеза -\n",
    "средняя выручка пользователей из Москвы равна средней выручке пользователей из других регионов.\n",
    "\n",
    "Альтернативная гипотеза -\n",
    "средняя выручка пользователей из Москвы неравна средней выручке пользователей из других регионов."
   ]
  },
  {
   "cell_type": "code",
   "execution_count": 58,
   "metadata": {},
   "outputs": [],
   "source": [
    "# добавим в таблицу столбец city из таблицы users \n",
    "users_merge = users_merge.merge(df_users[['user_id', 'city']], on='user_id')"
   ]
  },
  {
   "cell_type": "code",
   "execution_count": 59,
   "metadata": {},
   "outputs": [
    {
     "name": "stdout",
     "output_type": "stream",
     "text": [
      "p-значение:  0.016722409604655843\n",
      "Отвергаем нулевую гипотезу\n"
     ]
    }
   ],
   "source": [
    "alpha = .05\n",
    "results = st.ttest_ind(\n",
    "    users_merge.loc[users_merge['city'] == 'Москва']['sum_revenue'], \n",
    "    users_merge.loc[users_merge['city'] != 'Москва']['sum_revenue'])\n",
    "print('p-значение: ', results.pvalue)\n",
    "if results.pvalue < alpha:\n",
    "    print(\"Отвергаем нулевую гипотезу\")\n",
    "else:\n",
    "    print(\"Не получилось отвергнуть нулевую гипотезу\") "
   ]
  },
  {
   "cell_type": "markdown",
   "metadata": {},
   "source": [
    "Вывод:\n",
    "\n",
    "Альтернативная гипотеза верная, значит принимаем нашу вторую гипотезу о том, что средняя выручка Москвы отличается от других городов."
   ]
  },
  {
   "cell_type": "markdown",
   "metadata": {},
   "source": [
    "# Вывод\n",
    "\n",
    "Из проведенного анализа можно сделать такие выводы:\n",
    "\n",
    "По тарифам наиболее прибыльным является тариф Смарт, так как пользователи больше используют смс, минут и трафика интернета сверх тарифа. И таких пользователей значительно больше.\n",
    "\n",
    "По графикам видно, что наибольшее количество пользователей используют тариф smart. При этом эти же пользователи имеют больший перерасход минут, смс и ГБ, поэтому и выручка от таких пользователей выше. О чем нам говорит последняя гистограмма сравнения выручки по тарифам:\n",
    "- ultra примерно 4000р * 800 =3200000р, \n",
    "- smart 1800 * 1200 + 2000 * 400 + 1700 * 250 + 3500 * 100 =3750000р\n",
    "\n",
    "Таким образом тариф Смарт выгоднее для оператора.\n",
    "\n",
    "По гипотезам:\n",
    "\n",
    "Обе наши гипотезы оказались верными, то есть средние выручки по тарифам различаются, и по столице и другим городам также они отличаются."
   ]
  },
  {
   "cell_type": "code",
   "execution_count": null,
   "metadata": {},
   "outputs": [],
   "source": []
  }
 ],
 "metadata": {
  "ExecuteTimeLog": [
   {
    "duration": 730,
    "start_time": "2022-01-22T15:37:38.714Z"
   },
   {
    "duration": 212,
    "start_time": "2022-01-22T15:41:21.191Z"
   },
   {
    "duration": 711,
    "start_time": "2022-01-22T15:43:39.068Z"
   },
   {
    "duration": 401,
    "start_time": "2022-01-22T15:44:49.324Z"
   },
   {
    "duration": 248,
    "start_time": "2022-01-22T15:45:14.115Z"
   },
   {
    "duration": 192,
    "start_time": "2022-01-22T15:45:26.333Z"
   },
   {
    "duration": 28,
    "start_time": "2022-01-22T15:45:32.646Z"
   },
   {
    "duration": 198,
    "start_time": "2022-01-22T15:46:25.214Z"
   },
   {
    "duration": 5,
    "start_time": "2022-01-22T15:49:00.110Z"
   },
   {
    "duration": 38,
    "start_time": "2022-01-22T15:53:03.101Z"
   },
   {
    "duration": 120,
    "start_time": "2022-01-22T15:57:55.113Z"
   },
   {
    "duration": 122,
    "start_time": "2022-01-22T15:58:08.722Z"
   },
   {
    "duration": 178,
    "start_time": "2022-01-22T16:00:00.396Z"
   },
   {
    "duration": 25,
    "start_time": "2022-01-22T16:01:33.371Z"
   },
   {
    "duration": 36,
    "start_time": "2022-01-22T16:05:09.453Z"
   },
   {
    "duration": 124,
    "start_time": "2022-01-22T16:06:19.732Z"
   },
   {
    "duration": 129,
    "start_time": "2022-01-22T16:06:53.448Z"
   },
   {
    "duration": 10,
    "start_time": "2022-01-22T16:10:57.220Z"
   },
   {
    "duration": 14,
    "start_time": "2022-01-22T16:11:10.473Z"
   },
   {
    "duration": 27,
    "start_time": "2022-01-22T16:11:28.622Z"
   },
   {
    "duration": 117,
    "start_time": "2022-01-22T16:13:43.240Z"
   },
   {
    "duration": 19,
    "start_time": "2022-01-22T16:14:06.838Z"
   },
   {
    "duration": 18,
    "start_time": "2022-01-22T16:14:51.608Z"
   },
   {
    "duration": 247,
    "start_time": "2022-01-22T16:15:19.462Z"
   },
   {
    "duration": 54,
    "start_time": "2022-01-22T16:15:40.547Z"
   },
   {
    "duration": 25,
    "start_time": "2022-01-22T16:18:43.364Z"
   },
   {
    "duration": 9,
    "start_time": "2022-01-22T16:21:19.885Z"
   },
   {
    "duration": 43,
    "start_time": "2022-01-22T16:21:45.685Z"
   },
   {
    "duration": 9,
    "start_time": "2022-01-22T16:23:31.720Z"
   },
   {
    "duration": 38,
    "start_time": "2022-01-22T16:27:04.000Z"
   },
   {
    "duration": 9,
    "start_time": "2022-01-22T16:28:31.708Z"
   },
   {
    "duration": 5,
    "start_time": "2022-01-22T16:31:55.800Z"
   },
   {
    "duration": 7,
    "start_time": "2022-01-22T16:32:10.468Z"
   },
   {
    "duration": 74,
    "start_time": "2022-01-22T16:38:48.476Z"
   },
   {
    "duration": 246,
    "start_time": "2022-01-22T16:39:13.174Z"
   },
   {
    "duration": 7,
    "start_time": "2022-01-22T16:39:47.189Z"
   },
   {
    "duration": 15,
    "start_time": "2022-01-22T16:40:06.681Z"
   },
   {
    "duration": 11,
    "start_time": "2022-01-22T16:40:16.856Z"
   },
   {
    "duration": 22,
    "start_time": "2022-01-22T16:41:06.220Z"
   },
   {
    "duration": 38,
    "start_time": "2022-01-22T16:42:16.871Z"
   },
   {
    "duration": 9,
    "start_time": "2022-01-22T16:42:18.470Z"
   },
   {
    "duration": 6,
    "start_time": "2022-01-22T16:42:27.315Z"
   },
   {
    "duration": 48,
    "start_time": "2022-01-22T16:42:43.881Z"
   },
   {
    "duration": 9,
    "start_time": "2022-01-22T16:42:45.735Z"
   },
   {
    "duration": 38,
    "start_time": "2022-01-22T16:43:52.371Z"
   },
   {
    "duration": 9,
    "start_time": "2022-01-22T16:43:57.809Z"
   },
   {
    "duration": 5,
    "start_time": "2022-01-22T16:45:12.622Z"
   },
   {
    "duration": 7,
    "start_time": "2022-01-22T16:45:17.355Z"
   },
   {
    "duration": 37,
    "start_time": "2022-01-22T16:46:05.624Z"
   },
   {
    "duration": 9,
    "start_time": "2022-01-22T16:46:07.145Z"
   },
   {
    "duration": 19,
    "start_time": "2022-01-22T16:46:18.222Z"
   },
   {
    "duration": 5,
    "start_time": "2022-01-22T16:46:26.008Z"
   },
   {
    "duration": 15,
    "start_time": "2022-01-22T16:46:41.129Z"
   },
   {
    "duration": 9,
    "start_time": "2022-01-22T16:47:53.075Z"
   },
   {
    "duration": 30,
    "start_time": "2022-01-22T16:48:11.024Z"
   },
   {
    "duration": 11,
    "start_time": "2022-01-22T16:48:38.388Z"
   },
   {
    "duration": 10,
    "start_time": "2022-01-22T16:48:44.381Z"
   },
   {
    "duration": 82,
    "start_time": "2022-01-22T17:05:32.508Z"
   },
   {
    "duration": 68,
    "start_time": "2022-01-22T17:07:36.969Z"
   },
   {
    "duration": 20,
    "start_time": "2022-01-22T17:07:45.848Z"
   },
   {
    "duration": 260,
    "start_time": "2022-01-22T17:17:50.109Z"
   },
   {
    "duration": 238,
    "start_time": "2022-01-22T17:19:40.170Z"
   },
   {
    "duration": 241,
    "start_time": "2022-01-22T17:20:05.874Z"
   },
   {
    "duration": 39,
    "start_time": "2022-01-22T17:23:26.536Z"
   },
   {
    "duration": 25,
    "start_time": "2022-01-22T17:23:42.973Z"
   },
   {
    "duration": 135,
    "start_time": "2022-01-22T17:23:57.817Z"
   },
   {
    "duration": 24,
    "start_time": "2022-01-22T17:24:13.801Z"
   },
   {
    "duration": 310,
    "start_time": "2022-01-22T17:25:04.129Z"
   },
   {
    "duration": 89,
    "start_time": "2022-01-22T17:28:24.861Z"
   },
   {
    "duration": 114,
    "start_time": "2022-01-22T17:28:45.244Z"
   },
   {
    "duration": 317,
    "start_time": "2022-01-22T17:29:20.481Z"
   },
   {
    "duration": 260,
    "start_time": "2022-01-22T17:29:32.636Z"
   },
   {
    "duration": 66,
    "start_time": "2022-01-22T17:31:34.540Z"
   },
   {
    "duration": 256,
    "start_time": "2022-01-22T17:33:32.813Z"
   },
   {
    "duration": 47,
    "start_time": "2022-01-22T17:33:41.410Z"
   },
   {
    "duration": 9,
    "start_time": "2022-01-22T17:34:55.912Z"
   },
   {
    "duration": 1167,
    "start_time": "2022-01-22T17:36:25.014Z"
   },
   {
    "duration": 324,
    "start_time": "2022-01-22T17:38:23.923Z"
   },
   {
    "duration": 47,
    "start_time": "2022-01-22T17:38:30.899Z"
   },
   {
    "duration": 21,
    "start_time": "2022-01-22T17:38:45.748Z"
   },
   {
    "duration": 49,
    "start_time": "2022-01-22T17:39:55.835Z"
   },
   {
    "duration": 21,
    "start_time": "2022-01-22T17:40:00.085Z"
   },
   {
    "duration": 79,
    "start_time": "2022-01-22T17:40:13.690Z"
   },
   {
    "duration": 44,
    "start_time": "2022-01-22T17:40:26.184Z"
   },
   {
    "duration": 79,
    "start_time": "2022-01-22T17:40:28.508Z"
   },
   {
    "duration": 260,
    "start_time": "2022-01-22T17:41:19.927Z"
   },
   {
    "duration": 81,
    "start_time": "2022-01-22T17:42:23.846Z"
   },
   {
    "duration": 5,
    "start_time": "2022-01-22T17:43:33.387Z"
   },
   {
    "duration": 83,
    "start_time": "2022-01-22T17:43:56.206Z"
   },
   {
    "duration": 6,
    "start_time": "2022-01-22T17:48:48.299Z"
   },
   {
    "duration": 81,
    "start_time": "2022-01-22T17:48:51.636Z"
   },
   {
    "duration": 6,
    "start_time": "2022-01-22T17:50:59.772Z"
   },
   {
    "duration": 7,
    "start_time": "2022-01-22T17:51:55.809Z"
   },
   {
    "duration": 78,
    "start_time": "2022-01-22T17:52:07.521Z"
   },
   {
    "duration": 25,
    "start_time": "2022-01-22T17:52:26.802Z"
   },
   {
    "duration": 78,
    "start_time": "2022-01-22T17:55:07.950Z"
   },
   {
    "duration": 21,
    "start_time": "2022-01-22T17:55:31.121Z"
   },
   {
    "duration": 4,
    "start_time": "2022-01-22T17:57:18.665Z"
   },
   {
    "duration": 249,
    "start_time": "2022-01-22T17:57:47.837Z"
   },
   {
    "duration": 252,
    "start_time": "2022-01-22T18:00:24.520Z"
   },
   {
    "duration": 81,
    "start_time": "2022-01-22T18:00:45.965Z"
   },
   {
    "duration": 238,
    "start_time": "2022-01-22T18:01:50.791Z"
   },
   {
    "duration": 416,
    "start_time": "2022-01-22T18:03:51.951Z"
   },
   {
    "duration": 256,
    "start_time": "2022-01-22T18:05:41.133Z"
   },
   {
    "duration": 249,
    "start_time": "2022-01-22T18:06:03.643Z"
   },
   {
    "duration": 243,
    "start_time": "2022-01-22T18:08:14.318Z"
   },
   {
    "duration": 238,
    "start_time": "2022-01-22T18:08:30.780Z"
   },
   {
    "duration": 277,
    "start_time": "2022-01-22T18:11:57.050Z"
   },
   {
    "duration": 242,
    "start_time": "2022-01-22T18:12:03.948Z"
   },
   {
    "duration": 253,
    "start_time": "2022-01-22T18:12:36.552Z"
   },
   {
    "duration": 77,
    "start_time": "2022-01-22T18:13:28.848Z"
   },
   {
    "duration": 241,
    "start_time": "2022-01-22T18:14:13.012Z"
   },
   {
    "duration": 251,
    "start_time": "2022-01-22T18:14:22.390Z"
   },
   {
    "duration": 240,
    "start_time": "2022-01-22T18:14:31.767Z"
   },
   {
    "duration": 240,
    "start_time": "2022-01-22T18:15:01.048Z"
   },
   {
    "duration": 239,
    "start_time": "2022-01-22T18:15:17.917Z"
   },
   {
    "duration": 277,
    "start_time": "2022-01-22T18:18:49.639Z"
   },
   {
    "duration": 243,
    "start_time": "2022-01-22T18:18:53.850Z"
   },
   {
    "duration": 376,
    "start_time": "2022-01-22T18:19:02.912Z"
   },
   {
    "duration": 247,
    "start_time": "2022-01-22T18:19:23.531Z"
   },
   {
    "duration": 286,
    "start_time": "2022-01-22T18:19:35.898Z"
   },
   {
    "duration": 241,
    "start_time": "2022-01-22T18:20:57.526Z"
   },
   {
    "duration": 237,
    "start_time": "2022-01-22T18:21:14.096Z"
   },
   {
    "duration": 264,
    "start_time": "2022-01-22T18:21:35.864Z"
   },
   {
    "duration": 236,
    "start_time": "2022-01-22T18:21:43.630Z"
   },
   {
    "duration": 233,
    "start_time": "2022-01-22T18:23:33.775Z"
   },
   {
    "duration": 244,
    "start_time": "2022-01-22T18:26:05.101Z"
   },
   {
    "duration": 4,
    "start_time": "2022-01-22T18:29:54.863Z"
   },
   {
    "duration": 4,
    "start_time": "2022-01-22T18:29:59.755Z"
   },
   {
    "duration": 5,
    "start_time": "2022-01-22T18:30:26.748Z"
   },
   {
    "duration": 83,
    "start_time": "2022-01-22T18:30:31.443Z"
   },
   {
    "duration": 20,
    "start_time": "2022-01-22T18:30:46.847Z"
   },
   {
    "duration": 5,
    "start_time": "2022-01-22T18:31:29.582Z"
   },
   {
    "duration": 21,
    "start_time": "2022-01-22T18:31:33.097Z"
   },
   {
    "duration": 271,
    "start_time": "2022-01-22T18:35:54.563Z"
   },
   {
    "duration": 47,
    "start_time": "2022-01-22T18:37:22.382Z"
   },
   {
    "duration": 20,
    "start_time": "2022-01-22T18:37:35.997Z"
   },
   {
    "duration": 247,
    "start_time": "2022-01-22T18:38:21.707Z"
   },
   {
    "duration": 78,
    "start_time": "2022-01-22T18:38:43.103Z"
   },
   {
    "duration": 22,
    "start_time": "2022-01-22T18:39:34.543Z"
   },
   {
    "duration": 38,
    "start_time": "2022-01-22T18:42:33.021Z"
   },
   {
    "duration": 22,
    "start_time": "2022-01-22T18:42:36.882Z"
   },
   {
    "duration": 81,
    "start_time": "2022-01-22T18:42:52.237Z"
   },
   {
    "duration": 84,
    "start_time": "2022-01-22T18:42:57.898Z"
   },
   {
    "duration": 42,
    "start_time": "2022-01-22T18:43:45.865Z"
   },
   {
    "duration": 85,
    "start_time": "2022-01-22T18:44:07.196Z"
   },
   {
    "duration": 22,
    "start_time": "2022-01-22T18:44:08.954Z"
   },
   {
    "duration": 57,
    "start_time": "2022-01-22T18:44:23.946Z"
   },
   {
    "duration": 105,
    "start_time": "2022-01-22T18:46:56.287Z"
   },
   {
    "duration": 337,
    "start_time": "2022-01-22T18:50:00.341Z"
   },
   {
    "duration": 56,
    "start_time": "2022-01-22T18:50:22.845Z"
   },
   {
    "duration": 83,
    "start_time": "2022-01-22T18:50:26.145Z"
   },
   {
    "duration": 7,
    "start_time": "2022-01-22T18:51:18.836Z"
   },
   {
    "duration": 6,
    "start_time": "2022-01-22T18:52:10.572Z"
   },
   {
    "duration": 6,
    "start_time": "2022-01-22T18:53:12.613Z"
   },
   {
    "duration": 86,
    "start_time": "2022-01-22T18:53:46.381Z"
   },
   {
    "duration": 27,
    "start_time": "2022-01-22T18:56:29.941Z"
   },
   {
    "duration": 76,
    "start_time": "2022-01-22T18:56:47.622Z"
   },
   {
    "duration": 248,
    "start_time": "2022-01-22T18:58:05.538Z"
   },
   {
    "duration": 23,
    "start_time": "2022-01-22T18:58:28.706Z"
   },
   {
    "duration": 72,
    "start_time": "2022-01-22T18:58:32.059Z"
   },
   {
    "duration": 20,
    "start_time": "2022-01-22T18:59:07.204Z"
   },
   {
    "duration": 31,
    "start_time": "2022-01-22T18:59:28.681Z"
   },
   {
    "duration": 71,
    "start_time": "2022-01-22T18:59:53.499Z"
   },
   {
    "duration": 5,
    "start_time": "2022-01-22T19:01:14.622Z"
   },
   {
    "duration": 88,
    "start_time": "2022-01-22T19:01:35.485Z"
   },
   {
    "duration": 87,
    "start_time": "2022-01-22T19:05:29.920Z"
   },
   {
    "duration": 251,
    "start_time": "2022-01-22T19:05:36.709Z"
   },
   {
    "duration": 296,
    "start_time": "2022-01-22T19:08:33.050Z"
   },
   {
    "duration": 307,
    "start_time": "2022-01-22T19:20:24.084Z"
   },
   {
    "duration": 247,
    "start_time": "2022-01-22T19:20:48.444Z"
   },
   {
    "duration": 1432,
    "start_time": "2022-01-22T19:20:50.382Z"
   },
   {
    "duration": 226,
    "start_time": "2022-01-22T19:20:51.816Z"
   },
   {
    "duration": 27,
    "start_time": "2022-01-22T19:20:58.195Z"
   },
   {
    "duration": 40,
    "start_time": "2022-01-22T19:20:58.824Z"
   },
   {
    "duration": 122,
    "start_time": "2022-01-22T19:20:59.464Z"
   },
   {
    "duration": 180,
    "start_time": "2022-01-22T19:21:00.620Z"
   },
   {
    "duration": 24,
    "start_time": "2022-01-22T19:21:01.176Z"
   },
   {
    "duration": 36,
    "start_time": "2022-01-22T19:21:01.746Z"
   },
   {
    "duration": 93,
    "start_time": "2022-01-22T19:21:02.331Z"
   },
   {
    "duration": 10,
    "start_time": "2022-01-22T19:21:03.559Z"
   },
   {
    "duration": 14,
    "start_time": "2022-01-22T19:21:04.050Z"
   },
   {
    "duration": 25,
    "start_time": "2022-01-22T19:21:04.600Z"
   },
   {
    "duration": 130,
    "start_time": "2022-01-22T19:21:06.864Z"
   },
   {
    "duration": 20,
    "start_time": "2022-01-22T19:21:07.402Z"
   },
   {
    "duration": 19,
    "start_time": "2022-01-22T19:21:07.993Z"
   },
   {
    "duration": 93,
    "start_time": "2022-01-22T19:21:08.499Z"
   },
   {
    "duration": 32,
    "start_time": "2022-01-22T19:21:11.427Z"
   },
   {
    "duration": 10,
    "start_time": "2022-01-22T19:21:12.248Z"
   },
   {
    "duration": 8,
    "start_time": "2022-01-22T19:21:12.660Z"
   },
   {
    "duration": 36,
    "start_time": "2022-01-22T19:21:14.458Z"
   },
   {
    "duration": 9,
    "start_time": "2022-01-22T19:21:15.900Z"
   },
   {
    "duration": 5,
    "start_time": "2022-01-22T19:21:17.547Z"
   },
   {
    "duration": 14,
    "start_time": "2022-01-22T19:21:18.062Z"
   },
   {
    "duration": 9,
    "start_time": "2022-01-22T19:21:18.860Z"
   },
   {
    "duration": 29,
    "start_time": "2022-01-22T19:21:20.318Z"
   },
   {
    "duration": 10,
    "start_time": "2022-01-22T19:21:21.006Z"
   },
   {
    "duration": 1516,
    "start_time": "2022-01-22T19:22:22.678Z"
   },
   {
    "duration": 211,
    "start_time": "2022-01-22T19:22:24.197Z"
   },
   {
    "duration": 28,
    "start_time": "2022-01-22T19:22:24.858Z"
   },
   {
    "duration": 37,
    "start_time": "2022-01-22T19:22:24.973Z"
   },
   {
    "duration": 118,
    "start_time": "2022-01-22T19:22:25.575Z"
   },
   {
    "duration": 181,
    "start_time": "2022-01-22T19:22:26.708Z"
   },
   {
    "duration": 21,
    "start_time": "2022-01-22T19:22:27.285Z"
   },
   {
    "duration": 38,
    "start_time": "2022-01-22T19:22:27.859Z"
   },
   {
    "duration": 91,
    "start_time": "2022-01-22T19:22:28.420Z"
   },
   {
    "duration": 10,
    "start_time": "2022-01-22T19:22:29.503Z"
   },
   {
    "duration": 13,
    "start_time": "2022-01-22T19:22:30.379Z"
   },
   {
    "duration": 24,
    "start_time": "2022-01-22T19:22:31.253Z"
   },
   {
    "duration": 118,
    "start_time": "2022-01-22T19:22:31.796Z"
   },
   {
    "duration": 21,
    "start_time": "2022-01-22T19:22:32.291Z"
   },
   {
    "duration": 20,
    "start_time": "2022-01-22T19:22:32.808Z"
   },
   {
    "duration": 86,
    "start_time": "2022-01-22T19:22:33.572Z"
   },
   {
    "duration": 27,
    "start_time": "2022-01-22T19:22:34.886Z"
   },
   {
    "duration": 10,
    "start_time": "2022-01-22T19:22:35.647Z"
   },
   {
    "duration": 8,
    "start_time": "2022-01-22T19:22:36.651Z"
   },
   {
    "duration": 40,
    "start_time": "2022-01-22T19:22:38.280Z"
   },
   {
    "duration": 9,
    "start_time": "2022-01-22T19:22:39.094Z"
   },
   {
    "duration": 5,
    "start_time": "2022-01-22T19:22:40.900Z"
   },
   {
    "duration": 15,
    "start_time": "2022-01-22T19:22:41.646Z"
   },
   {
    "duration": 9,
    "start_time": "2022-01-22T19:22:42.614Z"
   },
   {
    "duration": 23,
    "start_time": "2022-01-22T19:22:44.156Z"
   },
   {
    "duration": 10,
    "start_time": "2022-01-22T19:22:45.249Z"
   },
   {
    "duration": 177,
    "start_time": "2022-01-22T19:23:24.281Z"
   },
   {
    "duration": 18,
    "start_time": "2022-01-22T19:23:33.783Z"
   },
   {
    "duration": 1514,
    "start_time": "2022-01-22T19:24:26.209Z"
   },
   {
    "duration": 228,
    "start_time": "2022-01-22T19:24:27.726Z"
   },
   {
    "duration": 27,
    "start_time": "2022-01-22T19:24:27.957Z"
   },
   {
    "duration": 57,
    "start_time": "2022-01-22T19:24:27.987Z"
   },
   {
    "duration": 133,
    "start_time": "2022-01-22T19:24:28.265Z"
   },
   {
    "duration": 189,
    "start_time": "2022-01-22T19:24:29.196Z"
   },
   {
    "duration": 23,
    "start_time": "2022-01-22T19:24:29.653Z"
   },
   {
    "duration": 39,
    "start_time": "2022-01-22T19:24:30.161Z"
   },
   {
    "duration": 106,
    "start_time": "2022-01-22T19:24:30.951Z"
   },
   {
    "duration": 10,
    "start_time": "2022-01-22T19:24:31.947Z"
   },
   {
    "duration": 14,
    "start_time": "2022-01-22T19:24:32.217Z"
   },
   {
    "duration": 25,
    "start_time": "2022-01-22T19:24:32.754Z"
   },
   {
    "duration": 120,
    "start_time": "2022-01-22T19:24:33.249Z"
   },
   {
    "duration": 23,
    "start_time": "2022-01-22T19:24:34.612Z"
   },
   {
    "duration": 19,
    "start_time": "2022-01-22T19:24:35.151Z"
   },
   {
    "duration": 75,
    "start_time": "2022-01-22T19:24:35.699Z"
   },
   {
    "duration": 25,
    "start_time": "2022-01-22T19:24:37.755Z"
   },
   {
    "duration": 10,
    "start_time": "2022-01-22T19:24:38.624Z"
   },
   {
    "duration": 8,
    "start_time": "2022-01-22T19:24:39.292Z"
   },
   {
    "duration": 38,
    "start_time": "2022-01-22T19:24:40.713Z"
   },
   {
    "duration": 9,
    "start_time": "2022-01-22T19:24:41.200Z"
   },
   {
    "duration": 5,
    "start_time": "2022-01-22T19:24:42.403Z"
   },
   {
    "duration": 14,
    "start_time": "2022-01-22T19:24:42.882Z"
   },
   {
    "duration": 9,
    "start_time": "2022-01-22T19:24:43.592Z"
   },
   {
    "duration": 25,
    "start_time": "2022-01-22T19:24:44.282Z"
   },
   {
    "duration": 10,
    "start_time": "2022-01-22T19:24:44.991Z"
   },
   {
    "duration": 168,
    "start_time": "2022-01-22T19:26:15.377Z"
   },
   {
    "duration": 478,
    "start_time": "2022-01-22T19:29:50.152Z"
   },
   {
    "duration": 1540,
    "start_time": "2022-01-22T19:29:54.404Z"
   },
   {
    "duration": 222,
    "start_time": "2022-01-22T19:29:55.949Z"
   },
   {
    "duration": 27,
    "start_time": "2022-01-22T19:29:56.174Z"
   },
   {
    "duration": 52,
    "start_time": "2022-01-22T19:29:56.204Z"
   },
   {
    "duration": 123,
    "start_time": "2022-01-22T19:29:56.370Z"
   },
   {
    "duration": 179,
    "start_time": "2022-01-22T19:29:57.218Z"
   },
   {
    "duration": 23,
    "start_time": "2022-01-22T19:29:57.650Z"
   },
   {
    "duration": 40,
    "start_time": "2022-01-22T19:29:58.000Z"
   },
   {
    "duration": 94,
    "start_time": "2022-01-22T19:29:58.414Z"
   },
   {
    "duration": 10,
    "start_time": "2022-01-22T19:29:59.207Z"
   },
   {
    "duration": 14,
    "start_time": "2022-01-22T19:29:59.597Z"
   },
   {
    "duration": 31,
    "start_time": "2022-01-22T19:30:00.027Z"
   },
   {
    "duration": 123,
    "start_time": "2022-01-22T19:30:00.464Z"
   },
   {
    "duration": 20,
    "start_time": "2022-01-22T19:30:00.848Z"
   },
   {
    "duration": 20,
    "start_time": "2022-01-22T19:30:01.225Z"
   },
   {
    "duration": 71,
    "start_time": "2022-01-22T19:30:01.645Z"
   },
   {
    "duration": 27,
    "start_time": "2022-01-22T19:30:02.419Z"
   },
   {
    "duration": 10,
    "start_time": "2022-01-22T19:30:02.815Z"
   },
   {
    "duration": 8,
    "start_time": "2022-01-22T19:30:03.219Z"
   },
   {
    "duration": 38,
    "start_time": "2022-01-22T19:30:03.949Z"
   },
   {
    "duration": 9,
    "start_time": "2022-01-22T19:30:04.349Z"
   },
   {
    "duration": 5,
    "start_time": "2022-01-22T19:30:05.328Z"
   },
   {
    "duration": 15,
    "start_time": "2022-01-22T19:30:05.806Z"
   },
   {
    "duration": 9,
    "start_time": "2022-01-22T19:30:06.187Z"
   },
   {
    "duration": 24,
    "start_time": "2022-01-22T19:30:06.990Z"
   },
   {
    "duration": 13,
    "start_time": "2022-01-22T19:30:07.426Z"
   },
   {
    "duration": 74,
    "start_time": "2022-01-22T19:30:12.917Z"
   },
   {
    "duration": 1162,
    "start_time": "2022-01-23T14:02:38.498Z"
   },
   {
    "duration": 200,
    "start_time": "2022-01-23T14:02:39.662Z"
   },
   {
    "duration": 20,
    "start_time": "2022-01-23T14:02:39.864Z"
   },
   {
    "duration": 28,
    "start_time": "2022-01-23T14:02:40.391Z"
   },
   {
    "duration": 115,
    "start_time": "2022-01-23T14:02:40.956Z"
   },
   {
    "duration": 135,
    "start_time": "2022-01-23T14:02:41.930Z"
   },
   {
    "duration": 19,
    "start_time": "2022-01-23T14:02:42.417Z"
   },
   {
    "duration": 28,
    "start_time": "2022-01-23T14:02:42.964Z"
   },
   {
    "duration": 66,
    "start_time": "2022-01-23T14:02:43.522Z"
   },
   {
    "duration": 9,
    "start_time": "2022-01-23T14:02:44.464Z"
   },
   {
    "duration": 10,
    "start_time": "2022-01-23T14:02:44.912Z"
   },
   {
    "duration": 20,
    "start_time": "2022-01-23T14:02:45.459Z"
   },
   {
    "duration": 93,
    "start_time": "2022-01-23T14:02:45.865Z"
   },
   {
    "duration": 16,
    "start_time": "2022-01-23T14:02:46.351Z"
   },
   {
    "duration": 14,
    "start_time": "2022-01-23T14:02:46.867Z"
   },
   {
    "duration": 84,
    "start_time": "2022-01-23T14:02:47.305Z"
   },
   {
    "duration": 24,
    "start_time": "2022-01-23T14:02:48.230Z"
   },
   {
    "duration": 7,
    "start_time": "2022-01-23T14:02:48.693Z"
   },
   {
    "duration": 6,
    "start_time": "2022-01-23T14:02:49.232Z"
   },
   {
    "duration": 35,
    "start_time": "2022-01-23T14:02:50.185Z"
   },
   {
    "duration": 8,
    "start_time": "2022-01-23T14:02:50.721Z"
   },
   {
    "duration": 4,
    "start_time": "2022-01-23T14:02:52.422Z"
   },
   {
    "duration": 10,
    "start_time": "2022-01-23T14:02:52.930Z"
   },
   {
    "duration": 7,
    "start_time": "2022-01-23T14:02:53.943Z"
   },
   {
    "duration": 15,
    "start_time": "2022-01-23T14:02:54.559Z"
   },
   {
    "duration": 8,
    "start_time": "2022-01-23T14:02:55.145Z"
   },
   {
    "duration": 55,
    "start_time": "2022-01-23T14:06:51.310Z"
   },
   {
    "duration": 1122,
    "start_time": "2022-01-23T14:13:53.603Z"
   },
   {
    "duration": 157,
    "start_time": "2022-01-23T14:13:54.728Z"
   },
   {
    "duration": 21,
    "start_time": "2022-01-23T14:13:55.178Z"
   },
   {
    "duration": 27,
    "start_time": "2022-01-23T14:13:55.647Z"
   },
   {
    "duration": 107,
    "start_time": "2022-01-23T14:13:56.079Z"
   },
   {
    "duration": 135,
    "start_time": "2022-01-23T14:13:56.963Z"
   },
   {
    "duration": 18,
    "start_time": "2022-01-23T14:13:57.380Z"
   },
   {
    "duration": 28,
    "start_time": "2022-01-23T14:13:57.790Z"
   },
   {
    "duration": 54,
    "start_time": "2022-01-23T14:13:58.235Z"
   },
   {
    "duration": 9,
    "start_time": "2022-01-23T14:14:00.320Z"
   },
   {
    "duration": 9,
    "start_time": "2022-01-23T14:14:00.847Z"
   },
   {
    "duration": 21,
    "start_time": "2022-01-23T14:14:01.295Z"
   },
   {
    "duration": 97,
    "start_time": "2022-01-23T14:14:02.744Z"
   },
   {
    "duration": 17,
    "start_time": "2022-01-23T14:14:03.312Z"
   },
   {
    "duration": 14,
    "start_time": "2022-01-23T14:14:03.727Z"
   },
   {
    "duration": 78,
    "start_time": "2022-01-23T14:14:04.164Z"
   },
   {
    "duration": 22,
    "start_time": "2022-01-23T14:14:05.092Z"
   },
   {
    "duration": 7,
    "start_time": "2022-01-23T14:14:05.553Z"
   },
   {
    "duration": 6,
    "start_time": "2022-01-23T14:14:06.058Z"
   },
   {
    "duration": 36,
    "start_time": "2022-01-23T14:14:07.303Z"
   },
   {
    "duration": 6,
    "start_time": "2022-01-23T14:14:07.405Z"
   },
   {
    "duration": 4,
    "start_time": "2022-01-23T14:14:08.348Z"
   },
   {
    "duration": 9,
    "start_time": "2022-01-23T14:14:08.923Z"
   },
   {
    "duration": 7,
    "start_time": "2022-01-23T14:14:09.494Z"
   },
   {
    "duration": 15,
    "start_time": "2022-01-23T14:14:10.100Z"
   },
   {
    "duration": 7,
    "start_time": "2022-01-23T14:14:11.213Z"
   },
   {
    "duration": 32,
    "start_time": "2022-01-23T14:18:48.184Z"
   },
   {
    "duration": 21,
    "start_time": "2022-01-23T14:18:59.714Z"
   },
   {
    "duration": 13,
    "start_time": "2022-01-23T14:19:21.075Z"
   },
   {
    "duration": 69,
    "start_time": "2022-01-23T14:20:10.161Z"
   },
   {
    "duration": 373,
    "start_time": "2022-01-23T14:21:08.765Z"
   },
   {
    "duration": 101,
    "start_time": "2022-01-23T14:21:25.665Z"
   },
   {
    "duration": 5,
    "start_time": "2022-01-23T14:22:24.850Z"
   },
   {
    "duration": 29,
    "start_time": "2022-01-23T14:22:36.558Z"
   },
   {
    "duration": 10,
    "start_time": "2022-01-23T14:22:48.237Z"
   },
   {
    "duration": 8,
    "start_time": "2022-01-23T14:24:56.117Z"
   },
   {
    "duration": 17,
    "start_time": "2022-01-23T14:25:06.691Z"
   },
   {
    "duration": 27,
    "start_time": "2022-01-23T14:26:27.473Z"
   },
   {
    "duration": 58,
    "start_time": "2022-01-23T14:28:17.578Z"
   },
   {
    "duration": 50,
    "start_time": "2022-01-23T14:28:29.975Z"
   },
   {
    "duration": 28,
    "start_time": "2022-01-23T14:31:36.421Z"
   },
   {
    "duration": 40,
    "start_time": "2022-01-23T14:32:38.962Z"
   },
   {
    "duration": 6446,
    "start_time": "2022-01-23T14:34:19.534Z"
   },
   {
    "duration": 57,
    "start_time": "2022-01-23T14:34:47.936Z"
   },
   {
    "duration": 732,
    "start_time": "2022-01-23T14:43:32.792Z"
   },
   {
    "duration": 250,
    "start_time": "2022-01-23T14:43:48.798Z"
   },
   {
    "duration": 16,
    "start_time": "2022-01-23T14:48:51.501Z"
   },
   {
    "duration": 42,
    "start_time": "2022-01-23T14:56:42.064Z"
   },
   {
    "duration": 43,
    "start_time": "2022-01-23T14:57:12.288Z"
   },
   {
    "duration": 47,
    "start_time": "2022-01-23T14:58:34.709Z"
   },
   {
    "duration": 1031,
    "start_time": "2022-01-23T15:01:23.563Z"
   },
   {
    "duration": 98,
    "start_time": "2022-01-23T15:01:59.116Z"
   },
   {
    "duration": 47,
    "start_time": "2022-01-23T15:03:01.435Z"
   },
   {
    "duration": 47,
    "start_time": "2022-01-23T15:03:27.380Z"
   },
   {
    "duration": 61,
    "start_time": "2022-01-23T15:03:35.012Z"
   },
   {
    "duration": 328,
    "start_time": "2022-01-23T15:05:23.687Z"
   },
   {
    "duration": 5,
    "start_time": "2022-01-23T15:05:40.078Z"
   },
   {
    "duration": 29,
    "start_time": "2022-01-23T15:05:51.344Z"
   },
   {
    "duration": 24,
    "start_time": "2022-01-23T15:06:20.444Z"
   },
   {
    "duration": 24,
    "start_time": "2022-01-23T15:09:58.313Z"
   },
   {
    "duration": 37,
    "start_time": "2022-01-23T15:10:40.499Z"
   },
   {
    "duration": 20,
    "start_time": "2022-01-23T15:11:21.141Z"
   },
   {
    "duration": 51,
    "start_time": "2022-01-23T15:13:02.996Z"
   },
   {
    "duration": 48,
    "start_time": "2022-01-23T15:14:17.506Z"
   },
   {
    "duration": 52,
    "start_time": "2022-01-23T15:16:07.671Z"
   },
   {
    "duration": 54,
    "start_time": "2022-01-23T15:16:57.637Z"
   },
   {
    "duration": 56,
    "start_time": "2022-01-23T15:17:35.265Z"
   },
   {
    "duration": 250,
    "start_time": "2022-01-23T15:21:40.197Z"
   },
   {
    "duration": 34,
    "start_time": "2022-01-23T15:21:58.117Z"
   },
   {
    "duration": 52,
    "start_time": "2022-01-23T15:27:08.033Z"
   },
   {
    "duration": 21,
    "start_time": "2022-01-23T15:28:39.855Z"
   },
   {
    "duration": 13,
    "start_time": "2022-01-23T15:28:49.021Z"
   },
   {
    "duration": 21,
    "start_time": "2022-01-23T15:29:10.473Z"
   },
   {
    "duration": 6,
    "start_time": "2022-01-23T15:29:46.909Z"
   },
   {
    "duration": 27,
    "start_time": "2022-01-23T15:30:08.911Z"
   },
   {
    "duration": 40,
    "start_time": "2022-01-23T15:30:55.586Z"
   },
   {
    "duration": 1176,
    "start_time": "2022-01-23T19:11:20.313Z"
   },
   {
    "duration": 150,
    "start_time": "2022-01-23T19:11:21.491Z"
   },
   {
    "duration": 21,
    "start_time": "2022-01-23T19:11:21.643Z"
   },
   {
    "duration": 26,
    "start_time": "2022-01-23T19:11:21.672Z"
   },
   {
    "duration": 104,
    "start_time": "2022-01-23T19:11:21.701Z"
   },
   {
    "duration": 177,
    "start_time": "2022-01-23T19:11:22.419Z"
   },
   {
    "duration": 18,
    "start_time": "2022-01-23T19:11:22.762Z"
   },
   {
    "duration": 27,
    "start_time": "2022-01-23T19:11:23.129Z"
   },
   {
    "duration": 76,
    "start_time": "2022-01-23T19:11:23.505Z"
   },
   {
    "duration": 8,
    "start_time": "2022-01-23T19:11:24.294Z"
   },
   {
    "duration": 10,
    "start_time": "2022-01-23T19:11:24.673Z"
   },
   {
    "duration": 19,
    "start_time": "2022-01-23T19:11:25.035Z"
   },
   {
    "duration": 88,
    "start_time": "2022-01-23T19:11:25.398Z"
   },
   {
    "duration": 15,
    "start_time": "2022-01-23T19:11:25.784Z"
   },
   {
    "duration": 13,
    "start_time": "2022-01-23T19:11:26.100Z"
   },
   {
    "duration": 101,
    "start_time": "2022-01-23T19:11:26.494Z"
   },
   {
    "duration": 22,
    "start_time": "2022-01-23T19:11:27.237Z"
   },
   {
    "duration": 6,
    "start_time": "2022-01-23T19:11:27.601Z"
   },
   {
    "duration": 6,
    "start_time": "2022-01-23T19:11:27.983Z"
   },
   {
    "duration": 34,
    "start_time": "2022-01-23T19:11:28.755Z"
   },
   {
    "duration": 6,
    "start_time": "2022-01-23T19:11:29.161Z"
   },
   {
    "duration": 4,
    "start_time": "2022-01-23T19:11:29.901Z"
   },
   {
    "duration": 10,
    "start_time": "2022-01-23T19:11:30.237Z"
   },
   {
    "duration": 7,
    "start_time": "2022-01-23T19:11:30.582Z"
   },
   {
    "duration": 15,
    "start_time": "2022-01-23T19:11:30.976Z"
   },
   {
    "duration": 7,
    "start_time": "2022-01-23T19:11:31.431Z"
   },
   {
    "duration": 32,
    "start_time": "2022-01-23T19:11:32.921Z"
   },
   {
    "duration": 91,
    "start_time": "2022-01-23T19:11:33.268Z"
   },
   {
    "duration": 9,
    "start_time": "2022-01-23T19:11:33.705Z"
   },
   {
    "duration": 50,
    "start_time": "2022-01-23T19:11:34.079Z"
   },
   {
    "duration": 26,
    "start_time": "2022-01-23T19:11:34.451Z"
   },
   {
    "duration": 42,
    "start_time": "2022-01-23T19:11:34.890Z"
   },
   {
    "duration": 14,
    "start_time": "2022-01-23T19:11:35.296Z"
   },
   {
    "duration": 22,
    "start_time": "2022-01-23T19:11:35.662Z"
   },
   {
    "duration": 39,
    "start_time": "2022-01-23T19:11:36.062Z"
   },
   {
    "duration": 40,
    "start_time": "2022-01-23T19:11:36.925Z"
   },
   {
    "duration": 17,
    "start_time": "2022-01-23T19:11:37.311Z"
   },
   {
    "duration": 41,
    "start_time": "2022-01-23T19:11:37.668Z"
   },
   {
    "duration": 18,
    "start_time": "2022-01-23T19:11:38.041Z"
   },
   {
    "duration": 28,
    "start_time": "2022-01-23T19:11:38.885Z"
   },
   {
    "duration": 51,
    "start_time": "2022-01-23T19:11:39.461Z"
   },
   {
    "duration": 47,
    "start_time": "2022-01-23T19:11:39.889Z"
   },
   {
    "duration": 23,
    "start_time": "2022-01-23T19:11:40.299Z"
   },
   {
    "duration": 39,
    "start_time": "2022-01-23T19:11:40.658Z"
   },
   {
    "duration": 81,
    "start_time": "2022-01-23T19:11:41.487Z"
   },
   {
    "duration": 1169,
    "start_time": "2022-01-23T19:12:17.208Z"
   },
   {
    "duration": 152,
    "start_time": "2022-01-23T19:12:18.379Z"
   },
   {
    "duration": 20,
    "start_time": "2022-01-23T19:12:18.532Z"
   },
   {
    "duration": 29,
    "start_time": "2022-01-23T19:12:18.554Z"
   },
   {
    "duration": 104,
    "start_time": "2022-01-23T19:12:18.585Z"
   },
   {
    "duration": 127,
    "start_time": "2022-01-23T19:12:19.127Z"
   },
   {
    "duration": 18,
    "start_time": "2022-01-23T19:12:19.685Z"
   },
   {
    "duration": 42,
    "start_time": "2022-01-23T19:12:20.034Z"
   },
   {
    "duration": 81,
    "start_time": "2022-01-23T19:12:20.426Z"
   },
   {
    "duration": 8,
    "start_time": "2022-01-23T19:12:21.185Z"
   },
   {
    "duration": 10,
    "start_time": "2022-01-23T19:12:21.528Z"
   },
   {
    "duration": 18,
    "start_time": "2022-01-23T19:12:21.898Z"
   },
   {
    "duration": 88,
    "start_time": "2022-01-23T19:12:22.288Z"
   },
   {
    "duration": 15,
    "start_time": "2022-01-23T19:12:22.702Z"
   },
   {
    "duration": 15,
    "start_time": "2022-01-23T19:12:23.125Z"
   },
   {
    "duration": 117,
    "start_time": "2022-01-23T19:12:23.438Z"
   },
   {
    "duration": 27,
    "start_time": "2022-01-23T19:12:24.713Z"
   },
   {
    "duration": 8,
    "start_time": "2022-01-23T19:12:25.321Z"
   },
   {
    "duration": 6,
    "start_time": "2022-01-23T19:12:25.777Z"
   },
   {
    "duration": 34,
    "start_time": "2022-01-23T19:12:26.631Z"
   },
   {
    "duration": 7,
    "start_time": "2022-01-23T19:12:27.097Z"
   },
   {
    "duration": 3,
    "start_time": "2022-01-23T19:12:27.885Z"
   },
   {
    "duration": 10,
    "start_time": "2022-01-23T19:12:28.291Z"
   },
   {
    "duration": 6,
    "start_time": "2022-01-23T19:12:28.738Z"
   },
   {
    "duration": 15,
    "start_time": "2022-01-23T19:12:29.163Z"
   },
   {
    "duration": 7,
    "start_time": "2022-01-23T19:12:29.541Z"
   },
   {
    "duration": 32,
    "start_time": "2022-01-23T19:12:31.891Z"
   },
   {
    "duration": 86,
    "start_time": "2022-01-23T19:12:33.273Z"
   },
   {
    "duration": 10,
    "start_time": "2022-01-23T19:12:34.187Z"
   },
   {
    "duration": 53,
    "start_time": "2022-01-23T19:12:34.651Z"
   },
   {
    "duration": 27,
    "start_time": "2022-01-23T19:12:35.055Z"
   },
   {
    "duration": 43,
    "start_time": "2022-01-23T19:12:35.513Z"
   },
   {
    "duration": 15,
    "start_time": "2022-01-23T19:12:35.916Z"
   },
   {
    "duration": 23,
    "start_time": "2022-01-23T19:12:36.326Z"
   },
   {
    "duration": 42,
    "start_time": "2022-01-23T19:12:36.699Z"
   },
   {
    "duration": 40,
    "start_time": "2022-01-23T19:12:37.147Z"
   },
   {
    "duration": 18,
    "start_time": "2022-01-23T19:12:37.913Z"
   },
   {
    "duration": 31,
    "start_time": "2022-01-23T19:12:38.435Z"
   },
   {
    "duration": 16,
    "start_time": "2022-01-23T19:12:39.323Z"
   },
   {
    "duration": 29,
    "start_time": "2022-01-23T19:12:39.783Z"
   },
   {
    "duration": 50,
    "start_time": "2022-01-23T19:12:40.238Z"
   },
   {
    "duration": 45,
    "start_time": "2022-01-23T19:12:41.109Z"
   },
   {
    "duration": 21,
    "start_time": "2022-01-23T19:12:42.154Z"
   },
   {
    "duration": 37,
    "start_time": "2022-01-23T19:12:42.632Z"
   },
   {
    "duration": 8,
    "start_time": "2022-01-23T19:14:01.548Z"
   },
   {
    "duration": 12,
    "start_time": "2022-01-23T19:14:11.306Z"
   },
   {
    "duration": 12,
    "start_time": "2022-01-23T19:14:24.814Z"
   },
   {
    "duration": 32,
    "start_time": "2022-01-23T19:15:14.306Z"
   },
   {
    "duration": 10,
    "start_time": "2022-01-23T19:15:33.463Z"
   },
   {
    "duration": 48,
    "start_time": "2022-01-23T19:16:18.267Z"
   },
   {
    "duration": 14,
    "start_time": "2022-01-23T19:16:30.239Z"
   },
   {
    "duration": 425,
    "start_time": "2022-01-23T19:20:59.526Z"
   },
   {
    "duration": 333,
    "start_time": "2022-01-23T19:21:30.254Z"
   },
   {
    "duration": 9,
    "start_time": "2022-01-23T19:21:42.127Z"
   },
   {
    "duration": 69,
    "start_time": "2022-01-23T19:22:29.031Z"
   },
   {
    "duration": 188,
    "start_time": "2022-01-23T19:22:48.447Z"
   },
   {
    "duration": 144,
    "start_time": "2022-01-23T19:27:31.307Z"
   },
   {
    "duration": 72,
    "start_time": "2022-01-23T19:39:20.746Z"
   },
   {
    "duration": 3,
    "start_time": "2022-01-23T19:39:50.202Z"
   },
   {
    "duration": 130,
    "start_time": "2022-01-23T19:39:50.920Z"
   },
   {
    "duration": 18,
    "start_time": "2022-01-23T19:39:51.067Z"
   },
   {
    "duration": 23,
    "start_time": "2022-01-23T19:39:51.480Z"
   },
   {
    "duration": 70,
    "start_time": "2022-01-23T19:39:51.884Z"
   },
   {
    "duration": 119,
    "start_time": "2022-01-23T19:39:52.684Z"
   },
   {
    "duration": 16,
    "start_time": "2022-01-23T19:39:53.073Z"
   },
   {
    "duration": 26,
    "start_time": "2022-01-23T19:39:53.716Z"
   },
   {
    "duration": 44,
    "start_time": "2022-01-23T19:39:53.881Z"
   },
   {
    "duration": 4,
    "start_time": "2022-01-23T19:39:54.632Z"
   },
   {
    "duration": 10,
    "start_time": "2022-01-23T19:39:55.019Z"
   },
   {
    "duration": 18,
    "start_time": "2022-01-23T19:39:55.412Z"
   },
   {
    "duration": 81,
    "start_time": "2022-01-23T19:39:55.818Z"
   },
   {
    "duration": 14,
    "start_time": "2022-01-23T19:39:56.183Z"
   },
   {
    "duration": 13,
    "start_time": "2022-01-23T19:39:56.558Z"
   },
   {
    "duration": 96,
    "start_time": "2022-01-23T19:39:56.984Z"
   },
   {
    "duration": 21,
    "start_time": "2022-01-23T19:39:57.744Z"
   },
   {
    "duration": 6,
    "start_time": "2022-01-23T19:39:58.141Z"
   },
   {
    "duration": 5,
    "start_time": "2022-01-23T19:39:58.503Z"
   },
   {
    "duration": 35,
    "start_time": "2022-01-23T19:39:59.266Z"
   },
   {
    "duration": 6,
    "start_time": "2022-01-23T19:39:59.696Z"
   },
   {
    "duration": 4,
    "start_time": "2022-01-23T19:40:00.440Z"
   },
   {
    "duration": 10,
    "start_time": "2022-01-23T19:40:00.776Z"
   },
   {
    "duration": 8,
    "start_time": "2022-01-23T19:40:01.213Z"
   },
   {
    "duration": 16,
    "start_time": "2022-01-23T19:40:01.843Z"
   },
   {
    "duration": 7,
    "start_time": "2022-01-23T19:40:01.968Z"
   },
   {
    "duration": 31,
    "start_time": "2022-01-23T19:40:03.858Z"
   },
   {
    "duration": 83,
    "start_time": "2022-01-23T19:40:04.224Z"
   },
   {
    "duration": 12,
    "start_time": "2022-01-23T19:40:04.608Z"
   },
   {
    "duration": 50,
    "start_time": "2022-01-23T19:40:05.012Z"
   },
   {
    "duration": 27,
    "start_time": "2022-01-23T19:40:05.401Z"
   },
   {
    "duration": 37,
    "start_time": "2022-01-23T19:40:05.775Z"
   },
   {
    "duration": 14,
    "start_time": "2022-01-23T19:40:06.617Z"
   },
   {
    "duration": 25,
    "start_time": "2022-01-23T19:40:07.012Z"
   },
   {
    "duration": 39,
    "start_time": "2022-01-23T19:40:07.646Z"
   },
   {
    "duration": 39,
    "start_time": "2022-01-23T19:40:07.763Z"
   },
   {
    "duration": 17,
    "start_time": "2022-01-23T19:40:08.180Z"
   },
   {
    "duration": 28,
    "start_time": "2022-01-23T19:40:08.561Z"
   },
   {
    "duration": 17,
    "start_time": "2022-01-23T19:40:08.976Z"
   },
   {
    "duration": 28,
    "start_time": "2022-01-23T19:40:09.332Z"
   },
   {
    "duration": 50,
    "start_time": "2022-01-23T19:40:09.769Z"
   },
   {
    "duration": 45,
    "start_time": "2022-01-23T19:40:10.162Z"
   },
   {
    "duration": 22,
    "start_time": "2022-01-23T19:40:10.587Z"
   },
   {
    "duration": 30,
    "start_time": "2022-01-23T19:40:10.954Z"
   },
   {
    "duration": 22,
    "start_time": "2022-01-23T19:40:27.212Z"
   },
   {
    "duration": 335,
    "start_time": "2022-01-23T19:41:26.132Z"
   },
   {
    "duration": 299,
    "start_time": "2022-01-23T19:41:33.778Z"
   },
   {
    "duration": 298,
    "start_time": "2022-01-23T19:42:22.291Z"
   },
   {
    "duration": 9,
    "start_time": "2022-01-23T19:43:53.884Z"
   },
   {
    "duration": 13,
    "start_time": "2022-01-23T19:44:07.591Z"
   },
   {
    "duration": 16,
    "start_time": "2022-01-23T19:45:18.376Z"
   },
   {
    "duration": 296,
    "start_time": "2022-01-23T19:47:20.470Z"
   },
   {
    "duration": 307,
    "start_time": "2022-01-23T19:49:11.111Z"
   },
   {
    "duration": 9,
    "start_time": "2022-01-23T19:49:19.135Z"
   },
   {
    "duration": 8,
    "start_time": "2022-01-23T19:49:52.923Z"
   },
   {
    "duration": 7,
    "start_time": "2022-01-23T19:49:54.780Z"
   },
   {
    "duration": 7,
    "start_time": "2022-01-23T19:50:03.595Z"
   },
   {
    "duration": 8,
    "start_time": "2022-01-23T19:50:25.422Z"
   },
   {
    "duration": 3,
    "start_time": "2022-01-23T19:55:57.980Z"
   },
   {
    "duration": 129,
    "start_time": "2022-01-23T19:55:58.745Z"
   },
   {
    "duration": 19,
    "start_time": "2022-01-23T19:55:59.011Z"
   },
   {
    "duration": 24,
    "start_time": "2022-01-23T19:55:59.868Z"
   },
   {
    "duration": 76,
    "start_time": "2022-01-23T19:56:00.366Z"
   },
   {
    "duration": 124,
    "start_time": "2022-01-23T19:56:03.648Z"
   },
   {
    "duration": 17,
    "start_time": "2022-01-23T19:56:04.275Z"
   },
   {
    "duration": 26,
    "start_time": "2022-01-23T19:56:06.104Z"
   },
   {
    "duration": 44,
    "start_time": "2022-01-23T19:56:07.027Z"
   },
   {
    "duration": 5,
    "start_time": "2022-01-23T19:56:07.844Z"
   },
   {
    "duration": 10,
    "start_time": "2022-01-23T19:56:08.333Z"
   },
   {
    "duration": 18,
    "start_time": "2022-01-23T19:56:08.892Z"
   },
   {
    "duration": 80,
    "start_time": "2022-01-23T19:56:09.398Z"
   },
   {
    "duration": 16,
    "start_time": "2022-01-23T19:56:09.905Z"
   },
   {
    "duration": 13,
    "start_time": "2022-01-23T19:56:10.423Z"
   },
   {
    "duration": 110,
    "start_time": "2022-01-23T19:56:10.939Z"
   },
   {
    "duration": 24,
    "start_time": "2022-01-23T19:56:14.586Z"
   },
   {
    "duration": 6,
    "start_time": "2022-01-23T19:56:15.491Z"
   },
   {
    "duration": 8,
    "start_time": "2022-01-23T19:56:16.725Z"
   },
   {
    "duration": 35,
    "start_time": "2022-01-23T19:56:21.501Z"
   },
   {
    "duration": 7,
    "start_time": "2022-01-23T19:56:22.835Z"
   },
   {
    "duration": 3,
    "start_time": "2022-01-23T19:56:25.193Z"
   },
   {
    "duration": 10,
    "start_time": "2022-01-23T19:56:25.894Z"
   },
   {
    "duration": 7,
    "start_time": "2022-01-23T19:56:26.832Z"
   },
   {
    "duration": 14,
    "start_time": "2022-01-23T19:56:27.440Z"
   },
   {
    "duration": 7,
    "start_time": "2022-01-23T19:56:28.194Z"
   },
   {
    "duration": 31,
    "start_time": "2022-01-23T19:56:43.319Z"
   },
   {
    "duration": 86,
    "start_time": "2022-01-23T19:57:11.662Z"
   },
   {
    "duration": 10,
    "start_time": "2022-01-23T19:57:19.195Z"
   },
   {
    "duration": 50,
    "start_time": "2022-01-23T19:57:31.047Z"
   },
   {
    "duration": 26,
    "start_time": "2022-01-23T19:57:35.918Z"
   },
   {
    "duration": 34,
    "start_time": "2022-01-23T19:58:07.287Z"
   },
   {
    "duration": 14,
    "start_time": "2022-01-23T19:58:18.750Z"
   },
   {
    "duration": 25,
    "start_time": "2022-01-23T19:58:20.894Z"
   },
   {
    "duration": 44,
    "start_time": "2022-01-23T19:58:36.804Z"
   },
   {
    "duration": 39,
    "start_time": "2022-01-23T19:58:45.443Z"
   },
   {
    "duration": 18,
    "start_time": "2022-01-23T19:58:48.286Z"
   },
   {
    "duration": 27,
    "start_time": "2022-01-23T19:58:57.290Z"
   },
   {
    "duration": 18,
    "start_time": "2022-01-23T19:59:04.944Z"
   },
   {
    "duration": 28,
    "start_time": "2022-01-23T19:59:07.402Z"
   },
   {
    "duration": 49,
    "start_time": "2022-01-23T19:59:22.237Z"
   },
   {
    "duration": 48,
    "start_time": "2022-01-23T19:59:30.863Z"
   },
   {
    "duration": 22,
    "start_time": "2022-01-23T19:59:35.769Z"
   },
   {
    "duration": 34,
    "start_time": "2022-01-23T19:59:42.996Z"
   },
   {
    "duration": 15,
    "start_time": "2022-01-23T20:00:37.866Z"
   },
   {
    "duration": 315,
    "start_time": "2022-01-23T20:01:37.799Z"
   },
   {
    "duration": 9,
    "start_time": "2022-01-23T20:02:31.778Z"
   },
   {
    "duration": 3139,
    "start_time": "2022-01-23T20:02:57.791Z"
   },
   {
    "duration": 22,
    "start_time": "2022-01-23T20:03:25.413Z"
   },
   {
    "duration": 14,
    "start_time": "2022-01-23T20:03:53.557Z"
   },
   {
    "duration": 21,
    "start_time": "2022-01-23T20:04:06.948Z"
   },
   {
    "duration": 12,
    "start_time": "2022-01-23T20:04:42.580Z"
   },
   {
    "duration": 9,
    "start_time": "2022-01-23T20:04:52.441Z"
   },
   {
    "duration": 14,
    "start_time": "2022-01-23T20:05:04.903Z"
   },
   {
    "duration": 6,
    "start_time": "2022-01-23T20:05:44.920Z"
   },
   {
    "duration": 14,
    "start_time": "2022-01-23T20:06:26.287Z"
   },
   {
    "duration": 1580,
    "start_time": "2022-01-23T20:06:41.423Z"
   },
   {
    "duration": 15,
    "start_time": "2022-01-23T20:06:59.655Z"
   },
   {
    "duration": 17,
    "start_time": "2022-01-23T20:07:53.698Z"
   },
   {
    "duration": 14,
    "start_time": "2022-01-23T20:08:10.604Z"
   },
   {
    "duration": 22,
    "start_time": "2022-01-23T20:08:15.990Z"
   },
   {
    "duration": 14,
    "start_time": "2022-01-23T20:11:37.840Z"
   },
   {
    "duration": 9,
    "start_time": "2022-01-23T20:12:02.261Z"
   },
   {
    "duration": 16,
    "start_time": "2022-01-23T20:13:22.472Z"
   },
   {
    "duration": 5,
    "start_time": "2022-01-23T20:29:21.134Z"
   },
   {
    "duration": 4,
    "start_time": "2022-01-23T20:29:28.094Z"
   },
   {
    "duration": 4,
    "start_time": "2022-01-23T20:29:30.683Z"
   },
   {
    "duration": 14,
    "start_time": "2022-01-23T20:29:39.773Z"
   },
   {
    "duration": 4,
    "start_time": "2022-01-23T20:42:07.399Z"
   },
   {
    "duration": 75,
    "start_time": "2022-01-23T20:51:32.514Z"
   },
   {
    "duration": 4,
    "start_time": "2022-01-23T20:51:57.317Z"
   },
   {
    "duration": 5,
    "start_time": "2022-01-23T20:55:03.177Z"
   },
   {
    "duration": 1110,
    "start_time": "2022-01-24T17:50:54.839Z"
   },
   {
    "duration": 150,
    "start_time": "2022-01-24T17:50:55.951Z"
   },
   {
    "duration": 31,
    "start_time": "2022-01-24T17:50:56.103Z"
   },
   {
    "duration": 24,
    "start_time": "2022-01-24T17:50:56.136Z"
   },
   {
    "duration": 87,
    "start_time": "2022-01-24T17:50:56.544Z"
   },
   {
    "duration": 123,
    "start_time": "2022-01-24T17:50:57.429Z"
   },
   {
    "duration": 16,
    "start_time": "2022-01-24T17:50:57.850Z"
   },
   {
    "duration": 26,
    "start_time": "2022-01-24T17:50:58.268Z"
   },
   {
    "duration": 56,
    "start_time": "2022-01-24T17:50:58.694Z"
   },
   {
    "duration": 5,
    "start_time": "2022-01-24T17:50:59.563Z"
   },
   {
    "duration": 9,
    "start_time": "2022-01-24T17:50:59.963Z"
   },
   {
    "duration": 18,
    "start_time": "2022-01-24T17:51:00.400Z"
   },
   {
    "duration": 89,
    "start_time": "2022-01-24T17:51:00.822Z"
   },
   {
    "duration": 22,
    "start_time": "2022-01-24T17:51:01.214Z"
   },
   {
    "duration": 19,
    "start_time": "2022-01-24T17:51:01.621Z"
   },
   {
    "duration": 63,
    "start_time": "2022-01-24T17:51:01.993Z"
   },
   {
    "duration": 21,
    "start_time": "2022-01-24T17:51:02.990Z"
   },
   {
    "duration": 44,
    "start_time": "2022-01-24T17:51:22.801Z"
   },
   {
    "duration": 23,
    "start_time": "2022-01-24T17:51:24.221Z"
   },
   {
    "duration": 6,
    "start_time": "2022-01-24T17:51:24.656Z"
   },
   {
    "duration": 5,
    "start_time": "2022-01-24T17:51:25.097Z"
   },
   {
    "duration": 32,
    "start_time": "2022-01-24T17:51:26.005Z"
   },
   {
    "duration": 6,
    "start_time": "2022-01-24T17:51:26.432Z"
   },
   {
    "duration": 3,
    "start_time": "2022-01-24T17:51:27.586Z"
   },
   {
    "duration": 10,
    "start_time": "2022-01-24T17:51:28.174Z"
   },
   {
    "duration": 10,
    "start_time": "2022-01-24T17:51:28.612Z"
   },
   {
    "duration": 15,
    "start_time": "2022-01-24T17:51:29.066Z"
   },
   {
    "duration": 8,
    "start_time": "2022-01-24T17:51:29.528Z"
   },
   {
    "duration": 36,
    "start_time": "2022-01-24T17:51:32.088Z"
   },
   {
    "duration": 112,
    "start_time": "2022-01-24T17:51:32.579Z"
   },
   {
    "duration": 10,
    "start_time": "2022-01-24T17:51:33.043Z"
   },
   {
    "duration": 55,
    "start_time": "2022-01-24T17:51:33.547Z"
   },
   {
    "duration": 31,
    "start_time": "2022-01-24T17:51:34.484Z"
   },
   {
    "duration": 51,
    "start_time": "2022-01-24T17:51:35.201Z"
   },
   {
    "duration": 15,
    "start_time": "2022-01-24T17:51:35.663Z"
   },
   {
    "duration": 28,
    "start_time": "2022-01-24T17:51:36.519Z"
   },
   {
    "duration": 42,
    "start_time": "2022-01-24T17:51:37.125Z"
   },
   {
    "duration": 43,
    "start_time": "2022-01-24T17:51:37.752Z"
   },
   {
    "duration": 18,
    "start_time": "2022-01-24T17:51:38.246Z"
   },
   {
    "duration": 38,
    "start_time": "2022-01-24T17:51:38.809Z"
   },
   {
    "duration": 19,
    "start_time": "2022-01-24T17:51:39.529Z"
   },
   {
    "duration": 37,
    "start_time": "2022-01-24T17:51:40.009Z"
   },
   {
    "duration": 57,
    "start_time": "2022-01-24T17:51:44.017Z"
   },
   {
    "duration": 48,
    "start_time": "2022-01-24T17:51:44.645Z"
   },
   {
    "duration": 22,
    "start_time": "2022-01-24T17:51:45.273Z"
   },
   {
    "duration": 41,
    "start_time": "2022-01-24T17:51:45.873Z"
   },
   {
    "duration": 14,
    "start_time": "2022-01-24T17:51:48.072Z"
   },
   {
    "duration": 15,
    "start_time": "2022-01-24T17:51:48.850Z"
   },
   {
    "duration": 14,
    "start_time": "2022-01-24T17:51:49.530Z"
   },
   {
    "duration": 9,
    "start_time": "2022-01-24T17:51:50.973Z"
   },
   {
    "duration": 15,
    "start_time": "2022-01-24T17:51:52.164Z"
   },
   {
    "duration": 4,
    "start_time": "2022-01-24T17:51:53.329Z"
   },
   {
    "duration": 4,
    "start_time": "2022-01-24T17:51:53.893Z"
   },
   {
    "duration": 5,
    "start_time": "2022-01-24T17:51:55.812Z"
   },
   {
    "duration": 18,
    "start_time": "2022-01-24T17:52:04.102Z"
   },
   {
    "duration": 3,
    "start_time": "2022-01-24T18:28:57.802Z"
   },
   {
    "duration": 140,
    "start_time": "2022-01-24T18:28:58.179Z"
   },
   {
    "duration": 35,
    "start_time": "2022-01-24T18:28:58.532Z"
   },
   {
    "duration": 26,
    "start_time": "2022-01-24T18:28:58.895Z"
   },
   {
    "duration": 76,
    "start_time": "2022-01-24T18:28:59.268Z"
   },
   {
    "duration": 131,
    "start_time": "2022-01-24T18:29:00.020Z"
   },
   {
    "duration": 16,
    "start_time": "2022-01-24T18:29:00.383Z"
   },
   {
    "duration": 28,
    "start_time": "2022-01-24T18:29:00.738Z"
   },
   {
    "duration": 70,
    "start_time": "2022-01-24T18:29:01.133Z"
   },
   {
    "duration": 4,
    "start_time": "2022-01-24T18:29:01.843Z"
   },
   {
    "duration": 9,
    "start_time": "2022-01-24T18:29:02.196Z"
   },
   {
    "duration": 18,
    "start_time": "2022-01-24T18:29:02.554Z"
   },
   {
    "duration": 237,
    "start_time": "2022-01-24T18:29:02.926Z"
   },
   {
    "duration": 15,
    "start_time": "2022-01-24T18:29:03.265Z"
   },
   {
    "duration": 13,
    "start_time": "2022-01-24T18:29:03.616Z"
   },
   {
    "duration": 36,
    "start_time": "2022-01-24T18:29:03.929Z"
   },
   {
    "duration": 20,
    "start_time": "2022-01-24T18:29:04.639Z"
   },
   {
    "duration": 7,
    "start_time": "2022-01-24T18:29:04.988Z"
   },
   {
    "duration": 6,
    "start_time": "2022-01-24T18:29:05.310Z"
   },
   {
    "duration": 30,
    "start_time": "2022-01-24T18:29:06.035Z"
   },
   {
    "duration": 7,
    "start_time": "2022-01-24T18:29:06.427Z"
   },
   {
    "duration": 4,
    "start_time": "2022-01-24T18:29:07.109Z"
   },
   {
    "duration": 9,
    "start_time": "2022-01-24T18:29:07.739Z"
   },
   {
    "duration": 7,
    "start_time": "2022-01-24T18:29:07.840Z"
   },
   {
    "duration": 17,
    "start_time": "2022-01-24T18:29:08.232Z"
   },
   {
    "duration": 7,
    "start_time": "2022-01-24T18:29:08.588Z"
   },
   {
    "duration": 30,
    "start_time": "2022-01-24T18:29:10.137Z"
   },
   {
    "duration": 84,
    "start_time": "2022-01-24T18:29:10.494Z"
   },
   {
    "duration": 11,
    "start_time": "2022-01-24T18:29:10.882Z"
   },
   {
    "duration": 56,
    "start_time": "2022-01-24T18:29:11.264Z"
   },
   {
    "duration": 27,
    "start_time": "2022-01-24T18:29:11.627Z"
   },
   {
    "duration": 41,
    "start_time": "2022-01-24T18:29:11.986Z"
   },
   {
    "duration": 14,
    "start_time": "2022-01-24T18:29:12.338Z"
   },
   {
    "duration": 25,
    "start_time": "2022-01-24T18:29:12.681Z"
   },
   {
    "duration": 42,
    "start_time": "2022-01-24T18:29:13.059Z"
   },
   {
    "duration": 41,
    "start_time": "2022-01-24T18:29:13.436Z"
   },
   {
    "duration": 19,
    "start_time": "2022-01-24T18:29:13.824Z"
   },
   {
    "duration": 30,
    "start_time": "2022-01-24T18:29:14.201Z"
   },
   {
    "duration": 17,
    "start_time": "2022-01-24T18:29:14.791Z"
   },
   {
    "duration": 29,
    "start_time": "2022-01-24T18:29:14.921Z"
   },
   {
    "duration": 52,
    "start_time": "2022-01-24T18:29:15.280Z"
   },
   {
    "duration": 46,
    "start_time": "2022-01-24T18:29:15.649Z"
   },
   {
    "duration": 21,
    "start_time": "2022-01-24T18:29:16.036Z"
   },
   {
    "duration": 36,
    "start_time": "2022-01-24T18:29:16.403Z"
   },
   {
    "duration": 19,
    "start_time": "2022-01-24T18:29:17.648Z"
   },
   {
    "duration": 15,
    "start_time": "2022-01-24T18:29:18.272Z"
   },
   {
    "duration": 16,
    "start_time": "2022-01-24T18:29:18.480Z"
   },
   {
    "duration": 9,
    "start_time": "2022-01-24T18:29:18.845Z"
   },
   {
    "duration": 17,
    "start_time": "2022-01-24T18:29:19.265Z"
   },
   {
    "duration": 4,
    "start_time": "2022-01-24T18:29:20.162Z"
   },
   {
    "duration": 4,
    "start_time": "2022-01-24T18:29:20.569Z"
   },
   {
    "duration": 4,
    "start_time": "2022-01-24T18:29:20.970Z"
   },
   {
    "duration": 15,
    "start_time": "2022-01-24T18:29:21.582Z"
   },
   {
    "duration": 4,
    "start_time": "2022-01-24T18:29:22.092Z"
   },
   {
    "duration": 452,
    "start_time": "2022-01-24T18:31:05.002Z"
   },
   {
    "duration": 9,
    "start_time": "2022-01-24T18:31:33.678Z"
   },
   {
    "duration": 92,
    "start_time": "2022-01-24T18:33:39.643Z"
   },
   {
    "duration": 379,
    "start_time": "2022-01-24T18:33:41.674Z"
   },
   {
    "duration": 9,
    "start_time": "2022-01-24T18:38:39.444Z"
   },
   {
    "duration": 5,
    "start_time": "2022-01-24T18:41:02.990Z"
   },
   {
    "duration": 34,
    "start_time": "2022-01-24T18:41:36.895Z"
   },
   {
    "duration": 34,
    "start_time": "2022-01-24T18:41:41.630Z"
   },
   {
    "duration": 33,
    "start_time": "2022-01-24T18:41:59.511Z"
   },
   {
    "duration": 21,
    "start_time": "2022-01-24T18:42:19.061Z"
   },
   {
    "duration": 35,
    "start_time": "2022-01-24T18:42:27.973Z"
   },
   {
    "duration": 92,
    "start_time": "2022-01-24T19:00:48.082Z"
   },
   {
    "duration": 14,
    "start_time": "2022-01-24T19:01:00.846Z"
   },
   {
    "duration": 208,
    "start_time": "2022-01-24T19:04:25.325Z"
   },
   {
    "duration": 4,
    "start_time": "2022-01-24T19:04:44.542Z"
   },
   {
    "duration": 15,
    "start_time": "2022-01-24T19:04:50.706Z"
   },
   {
    "duration": 31,
    "start_time": "2022-01-24T19:06:36.595Z"
   },
   {
    "duration": 5,
    "start_time": "2022-01-24T19:07:25.237Z"
   },
   {
    "duration": 11,
    "start_time": "2022-01-24T19:07:26.868Z"
   },
   {
    "duration": 3,
    "start_time": "2022-01-24T19:07:35.446Z"
   },
   {
    "duration": 151,
    "start_time": "2022-01-24T19:07:35.949Z"
   },
   {
    "duration": 20,
    "start_time": "2022-01-24T19:07:36.443Z"
   },
   {
    "duration": 24,
    "start_time": "2022-01-24T19:07:36.904Z"
   },
   {
    "duration": 71,
    "start_time": "2022-01-24T19:07:37.359Z"
   },
   {
    "duration": 119,
    "start_time": "2022-01-24T19:07:38.739Z"
   },
   {
    "duration": 18,
    "start_time": "2022-01-24T19:07:39.674Z"
   },
   {
    "duration": 29,
    "start_time": "2022-01-24T19:07:40.750Z"
   },
   {
    "duration": 45,
    "start_time": "2022-01-24T19:07:41.452Z"
   },
   {
    "duration": 4,
    "start_time": "2022-01-24T19:07:50.088Z"
   },
   {
    "duration": 10,
    "start_time": "2022-01-24T19:08:01.230Z"
   },
   {
    "duration": 17,
    "start_time": "2022-01-24T19:08:47.421Z"
   },
   {
    "duration": 86,
    "start_time": "2022-01-24T19:08:48.885Z"
   },
   {
    "duration": 14,
    "start_time": "2022-01-24T19:08:49.844Z"
   },
   {
    "duration": 14,
    "start_time": "2022-01-24T19:08:50.520Z"
   },
   {
    "duration": 36,
    "start_time": "2022-01-24T19:08:51.326Z"
   },
   {
    "duration": 20,
    "start_time": "2022-01-24T19:08:54.619Z"
   },
   {
    "duration": 7,
    "start_time": "2022-01-24T19:09:00.704Z"
   },
   {
    "duration": 6,
    "start_time": "2022-01-24T19:09:01.727Z"
   },
   {
    "duration": 62,
    "start_time": "2022-01-24T19:09:03.657Z"
   },
   {
    "duration": 7,
    "start_time": "2022-01-24T19:09:05.353Z"
   },
   {
    "duration": 5,
    "start_time": "2022-01-24T19:09:09.004Z"
   },
   {
    "duration": 9,
    "start_time": "2022-01-24T19:09:09.653Z"
   },
   {
    "duration": 6,
    "start_time": "2022-01-24T19:09:13.168Z"
   },
   {
    "duration": 16,
    "start_time": "2022-01-24T19:09:14.082Z"
   },
   {
    "duration": 6,
    "start_time": "2022-01-24T19:09:15.267Z"
   },
   {
    "duration": 31,
    "start_time": "2022-01-24T19:09:20.510Z"
   },
   {
    "duration": 83,
    "start_time": "2022-01-24T19:09:27.028Z"
   },
   {
    "duration": 10,
    "start_time": "2022-01-24T19:09:33.437Z"
   },
   {
    "duration": 54,
    "start_time": "2022-01-24T19:09:43.874Z"
   },
   {
    "duration": 26,
    "start_time": "2022-01-24T19:09:49.664Z"
   },
   {
    "duration": 39,
    "start_time": "2022-01-24T19:09:57.144Z"
   },
   {
    "duration": 14,
    "start_time": "2022-01-24T19:09:58.946Z"
   },
   {
    "duration": 25,
    "start_time": "2022-01-24T19:10:02.654Z"
   },
   {
    "duration": 41,
    "start_time": "2022-01-24T19:10:05.490Z"
   },
   {
    "duration": 41,
    "start_time": "2022-01-24T19:10:10.758Z"
   },
   {
    "duration": 18,
    "start_time": "2022-01-24T19:10:13.143Z"
   },
   {
    "duration": 30,
    "start_time": "2022-01-24T19:10:15.718Z"
   },
   {
    "duration": 17,
    "start_time": "2022-01-24T19:10:18.065Z"
   },
   {
    "duration": 30,
    "start_time": "2022-01-24T19:10:20.977Z"
   },
   {
    "duration": 52,
    "start_time": "2022-01-24T19:10:24.452Z"
   },
   {
    "duration": 37,
    "start_time": "2022-01-24T19:10:33.555Z"
   },
   {
    "duration": 22,
    "start_time": "2022-01-24T19:10:51.637Z"
   },
   {
    "duration": 32,
    "start_time": "2022-01-24T19:10:53.543Z"
   },
   {
    "duration": 14,
    "start_time": "2022-01-24T19:10:59.533Z"
   },
   {
    "duration": 14,
    "start_time": "2022-01-24T19:11:01.974Z"
   },
   {
    "duration": 11,
    "start_time": "2022-01-24T19:12:16.073Z"
   },
   {
    "duration": 19,
    "start_time": "2022-01-24T19:23:14.951Z"
   },
   {
    "duration": 32,
    "start_time": "2022-01-24T19:23:26.738Z"
   },
   {
    "duration": 28,
    "start_time": "2022-01-24T19:24:56.156Z"
   },
   {
    "duration": 12,
    "start_time": "2022-01-24T19:24:56.657Z"
   },
   {
    "duration": 35,
    "start_time": "2022-01-24T19:24:57.110Z"
   },
   {
    "duration": 13,
    "start_time": "2022-01-24T19:24:58.039Z"
   },
   {
    "duration": 16,
    "start_time": "2022-01-24T19:24:58.502Z"
   },
   {
    "duration": 14,
    "start_time": "2022-01-24T19:24:58.935Z"
   },
   {
    "duration": 9,
    "start_time": "2022-01-24T19:24:59.377Z"
   },
   {
    "duration": 17,
    "start_time": "2022-01-24T19:24:59.827Z"
   },
   {
    "duration": 4,
    "start_time": "2022-01-24T19:25:00.711Z"
   },
   {
    "duration": 4,
    "start_time": "2022-01-24T19:25:01.180Z"
   },
   {
    "duration": 4,
    "start_time": "2022-01-24T19:25:01.614Z"
   },
   {
    "duration": 15,
    "start_time": "2022-01-24T19:25:02.048Z"
   },
   {
    "duration": 113,
    "start_time": "2022-01-24T19:25:02.750Z"
   },
   {
    "duration": 15,
    "start_time": "2022-01-24T19:25:02.931Z"
   },
   {
    "duration": 3,
    "start_time": "2022-01-24T19:25:03.388Z"
   },
   {
    "duration": 15,
    "start_time": "2022-01-24T19:25:03.873Z"
   },
   {
    "duration": 4,
    "start_time": "2022-01-24T19:33:14.512Z"
   },
   {
    "duration": 4,
    "start_time": "2022-01-24T19:35:46.389Z"
   },
   {
    "duration": 3,
    "start_time": "2022-01-24T19:36:06.632Z"
   },
   {
    "duration": 17,
    "start_time": "2022-01-24T19:36:08.500Z"
   },
   {
    "duration": 95,
    "start_time": "2022-01-24T19:36:25.968Z"
   },
   {
    "duration": 4,
    "start_time": "2022-01-24T19:36:29.231Z"
   },
   {
    "duration": 16,
    "start_time": "2022-01-24T19:36:29.814Z"
   },
   {
    "duration": 3,
    "start_time": "2022-01-24T19:36:43.254Z"
   },
   {
    "duration": 143,
    "start_time": "2022-01-24T19:36:43.704Z"
   },
   {
    "duration": 21,
    "start_time": "2022-01-24T19:36:44.086Z"
   },
   {
    "duration": 25,
    "start_time": "2022-01-24T19:36:44.726Z"
   },
   {
    "duration": 78,
    "start_time": "2022-01-24T19:36:44.876Z"
   },
   {
    "duration": 114,
    "start_time": "2022-01-24T19:36:45.658Z"
   },
   {
    "duration": 17,
    "start_time": "2022-01-24T19:36:46.036Z"
   },
   {
    "duration": 26,
    "start_time": "2022-01-24T19:36:46.443Z"
   },
   {
    "duration": 48,
    "start_time": "2022-01-24T19:36:46.825Z"
   },
   {
    "duration": 5,
    "start_time": "2022-01-24T19:36:47.666Z"
   },
   {
    "duration": 10,
    "start_time": "2022-01-24T19:36:48.059Z"
   },
   {
    "duration": 18,
    "start_time": "2022-01-24T19:36:48.516Z"
   },
   {
    "duration": 94,
    "start_time": "2022-01-24T19:36:48.927Z"
   },
   {
    "duration": 15,
    "start_time": "2022-01-24T19:36:49.344Z"
   },
   {
    "duration": 12,
    "start_time": "2022-01-24T19:36:49.727Z"
   },
   {
    "duration": 37,
    "start_time": "2022-01-24T19:36:50.140Z"
   },
   {
    "duration": 20,
    "start_time": "2022-01-24T19:36:50.972Z"
   },
   {
    "duration": 7,
    "start_time": "2022-01-24T19:36:51.369Z"
   },
   {
    "duration": 6,
    "start_time": "2022-01-24T19:36:51.768Z"
   },
   {
    "duration": 30,
    "start_time": "2022-01-24T19:36:52.834Z"
   },
   {
    "duration": 7,
    "start_time": "2022-01-24T19:36:52.942Z"
   },
   {
    "duration": 3,
    "start_time": "2022-01-24T19:36:53.807Z"
   },
   {
    "duration": 10,
    "start_time": "2022-01-24T19:36:54.166Z"
   },
   {
    "duration": 7,
    "start_time": "2022-01-24T19:36:54.587Z"
   },
   {
    "duration": 15,
    "start_time": "2022-01-24T19:36:55.623Z"
   },
   {
    "duration": 8,
    "start_time": "2022-01-24T19:36:55.640Z"
   },
   {
    "duration": 31,
    "start_time": "2022-01-24T19:36:56.960Z"
   },
   {
    "duration": 91,
    "start_time": "2022-01-24T19:36:57.378Z"
   },
   {
    "duration": 11,
    "start_time": "2022-01-24T19:36:57.799Z"
   },
   {
    "duration": 54,
    "start_time": "2022-01-24T19:36:58.488Z"
   },
   {
    "duration": 27,
    "start_time": "2022-01-24T19:36:59.085Z"
   },
   {
    "duration": 42,
    "start_time": "2022-01-24T19:37:00.259Z"
   },
   {
    "duration": 15,
    "start_time": "2022-01-24T19:37:00.805Z"
   },
   {
    "duration": 25,
    "start_time": "2022-01-24T19:37:01.422Z"
   },
   {
    "duration": 41,
    "start_time": "2022-01-24T19:37:01.961Z"
   },
   {
    "duration": 38,
    "start_time": "2022-01-24T19:37:02.798Z"
   },
   {
    "duration": 18,
    "start_time": "2022-01-24T19:37:03.613Z"
   },
   {
    "duration": 29,
    "start_time": "2022-01-24T19:37:05.207Z"
   },
   {
    "duration": 18,
    "start_time": "2022-01-24T19:37:05.876Z"
   },
   {
    "duration": 28,
    "start_time": "2022-01-24T19:37:06.476Z"
   },
   {
    "duration": 51,
    "start_time": "2022-01-24T19:37:08.063Z"
   },
   {
    "duration": 34,
    "start_time": "2022-01-24T19:37:08.305Z"
   },
   {
    "duration": 13,
    "start_time": "2022-01-24T19:37:10.721Z"
   },
   {
    "duration": 33,
    "start_time": "2022-01-24T19:37:12.224Z"
   },
   {
    "duration": 14,
    "start_time": "2022-01-24T19:37:16.460Z"
   },
   {
    "duration": 15,
    "start_time": "2022-01-24T19:37:18.069Z"
   },
   {
    "duration": 15,
    "start_time": "2022-01-24T19:37:18.706Z"
   },
   {
    "duration": 10,
    "start_time": "2022-01-24T19:37:20.752Z"
   },
   {
    "duration": 17,
    "start_time": "2022-01-24T19:37:23.773Z"
   },
   {
    "duration": 4,
    "start_time": "2022-01-24T19:37:27.134Z"
   },
   {
    "duration": 3,
    "start_time": "2022-01-24T19:37:38.934Z"
   },
   {
    "duration": 4,
    "start_time": "2022-01-24T19:37:40.146Z"
   },
   {
    "duration": 4,
    "start_time": "2022-01-24T19:37:41.271Z"
   },
   {
    "duration": 15,
    "start_time": "2022-01-24T19:37:42.558Z"
   },
   {
    "duration": 96,
    "start_time": "2022-01-24T19:37:51.552Z"
   },
   {
    "duration": 15,
    "start_time": "2022-01-24T19:37:56.478Z"
   },
   {
    "duration": 4,
    "start_time": "2022-01-24T19:38:05.842Z"
   },
   {
    "duration": 16,
    "start_time": "2022-01-24T19:38:06.961Z"
   },
   {
    "duration": 33,
    "start_time": "2022-01-24T19:41:21.816Z"
   },
   {
    "duration": 31,
    "start_time": "2022-01-24T19:41:41.635Z"
   },
   {
    "duration": 13,
    "start_time": "2022-01-24T19:41:55.361Z"
   },
   {
    "duration": 3,
    "start_time": "2022-01-24T19:43:42.856Z"
   },
   {
    "duration": 143,
    "start_time": "2022-01-24T19:43:43.175Z"
   },
   {
    "duration": 20,
    "start_time": "2022-01-24T19:43:44.121Z"
   },
   {
    "duration": 25,
    "start_time": "2022-01-24T19:43:44.953Z"
   },
   {
    "duration": 79,
    "start_time": "2022-01-24T19:43:45.482Z"
   },
   {
    "duration": 121,
    "start_time": "2022-01-24T19:43:47.808Z"
   },
   {
    "duration": 17,
    "start_time": "2022-01-24T19:43:50.024Z"
   },
   {
    "duration": 27,
    "start_time": "2022-01-24T19:43:51.141Z"
   },
   {
    "duration": 49,
    "start_time": "2022-01-24T19:43:53.324Z"
   },
   {
    "duration": 4,
    "start_time": "2022-01-24T19:43:57.286Z"
   },
   {
    "duration": 10,
    "start_time": "2022-01-24T19:43:57.940Z"
   },
   {
    "duration": 19,
    "start_time": "2022-01-24T19:43:59.805Z"
   },
   {
    "duration": 87,
    "start_time": "2022-01-24T19:44:04.297Z"
   },
   {
    "duration": 14,
    "start_time": "2022-01-24T19:44:05.830Z"
   },
   {
    "duration": 14,
    "start_time": "2022-01-24T19:44:06.997Z"
   },
   {
    "duration": 36,
    "start_time": "2022-01-24T19:44:08.696Z"
   },
   {
    "duration": 22,
    "start_time": "2022-01-24T19:44:10.873Z"
   },
   {
    "duration": 6,
    "start_time": "2022-01-24T19:44:13.013Z"
   },
   {
    "duration": 5,
    "start_time": "2022-01-24T19:44:14.397Z"
   },
   {
    "duration": 39,
    "start_time": "2022-01-24T19:44:18.455Z"
   },
   {
    "duration": 7,
    "start_time": "2022-01-24T19:44:22.468Z"
   },
   {
    "duration": 3,
    "start_time": "2022-01-24T19:44:28.083Z"
   },
   {
    "duration": 9,
    "start_time": "2022-01-24T19:44:29.270Z"
   },
   {
    "duration": 6,
    "start_time": "2022-01-24T19:44:30.092Z"
   },
   {
    "duration": 14,
    "start_time": "2022-01-24T19:44:31.902Z"
   },
   {
    "duration": 8,
    "start_time": "2022-01-24T19:44:35.011Z"
   },
   {
    "duration": 28,
    "start_time": "2022-01-24T19:44:47.840Z"
   },
   {
    "duration": 84,
    "start_time": "2022-01-24T19:44:49.491Z"
   },
   {
    "duration": 11,
    "start_time": "2022-01-24T19:44:53.794Z"
   },
   {
    "duration": 49,
    "start_time": "2022-01-24T19:46:16.595Z"
   },
   {
    "duration": 20,
    "start_time": "2022-01-24T19:46:27.726Z"
   },
   {
    "duration": 38,
    "start_time": "2022-01-24T19:46:29.422Z"
   },
   {
    "duration": 46,
    "start_time": "2022-01-24T19:46:32.094Z"
   },
   {
    "duration": 2,
    "start_time": "2022-01-24T19:46:44.209Z"
   },
   {
    "duration": 2,
    "start_time": "2022-01-24T19:46:52.813Z"
   },
   {
    "duration": 310,
    "start_time": "2022-01-24T19:47:51.590Z"
   },
   {
    "duration": 639,
    "start_time": "2022-01-24T19:48:14.943Z"
   },
   {
    "duration": 38,
    "start_time": "2022-01-24T19:48:36.295Z"
   },
   {
    "duration": 4,
    "start_time": "2022-01-24T19:51:44.405Z"
   },
   {
    "duration": 4,
    "start_time": "2022-01-24T19:53:26.071Z"
   },
   {
    "duration": 16,
    "start_time": "2022-01-24T19:53:42.322Z"
   },
   {
    "duration": 29,
    "start_time": "2022-01-24T19:53:43.612Z"
   },
   {
    "duration": 50,
    "start_time": "2022-01-24T19:53:51.840Z"
   },
   {
    "duration": 3,
    "start_time": "2022-01-24T19:54:05.237Z"
   },
   {
    "duration": 3,
    "start_time": "2022-01-24T19:54:15.413Z"
   },
   {
    "duration": 46,
    "start_time": "2022-01-24T19:54:40.129Z"
   },
   {
    "duration": 9,
    "start_time": "2022-01-24T19:57:11.367Z"
   },
   {
    "duration": 4,
    "start_time": "2022-01-24T19:59:04.070Z"
   },
   {
    "duration": 8,
    "start_time": "2022-01-24T19:59:19.589Z"
   },
   {
    "duration": 14,
    "start_time": "2022-01-24T19:59:35.785Z"
   },
   {
    "duration": 14,
    "start_time": "2022-01-24T19:59:47.914Z"
   },
   {
    "duration": 17,
    "start_time": "2022-01-24T19:59:59.777Z"
   },
   {
    "duration": 10,
    "start_time": "2022-01-24T20:00:06.895Z"
   },
   {
    "duration": 16,
    "start_time": "2022-01-24T20:00:10.246Z"
   },
   {
    "duration": 4,
    "start_time": "2022-01-24T20:00:23.562Z"
   },
   {
    "duration": 4727,
    "start_time": "2022-01-24T20:00:28.031Z"
   },
   {
    "duration": -509,
    "start_time": "2022-01-24T20:00:33.269Z"
   },
   {
    "duration": -513,
    "start_time": "2022-01-24T20:00:33.274Z"
   },
   {
    "duration": 4,
    "start_time": "2022-01-24T20:00:51.384Z"
   },
   {
    "duration": 4873,
    "start_time": "2022-01-24T20:00:56.325Z"
   },
   {
    "duration": 5,
    "start_time": "2022-01-24T20:01:27.239Z"
   },
   {
    "duration": 6,
    "start_time": "2022-01-24T20:01:34.525Z"
   },
   {
    "duration": 15,
    "start_time": "2022-01-24T20:01:37.690Z"
   },
   {
    "duration": 121,
    "start_time": "2022-01-24T20:01:44.601Z"
   },
   {
    "duration": 15,
    "start_time": "2022-01-24T20:01:46.291Z"
   },
   {
    "duration": 4,
    "start_time": "2022-01-24T20:01:51.790Z"
   },
   {
    "duration": 15,
    "start_time": "2022-01-24T20:01:52.693Z"
   },
   {
    "duration": 1053,
    "start_time": "2022-01-25T08:57:28.964Z"
   },
   {
    "duration": 150,
    "start_time": "2022-01-25T08:57:30.018Z"
   },
   {
    "duration": 19,
    "start_time": "2022-01-25T08:57:30.170Z"
   },
   {
    "duration": 27,
    "start_time": "2022-01-25T08:57:30.682Z"
   },
   {
    "duration": 82,
    "start_time": "2022-01-25T08:57:31.197Z"
   },
   {
    "duration": 118,
    "start_time": "2022-01-25T08:57:32.226Z"
   },
   {
    "duration": 18,
    "start_time": "2022-01-25T08:57:32.724Z"
   },
   {
    "duration": 24,
    "start_time": "2022-01-25T08:57:33.289Z"
   },
   {
    "duration": 49,
    "start_time": "2022-01-25T08:57:33.747Z"
   },
   {
    "duration": 6,
    "start_time": "2022-01-25T08:57:34.736Z"
   },
   {
    "duration": 9,
    "start_time": "2022-01-25T08:57:35.184Z"
   },
   {
    "duration": 19,
    "start_time": "2022-01-25T08:57:35.679Z"
   },
   {
    "duration": 87,
    "start_time": "2022-01-25T08:57:36.184Z"
   },
   {
    "duration": 14,
    "start_time": "2022-01-25T08:57:36.657Z"
   },
   {
    "duration": 12,
    "start_time": "2022-01-25T08:57:37.120Z"
   },
   {
    "duration": 36,
    "start_time": "2022-01-25T08:57:37.638Z"
   },
   {
    "duration": 21,
    "start_time": "2022-01-25T08:57:38.605Z"
   },
   {
    "duration": 8,
    "start_time": "2022-01-25T08:57:39.144Z"
   },
   {
    "duration": 6,
    "start_time": "2022-01-25T08:57:39.668Z"
   },
   {
    "duration": 34,
    "start_time": "2022-01-25T08:57:40.619Z"
   },
   {
    "duration": 7,
    "start_time": "2022-01-25T08:57:41.088Z"
   },
   {
    "duration": 3,
    "start_time": "2022-01-25T08:57:42.078Z"
   },
   {
    "duration": 8,
    "start_time": "2022-01-25T08:57:44.658Z"
   },
   {
    "duration": 7,
    "start_time": "2022-01-25T08:57:45.288Z"
   },
   {
    "duration": 13,
    "start_time": "2022-01-25T08:57:45.877Z"
   },
   {
    "duration": 7,
    "start_time": "2022-01-25T08:57:46.456Z"
   },
   {
    "duration": 30,
    "start_time": "2022-01-25T08:57:48.720Z"
   },
   {
    "duration": 80,
    "start_time": "2022-01-25T08:57:49.336Z"
   },
   {
    "duration": 10,
    "start_time": "2022-01-25T08:57:49.915Z"
   },
   {
    "duration": 2,
    "start_time": "2022-01-25T08:57:50.458Z"
   },
   {
    "duration": 2,
    "start_time": "2022-01-25T08:57:50.981Z"
   },
   {
    "duration": 46,
    "start_time": "2022-01-25T08:57:51.604Z"
   },
   {
    "duration": 4,
    "start_time": "2022-01-25T08:57:52.160Z"
   },
   {
    "duration": 14,
    "start_time": "2022-01-25T08:57:52.748Z"
   },
   {
    "duration": 24,
    "start_time": "2022-01-25T08:57:53.282Z"
   },
   {
    "duration": 41,
    "start_time": "2022-01-25T08:57:53.897Z"
   },
   {
    "duration": 2,
    "start_time": "2022-01-25T08:57:54.369Z"
   },
   {
    "duration": 3,
    "start_time": "2022-01-25T08:57:55.019Z"
   },
   {
    "duration": 44,
    "start_time": "2022-01-25T08:57:55.557Z"
   },
   {
    "duration": 4,
    "start_time": "2022-01-25T08:57:56.097Z"
   },
   {
    "duration": 16,
    "start_time": "2022-01-25T08:57:56.710Z"
   },
   {
    "duration": 29,
    "start_time": "2022-01-25T08:57:57.376Z"
   },
   {
    "duration": 50,
    "start_time": "2022-01-25T08:57:57.909Z"
   },
   {
    "duration": 2,
    "start_time": "2022-01-25T08:57:58.463Z"
   },
   {
    "duration": 2,
    "start_time": "2022-01-25T08:57:58.922Z"
   },
   {
    "duration": 41,
    "start_time": "2022-01-25T08:57:59.487Z"
   },
   {
    "duration": 7,
    "start_time": "2022-01-25T08:57:59.990Z"
   },
   {
    "duration": 8,
    "start_time": "2022-01-25T08:58:00.522Z"
   },
   {
    "duration": 13,
    "start_time": "2022-01-25T08:58:01.629Z"
   },
   {
    "duration": 14,
    "start_time": "2022-01-25T08:58:02.214Z"
   },
   {
    "duration": 13,
    "start_time": "2022-01-25T08:58:02.890Z"
   },
   {
    "duration": 8,
    "start_time": "2022-01-25T08:58:03.402Z"
   },
   {
    "duration": 14,
    "start_time": "2022-01-25T08:58:03.990Z"
   },
   {
    "duration": 4,
    "start_time": "2022-01-25T08:58:04.547Z"
   },
   {
    "duration": 4,
    "start_time": "2022-01-25T08:58:05.528Z"
   },
   {
    "duration": 4,
    "start_time": "2022-01-25T08:58:06.161Z"
   },
   {
    "duration": 3,
    "start_time": "2022-01-25T08:58:06.655Z"
   },
   {
    "duration": 13,
    "start_time": "2022-01-25T08:58:07.194Z"
   },
   {
    "duration": 120,
    "start_time": "2022-01-25T08:58:07.712Z"
   },
   {
    "duration": 15,
    "start_time": "2022-01-25T08:58:08.297Z"
   },
   {
    "duration": 4,
    "start_time": "2022-01-25T08:58:08.796Z"
   },
   {
    "duration": 15,
    "start_time": "2022-01-25T08:58:09.349Z"
   },
   {
    "duration": 27,
    "start_time": "2022-01-25T08:58:24.447Z"
   },
   {
    "duration": 13,
    "start_time": "2022-01-25T09:00:43.567Z"
   },
   {
    "duration": 5,
    "start_time": "2022-01-25T09:28:35.385Z"
   },
   {
    "duration": 390,
    "start_time": "2022-01-25T09:29:49.219Z"
   },
   {
    "duration": 337,
    "start_time": "2022-01-25T09:31:48.571Z"
   },
   {
    "duration": 287,
    "start_time": "2022-01-25T09:32:47.559Z"
   },
   {
    "duration": 302,
    "start_time": "2022-01-25T09:33:27.706Z"
   },
   {
    "duration": 20,
    "start_time": "2022-01-25T09:34:10.212Z"
   },
   {
    "duration": 17,
    "start_time": "2022-01-25T09:34:45.905Z"
   },
   {
    "duration": 714,
    "start_time": "2022-01-25T09:35:50.559Z"
   },
   {
    "duration": 3,
    "start_time": "2022-01-25T09:36:04.501Z"
   },
   {
    "duration": 141,
    "start_time": "2022-01-25T09:36:04.945Z"
   },
   {
    "duration": 20,
    "start_time": "2022-01-25T09:36:05.341Z"
   },
   {
    "duration": 23,
    "start_time": "2022-01-25T09:36:05.736Z"
   },
   {
    "duration": 75,
    "start_time": "2022-01-25T09:36:06.147Z"
   },
   {
    "duration": 123,
    "start_time": "2022-01-25T09:36:06.942Z"
   },
   {
    "duration": 26,
    "start_time": "2022-01-25T09:36:07.367Z"
   },
   {
    "duration": 26,
    "start_time": "2022-01-25T09:36:07.797Z"
   },
   {
    "duration": 47,
    "start_time": "2022-01-25T09:36:08.188Z"
   },
   {
    "duration": 5,
    "start_time": "2022-01-25T09:36:09.022Z"
   },
   {
    "duration": 9,
    "start_time": "2022-01-25T09:36:09.411Z"
   },
   {
    "duration": 19,
    "start_time": "2022-01-25T09:36:09.802Z"
   },
   {
    "duration": 90,
    "start_time": "2022-01-25T09:36:10.211Z"
   },
   {
    "duration": 15,
    "start_time": "2022-01-25T09:36:10.645Z"
   },
   {
    "duration": 12,
    "start_time": "2022-01-25T09:36:11.078Z"
   },
   {
    "duration": 34,
    "start_time": "2022-01-25T09:36:11.501Z"
   },
   {
    "duration": 21,
    "start_time": "2022-01-25T09:36:12.301Z"
   },
   {
    "duration": 6,
    "start_time": "2022-01-25T09:36:12.720Z"
   },
   {
    "duration": 8,
    "start_time": "2022-01-25T09:36:13.208Z"
   },
   {
    "duration": 33,
    "start_time": "2022-01-25T09:36:14.017Z"
   },
   {
    "duration": 6,
    "start_time": "2022-01-25T09:36:14.416Z"
   },
   {
    "duration": 3,
    "start_time": "2022-01-25T09:36:15.261Z"
   },
   {
    "duration": 9,
    "start_time": "2022-01-25T09:36:15.701Z"
   },
   {
    "duration": 7,
    "start_time": "2022-01-25T09:36:16.123Z"
   },
   {
    "duration": 15,
    "start_time": "2022-01-25T09:36:16.514Z"
   },
   {
    "duration": 6,
    "start_time": "2022-01-25T09:36:16.960Z"
   },
   {
    "duration": 32,
    "start_time": "2022-01-25T09:36:18.892Z"
   },
   {
    "duration": 80,
    "start_time": "2022-01-25T09:36:19.355Z"
   },
   {
    "duration": 10,
    "start_time": "2022-01-25T09:36:19.783Z"
   },
   {
    "duration": 3,
    "start_time": "2022-01-25T09:36:20.221Z"
   },
   {
    "duration": 2,
    "start_time": "2022-01-25T09:36:20.643Z"
   },
   {
    "duration": 46,
    "start_time": "2022-01-25T09:36:21.083Z"
   },
   {
    "duration": 4,
    "start_time": "2022-01-25T09:36:21.514Z"
   },
   {
    "duration": 15,
    "start_time": "2022-01-25T09:36:21.970Z"
   },
   {
    "duration": 24,
    "start_time": "2022-01-25T09:36:22.387Z"
   },
   {
    "duration": 45,
    "start_time": "2022-01-25T09:36:22.824Z"
   },
   {
    "duration": 2,
    "start_time": "2022-01-25T09:36:23.250Z"
   },
   {
    "duration": 2,
    "start_time": "2022-01-25T09:36:23.655Z"
   },
   {
    "duration": 43,
    "start_time": "2022-01-25T09:36:24.083Z"
   },
   {
    "duration": 5,
    "start_time": "2022-01-25T09:36:24.486Z"
   },
   {
    "duration": 18,
    "start_time": "2022-01-25T09:36:24.894Z"
   },
   {
    "duration": 30,
    "start_time": "2022-01-25T09:36:25.297Z"
   },
   {
    "duration": 49,
    "start_time": "2022-01-25T09:36:25.747Z"
   },
   {
    "duration": 2,
    "start_time": "2022-01-25T09:36:26.184Z"
   },
   {
    "duration": 2,
    "start_time": "2022-01-25T09:36:26.592Z"
   },
   {
    "duration": 44,
    "start_time": "2022-01-25T09:36:27.035Z"
   },
   {
    "duration": 9,
    "start_time": "2022-01-25T09:36:27.470Z"
   },
   {
    "duration": 9,
    "start_time": "2022-01-25T09:36:27.875Z"
   },
   {
    "duration": 13,
    "start_time": "2022-01-25T09:36:28.737Z"
   },
   {
    "duration": 14,
    "start_time": "2022-01-25T09:36:29.149Z"
   },
   {
    "duration": 15,
    "start_time": "2022-01-25T09:36:29.621Z"
   },
   {
    "duration": 9,
    "start_time": "2022-01-25T09:36:30.051Z"
   },
   {
    "duration": 15,
    "start_time": "2022-01-25T09:36:30.493Z"
   },
   {
    "duration": 4,
    "start_time": "2022-01-25T09:36:30.913Z"
   },
   {
    "duration": 4,
    "start_time": "2022-01-25T09:36:31.789Z"
   },
   {
    "duration": 5,
    "start_time": "2022-01-25T09:36:32.232Z"
   },
   {
    "duration": 4,
    "start_time": "2022-01-25T09:36:32.609Z"
   },
   {
    "duration": 14,
    "start_time": "2022-01-25T09:36:33.024Z"
   },
   {
    "duration": 116,
    "start_time": "2022-01-25T09:36:33.451Z"
   },
   {
    "duration": 13,
    "start_time": "2022-01-25T09:36:33.907Z"
   },
   {
    "duration": 4,
    "start_time": "2022-01-25T09:36:34.350Z"
   },
   {
    "duration": 15,
    "start_time": "2022-01-25T09:36:34.791Z"
   },
   {
    "duration": 312,
    "start_time": "2022-01-25T09:36:35.615Z"
   },
   {
    "duration": 11,
    "start_time": "2022-01-25T09:36:57.523Z"
   },
   {
    "duration": 19,
    "start_time": "2022-01-25T09:37:29.226Z"
   },
   {
    "duration": 17,
    "start_time": "2022-01-25T09:38:22.975Z"
   },
   {
    "duration": 165,
    "start_time": "2022-01-25T09:42:05.185Z"
   },
   {
    "duration": 152,
    "start_time": "2022-01-25T09:42:20.199Z"
   },
   {
    "duration": 150,
    "start_time": "2022-01-25T09:43:35.168Z"
   },
   {
    "duration": 89,
    "start_time": "2022-01-25T09:47:40.845Z"
   },
   {
    "duration": 166,
    "start_time": "2022-01-25T09:47:49.609Z"
   },
   {
    "duration": 299,
    "start_time": "2022-01-25T09:48:33.141Z"
   },
   {
    "duration": 3,
    "start_time": "2022-01-25T09:54:32.276Z"
   },
   {
    "duration": 148,
    "start_time": "2022-01-25T09:54:32.656Z"
   },
   {
    "duration": 34,
    "start_time": "2022-01-25T09:54:33.008Z"
   },
   {
    "duration": 33,
    "start_time": "2022-01-25T09:54:33.365Z"
   },
   {
    "duration": 100,
    "start_time": "2022-01-25T09:54:33.703Z"
   },
   {
    "duration": 177,
    "start_time": "2022-01-25T09:54:34.433Z"
   },
   {
    "duration": 29,
    "start_time": "2022-01-25T09:54:34.806Z"
   },
   {
    "duration": 37,
    "start_time": "2022-01-25T09:54:35.169Z"
   },
   {
    "duration": 69,
    "start_time": "2022-01-25T09:54:35.558Z"
   },
   {
    "duration": 5,
    "start_time": "2022-01-25T09:54:36.303Z"
   },
   {
    "duration": 11,
    "start_time": "2022-01-25T09:54:36.691Z"
   },
   {
    "duration": 30,
    "start_time": "2022-01-25T09:54:37.024Z"
   },
   {
    "duration": 123,
    "start_time": "2022-01-25T09:54:37.374Z"
   },
   {
    "duration": 22,
    "start_time": "2022-01-25T09:54:37.773Z"
   },
   {
    "duration": 18,
    "start_time": "2022-01-25T09:54:38.144Z"
   },
   {
    "duration": 38,
    "start_time": "2022-01-25T09:54:38.493Z"
   },
   {
    "duration": 21,
    "start_time": "2022-01-25T09:54:39.247Z"
   },
   {
    "duration": 6,
    "start_time": "2022-01-25T09:54:39.606Z"
   },
   {
    "duration": 6,
    "start_time": "2022-01-25T09:54:39.992Z"
   },
   {
    "duration": 38,
    "start_time": "2022-01-25T09:54:40.758Z"
   },
   {
    "duration": 8,
    "start_time": "2022-01-25T09:54:41.122Z"
   },
   {
    "duration": 4,
    "start_time": "2022-01-25T09:54:41.820Z"
   },
   {
    "duration": 13,
    "start_time": "2022-01-25T09:54:42.184Z"
   },
   {
    "duration": 6,
    "start_time": "2022-01-25T09:54:42.560Z"
   },
   {
    "duration": 13,
    "start_time": "2022-01-25T09:54:42.928Z"
   },
   {
    "duration": 6,
    "start_time": "2022-01-25T09:54:43.321Z"
   },
   {
    "duration": 30,
    "start_time": "2022-01-25T09:54:44.881Z"
   },
   {
    "duration": 306,
    "start_time": "2022-01-25T09:54:45.245Z"
   },
   {
    "duration": 9,
    "start_time": "2022-01-25T09:54:45.688Z"
   },
   {
    "duration": 2,
    "start_time": "2022-01-25T09:54:46.066Z"
   },
   {
    "duration": 396,
    "start_time": "2022-01-25T09:54:51.912Z"
   },
   {
    "duration": 37,
    "start_time": "2022-01-25T09:55:06.903Z"
   },
   {
    "duration": 10,
    "start_time": "2022-01-25T09:55:09.084Z"
   },
   {
    "duration": 3,
    "start_time": "2022-01-25T09:55:09.465Z"
   },
   {
    "duration": 2,
    "start_time": "2022-01-25T09:55:09.901Z"
   },
   {
    "duration": 30,
    "start_time": "2022-01-25T09:55:10.319Z"
   },
   {
    "duration": 5,
    "start_time": "2022-01-25T09:55:10.711Z"
   },
   {
    "duration": 15,
    "start_time": "2022-01-25T09:55:11.123Z"
   },
   {
    "duration": 24,
    "start_time": "2022-01-25T09:55:11.525Z"
   },
   {
    "duration": 60,
    "start_time": "2022-01-25T09:55:11.923Z"
   },
   {
    "duration": 3,
    "start_time": "2022-01-25T09:55:12.360Z"
   },
   {
    "duration": 3,
    "start_time": "2022-01-25T09:55:12.749Z"
   },
   {
    "duration": 45,
    "start_time": "2022-01-25T09:55:13.169Z"
   },
   {
    "duration": 4,
    "start_time": "2022-01-25T09:55:13.566Z"
   },
   {
    "duration": 17,
    "start_time": "2022-01-25T09:55:13.989Z"
   },
   {
    "duration": 45,
    "start_time": "2022-01-25T09:55:14.390Z"
   },
   {
    "duration": 52,
    "start_time": "2022-01-25T09:55:14.787Z"
   },
   {
    "duration": 2,
    "start_time": "2022-01-25T09:55:15.175Z"
   },
   {
    "duration": 3,
    "start_time": "2022-01-25T09:55:15.669Z"
   },
   {
    "duration": 48,
    "start_time": "2022-01-25T09:55:16.061Z"
   },
   {
    "duration": 8,
    "start_time": "2022-01-25T09:55:16.494Z"
   },
   {
    "duration": 9,
    "start_time": "2022-01-25T09:55:17.799Z"
   },
   {
    "duration": 327,
    "start_time": "2022-01-25T09:55:18.729Z"
   },
   {
    "duration": 31,
    "start_time": "2022-01-25T09:55:19.178Z"
   },
   {
    "duration": 28,
    "start_time": "2022-01-25T09:55:19.671Z"
   },
   {
    "duration": 10,
    "start_time": "2022-01-25T09:55:20.165Z"
   },
   {
    "duration": 306,
    "start_time": "2022-01-25T09:55:20.669Z"
   },
   {
    "duration": 4,
    "start_time": "2022-01-25T09:55:21.383Z"
   },
   {
    "duration": 322,
    "start_time": "2022-01-25T09:55:28.903Z"
   },
   {
    "duration": 9,
    "start_time": "2022-01-25T09:55:54.176Z"
   },
   {
    "duration": 295,
    "start_time": "2022-01-25T09:55:55.480Z"
   },
   {
    "duration": 2,
    "start_time": "2022-01-25T09:56:07.809Z"
   },
   {
    "duration": 137,
    "start_time": "2022-01-25T09:56:08.391Z"
   },
   {
    "duration": 20,
    "start_time": "2022-01-25T09:56:08.996Z"
   },
   {
    "duration": 24,
    "start_time": "2022-01-25T09:56:09.655Z"
   },
   {
    "duration": 84,
    "start_time": "2022-01-25T09:56:10.259Z"
   },
   {
    "duration": 131,
    "start_time": "2022-01-25T09:56:11.666Z"
   },
   {
    "duration": 16,
    "start_time": "2022-01-25T09:56:12.389Z"
   },
   {
    "duration": 27,
    "start_time": "2022-01-25T09:56:13.090Z"
   },
   {
    "duration": 48,
    "start_time": "2022-01-25T09:56:13.798Z"
   },
   {
    "duration": 4,
    "start_time": "2022-01-25T09:56:15.502Z"
   },
   {
    "duration": 9,
    "start_time": "2022-01-25T09:56:16.410Z"
   },
   {
    "duration": 19,
    "start_time": "2022-01-25T09:56:17.327Z"
   },
   {
    "duration": 95,
    "start_time": "2022-01-25T09:56:18.259Z"
   },
   {
    "duration": 14,
    "start_time": "2022-01-25T09:56:19.042Z"
   },
   {
    "duration": 13,
    "start_time": "2022-01-25T09:56:19.848Z"
   },
   {
    "duration": 38,
    "start_time": "2022-01-25T09:56:20.679Z"
   },
   {
    "duration": 23,
    "start_time": "2022-01-25T09:56:22.866Z"
   },
   {
    "duration": 6,
    "start_time": "2022-01-25T09:56:23.909Z"
   },
   {
    "duration": 6,
    "start_time": "2022-01-25T09:56:24.738Z"
   },
   {
    "duration": 36,
    "start_time": "2022-01-25T09:56:27.945Z"
   },
   {
    "duration": 6,
    "start_time": "2022-01-25T09:56:37.122Z"
   },
   {
    "duration": 3,
    "start_time": "2022-01-25T09:56:39.315Z"
   },
   {
    "duration": 10,
    "start_time": "2022-01-25T09:56:41.632Z"
   },
   {
    "duration": 7,
    "start_time": "2022-01-25T09:56:45.161Z"
   },
   {
    "duration": 23,
    "start_time": "2022-01-25T09:56:46.542Z"
   },
   {
    "duration": 7,
    "start_time": "2022-01-25T09:56:47.886Z"
   },
   {
    "duration": 30,
    "start_time": "2022-01-25T09:56:54.511Z"
   },
   {
    "duration": 37,
    "start_time": "2022-01-25T09:56:56.949Z"
   },
   {
    "duration": 10,
    "start_time": "2022-01-25T09:57:09.275Z"
   },
   {
    "duration": 2,
    "start_time": "2022-01-25T09:57:16.169Z"
   },
   {
    "duration": 2,
    "start_time": "2022-01-25T09:57:17.163Z"
   },
   {
    "duration": 33,
    "start_time": "2022-01-25T09:57:22.313Z"
   },
   {
    "duration": 4,
    "start_time": "2022-01-25T09:57:28.266Z"
   },
   {
    "duration": 14,
    "start_time": "2022-01-25T09:57:31.246Z"
   },
   {
    "duration": 22,
    "start_time": "2022-01-25T09:57:32.375Z"
   },
   {
    "duration": 19,
    "start_time": "2022-01-25T09:57:43.436Z"
   },
   {
    "duration": 2,
    "start_time": "2022-01-25T09:57:44.468Z"
   },
   {
    "duration": 2,
    "start_time": "2022-01-25T09:57:45.732Z"
   },
   {
    "duration": 27,
    "start_time": "2022-01-25T09:57:48.671Z"
   },
   {
    "duration": 5,
    "start_time": "2022-01-25T09:57:50.395Z"
   },
   {
    "duration": 19,
    "start_time": "2022-01-25T09:58:14.356Z"
   },
   {
    "duration": 30,
    "start_time": "2022-01-25T09:58:17.675Z"
   },
   {
    "duration": 24,
    "start_time": "2022-01-25T09:58:23.711Z"
   },
   {
    "duration": 3,
    "start_time": "2022-01-25T09:58:24.654Z"
   },
   {
    "duration": 2,
    "start_time": "2022-01-25T09:58:25.488Z"
   },
   {
    "duration": 27,
    "start_time": "2022-01-25T09:58:26.324Z"
   },
   {
    "duration": 8,
    "start_time": "2022-01-25T09:58:27.116Z"
   },
   {
    "duration": 8,
    "start_time": "2022-01-25T09:58:27.885Z"
   },
   {
    "duration": 14,
    "start_time": "2022-01-25T09:58:29.790Z"
   },
   {
    "duration": 14,
    "start_time": "2022-01-25T09:58:33.813Z"
   },
   {
    "duration": 14,
    "start_time": "2022-01-25T09:58:34.635Z"
   },
   {
    "duration": 8,
    "start_time": "2022-01-25T09:58:35.359Z"
   },
   {
    "duration": 15,
    "start_time": "2022-01-25T09:58:36.342Z"
   },
   {
    "duration": 4,
    "start_time": "2022-01-25T09:58:38.415Z"
   },
   {
    "duration": 4,
    "start_time": "2022-01-25T09:58:41.426Z"
   },
   {
    "duration": 4,
    "start_time": "2022-01-25T09:58:42.107Z"
   },
   {
    "duration": 4,
    "start_time": "2022-01-25T09:58:42.791Z"
   },
   {
    "duration": 13,
    "start_time": "2022-01-25T09:58:43.503Z"
   },
   {
    "duration": 119,
    "start_time": "2022-01-25T09:58:44.278Z"
   },
   {
    "duration": 14,
    "start_time": "2022-01-25T09:58:45.094Z"
   },
   {
    "duration": 4,
    "start_time": "2022-01-25T09:58:45.815Z"
   },
   {
    "duration": 15,
    "start_time": "2022-01-25T09:58:46.540Z"
   },
   {
    "duration": 16,
    "start_time": "2022-01-25T09:58:48.421Z"
   },
   {
    "duration": 159,
    "start_time": "2022-01-25T09:58:50.224Z"
   },
   {
    "duration": 219,
    "start_time": "2022-01-25T10:00:50.386Z"
   },
   {
    "duration": 172,
    "start_time": "2022-01-25T10:21:16.918Z"
   },
   {
    "duration": 184,
    "start_time": "2022-01-25T10:21:22.349Z"
   },
   {
    "duration": 521,
    "start_time": "2022-01-25T10:21:48.218Z"
   },
   {
    "duration": 208,
    "start_time": "2022-01-25T10:22:10.702Z"
   },
   {
    "duration": 178,
    "start_time": "2022-01-25T10:22:44.507Z"
   },
   {
    "duration": 183,
    "start_time": "2022-01-25T10:23:19.971Z"
   },
   {
    "duration": 360,
    "start_time": "2022-01-25T10:24:10.700Z"
   },
   {
    "duration": 353,
    "start_time": "2022-01-25T10:27:11.635Z"
   },
   {
    "duration": 611,
    "start_time": "2022-01-25T10:28:11.519Z"
   },
   {
    "duration": 355,
    "start_time": "2022-01-25T10:28:20.989Z"
   },
   {
    "duration": 271,
    "start_time": "2022-01-25T10:39:40.523Z"
   },
   {
    "duration": 112,
    "start_time": "2022-01-25T10:40:56.509Z"
   },
   {
    "duration": 198,
    "start_time": "2022-01-25T10:41:08.312Z"
   },
   {
    "duration": 230,
    "start_time": "2022-01-25T10:43:22.461Z"
   },
   {
    "duration": 212,
    "start_time": "2022-01-25T10:43:43.930Z"
   },
   {
    "duration": 17,
    "start_time": "2022-01-25T10:45:16.045Z"
   },
   {
    "duration": 16,
    "start_time": "2022-01-25T10:45:38.552Z"
   },
   {
    "duration": 225,
    "start_time": "2022-01-25T10:46:23.934Z"
   },
   {
    "duration": 227,
    "start_time": "2022-01-25T10:47:05.827Z"
   },
   {
    "duration": 17,
    "start_time": "2022-01-25T10:49:10.725Z"
   },
   {
    "duration": 218,
    "start_time": "2022-01-25T10:50:25.535Z"
   },
   {
    "duration": 21,
    "start_time": "2022-01-25T10:55:58.163Z"
   },
   {
    "duration": 14,
    "start_time": "2022-01-25T11:04:14.953Z"
   },
   {
    "duration": 6,
    "start_time": "2022-01-25T11:09:26.817Z"
   },
   {
    "duration": 7,
    "start_time": "2022-01-25T11:10:07.310Z"
   },
   {
    "duration": 13,
    "start_time": "2022-01-25T11:10:25.006Z"
   },
   {
    "duration": 7,
    "start_time": "2022-01-25T11:10:43.444Z"
   },
   {
    "duration": 6,
    "start_time": "2022-01-25T11:11:57.195Z"
   },
   {
    "duration": 6,
    "start_time": "2022-01-25T11:15:59.202Z"
   },
   {
    "duration": 9,
    "start_time": "2022-01-25T11:17:35.783Z"
   },
   {
    "duration": 9,
    "start_time": "2022-01-25T11:17:44.777Z"
   },
   {
    "duration": 8,
    "start_time": "2022-01-25T11:18:00.877Z"
   },
   {
    "duration": 7,
    "start_time": "2022-01-25T11:18:01.932Z"
   },
   {
    "duration": 88,
    "start_time": "2022-01-25T11:18:08.144Z"
   },
   {
    "duration": 6,
    "start_time": "2022-01-25T11:18:09.545Z"
   },
   {
    "duration": 6,
    "start_time": "2022-01-25T11:18:10.530Z"
   },
   {
    "duration": 6,
    "start_time": "2022-01-25T11:18:28.410Z"
   },
   {
    "duration": 7,
    "start_time": "2022-01-25T11:18:30.970Z"
   },
   {
    "duration": 7,
    "start_time": "2022-01-25T11:18:44.440Z"
   },
   {
    "duration": 5,
    "start_time": "2022-01-25T11:18:46.874Z"
   },
   {
    "duration": 3,
    "start_time": "2022-01-25T11:19:00.409Z"
   },
   {
    "duration": 143,
    "start_time": "2022-01-25T11:19:00.854Z"
   },
   {
    "duration": 23,
    "start_time": "2022-01-25T11:19:01.297Z"
   },
   {
    "duration": 27,
    "start_time": "2022-01-25T11:19:01.729Z"
   },
   {
    "duration": 78,
    "start_time": "2022-01-25T11:19:02.164Z"
   },
   {
    "duration": 124,
    "start_time": "2022-01-25T11:19:03.048Z"
   },
   {
    "duration": 24,
    "start_time": "2022-01-25T11:19:03.483Z"
   },
   {
    "duration": 27,
    "start_time": "2022-01-25T11:19:03.926Z"
   },
   {
    "duration": 49,
    "start_time": "2022-01-25T11:19:04.410Z"
   },
   {
    "duration": 5,
    "start_time": "2022-01-25T11:19:05.297Z"
   },
   {
    "duration": 9,
    "start_time": "2022-01-25T11:19:05.780Z"
   },
   {
    "duration": 19,
    "start_time": "2022-01-25T11:19:06.208Z"
   },
   {
    "duration": 85,
    "start_time": "2022-01-25T11:19:06.683Z"
   },
   {
    "duration": 15,
    "start_time": "2022-01-25T11:19:07.126Z"
   },
   {
    "duration": 13,
    "start_time": "2022-01-25T11:19:07.581Z"
   },
   {
    "duration": 39,
    "start_time": "2022-01-25T11:19:08.025Z"
   },
   {
    "duration": 23,
    "start_time": "2022-01-25T11:19:08.875Z"
   },
   {
    "duration": 6,
    "start_time": "2022-01-25T11:19:09.338Z"
   },
   {
    "duration": 6,
    "start_time": "2022-01-25T11:19:09.786Z"
   },
   {
    "duration": 35,
    "start_time": "2022-01-25T11:19:10.616Z"
   },
   {
    "duration": 6,
    "start_time": "2022-01-25T11:19:11.008Z"
   },
   {
    "duration": 4,
    "start_time": "2022-01-25T11:19:11.912Z"
   },
   {
    "duration": 9,
    "start_time": "2022-01-25T11:19:12.357Z"
   },
   {
    "duration": 6,
    "start_time": "2022-01-25T11:19:12.792Z"
   },
   {
    "duration": 14,
    "start_time": "2022-01-25T11:19:13.195Z"
   },
   {
    "duration": 6,
    "start_time": "2022-01-25T11:19:13.691Z"
   },
   {
    "duration": 31,
    "start_time": "2022-01-25T11:19:15.435Z"
   },
   {
    "duration": 36,
    "start_time": "2022-01-25T11:19:15.845Z"
   },
   {
    "duration": 10,
    "start_time": "2022-01-25T11:19:16.252Z"
   },
   {
    "duration": 2,
    "start_time": "2022-01-25T11:19:16.670Z"
   },
   {
    "duration": 2,
    "start_time": "2022-01-25T11:19:17.113Z"
   },
   {
    "duration": 29,
    "start_time": "2022-01-25T11:19:17.549Z"
   },
   {
    "duration": 5,
    "start_time": "2022-01-25T11:19:17.965Z"
   },
   {
    "duration": 13,
    "start_time": "2022-01-25T11:19:18.367Z"
   },
   {
    "duration": 23,
    "start_time": "2022-01-25T11:19:18.761Z"
   },
   {
    "duration": 20,
    "start_time": "2022-01-25T11:19:19.214Z"
   },
   {
    "duration": 3,
    "start_time": "2022-01-25T11:19:19.608Z"
   },
   {
    "duration": 2,
    "start_time": "2022-01-25T11:19:20.013Z"
   },
   {
    "duration": 28,
    "start_time": "2022-01-25T11:19:20.436Z"
   },
   {
    "duration": 4,
    "start_time": "2022-01-25T11:19:20.868Z"
   },
   {
    "duration": 17,
    "start_time": "2022-01-25T11:19:21.265Z"
   },
   {
    "duration": 31,
    "start_time": "2022-01-25T11:19:21.654Z"
   },
   {
    "duration": 25,
    "start_time": "2022-01-25T11:19:22.108Z"
   },
   {
    "duration": 2,
    "start_time": "2022-01-25T11:19:22.526Z"
   },
   {
    "duration": 2,
    "start_time": "2022-01-25T11:19:22.939Z"
   },
   {
    "duration": 28,
    "start_time": "2022-01-25T11:19:23.357Z"
   },
   {
    "duration": 8,
    "start_time": "2022-01-25T11:19:23.806Z"
   },
   {
    "duration": 8,
    "start_time": "2022-01-25T11:19:24.198Z"
   },
   {
    "duration": 15,
    "start_time": "2022-01-25T11:19:25.560Z"
   },
   {
    "duration": 16,
    "start_time": "2022-01-25T11:19:25.577Z"
   },
   {
    "duration": 20,
    "start_time": "2022-01-25T11:19:25.841Z"
   },
   {
    "duration": 10,
    "start_time": "2022-01-25T11:19:26.244Z"
   },
   {
    "duration": 17,
    "start_time": "2022-01-25T11:19:26.657Z"
   },
   {
    "duration": 4,
    "start_time": "2022-01-25T11:19:27.071Z"
   },
   {
    "duration": 4,
    "start_time": "2022-01-25T11:19:27.877Z"
   },
   {
    "duration": 4,
    "start_time": "2022-01-25T11:19:28.305Z"
   },
   {
    "duration": 4,
    "start_time": "2022-01-25T11:19:29.101Z"
   },
   {
    "duration": 16,
    "start_time": "2022-01-25T11:19:29.511Z"
   },
   {
    "duration": 131,
    "start_time": "2022-01-25T11:19:29.902Z"
   },
   {
    "duration": 15,
    "start_time": "2022-01-25T11:19:30.357Z"
   },
   {
    "duration": 4,
    "start_time": "2022-01-25T11:19:30.765Z"
   },
   {
    "duration": 17,
    "start_time": "2022-01-25T11:19:31.193Z"
   },
   {
    "duration": 20,
    "start_time": "2022-01-25T11:19:32.060Z"
   },
   {
    "duration": 350,
    "start_time": "2022-01-25T11:19:32.489Z"
   },
   {
    "duration": 23,
    "start_time": "2022-01-25T11:19:32.891Z"
   },
   {
    "duration": 344,
    "start_time": "2022-01-25T11:19:33.360Z"
   },
   {
    "duration": 24,
    "start_time": "2022-01-25T11:19:33.771Z"
   },
   {
    "duration": 340,
    "start_time": "2022-01-25T11:19:34.151Z"
   },
   {
    "duration": 23,
    "start_time": "2022-01-25T11:19:35.527Z"
   },
   {
    "duration": 8,
    "start_time": "2022-01-25T11:19:35.915Z"
   },
   {
    "duration": 8,
    "start_time": "2022-01-25T11:19:36.334Z"
   },
   {
    "duration": 6,
    "start_time": "2022-01-25T11:19:58.372Z"
   },
   {
    "duration": 6,
    "start_time": "2022-01-25T11:19:59.273Z"
   },
   {
    "duration": 6,
    "start_time": "2022-01-25T11:20:32.885Z"
   },
   {
    "duration": 6,
    "start_time": "2022-01-25T11:20:34.081Z"
   },
   {
    "duration": 17,
    "start_time": "2022-01-25T11:21:50.788Z"
   },
   {
    "duration": 19,
    "start_time": "2022-01-25T11:29:25.653Z"
   },
   {
    "duration": 222,
    "start_time": "2022-01-25T11:30:01.514Z"
   },
   {
    "duration": 221,
    "start_time": "2022-01-25T11:30:51.068Z"
   },
   {
    "duration": 205,
    "start_time": "2022-01-25T11:31:08.483Z"
   },
   {
    "duration": 640,
    "start_time": "2022-01-25T11:31:44.843Z"
   },
   {
    "duration": 37,
    "start_time": "2022-01-25T11:38:37.517Z"
   },
   {
    "duration": 7487,
    "start_time": "2022-01-25T11:40:33.743Z"
   },
   {
    "duration": 37,
    "start_time": "2022-01-25T11:42:30.961Z"
   },
   {
    "duration": 7204,
    "start_time": "2022-01-25T11:42:36.604Z"
   },
   {
    "duration": 38,
    "start_time": "2022-01-25T11:44:29.100Z"
   },
   {
    "duration": 42,
    "start_time": "2022-01-25T11:46:22.820Z"
   },
   {
    "duration": 7465,
    "start_time": "2022-01-25T11:46:24.150Z"
   },
   {
    "duration": 22,
    "start_time": "2022-01-25T11:57:26.034Z"
   },
   {
    "duration": 7985,
    "start_time": "2022-01-25T11:57:28.335Z"
   },
   {
    "duration": 20,
    "start_time": "2022-01-25T11:58:20.713Z"
   },
   {
    "duration": 32,
    "start_time": "2022-01-25T12:04:03.239Z"
   },
   {
    "duration": 298,
    "start_time": "2022-01-25T12:05:29.011Z"
   },
   {
    "duration": 313,
    "start_time": "2022-01-25T12:06:41.956Z"
   },
   {
    "duration": 313,
    "start_time": "2022-01-25T12:07:01.437Z"
   },
   {
    "duration": 333,
    "start_time": "2022-01-25T12:07:09.234Z"
   },
   {
    "duration": 313,
    "start_time": "2022-01-25T12:08:10.559Z"
   },
   {
    "duration": 29,
    "start_time": "2022-01-25T12:09:53.945Z"
   },
   {
    "duration": 490,
    "start_time": "2022-01-25T12:10:04.249Z"
   },
   {
    "duration": 31,
    "start_time": "2022-01-25T12:10:23.342Z"
   },
   {
    "duration": 30,
    "start_time": "2022-01-25T12:10:32.909Z"
   },
   {
    "duration": 28,
    "start_time": "2022-01-25T12:10:42.129Z"
   },
   {
    "duration": 221,
    "start_time": "2022-01-25T12:11:49.144Z"
   },
   {
    "duration": 326,
    "start_time": "2022-01-25T12:12:37.066Z"
   },
   {
    "duration": 105,
    "start_time": "2022-01-25T12:13:49.663Z"
   },
   {
    "duration": 95,
    "start_time": "2022-01-25T12:14:20.989Z"
   },
   {
    "duration": 113,
    "start_time": "2022-01-25T12:14:32.700Z"
   },
   {
    "duration": 92,
    "start_time": "2022-01-25T12:14:52.692Z"
   },
   {
    "duration": 1290,
    "start_time": "2022-01-25T12:15:05.521Z"
   },
   {
    "duration": 92,
    "start_time": "2022-01-25T12:15:18.828Z"
   },
   {
    "duration": 290,
    "start_time": "2022-01-25T12:15:31.089Z"
   },
   {
    "duration": 298,
    "start_time": "2022-01-25T12:16:08.119Z"
   },
   {
    "duration": 375,
    "start_time": "2022-01-25T12:16:33.298Z"
   },
   {
    "duration": 303,
    "start_time": "2022-01-25T12:16:54.906Z"
   },
   {
    "duration": 356,
    "start_time": "2022-01-25T12:17:27.048Z"
   },
   {
    "duration": 222,
    "start_time": "2022-01-25T12:20:57.436Z"
   },
   {
    "duration": 232,
    "start_time": "2022-01-25T12:22:44.054Z"
   },
   {
    "duration": 1059,
    "start_time": "2022-01-25T12:26:37.166Z"
   },
   {
    "duration": 1104,
    "start_time": "2022-01-25T12:26:43.682Z"
   },
   {
    "duration": 1025,
    "start_time": "2022-01-25T12:26:51.392Z"
   },
   {
    "duration": 913,
    "start_time": "2022-01-25T12:26:58.195Z"
   },
   {
    "duration": 2257,
    "start_time": "2022-01-25T12:29:51.019Z"
   },
   {
    "duration": 7537,
    "start_time": "2022-01-25T12:30:18.501Z"
   },
   {
    "duration": 2388,
    "start_time": "2022-01-25T12:30:50.876Z"
   },
   {
    "duration": 7983,
    "start_time": "2022-01-25T12:32:15.093Z"
   },
   {
    "duration": 430,
    "start_time": "2022-01-25T12:35:01.924Z"
   },
   {
    "duration": 300,
    "start_time": "2022-01-25T12:39:45.363Z"
   },
   {
    "duration": 312,
    "start_time": "2022-01-25T12:42:05.794Z"
   },
   {
    "duration": 105,
    "start_time": "2022-01-25T12:49:28.146Z"
   },
   {
    "duration": 292,
    "start_time": "2022-01-25T12:49:34.099Z"
   },
   {
    "duration": 98,
    "start_time": "2022-01-25T12:58:51.825Z"
   },
   {
    "duration": 164,
    "start_time": "2022-01-25T12:58:58.784Z"
   },
   {
    "duration": 181,
    "start_time": "2022-01-25T12:59:23.391Z"
   },
   {
    "duration": 13,
    "start_time": "2022-01-25T13:01:11.393Z"
   },
   {
    "duration": 398,
    "start_time": "2022-01-25T13:02:49.902Z"
   },
   {
    "duration": 182,
    "start_time": "2022-01-25T13:09:12.144Z"
   },
   {
    "duration": 4,
    "start_time": "2022-01-25T14:03:17.469Z"
   },
   {
    "duration": 1338,
    "start_time": "2022-01-25T14:08:03.370Z"
   },
   {
    "duration": 187,
    "start_time": "2022-01-25T14:17:59.566Z"
   },
   {
    "duration": 207,
    "start_time": "2022-01-25T14:18:27.943Z"
   },
   {
    "duration": 440,
    "start_time": "2022-01-25T14:19:42.034Z"
   },
   {
    "duration": 529,
    "start_time": "2022-01-25T14:20:21.608Z"
   },
   {
    "duration": 318,
    "start_time": "2022-01-25T14:20:27.764Z"
   },
   {
    "duration": 1249,
    "start_time": "2022-01-25T14:21:08.765Z"
   },
   {
    "duration": 485,
    "start_time": "2022-01-25T14:21:34.004Z"
   },
   {
    "duration": 1476,
    "start_time": "2022-01-25T14:21:57.323Z"
   },
   {
    "duration": 21,
    "start_time": "2022-01-25T14:43:25.759Z"
   },
   {
    "duration": 104,
    "start_time": "2022-01-25T14:57:57.820Z"
   },
   {
    "duration": 103,
    "start_time": "2022-01-25T14:58:57.133Z"
   },
   {
    "duration": 300,
    "start_time": "2022-01-25T14:59:07.939Z"
   },
   {
    "duration": 279,
    "start_time": "2022-01-25T14:59:41.147Z"
   },
   {
    "duration": 309,
    "start_time": "2022-01-25T14:59:58.475Z"
   },
   {
    "duration": 7602,
    "start_time": "2022-01-25T15:05:55.751Z"
   },
   {
    "duration": 14,
    "start_time": "2022-01-25T15:06:06.334Z"
   },
   {
    "duration": 8247,
    "start_time": "2022-01-25T15:06:17.878Z"
   },
   {
    "duration": 8,
    "start_time": "2022-01-25T15:06:49.254Z"
   },
   {
    "duration": 16,
    "start_time": "2022-01-25T15:07:00.554Z"
   },
   {
    "duration": 3,
    "start_time": "2022-01-25T15:10:31.206Z"
   },
   {
    "duration": 129,
    "start_time": "2022-01-25T15:10:31.220Z"
   },
   {
    "duration": 19,
    "start_time": "2022-01-25T15:10:31.813Z"
   },
   {
    "duration": 23,
    "start_time": "2022-01-25T15:10:32.324Z"
   },
   {
    "duration": 76,
    "start_time": "2022-01-25T15:10:33.434Z"
   },
   {
    "duration": 117,
    "start_time": "2022-01-25T15:10:33.920Z"
   },
   {
    "duration": 17,
    "start_time": "2022-01-25T15:10:34.416Z"
   },
   {
    "duration": 27,
    "start_time": "2022-01-25T15:10:35.132Z"
   },
   {
    "duration": 47,
    "start_time": "2022-01-25T15:10:35.395Z"
   },
   {
    "duration": 4,
    "start_time": "2022-01-25T15:10:36.347Z"
   },
   {
    "duration": 9,
    "start_time": "2022-01-25T15:10:36.795Z"
   },
   {
    "duration": 19,
    "start_time": "2022-01-25T15:10:37.266Z"
   },
   {
    "duration": 101,
    "start_time": "2022-01-25T15:10:37.966Z"
   },
   {
    "duration": 14,
    "start_time": "2022-01-25T15:10:38.462Z"
   },
   {
    "duration": 13,
    "start_time": "2022-01-25T15:10:38.678Z"
   },
   {
    "duration": 35,
    "start_time": "2022-01-25T15:10:39.115Z"
   },
   {
    "duration": 22,
    "start_time": "2022-01-25T15:10:39.987Z"
   },
   {
    "duration": 6,
    "start_time": "2022-01-25T15:10:40.440Z"
   },
   {
    "duration": 6,
    "start_time": "2022-01-25T15:10:40.872Z"
   },
   {
    "duration": 33,
    "start_time": "2022-01-25T15:10:41.760Z"
   },
   {
    "duration": 6,
    "start_time": "2022-01-25T15:10:42.230Z"
   },
   {
    "duration": 3,
    "start_time": "2022-01-25T15:10:43.115Z"
   },
   {
    "duration": 9,
    "start_time": "2022-01-25T15:10:43.573Z"
   },
   {
    "duration": 7,
    "start_time": "2022-01-25T15:10:44.026Z"
   },
   {
    "duration": 15,
    "start_time": "2022-01-25T15:10:44.720Z"
   },
   {
    "duration": 7,
    "start_time": "2022-01-25T15:10:44.919Z"
   },
   {
    "duration": 31,
    "start_time": "2022-01-25T15:10:46.710Z"
   },
   {
    "duration": 37,
    "start_time": "2022-01-25T15:10:47.146Z"
   },
   {
    "duration": 10,
    "start_time": "2022-01-25T15:10:47.582Z"
   },
   {
    "duration": 2,
    "start_time": "2022-01-25T15:10:48.000Z"
   },
   {
    "duration": 2,
    "start_time": "2022-01-25T15:10:48.443Z"
   },
   {
    "duration": 32,
    "start_time": "2022-01-25T15:10:48.915Z"
   },
   {
    "duration": 5,
    "start_time": "2022-01-25T15:10:49.366Z"
   },
   {
    "duration": 14,
    "start_time": "2022-01-25T15:10:49.789Z"
   },
   {
    "duration": 26,
    "start_time": "2022-01-25T15:10:50.199Z"
   },
   {
    "duration": 19,
    "start_time": "2022-01-25T15:10:50.879Z"
   },
   {
    "duration": 3,
    "start_time": "2022-01-25T15:10:51.030Z"
   },
   {
    "duration": 2,
    "start_time": "2022-01-25T15:10:51.455Z"
   },
   {
    "duration": 29,
    "start_time": "2022-01-25T15:10:51.909Z"
   },
   {
    "duration": 5,
    "start_time": "2022-01-25T15:10:52.325Z"
   },
   {
    "duration": 16,
    "start_time": "2022-01-25T15:10:52.704Z"
   },
   {
    "duration": 29,
    "start_time": "2022-01-25T15:10:53.136Z"
   },
   {
    "duration": 24,
    "start_time": "2022-01-25T15:10:53.595Z"
   },
   {
    "duration": 3,
    "start_time": "2022-01-25T15:10:53.998Z"
   },
   {
    "duration": 3,
    "start_time": "2022-01-25T15:10:54.431Z"
   },
   {
    "duration": 27,
    "start_time": "2022-01-25T15:10:54.837Z"
   },
   {
    "duration": 8,
    "start_time": "2022-01-25T15:10:55.267Z"
   },
   {
    "duration": 8,
    "start_time": "2022-01-25T15:10:55.691Z"
   },
   {
    "duration": 11,
    "start_time": "2022-01-25T15:10:56.527Z"
   },
   {
    "duration": 14,
    "start_time": "2022-01-25T15:10:56.902Z"
   },
   {
    "duration": 15,
    "start_time": "2022-01-25T15:10:57.306Z"
   },
   {
    "duration": 9,
    "start_time": "2022-01-25T15:10:57.734Z"
   },
   {
    "duration": 15,
    "start_time": "2022-01-25T15:10:58.138Z"
   },
   {
    "duration": 3,
    "start_time": "2022-01-25T15:10:58.571Z"
   },
   {
    "duration": 4,
    "start_time": "2022-01-25T15:10:59.371Z"
   },
   {
    "duration": 4,
    "start_time": "2022-01-25T15:10:59.763Z"
   },
   {
    "duration": 4,
    "start_time": "2022-01-25T15:11:00.167Z"
   },
   {
    "duration": 13,
    "start_time": "2022-01-25T15:11:00.535Z"
   },
   {
    "duration": 126,
    "start_time": "2022-01-25T15:11:00.918Z"
   },
   {
    "duration": 15,
    "start_time": "2022-01-25T15:11:01.306Z"
   },
   {
    "duration": 4,
    "start_time": "2022-01-25T15:11:01.720Z"
   },
   {
    "duration": 14,
    "start_time": "2022-01-25T15:11:02.128Z"
   },
   {
    "duration": 29,
    "start_time": "2022-01-25T15:11:02.917Z"
   },
   {
    "duration": 1526,
    "start_time": "2022-01-25T15:11:03.384Z"
   },
   {
    "duration": 8,
    "start_time": "2022-01-25T15:11:04.911Z"
   },
   {
    "duration": 15,
    "start_time": "2022-01-25T15:11:04.998Z"
   },
   {
    "duration": 16,
    "start_time": "2022-01-25T15:58:05.044Z"
   },
   {
    "duration": 7,
    "start_time": "2022-01-25T15:59:26.029Z"
   },
   {
    "duration": 6,
    "start_time": "2022-01-25T15:59:43.577Z"
   },
   {
    "duration": 5,
    "start_time": "2022-01-25T16:02:09.677Z"
   },
   {
    "duration": 5,
    "start_time": "2022-01-25T16:02:13.704Z"
   },
   {
    "duration": 97,
    "start_time": "2022-01-25T16:04:26.738Z"
   },
   {
    "duration": 3,
    "start_time": "2022-01-25T16:04:35.381Z"
   },
   {
    "duration": 2,
    "start_time": "2022-01-25T16:04:40.506Z"
   },
   {
    "duration": 478,
    "start_time": "2022-01-25T16:05:08.443Z"
   },
   {
    "duration": 4,
    "start_time": "2022-01-25T16:05:48.589Z"
   },
   {
    "duration": 4,
    "start_time": "2022-01-25T16:09:35.350Z"
   },
   {
    "duration": 104,
    "start_time": "2022-01-25T16:13:07.672Z"
   },
   {
    "duration": 6,
    "start_time": "2022-01-25T16:17:23.139Z"
   },
   {
    "duration": 5,
    "start_time": "2022-01-25T16:17:23.937Z"
   },
   {
    "duration": 4,
    "start_time": "2022-01-25T16:18:00.231Z"
   },
   {
    "duration": 1978,
    "start_time": "2022-02-02T15:39:27.874Z"
   },
   {
    "duration": 343,
    "start_time": "2022-02-02T15:39:29.855Z"
   },
   {
    "duration": 62,
    "start_time": "2022-02-02T15:39:30.208Z"
   },
   {
    "duration": 54,
    "start_time": "2022-02-02T15:39:30.274Z"
   },
   {
    "duration": 174,
    "start_time": "2022-02-02T15:39:30.331Z"
   },
   {
    "duration": 191,
    "start_time": "2022-02-02T15:39:30.507Z"
   },
   {
    "duration": 24,
    "start_time": "2022-02-02T15:39:30.700Z"
   },
   {
    "duration": 70,
    "start_time": "2022-02-02T15:39:30.729Z"
   },
   {
    "duration": 171,
    "start_time": "2022-02-02T15:39:30.804Z"
   },
   {
    "duration": 13,
    "start_time": "2022-02-02T15:39:30.978Z"
   },
   {
    "duration": 20,
    "start_time": "2022-02-02T15:39:30.995Z"
   },
   {
    "duration": 71,
    "start_time": "2022-02-02T15:39:31.018Z"
   },
   {
    "duration": 192,
    "start_time": "2022-02-02T15:39:31.092Z"
   },
   {
    "duration": 20,
    "start_time": "2022-02-02T15:39:31.287Z"
   },
   {
    "duration": 22,
    "start_time": "2022-02-02T15:39:31.309Z"
   },
   {
    "duration": 99,
    "start_time": "2022-02-02T15:39:31.334Z"
   },
   {
    "duration": 43,
    "start_time": "2022-02-02T15:39:31.435Z"
   },
   {
    "duration": 22,
    "start_time": "2022-02-02T15:39:31.481Z"
   },
   {
    "duration": 18,
    "start_time": "2022-02-02T15:39:31.505Z"
   },
   {
    "duration": 64,
    "start_time": "2022-02-02T15:39:31.525Z"
   },
   {
    "duration": 14,
    "start_time": "2022-02-02T15:39:31.592Z"
   },
   {
    "duration": 16,
    "start_time": "2022-02-02T15:39:31.609Z"
   },
   {
    "duration": 24,
    "start_time": "2022-02-02T15:39:31.628Z"
   },
   {
    "duration": 21,
    "start_time": "2022-02-02T15:39:31.654Z"
   },
   {
    "duration": 30,
    "start_time": "2022-02-02T15:39:31.677Z"
   },
   {
    "duration": 12,
    "start_time": "2022-02-02T15:39:31.714Z"
   },
   {
    "duration": 75,
    "start_time": "2022-02-02T15:39:31.729Z"
   },
   {
    "duration": 66,
    "start_time": "2022-02-02T15:39:31.807Z"
   },
   {
    "duration": 17,
    "start_time": "2022-02-02T15:39:31.876Z"
   },
   {
    "duration": 79,
    "start_time": "2022-02-02T15:39:31.897Z"
   },
   {
    "duration": 7,
    "start_time": "2022-02-02T15:39:31.979Z"
   },
   {
    "duration": 32,
    "start_time": "2022-02-02T15:39:31.989Z"
   },
   {
    "duration": 63,
    "start_time": "2022-02-02T15:39:32.023Z"
   },
   {
    "duration": 29,
    "start_time": "2022-02-02T15:39:32.089Z"
   },
   {
    "duration": 74,
    "start_time": "2022-02-02T15:39:32.121Z"
   },
   {
    "duration": 5,
    "start_time": "2022-02-02T15:39:32.198Z"
   },
   {
    "duration": 36,
    "start_time": "2022-02-02T15:39:32.205Z"
   },
   {
    "duration": 57,
    "start_time": "2022-02-02T15:39:32.244Z"
   },
   {
    "duration": 35,
    "start_time": "2022-02-02T15:39:32.303Z"
   },
   {
    "duration": 69,
    "start_time": "2022-02-02T15:39:32.340Z"
   },
   {
    "duration": 11,
    "start_time": "2022-02-02T15:39:32.411Z"
   },
   {
    "duration": 44,
    "start_time": "2022-02-02T15:39:32.425Z"
   },
   {
    "duration": 20,
    "start_time": "2022-02-02T15:39:32.471Z"
   },
   {
    "duration": 23,
    "start_time": "2022-02-02T15:39:32.493Z"
   },
   {
    "duration": 62,
    "start_time": "2022-02-02T15:39:32.518Z"
   },
   {
    "duration": 13,
    "start_time": "2022-02-02T15:39:32.583Z"
   },
   {
    "duration": 28,
    "start_time": "2022-02-02T15:39:32.599Z"
   },
   {
    "duration": 50,
    "start_time": "2022-02-02T15:39:32.629Z"
   },
   {
    "duration": 21,
    "start_time": "2022-02-02T15:39:32.681Z"
   },
   {
    "duration": 18,
    "start_time": "2022-02-02T15:39:32.704Z"
   },
   {
    "duration": 15,
    "start_time": "2022-02-02T15:39:32.724Z"
   },
   {
    "duration": 26,
    "start_time": "2022-02-02T15:39:32.742Z"
   },
   {
    "duration": 234,
    "start_time": "2022-02-02T15:39:32.770Z"
   },
   {
    "duration": 24,
    "start_time": "2022-02-02T15:39:33.007Z"
   },
   {
    "duration": 5,
    "start_time": "2022-02-02T15:39:33.034Z"
   },
   {
    "duration": 46,
    "start_time": "2022-02-02T15:39:33.041Z"
   },
   {
    "duration": 53,
    "start_time": "2022-02-02T15:39:33.090Z"
   },
   {
    "duration": 2666,
    "start_time": "2022-02-02T15:39:33.145Z"
   },
   {
    "duration": 25,
    "start_time": "2022-02-02T15:39:35.814Z"
   },
   {
    "duration": 28,
    "start_time": "2022-02-02T15:39:35.842Z"
   },
   {
    "duration": 10,
    "start_time": "2022-02-02T15:39:35.873Z"
   },
   {
    "duration": 6,
    "start_time": "2022-02-02T15:39:35.886Z"
   },
   {
    "duration": 15,
    "start_time": "2022-02-02T15:39:35.896Z"
   },
   {
    "duration": 54,
    "start_time": "2022-02-02T15:39:35.915Z"
   },
   {
    "duration": 9,
    "start_time": "2022-02-02T15:39:35.972Z"
   },
   {
    "duration": 18,
    "start_time": "2022-02-02T15:39:35.985Z"
   },
   {
    "duration": 1289,
    "start_time": "2022-02-03T15:40:14.852Z"
   },
   {
    "duration": 269,
    "start_time": "2022-02-03T15:43:16.990Z"
   },
   {
    "duration": 16,
    "start_time": "2022-02-03T15:43:19.435Z"
   },
   {
    "duration": 30,
    "start_time": "2022-02-03T15:43:46.173Z"
   },
   {
    "duration": 29,
    "start_time": "2022-02-03T15:43:47.963Z"
   },
   {
    "duration": 159,
    "start_time": "2022-02-03T15:43:50.677Z"
   },
   {
    "duration": 19,
    "start_time": "2022-02-03T15:43:52.177Z"
   },
   {
    "duration": 31,
    "start_time": "2022-02-03T15:43:53.194Z"
   },
   {
    "duration": 65,
    "start_time": "2022-02-03T15:43:55.212Z"
   },
   {
    "duration": 10,
    "start_time": "2022-02-03T15:43:58.568Z"
   },
   {
    "duration": 12,
    "start_time": "2022-02-03T15:44:02.793Z"
   },
   {
    "duration": 330,
    "start_time": "2022-02-03T15:44:21.890Z"
   },
   {
    "duration": 10,
    "start_time": "2022-02-03T15:44:27.614Z"
   },
   {
    "duration": 157,
    "start_time": "2022-02-03T15:45:14.477Z"
   },
   {
    "duration": 19,
    "start_time": "2022-02-03T15:45:21.254Z"
   },
   {
    "duration": 28,
    "start_time": "2022-02-03T15:45:22.540Z"
   },
   {
    "duration": 46,
    "start_time": "2022-02-03T15:45:23.903Z"
   },
   {
    "duration": 5,
    "start_time": "2022-02-03T15:45:25.582Z"
   },
   {
    "duration": 12,
    "start_time": "2022-02-03T15:45:27.033Z"
   },
   {
    "duration": 23,
    "start_time": "2022-02-03T15:52:42.991Z"
   },
   {
    "duration": 389,
    "start_time": "2022-02-03T16:01:21.591Z"
   },
   {
    "duration": 223,
    "start_time": "2022-02-03T16:01:35.155Z"
   },
   {
    "duration": 214,
    "start_time": "2022-02-03T16:01:43.055Z"
   },
   {
    "duration": 3,
    "start_time": "2022-02-03T16:29:12.836Z"
   },
   {
    "duration": 211,
    "start_time": "2022-02-03T16:29:13.522Z"
   },
   {
    "duration": 15,
    "start_time": "2022-02-03T16:29:14.085Z"
   },
   {
    "duration": 30,
    "start_time": "2022-02-03T16:29:14.889Z"
   },
   {
    "duration": 25,
    "start_time": "2022-02-03T16:29:15.449Z"
   },
   {
    "duration": 166,
    "start_time": "2022-02-03T16:29:16.548Z"
   },
   {
    "duration": 20,
    "start_time": "2022-02-03T16:29:17.062Z"
   },
   {
    "duration": 29,
    "start_time": "2022-02-03T16:29:17.597Z"
   },
   {
    "duration": 47,
    "start_time": "2022-02-03T16:29:18.092Z"
   },
   {
    "duration": 5,
    "start_time": "2022-02-03T16:29:19.197Z"
   },
   {
    "duration": 11,
    "start_time": "2022-02-03T16:29:20.245Z"
   },
   {
    "duration": 21,
    "start_time": "2022-02-03T16:29:21.818Z"
   },
   {
    "duration": 209,
    "start_time": "2022-02-03T16:29:23.464Z"
   },
   {
    "duration": 103,
    "start_time": "2022-02-03T16:29:26.326Z"
   },
   {
    "duration": 15,
    "start_time": "2022-02-03T16:29:26.870Z"
   },
   {
    "duration": 15,
    "start_time": "2022-02-03T16:29:27.517Z"
   },
   {
    "duration": 49,
    "start_time": "2022-02-03T16:29:28.057Z"
   },
   {
    "duration": 25,
    "start_time": "2022-02-03T16:29:29.120Z"
   },
   {
    "duration": 7,
    "start_time": "2022-02-03T16:29:29.643Z"
   },
   {
    "duration": 6,
    "start_time": "2022-02-03T16:29:30.146Z"
   },
   {
    "duration": 38,
    "start_time": "2022-02-03T16:29:31.173Z"
   },
   {
    "duration": 8,
    "start_time": "2022-02-03T16:29:31.675Z"
   },
   {
    "duration": 4,
    "start_time": "2022-02-03T16:29:32.725Z"
   },
   {
    "duration": 11,
    "start_time": "2022-02-03T16:29:33.268Z"
   },
   {
    "duration": 7,
    "start_time": "2022-02-03T16:29:33.828Z"
   },
   {
    "duration": 18,
    "start_time": "2022-02-03T16:29:34.339Z"
   },
   {
    "duration": 8,
    "start_time": "2022-02-03T16:29:34.873Z"
   },
   {
    "duration": 39,
    "start_time": "2022-02-03T16:29:50.668Z"
   },
   {
    "duration": 33,
    "start_time": "2022-02-03T16:29:52.230Z"
   },
   {
    "duration": 12,
    "start_time": "2022-02-03T16:29:53.497Z"
   },
   {
    "duration": 33,
    "start_time": "2022-02-03T16:29:54.684Z"
   },
   {
    "duration": 6,
    "start_time": "2022-02-03T16:29:55.354Z"
   },
   {
    "duration": 17,
    "start_time": "2022-02-03T16:29:57.223Z"
   },
   {
    "duration": 28,
    "start_time": "2022-02-03T16:29:57.899Z"
   },
   {
    "duration": 23,
    "start_time": "2022-02-03T16:29:59.448Z"
   },
   {
    "duration": 37,
    "start_time": "2022-02-03T16:30:00.086Z"
   },
   {
    "duration": 6,
    "start_time": "2022-02-03T16:30:00.998Z"
   },
   {
    "duration": 20,
    "start_time": "2022-02-03T16:30:01.948Z"
   },
   {
    "duration": 33,
    "start_time": "2022-02-03T16:30:03.489Z"
   },
   {
    "duration": 28,
    "start_time": "2022-02-03T16:30:04.909Z"
   },
   {
    "duration": 27,
    "start_time": "2022-02-03T16:30:08.037Z"
   },
   {
    "duration": 9,
    "start_time": "2022-02-03T16:30:08.931Z"
   },
   {
    "duration": 9,
    "start_time": "2022-02-03T16:30:10.104Z"
   },
   {
    "duration": 15,
    "start_time": "2022-02-03T16:30:11.743Z"
   },
   {
    "duration": 16,
    "start_time": "2022-02-03T16:30:12.498Z"
   },
   {
    "duration": 15,
    "start_time": "2022-02-03T16:30:13.318Z"
   },
   {
    "duration": 17,
    "start_time": "2022-02-03T16:30:23.598Z"
   },
   {
    "duration": 18,
    "start_time": "2022-02-03T16:30:37.737Z"
   },
   {
    "duration": 3,
    "start_time": "2022-02-03T16:30:54.472Z"
   },
   {
    "duration": 194,
    "start_time": "2022-02-03T16:30:55.130Z"
   },
   {
    "duration": 16,
    "start_time": "2022-02-03T16:30:55.684Z"
   },
   {
    "duration": 29,
    "start_time": "2022-02-03T16:30:56.213Z"
   },
   {
    "duration": 26,
    "start_time": "2022-02-03T16:30:56.714Z"
   },
   {
    "duration": 153,
    "start_time": "2022-02-03T16:30:58.039Z"
   },
   {
    "duration": 19,
    "start_time": "2022-02-03T16:30:58.261Z"
   },
   {
    "duration": 25,
    "start_time": "2022-02-03T16:30:58.745Z"
   },
   {
    "duration": 44,
    "start_time": "2022-02-03T16:30:59.242Z"
   },
   {
    "duration": 5,
    "start_time": "2022-02-03T16:31:00.217Z"
   },
   {
    "duration": 11,
    "start_time": "2022-02-03T16:31:01.203Z"
   },
   {
    "duration": 20,
    "start_time": "2022-02-03T16:31:02.692Z"
   },
   {
    "duration": 211,
    "start_time": "2022-02-03T16:31:04.162Z"
   },
   {
    "duration": 98,
    "start_time": "2022-02-03T16:31:05.198Z"
   },
   {
    "duration": 17,
    "start_time": "2022-02-03T16:31:05.740Z"
   },
   {
    "duration": 17,
    "start_time": "2022-02-03T16:31:06.253Z"
   },
   {
    "duration": 45,
    "start_time": "2022-02-03T16:31:06.925Z"
   },
   {
    "duration": 25,
    "start_time": "2022-02-03T16:31:08.650Z"
   },
   {
    "duration": 7,
    "start_time": "2022-02-03T16:31:09.425Z"
   },
   {
    "duration": 6,
    "start_time": "2022-02-03T16:31:11.133Z"
   },
   {
    "duration": 39,
    "start_time": "2022-02-03T16:31:13.110Z"
   },
   {
    "duration": 7,
    "start_time": "2022-02-03T16:31:14.058Z"
   },
   {
    "duration": 4,
    "start_time": "2022-02-03T16:31:15.850Z"
   },
   {
    "duration": 10,
    "start_time": "2022-02-03T16:31:16.343Z"
   },
   {
    "duration": 7,
    "start_time": "2022-02-03T16:31:17.419Z"
   },
   {
    "duration": 17,
    "start_time": "2022-02-03T16:31:17.964Z"
   },
   {
    "duration": 8,
    "start_time": "2022-02-03T16:31:18.506Z"
   },
   {
    "duration": 36,
    "start_time": "2022-02-03T16:31:25.644Z"
   },
   {
    "duration": 33,
    "start_time": "2022-02-03T16:31:26.451Z"
   },
   {
    "duration": 11,
    "start_time": "2022-02-03T16:31:27.804Z"
   },
   {
    "duration": 34,
    "start_time": "2022-02-03T16:31:28.907Z"
   },
   {
    "duration": 6,
    "start_time": "2022-02-03T16:31:30.830Z"
   },
   {
    "duration": 17,
    "start_time": "2022-02-03T16:31:31.632Z"
   },
   {
    "duration": 29,
    "start_time": "2022-02-03T16:31:32.845Z"
   },
   {
    "duration": 23,
    "start_time": "2022-02-03T16:31:33.868Z"
   },
   {
    "duration": 34,
    "start_time": "2022-02-03T16:31:35.972Z"
   },
   {
    "duration": 5,
    "start_time": "2022-02-03T16:31:37.463Z"
   },
   {
    "duration": 19,
    "start_time": "2022-02-03T16:31:38.087Z"
   },
   {
    "duration": 35,
    "start_time": "2022-02-03T16:31:39.525Z"
   },
   {
    "duration": 27,
    "start_time": "2022-02-03T16:31:40.182Z"
   },
   {
    "duration": 28,
    "start_time": "2022-02-03T16:31:43.576Z"
   },
   {
    "duration": 10,
    "start_time": "2022-02-03T16:31:44.494Z"
   },
   {
    "duration": 11,
    "start_time": "2022-02-03T16:31:47.086Z"
   },
   {
    "duration": 14,
    "start_time": "2022-02-03T16:32:03.487Z"
   },
   {
    "duration": 18,
    "start_time": "2022-02-03T16:32:18.314Z"
   },
   {
    "duration": 17,
    "start_time": "2022-02-03T16:32:31.158Z"
   },
   {
    "duration": 18,
    "start_time": "2022-02-03T16:32:39.007Z"
   },
   {
    "duration": 10,
    "start_time": "2022-02-03T16:47:13.283Z"
   },
   {
    "duration": 18,
    "start_time": "2022-02-03T16:47:14.434Z"
   },
   {
    "duration": 4,
    "start_time": "2022-02-03T16:47:15.991Z"
   },
   {
    "duration": 4,
    "start_time": "2022-02-03T16:47:17.873Z"
   },
   {
    "duration": 5,
    "start_time": "2022-02-03T16:47:18.388Z"
   },
   {
    "duration": 5,
    "start_time": "2022-02-03T16:47:18.842Z"
   },
   {
    "duration": 17,
    "start_time": "2022-02-03T16:47:19.643Z"
   },
   {
    "duration": 145,
    "start_time": "2022-02-03T16:47:26.640Z"
   },
   {
    "duration": 17,
    "start_time": "2022-02-03T16:47:28.677Z"
   },
   {
    "duration": 4,
    "start_time": "2022-02-03T16:47:40.820Z"
   },
   {
    "duration": 18,
    "start_time": "2022-02-03T16:47:41.525Z"
   },
   {
    "duration": 88,
    "start_time": "2022-02-03T16:58:56.267Z"
   },
   {
    "duration": 251,
    "start_time": "2022-02-03T16:59:35.890Z"
   },
   {
    "duration": 117,
    "start_time": "2022-02-03T17:00:14.240Z"
   },
   {
    "duration": 3,
    "start_time": "2022-02-03T17:15:13.308Z"
   },
   {
    "duration": 122,
    "start_time": "2022-02-03T17:22:59.306Z"
   },
   {
    "duration": 11,
    "start_time": "2022-02-03T17:23:11.958Z"
   },
   {
    "duration": 11930,
    "start_time": "2022-02-03T17:27:44.583Z"
   },
   {
    "duration": 10,
    "start_time": "2022-02-03T17:28:31.647Z"
   },
   {
    "duration": 35,
    "start_time": "2022-02-03T17:28:32.543Z"
   },
   {
    "duration": 11925,
    "start_time": "2022-02-03T17:28:33.047Z"
   },
   {
    "duration": 57,
    "start_time": "2022-02-03T17:28:44.918Z"
   },
   {
    "duration": 48,
    "start_time": "2022-02-03T17:28:44.929Z"
   },
   {
    "duration": 46,
    "start_time": "2022-02-03T17:28:44.932Z"
   },
   {
    "duration": 46,
    "start_time": "2022-02-03T17:28:44.934Z"
   },
   {
    "duration": 46,
    "start_time": "2022-02-03T17:28:44.936Z"
   },
   {
    "duration": 44,
    "start_time": "2022-02-03T17:28:44.939Z"
   },
   {
    "duration": 42,
    "start_time": "2022-02-03T17:28:44.943Z"
   },
   {
    "duration": 41,
    "start_time": "2022-02-03T17:28:44.945Z"
   },
   {
    "duration": 41,
    "start_time": "2022-02-03T17:28:44.947Z"
   },
   {
    "duration": 40,
    "start_time": "2022-02-03T17:28:44.950Z"
   },
   {
    "duration": 39,
    "start_time": "2022-02-03T17:28:44.952Z"
   },
   {
    "duration": 11080,
    "start_time": "2022-02-03T17:28:47.182Z"
   },
   {
    "duration": 255,
    "start_time": "2022-02-03T17:29:41.148Z"
   },
   {
    "duration": 20,
    "start_time": "2022-02-03T17:29:50.700Z"
   },
   {
    "duration": 4,
    "start_time": "2022-02-03T17:31:41.845Z"
   },
   {
    "duration": 194,
    "start_time": "2022-02-03T17:31:42.717Z"
   },
   {
    "duration": 16,
    "start_time": "2022-02-03T17:31:44.709Z"
   },
   {
    "duration": 30,
    "start_time": "2022-02-03T17:31:45.634Z"
   },
   {
    "duration": 25,
    "start_time": "2022-02-03T17:31:46.590Z"
   },
   {
    "duration": 156,
    "start_time": "2022-02-03T17:31:48.186Z"
   },
   {
    "duration": 20,
    "start_time": "2022-02-03T17:31:49.188Z"
   },
   {
    "duration": 25,
    "start_time": "2022-02-03T17:31:50.090Z"
   },
   {
    "duration": 44,
    "start_time": "2022-02-03T17:31:51.017Z"
   },
   {
    "duration": 5,
    "start_time": "2022-02-03T17:31:53.937Z"
   },
   {
    "duration": 10,
    "start_time": "2022-02-03T17:31:55.645Z"
   },
   {
    "duration": 22,
    "start_time": "2022-02-03T17:31:58.759Z"
   },
   {
    "duration": 211,
    "start_time": "2022-02-03T17:32:01.076Z"
   },
   {
    "duration": 102,
    "start_time": "2022-02-03T17:32:03.541Z"
   },
   {
    "duration": 17,
    "start_time": "2022-02-03T17:32:04.343Z"
   },
   {
    "duration": 15,
    "start_time": "2022-02-03T17:32:05.354Z"
   },
   {
    "duration": 45,
    "start_time": "2022-02-03T17:32:06.032Z"
   },
   {
    "duration": 24,
    "start_time": "2022-02-03T17:32:07.989Z"
   },
   {
    "duration": 8,
    "start_time": "2022-02-03T17:32:09.528Z"
   },
   {
    "duration": 6,
    "start_time": "2022-02-03T17:32:14.549Z"
   },
   {
    "duration": 39,
    "start_time": "2022-02-03T17:32:17.080Z"
   },
   {
    "duration": 7,
    "start_time": "2022-02-03T17:32:25.252Z"
   },
   {
    "duration": 4,
    "start_time": "2022-02-03T17:32:27.059Z"
   },
   {
    "duration": 12,
    "start_time": "2022-02-03T17:32:27.793Z"
   },
   {
    "duration": 7,
    "start_time": "2022-02-03T17:32:28.861Z"
   },
   {
    "duration": 17,
    "start_time": "2022-02-03T17:32:29.947Z"
   },
   {
    "duration": 8,
    "start_time": "2022-02-03T17:32:31.151Z"
   },
   {
    "duration": 36,
    "start_time": "2022-02-03T17:32:37.369Z"
   },
   {
    "duration": 32,
    "start_time": "2022-02-03T17:32:38.311Z"
   },
   {
    "duration": 11,
    "start_time": "2022-02-03T17:32:39.179Z"
   },
   {
    "duration": 32,
    "start_time": "2022-02-03T17:32:40.092Z"
   },
   {
    "duration": 6,
    "start_time": "2022-02-03T17:32:41.456Z"
   },
   {
    "duration": 18,
    "start_time": "2022-02-03T17:32:43.001Z"
   },
   {
    "duration": 29,
    "start_time": "2022-02-03T17:32:44.028Z"
   },
   {
    "duration": 24,
    "start_time": "2022-02-03T17:32:45.009Z"
   },
   {
    "duration": 31,
    "start_time": "2022-02-03T17:32:46.367Z"
   },
   {
    "duration": 5,
    "start_time": "2022-02-03T17:32:48.780Z"
   },
   {
    "duration": 18,
    "start_time": "2022-02-03T17:32:49.549Z"
   },
   {
    "duration": 33,
    "start_time": "2022-02-03T17:32:50.614Z"
   },
   {
    "duration": 25,
    "start_time": "2022-02-03T17:32:51.627Z"
   },
   {
    "duration": 27,
    "start_time": "2022-02-03T17:32:52.642Z"
   },
   {
    "duration": 9,
    "start_time": "2022-02-03T17:32:54.177Z"
   },
   {
    "duration": 9,
    "start_time": "2022-02-03T17:32:55.770Z"
   },
   {
    "duration": 15,
    "start_time": "2022-02-03T17:32:58.920Z"
   },
   {
    "duration": 17,
    "start_time": "2022-02-03T17:32:59.950Z"
   },
   {
    "duration": 19,
    "start_time": "2022-02-03T17:33:06.293Z"
   },
   {
    "duration": 17,
    "start_time": "2022-02-03T17:33:25.880Z"
   },
   {
    "duration": 12,
    "start_time": "2022-02-03T17:33:30.445Z"
   },
   {
    "duration": 263,
    "start_time": "2022-02-03T17:33:32.469Z"
   },
   {
    "duration": 6521,
    "start_time": "2022-02-03T17:33:39.882Z"
   },
   {
    "duration": 11,
    "start_time": "2022-02-03T17:36:34.219Z"
   },
   {
    "duration": 3,
    "start_time": "2022-02-03T17:36:59.632Z"
   },
   {
    "duration": 207,
    "start_time": "2022-02-03T17:37:01.697Z"
   },
   {
    "duration": 17,
    "start_time": "2022-02-03T17:37:03.396Z"
   },
   {
    "duration": 30,
    "start_time": "2022-02-03T17:37:04.679Z"
   },
   {
    "duration": 25,
    "start_time": "2022-02-03T17:37:05.858Z"
   },
   {
    "duration": 164,
    "start_time": "2022-02-03T17:37:08.139Z"
   },
   {
    "duration": 23,
    "start_time": "2022-02-03T17:37:10.018Z"
   },
   {
    "duration": 25,
    "start_time": "2022-02-03T17:37:11.508Z"
   },
   {
    "duration": 47,
    "start_time": "2022-02-03T17:37:13.420Z"
   },
   {
    "duration": 5,
    "start_time": "2022-02-03T17:37:15.269Z"
   },
   {
    "duration": 11,
    "start_time": "2022-02-03T17:37:17.363Z"
   },
   {
    "duration": 21,
    "start_time": "2022-02-03T17:37:20.811Z"
   },
   {
    "duration": 208,
    "start_time": "2022-02-03T17:37:24.503Z"
   },
   {
    "duration": 100,
    "start_time": "2022-02-03T17:37:28.095Z"
   },
   {
    "duration": 16,
    "start_time": "2022-02-03T17:37:29.357Z"
   },
   {
    "duration": 14,
    "start_time": "2022-02-03T17:37:30.570Z"
   },
   {
    "duration": 46,
    "start_time": "2022-02-03T17:37:31.741Z"
   },
   {
    "duration": 25,
    "start_time": "2022-02-03T17:37:35.651Z"
   },
   {
    "duration": 7,
    "start_time": "2022-02-03T17:37:39.580Z"
   },
   {
    "duration": 6,
    "start_time": "2022-02-03T17:37:39.927Z"
   },
   {
    "duration": 38,
    "start_time": "2022-02-03T17:37:44.390Z"
   },
   {
    "duration": 7,
    "start_time": "2022-02-03T17:37:49.675Z"
   },
   {
    "duration": 4,
    "start_time": "2022-02-03T17:37:52.724Z"
   },
   {
    "duration": 12,
    "start_time": "2022-02-03T17:37:53.915Z"
   },
   {
    "duration": 7,
    "start_time": "2022-02-03T17:37:55.355Z"
   },
   {
    "duration": 87,
    "start_time": "2022-02-03T17:37:56.546Z"
   },
   {
    "duration": 7,
    "start_time": "2022-02-03T17:37:58.610Z"
   },
   {
    "duration": 38,
    "start_time": "2022-02-03T17:38:05.191Z"
   },
   {
    "duration": 31,
    "start_time": "2022-02-03T17:38:07.509Z"
   },
   {
    "duration": 11,
    "start_time": "2022-02-03T17:38:08.531Z"
   },
   {
    "duration": 31,
    "start_time": "2022-02-03T17:38:13.605Z"
   },
   {
    "duration": 5,
    "start_time": "2022-02-03T17:38:15.718Z"
   },
   {
    "duration": 15,
    "start_time": "2022-02-03T17:38:18.006Z"
   },
   {
    "duration": 29,
    "start_time": "2022-02-03T17:38:20.483Z"
   },
   {
    "duration": 22,
    "start_time": "2022-02-03T17:38:23.684Z"
   },
   {
    "duration": 32,
    "start_time": "2022-02-03T17:38:25.940Z"
   },
   {
    "duration": 4,
    "start_time": "2022-02-03T17:38:29.639Z"
   },
   {
    "duration": 19,
    "start_time": "2022-02-03T17:38:31.432Z"
   },
   {
    "duration": 35,
    "start_time": "2022-02-03T17:38:32.346Z"
   },
   {
    "duration": 27,
    "start_time": "2022-02-03T17:38:34.063Z"
   },
   {
    "duration": 27,
    "start_time": "2022-02-03T17:38:36.385Z"
   },
   {
    "duration": 9,
    "start_time": "2022-02-03T17:38:38.828Z"
   },
   {
    "duration": 11,
    "start_time": "2022-02-03T17:38:41.166Z"
   },
   {
    "duration": 17,
    "start_time": "2022-02-03T17:38:47.028Z"
   },
   {
    "duration": 18,
    "start_time": "2022-02-03T17:39:00.022Z"
   },
   {
    "duration": 20,
    "start_time": "2022-02-03T17:39:03.009Z"
   },
   {
    "duration": 12,
    "start_time": "2022-02-03T17:39:08.459Z"
   },
   {
    "duration": 10,
    "start_time": "2022-02-03T17:39:10.439Z"
   },
   {
    "duration": 20,
    "start_time": "2022-02-03T17:39:14.370Z"
   },
   {
    "duration": 4,
    "start_time": "2022-02-03T17:40:34.648Z"
   },
   {
    "duration": 4,
    "start_time": "2022-02-03T17:40:44.612Z"
   },
   {
    "duration": 5,
    "start_time": "2022-02-03T17:40:45.358Z"
   },
   {
    "duration": 5,
    "start_time": "2022-02-03T17:40:46.046Z"
   },
   {
    "duration": 17,
    "start_time": "2022-02-03T17:40:46.711Z"
   },
   {
    "duration": 133,
    "start_time": "2022-02-03T17:40:50.283Z"
   },
   {
    "duration": 16,
    "start_time": "2022-02-03T17:40:51.692Z"
   },
   {
    "duration": 5,
    "start_time": "2022-02-03T17:40:54.764Z"
   },
   {
    "duration": 17,
    "start_time": "2022-02-03T17:40:57.337Z"
   },
   {
    "duration": 38,
    "start_time": "2022-02-03T17:41:12.141Z"
   },
   {
    "duration": 1656,
    "start_time": "2022-02-03T17:41:15.996Z"
   },
   {
    "duration": 9,
    "start_time": "2022-02-03T17:41:33.368Z"
   },
   {
    "duration": 10,
    "start_time": "2022-02-03T17:42:13.980Z"
   },
   {
    "duration": 10,
    "start_time": "2022-02-03T17:42:33.036Z"
   },
   {
    "duration": 115,
    "start_time": "2022-02-03T17:51:16.993Z"
   },
   {
    "duration": 83,
    "start_time": "2022-02-03T17:51:21.350Z"
   },
   {
    "duration": 94,
    "start_time": "2022-02-03T17:51:32.139Z"
   },
   {
    "duration": 1225,
    "start_time": "2022-02-04T17:21:03.283Z"
   },
   {
    "duration": 194,
    "start_time": "2022-02-04T17:21:06.450Z"
   },
   {
    "duration": 15,
    "start_time": "2022-02-04T17:21:07.576Z"
   },
   {
    "duration": 29,
    "start_time": "2022-02-04T17:21:13.054Z"
   },
   {
    "duration": 29,
    "start_time": "2022-02-04T17:21:14.040Z"
   },
   {
    "duration": 158,
    "start_time": "2022-02-04T17:21:16.139Z"
   },
   {
    "duration": 20,
    "start_time": "2022-02-04T17:21:21.678Z"
   },
   {
    "duration": 24,
    "start_time": "2022-02-04T17:21:27.101Z"
   },
   {
    "duration": 45,
    "start_time": "2022-02-04T17:21:28.172Z"
   },
   {
    "duration": 9,
    "start_time": "2022-02-04T17:21:51.871Z"
   },
   {
    "duration": 10,
    "start_time": "2022-02-04T17:21:53.581Z"
   },
   {
    "duration": 20,
    "start_time": "2022-02-04T17:21:56.648Z"
   },
   {
    "duration": 198,
    "start_time": "2022-02-04T17:22:04.774Z"
   },
   {
    "duration": 331,
    "start_time": "2022-02-04T17:37:13.105Z"
   },
   {
    "duration": 1820,
    "start_time": "2022-02-04T17:38:46.137Z"
   },
   {
    "duration": 3335,
    "start_time": "2022-02-04T17:39:26.674Z"
   },
   {
    "duration": 344,
    "start_time": "2022-02-04T17:39:36.641Z"
   },
   {
    "duration": 3,
    "start_time": "2022-02-04T18:07:10.237Z"
   },
   {
    "duration": 192,
    "start_time": "2022-02-04T18:07:10.968Z"
   },
   {
    "duration": 14,
    "start_time": "2022-02-04T18:07:12.244Z"
   },
   {
    "duration": 28,
    "start_time": "2022-02-04T18:07:12.848Z"
   },
   {
    "duration": 25,
    "start_time": "2022-02-04T18:07:13.408Z"
   },
   {
    "duration": 150,
    "start_time": "2022-02-04T18:07:14.912Z"
   },
   {
    "duration": 18,
    "start_time": "2022-02-04T18:07:16.116Z"
   },
   {
    "duration": 24,
    "start_time": "2022-02-04T18:07:16.796Z"
   },
   {
    "duration": 39,
    "start_time": "2022-02-04T18:07:17.735Z"
   },
   {
    "duration": 5,
    "start_time": "2022-02-04T18:07:19.297Z"
   },
   {
    "duration": 10,
    "start_time": "2022-02-04T18:07:21.501Z"
   },
   {
    "duration": 19,
    "start_time": "2022-02-04T18:07:23.815Z"
   },
   {
    "duration": 345,
    "start_time": "2022-02-04T18:07:27.128Z"
   },
   {
    "duration": 95,
    "start_time": "2022-02-04T18:09:16.391Z"
   },
   {
    "duration": 15,
    "start_time": "2022-02-04T18:09:17.024Z"
   },
   {
    "duration": 14,
    "start_time": "2022-02-04T18:09:18.036Z"
   },
   {
    "duration": 43,
    "start_time": "2022-02-04T18:09:18.540Z"
   },
   {
    "duration": 24,
    "start_time": "2022-02-04T18:09:19.877Z"
   },
   {
    "duration": 7,
    "start_time": "2022-02-04T18:09:20.473Z"
   },
   {
    "duration": 6,
    "start_time": "2022-02-04T18:09:21.518Z"
   },
   {
    "duration": 37,
    "start_time": "2022-02-04T18:09:23.146Z"
   },
   {
    "duration": 9,
    "start_time": "2022-02-04T18:09:23.718Z"
   },
   {
    "duration": 4,
    "start_time": "2022-02-04T18:09:26.430Z"
   },
   {
    "duration": 12,
    "start_time": "2022-02-04T18:09:26.436Z"
   },
   {
    "duration": 7,
    "start_time": "2022-02-04T18:09:26.879Z"
   },
   {
    "duration": 15,
    "start_time": "2022-02-04T18:09:27.580Z"
   },
   {
    "duration": 8,
    "start_time": "2022-02-04T18:09:28.676Z"
   },
   {
    "duration": 37,
    "start_time": "2022-02-04T18:10:45.516Z"
   },
   {
    "duration": 33,
    "start_time": "2022-02-04T18:10:46.035Z"
   },
   {
    "duration": 12,
    "start_time": "2022-02-04T18:10:46.860Z"
   },
   {
    "duration": 31,
    "start_time": "2022-02-04T18:10:47.370Z"
   },
   {
    "duration": 5,
    "start_time": "2022-02-04T18:10:50.061Z"
   },
   {
    "duration": 15,
    "start_time": "2022-02-04T18:10:50.485Z"
   },
   {
    "duration": 26,
    "start_time": "2022-02-04T18:10:51.331Z"
   },
   {
    "duration": 21,
    "start_time": "2022-02-04T18:10:51.737Z"
   },
   {
    "duration": 29,
    "start_time": "2022-02-04T18:10:52.584Z"
   },
   {
    "duration": 5,
    "start_time": "2022-02-04T18:10:53.099Z"
   },
   {
    "duration": 18,
    "start_time": "2022-02-04T18:10:54.000Z"
   },
   {
    "duration": 30,
    "start_time": "2022-02-04T18:10:54.476Z"
   },
   {
    "duration": 27,
    "start_time": "2022-02-04T18:10:54.970Z"
   },
   {
    "duration": 26,
    "start_time": "2022-02-04T18:10:55.796Z"
   },
   {
    "duration": 9,
    "start_time": "2022-02-04T18:10:57.498Z"
   },
   {
    "duration": 9,
    "start_time": "2022-02-04T18:10:58.481Z"
   },
   {
    "duration": 14,
    "start_time": "2022-02-04T18:11:00.064Z"
   },
   {
    "duration": 15,
    "start_time": "2022-02-04T18:11:01.739Z"
   },
   {
    "duration": 16,
    "start_time": "2022-02-04T18:11:03.448Z"
   },
   {
    "duration": 10,
    "start_time": "2022-02-04T18:11:08.202Z"
   },
   {
    "duration": 10,
    "start_time": "2022-02-04T18:11:09.437Z"
   },
   {
    "duration": 17,
    "start_time": "2022-02-04T18:11:09.851Z"
   },
   {
    "duration": 4,
    "start_time": "2022-02-04T18:11:10.904Z"
   },
   {
    "duration": 4,
    "start_time": "2022-02-04T18:11:12.313Z"
   },
   {
    "duration": 5,
    "start_time": "2022-02-04T18:11:12.735Z"
   },
   {
    "duration": 5,
    "start_time": "2022-02-04T18:11:13.110Z"
   },
   {
    "duration": 14,
    "start_time": "2022-02-04T18:11:13.995Z"
   },
   {
    "duration": 132,
    "start_time": "2022-02-04T18:11:15.961Z"
   },
   {
    "duration": 16,
    "start_time": "2022-02-04T18:11:16.579Z"
   },
   {
    "duration": 5,
    "start_time": "2022-02-04T18:11:17.569Z"
   },
   {
    "duration": 17,
    "start_time": "2022-02-04T18:11:19.180Z"
   },
   {
    "duration": 30,
    "start_time": "2022-02-04T18:11:32.338Z"
   },
   {
    "duration": 1807,
    "start_time": "2022-02-04T18:11:34.504Z"
   },
   {
    "duration": 11,
    "start_time": "2022-02-04T18:12:09.483Z"
   },
   {
    "duration": 9,
    "start_time": "2022-02-04T18:12:11.476Z"
   },
   {
    "duration": 10,
    "start_time": "2022-02-04T18:12:11.807Z"
   },
   {
    "duration": 425,
    "start_time": "2022-02-07T09:19:22.500Z"
   },
   {
    "duration": 1428,
    "start_time": "2022-02-07T09:19:37.384Z"
   },
   {
    "duration": 253,
    "start_time": "2022-02-07T09:19:38.815Z"
   },
   {
    "duration": 17,
    "start_time": "2022-02-07T09:19:39.071Z"
   },
   {
    "duration": 35,
    "start_time": "2022-02-07T09:19:39.091Z"
   },
   {
    "duration": 35,
    "start_time": "2022-02-07T09:19:39.257Z"
   },
   {
    "duration": 188,
    "start_time": "2022-02-07T09:19:40.092Z"
   },
   {
    "duration": 23,
    "start_time": "2022-02-07T09:19:40.524Z"
   },
   {
    "duration": 32,
    "start_time": "2022-02-07T09:19:40.926Z"
   },
   {
    "duration": 59,
    "start_time": "2022-02-07T09:19:41.349Z"
   },
   {
    "duration": 12,
    "start_time": "2022-02-07T09:19:42.164Z"
   },
   {
    "duration": 15,
    "start_time": "2022-02-07T09:19:43.010Z"
   },
   {
    "duration": 27,
    "start_time": "2022-02-07T09:19:44.291Z"
   },
   {
    "duration": 603,
    "start_time": "2022-02-07T09:19:45.592Z"
   },
   {
    "duration": 12,
    "start_time": "2022-02-07T09:19:52.584Z"
   },
   {
    "duration": 24,
    "start_time": "2022-02-07T09:20:00.667Z"
   },
   {
    "duration": 24,
    "start_time": "2022-02-07T09:20:46.884Z"
   },
   {
    "duration": 414,
    "start_time": "2022-02-07T10:11:22.446Z"
   },
   {
    "duration": 2660,
    "start_time": "2022-02-07T10:12:55.094Z"
   },
   {
    "duration": 405,
    "start_time": "2022-02-07T10:16:41.176Z"
   },
   {
    "duration": 12,
    "start_time": "2022-02-07T10:24:06.012Z"
   },
   {
    "duration": 526,
    "start_time": "2022-02-07T10:29:29.348Z"
   },
   {
    "duration": 119,
    "start_time": "2022-02-07T10:32:25.365Z"
   },
   {
    "duration": 24,
    "start_time": "2022-02-07T10:32:26.762Z"
   },
   {
    "duration": 22,
    "start_time": "2022-02-07T10:32:27.563Z"
   },
   {
    "duration": 57,
    "start_time": "2022-02-07T10:32:28.765Z"
   },
   {
    "duration": 29,
    "start_time": "2022-02-07T10:32:30.518Z"
   },
   {
    "duration": 9,
    "start_time": "2022-02-07T10:32:31.410Z"
   },
   {
    "duration": 9,
    "start_time": "2022-02-07T10:32:32.156Z"
   },
   {
    "duration": 84,
    "start_time": "2022-02-07T10:32:33.886Z"
   },
   {
    "duration": 9,
    "start_time": "2022-02-07T10:32:34.912Z"
   },
   {
    "duration": 5,
    "start_time": "2022-02-07T10:32:37.328Z"
   },
   {
    "duration": 14,
    "start_time": "2022-02-07T10:32:38.186Z"
   },
   {
    "duration": 10,
    "start_time": "2022-02-07T10:32:39.271Z"
   },
   {
    "duration": 23,
    "start_time": "2022-02-07T10:32:40.308Z"
   },
   {
    "duration": 9,
    "start_time": "2022-02-07T10:32:41.397Z"
   },
   {
    "duration": 45,
    "start_time": "2022-02-07T10:32:47.886Z"
   },
   {
    "duration": 40,
    "start_time": "2022-02-07T10:32:48.413Z"
   },
   {
    "duration": 14,
    "start_time": "2022-02-07T10:32:49.327Z"
   },
   {
    "duration": 40,
    "start_time": "2022-02-07T10:32:49.975Z"
   },
   {
    "duration": 6,
    "start_time": "2022-02-07T10:32:50.804Z"
   },
   {
    "duration": 20,
    "start_time": "2022-02-07T10:32:51.750Z"
   },
   {
    "duration": 35,
    "start_time": "2022-02-07T10:32:52.280Z"
   },
   {
    "duration": 29,
    "start_time": "2022-02-07T10:32:53.105Z"
   },
   {
    "duration": 40,
    "start_time": "2022-02-07T10:32:53.686Z"
   },
   {
    "duration": 6,
    "start_time": "2022-02-07T10:32:54.519Z"
   },
   {
    "duration": 24,
    "start_time": "2022-02-07T10:32:55.430Z"
   },
   {
    "duration": 38,
    "start_time": "2022-02-07T10:32:55.939Z"
   },
   {
    "duration": 31,
    "start_time": "2022-02-07T10:32:56.759Z"
   },
   {
    "duration": 31,
    "start_time": "2022-02-07T10:32:57.673Z"
   },
   {
    "duration": 11,
    "start_time": "2022-02-07T10:32:58.682Z"
   },
   {
    "duration": 11,
    "start_time": "2022-02-07T10:32:59.277Z"
   },
   {
    "duration": 21,
    "start_time": "2022-02-07T10:33:00.757Z"
   },
   {
    "duration": 20,
    "start_time": "2022-02-07T10:33:02.795Z"
   },
   {
    "duration": 22,
    "start_time": "2022-02-07T10:33:04.176Z"
   },
   {
    "duration": 14,
    "start_time": "2022-02-07T10:33:09.552Z"
   },
   {
    "duration": 13,
    "start_time": "2022-02-07T10:33:10.721Z"
   },
   {
    "duration": 27,
    "start_time": "2022-02-07T10:33:11.676Z"
   },
   {
    "duration": 5,
    "start_time": "2022-02-07T10:33:12.245Z"
   },
   {
    "duration": 6,
    "start_time": "2022-02-07T10:33:13.961Z"
   },
   {
    "duration": 5,
    "start_time": "2022-02-07T10:33:14.486Z"
   },
   {
    "duration": 6,
    "start_time": "2022-02-07T10:33:15.055Z"
   },
   {
    "duration": 25,
    "start_time": "2022-02-07T10:33:16.056Z"
   },
   {
    "duration": 216,
    "start_time": "2022-02-07T10:33:17.170Z"
   },
   {
    "duration": 23,
    "start_time": "2022-02-07T10:33:22.722Z"
   },
   {
    "duration": 7,
    "start_time": "2022-02-07T10:33:24.314Z"
   },
   {
    "duration": 23,
    "start_time": "2022-02-07T10:33:25.264Z"
   },
   {
    "duration": 47,
    "start_time": "2022-02-07T10:33:29.120Z"
   },
   {
    "duration": 2516,
    "start_time": "2022-02-07T10:33:30.813Z"
   },
   {
    "duration": 12,
    "start_time": "2022-02-07T10:33:57.283Z"
   },
   {
    "duration": 12,
    "start_time": "2022-02-07T10:34:00.551Z"
   },
   {
    "duration": 14,
    "start_time": "2022-02-07T10:34:01.184Z"
   }
  ],
  "kernelspec": {
   "display_name": "Python 3 (ipykernel)",
   "language": "python",
   "name": "python3"
  },
  "language_info": {
   "codemirror_mode": {
    "name": "ipython",
    "version": 3
   },
   "file_extension": ".py",
   "mimetype": "text/x-python",
   "name": "python",
   "nbconvert_exporter": "python",
   "pygments_lexer": "ipython3",
   "version": "3.9.12"
  },
  "toc": {
   "base_numbering": 1,
   "nav_menu": {},
   "number_sections": true,
   "sideBar": true,
   "skip_h1_title": true,
   "title_cell": "Table of Contents",
   "title_sidebar": "Contents",
   "toc_cell": false,
   "toc_position": {},
   "toc_section_display": true,
   "toc_window_display": false
  }
 },
 "nbformat": 4,
 "nbformat_minor": 2
}
