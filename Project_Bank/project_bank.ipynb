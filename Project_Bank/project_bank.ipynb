{
 "cells": [
  {
   "cell_type": "markdown",
   "metadata": {},
   "source": [
    "# Исследование надёжности заёмщиков\n",
    "\n",
    "## Описание\n",
    "\n",
    "Определить влияет ли семейное положение и количество детей клиента на факт погашения кредита в срок на данных о платёжеспособности клиентов.\n",
    "\n",
    "\n",
    "## Цель\n",
    "\n",
    "Результаты исследования будут учтены при построении модели **кредитного скоринга** — специальной системы, которая оценивает способность потенциального заёмщика вернуть кредит банку.\n",
    "\n",
    "## Вывод\n",
    "\n",
    "Наличие 1-2 детей увеличивает процент невозврата кредита в срок на 2% (до 10%).\n",
    "\n",
    "Официально зарегистривавшие брак или бывшие в браке имеют просрочки в 6-8% случаев, в то время как одинокие заемщики до 10%.\n",
    "\n",
    "Наибольший риск невозврата кредита у заемщиков с доходом от 100 000 до 200 000 рублей (до 9%).\n",
    "\n",
    "Выше всего риски просрочек при покупке автомобиля или кредита на образование - более 9%."
   ]
  },
  {
   "cell_type": "markdown",
   "metadata": {},
   "source": [
    "## Шаг 1. Изучим данные"
   ]
  },
  {
   "cell_type": "code",
   "execution_count": 1,
   "metadata": {},
   "outputs": [],
   "source": [
    "# импортируем библиотеку\n",
    "import pandas as pd"
   ]
  },
  {
   "cell_type": "code",
   "execution_count": 2,
   "metadata": {},
   "outputs": [],
   "source": [
    "# прочитаем данные\n",
    "df = pd.read_csv('data.csv')"
   ]
  },
  {
   "cell_type": "code",
   "execution_count": 3,
   "metadata": {
    "scrolled": true
   },
   "outputs": [
    {
     "data": {
      "text/html": [
       "<div>\n",
       "<style scoped>\n",
       "    .dataframe tbody tr th:only-of-type {\n",
       "        vertical-align: middle;\n",
       "    }\n",
       "\n",
       "    .dataframe tbody tr th {\n",
       "        vertical-align: top;\n",
       "    }\n",
       "\n",
       "    .dataframe thead th {\n",
       "        text-align: right;\n",
       "    }\n",
       "</style>\n",
       "<table border=\"1\" class=\"dataframe\">\n",
       "  <thead>\n",
       "    <tr style=\"text-align: right;\">\n",
       "      <th></th>\n",
       "      <th>children</th>\n",
       "      <th>days_employed</th>\n",
       "      <th>dob_years</th>\n",
       "      <th>education</th>\n",
       "      <th>education_id</th>\n",
       "      <th>family_status</th>\n",
       "      <th>family_status_id</th>\n",
       "      <th>gender</th>\n",
       "      <th>income_type</th>\n",
       "      <th>debt</th>\n",
       "      <th>total_income</th>\n",
       "      <th>purpose</th>\n",
       "    </tr>\n",
       "  </thead>\n",
       "  <tbody>\n",
       "    <tr>\n",
       "      <th>0</th>\n",
       "      <td>1</td>\n",
       "      <td>-8437.673028</td>\n",
       "      <td>42</td>\n",
       "      <td>высшее</td>\n",
       "      <td>0</td>\n",
       "      <td>женат / замужем</td>\n",
       "      <td>0</td>\n",
       "      <td>F</td>\n",
       "      <td>сотрудник</td>\n",
       "      <td>0</td>\n",
       "      <td>253875.639453</td>\n",
       "      <td>покупка жилья</td>\n",
       "    </tr>\n",
       "    <tr>\n",
       "      <th>1</th>\n",
       "      <td>1</td>\n",
       "      <td>-4024.803754</td>\n",
       "      <td>36</td>\n",
       "      <td>среднее</td>\n",
       "      <td>1</td>\n",
       "      <td>женат / замужем</td>\n",
       "      <td>0</td>\n",
       "      <td>F</td>\n",
       "      <td>сотрудник</td>\n",
       "      <td>0</td>\n",
       "      <td>112080.014102</td>\n",
       "      <td>приобретение автомобиля</td>\n",
       "    </tr>\n",
       "    <tr>\n",
       "      <th>2</th>\n",
       "      <td>0</td>\n",
       "      <td>-5623.422610</td>\n",
       "      <td>33</td>\n",
       "      <td>Среднее</td>\n",
       "      <td>1</td>\n",
       "      <td>женат / замужем</td>\n",
       "      <td>0</td>\n",
       "      <td>M</td>\n",
       "      <td>сотрудник</td>\n",
       "      <td>0</td>\n",
       "      <td>145885.952297</td>\n",
       "      <td>покупка жилья</td>\n",
       "    </tr>\n",
       "    <tr>\n",
       "      <th>3</th>\n",
       "      <td>3</td>\n",
       "      <td>-4124.747207</td>\n",
       "      <td>32</td>\n",
       "      <td>среднее</td>\n",
       "      <td>1</td>\n",
       "      <td>женат / замужем</td>\n",
       "      <td>0</td>\n",
       "      <td>M</td>\n",
       "      <td>сотрудник</td>\n",
       "      <td>0</td>\n",
       "      <td>267628.550329</td>\n",
       "      <td>дополнительное образование</td>\n",
       "    </tr>\n",
       "    <tr>\n",
       "      <th>4</th>\n",
       "      <td>0</td>\n",
       "      <td>340266.072047</td>\n",
       "      <td>53</td>\n",
       "      <td>среднее</td>\n",
       "      <td>1</td>\n",
       "      <td>гражданский брак</td>\n",
       "      <td>1</td>\n",
       "      <td>F</td>\n",
       "      <td>пенсионер</td>\n",
       "      <td>0</td>\n",
       "      <td>158616.077870</td>\n",
       "      <td>сыграть свадьбу</td>\n",
       "    </tr>\n",
       "  </tbody>\n",
       "</table>\n",
       "</div>"
      ],
      "text/plain": [
       "   children  days_employed  dob_years education  education_id  \\\n",
       "0         1   -8437.673028         42    высшее             0   \n",
       "1         1   -4024.803754         36   среднее             1   \n",
       "2         0   -5623.422610         33   Среднее             1   \n",
       "3         3   -4124.747207         32   среднее             1   \n",
       "4         0  340266.072047         53   среднее             1   \n",
       "\n",
       "      family_status  family_status_id gender income_type  debt   total_income  \\\n",
       "0   женат / замужем                 0      F   сотрудник     0  253875.639453   \n",
       "1   женат / замужем                 0      F   сотрудник     0  112080.014102   \n",
       "2   женат / замужем                 0      M   сотрудник     0  145885.952297   \n",
       "3   женат / замужем                 0      M   сотрудник     0  267628.550329   \n",
       "4  гражданский брак                 1      F   пенсионер     0  158616.077870   \n",
       "\n",
       "                      purpose  \n",
       "0               покупка жилья  \n",
       "1     приобретение автомобиля  \n",
       "2               покупка жилья  \n",
       "3  дополнительное образование  \n",
       "4             сыграть свадьбу  "
      ]
     },
     "execution_count": 3,
     "metadata": {},
     "output_type": "execute_result"
    }
   ],
   "source": [
    "# посмотрим данные\n",
    "df.head(5)"
   ]
  },
  {
   "cell_type": "markdown",
   "metadata": {},
   "source": [
    "children — количество детей в семье\n",
    "\n",
    "days_employed — общий трудовой стаж в днях\n",
    "\n",
    "dob_years — возраст клиента в годах\n",
    "\n",
    "education — уровень образования клиента\n",
    "\n",
    "education_id — идентификатор уровня образования\n",
    "\n",
    "family_status — семейное положение\n",
    "\n",
    "family_status_id — идентификатор семейного положения\n",
    "\n",
    "gender — пол клиента\n",
    "\n",
    "income_type — тип занятости\n",
    "\n",
    "debt — имел ли задолженность по возврату кредитов\n",
    "\n",
    "total_income — ежемесячный доход\n",
    "\n",
    "purpose — цель получения кредита"
   ]
  },
  {
   "cell_type": "code",
   "execution_count": 6,
   "metadata": {
    "scrolled": true
   },
   "outputs": [
    {
     "name": "stdout",
     "output_type": "stream",
     "text": [
      "<class 'pandas.core.frame.DataFrame'>\n",
      "RangeIndex: 21525 entries, 0 to 21524\n",
      "Data columns (total 12 columns):\n",
      " #   Column            Non-Null Count  Dtype  \n",
      "---  ------            --------------  -----  \n",
      " 0   children          21525 non-null  int64  \n",
      " 1   days_employed     19351 non-null  float64\n",
      " 2   dob_years         21525 non-null  int64  \n",
      " 3   education         21525 non-null  object \n",
      " 4   education_id      21525 non-null  int64  \n",
      " 5   family_status     21525 non-null  object \n",
      " 6   family_status_id  21525 non-null  int64  \n",
      " 7   gender            21525 non-null  object \n",
      " 8   income_type       21525 non-null  object \n",
      " 9   debt              21525 non-null  int64  \n",
      " 10  total_income      19351 non-null  float64\n",
      " 11  purpose           21525 non-null  object \n",
      "dtypes: float64(2), int64(5), object(5)\n",
      "memory usage: 2.0+ MB\n"
     ]
    }
   ],
   "source": [
    "# посмотрим типы данных\n",
    "df.info()"
   ]
  },
  {
   "cell_type": "code",
   "execution_count": 7,
   "metadata": {
    "scrolled": true
   },
   "outputs": [
    {
     "data": {
      "text/plain": [
       "children             0.000000\n",
       "days_employed       10.099884\n",
       "dob_years            0.000000\n",
       "education            0.000000\n",
       "education_id         0.000000\n",
       "family_status        0.000000\n",
       "family_status_id     0.000000\n",
       "gender               0.000000\n",
       "income_type          0.000000\n",
       "debt                 0.000000\n",
       "total_income        10.099884\n",
       "purpose              0.000000\n",
       "dtype: float64"
      ]
     },
     "execution_count": 7,
     "metadata": {},
     "output_type": "execute_result"
    }
   ],
   "source": [
    "# посмотрим процент пропущенных значений\n",
    "df.isna().sum()*100/len(df)"
   ]
  },
  {
   "cell_type": "code",
   "execution_count": 8,
   "metadata": {},
   "outputs": [],
   "source": [
    "# поменяем формат данных, чтобы данные были в обычном формате, без е\n",
    "pd.options.display.float_format ='{: .3f}'.format "
   ]
  },
  {
   "cell_type": "code",
   "execution_count": 9,
   "metadata": {},
   "outputs": [
    {
     "data": {
      "text/html": [
       "<div>\n",
       "<style scoped>\n",
       "    .dataframe tbody tr th:only-of-type {\n",
       "        vertical-align: middle;\n",
       "    }\n",
       "\n",
       "    .dataframe tbody tr th {\n",
       "        vertical-align: top;\n",
       "    }\n",
       "\n",
       "    .dataframe thead th {\n",
       "        text-align: right;\n",
       "    }\n",
       "</style>\n",
       "<table border=\"1\" class=\"dataframe\">\n",
       "  <thead>\n",
       "    <tr style=\"text-align: right;\">\n",
       "      <th></th>\n",
       "      <th>children</th>\n",
       "      <th>days_employed</th>\n",
       "      <th>dob_years</th>\n",
       "      <th>education_id</th>\n",
       "      <th>family_status_id</th>\n",
       "      <th>debt</th>\n",
       "      <th>total_income</th>\n",
       "    </tr>\n",
       "  </thead>\n",
       "  <tbody>\n",
       "    <tr>\n",
       "      <th>count</th>\n",
       "      <td>21525.000</td>\n",
       "      <td>19351.000</td>\n",
       "      <td>21525.000</td>\n",
       "      <td>21525.000</td>\n",
       "      <td>21525.000</td>\n",
       "      <td>21525.000</td>\n",
       "      <td>19351.000</td>\n",
       "    </tr>\n",
       "    <tr>\n",
       "      <th>mean</th>\n",
       "      <td>0.539</td>\n",
       "      <td>63046.498</td>\n",
       "      <td>43.293</td>\n",
       "      <td>0.817</td>\n",
       "      <td>0.973</td>\n",
       "      <td>0.081</td>\n",
       "      <td>167422.302</td>\n",
       "    </tr>\n",
       "    <tr>\n",
       "      <th>std</th>\n",
       "      <td>1.382</td>\n",
       "      <td>140827.312</td>\n",
       "      <td>12.575</td>\n",
       "      <td>0.548</td>\n",
       "      <td>1.420</td>\n",
       "      <td>0.273</td>\n",
       "      <td>102971.566</td>\n",
       "    </tr>\n",
       "    <tr>\n",
       "      <th>min</th>\n",
       "      <td>-1.000</td>\n",
       "      <td>-18388.950</td>\n",
       "      <td>0.000</td>\n",
       "      <td>0.000</td>\n",
       "      <td>0.000</td>\n",
       "      <td>0.000</td>\n",
       "      <td>20667.264</td>\n",
       "    </tr>\n",
       "    <tr>\n",
       "      <th>25%</th>\n",
       "      <td>0.000</td>\n",
       "      <td>-2747.424</td>\n",
       "      <td>33.000</td>\n",
       "      <td>1.000</td>\n",
       "      <td>0.000</td>\n",
       "      <td>0.000</td>\n",
       "      <td>103053.153</td>\n",
       "    </tr>\n",
       "    <tr>\n",
       "      <th>50%</th>\n",
       "      <td>0.000</td>\n",
       "      <td>-1203.370</td>\n",
       "      <td>42.000</td>\n",
       "      <td>1.000</td>\n",
       "      <td>0.000</td>\n",
       "      <td>0.000</td>\n",
       "      <td>145017.938</td>\n",
       "    </tr>\n",
       "    <tr>\n",
       "      <th>75%</th>\n",
       "      <td>1.000</td>\n",
       "      <td>-291.096</td>\n",
       "      <td>53.000</td>\n",
       "      <td>1.000</td>\n",
       "      <td>1.000</td>\n",
       "      <td>0.000</td>\n",
       "      <td>203435.068</td>\n",
       "    </tr>\n",
       "    <tr>\n",
       "      <th>max</th>\n",
       "      <td>20.000</td>\n",
       "      <td>401755.400</td>\n",
       "      <td>75.000</td>\n",
       "      <td>4.000</td>\n",
       "      <td>4.000</td>\n",
       "      <td>1.000</td>\n",
       "      <td>2265604.029</td>\n",
       "    </tr>\n",
       "  </tbody>\n",
       "</table>\n",
       "</div>"
      ],
      "text/plain": [
       "        children  days_employed  dob_years  education_id  family_status_id  \\\n",
       "count  21525.000      19351.000  21525.000     21525.000         21525.000   \n",
       "mean       0.539      63046.498     43.293         0.817             0.973   \n",
       "std        1.382     140827.312     12.575         0.548             1.420   \n",
       "min       -1.000     -18388.950      0.000         0.000             0.000   \n",
       "25%        0.000      -2747.424     33.000         1.000             0.000   \n",
       "50%        0.000      -1203.370     42.000         1.000             0.000   \n",
       "75%        1.000       -291.096     53.000         1.000             1.000   \n",
       "max       20.000     401755.400     75.000         4.000             4.000   \n",
       "\n",
       "            debt  total_income  \n",
       "count  21525.000     19351.000  \n",
       "mean       0.081    167422.302  \n",
       "std        0.273    102971.566  \n",
       "min        0.000     20667.264  \n",
       "25%        0.000    103053.153  \n",
       "50%        0.000    145017.938  \n",
       "75%        0.000    203435.068  \n",
       "max        1.000   2265604.029  "
      ]
     },
     "execution_count": 9,
     "metadata": {},
     "output_type": "execute_result"
    }
   ],
   "source": [
    "# посмотрим статистические данные\n",
    "df.describe()"
   ]
  },
  {
   "cell_type": "markdown",
   "metadata": {},
   "source": [
    "**Вывод**\n",
    "\n",
    "В данных имеются NaN значения в total_income (ежемесячный доход) и в days_employed (трудовой стаж) в одинаковом количестве. Доля таких пропущенных значений 10%.\n",
    "Посмотрим сколько таких значений и есть ли в них схожести. Так же в данных о детях есть число -1 и 20 детей, что нестандартно. И 0 лет в возрасте. И значения float стоит перевести в целочисленные значения."
   ]
  },
  {
   "cell_type": "markdown",
   "metadata": {},
   "source": [
    "## Шаг 2. Предобработка данных"
   ]
  },
  {
   "cell_type": "markdown",
   "metadata": {},
   "source": [
    "### Обработка пропусков"
   ]
  },
  {
   "cell_type": "markdown",
   "metadata": {},
   "source": [
    "Найдем пропуски в данных о ежемесячном доходе методом isna()"
   ]
  },
  {
   "cell_type": "code",
   "execution_count": 10,
   "metadata": {
    "scrolled": true
   },
   "outputs": [
    {
     "data": {
      "text/html": [
       "<div>\n",
       "<style scoped>\n",
       "    .dataframe tbody tr th:only-of-type {\n",
       "        vertical-align: middle;\n",
       "    }\n",
       "\n",
       "    .dataframe tbody tr th {\n",
       "        vertical-align: top;\n",
       "    }\n",
       "\n",
       "    .dataframe thead th {\n",
       "        text-align: right;\n",
       "    }\n",
       "</style>\n",
       "<table border=\"1\" class=\"dataframe\">\n",
       "  <thead>\n",
       "    <tr style=\"text-align: right;\">\n",
       "      <th></th>\n",
       "      <th>children</th>\n",
       "      <th>days_employed</th>\n",
       "      <th>dob_years</th>\n",
       "      <th>education</th>\n",
       "      <th>education_id</th>\n",
       "      <th>family_status</th>\n",
       "      <th>family_status_id</th>\n",
       "      <th>gender</th>\n",
       "      <th>income_type</th>\n",
       "      <th>debt</th>\n",
       "      <th>total_income</th>\n",
       "      <th>purpose</th>\n",
       "    </tr>\n",
       "  </thead>\n",
       "  <tbody>\n",
       "    <tr>\n",
       "      <th>12</th>\n",
       "      <td>0</td>\n",
       "      <td>NaN</td>\n",
       "      <td>65</td>\n",
       "      <td>среднее</td>\n",
       "      <td>1</td>\n",
       "      <td>гражданский брак</td>\n",
       "      <td>1</td>\n",
       "      <td>M</td>\n",
       "      <td>пенсионер</td>\n",
       "      <td>0</td>\n",
       "      <td>NaN</td>\n",
       "      <td>сыграть свадьбу</td>\n",
       "    </tr>\n",
       "    <tr>\n",
       "      <th>26</th>\n",
       "      <td>0</td>\n",
       "      <td>NaN</td>\n",
       "      <td>41</td>\n",
       "      <td>среднее</td>\n",
       "      <td>1</td>\n",
       "      <td>женат / замужем</td>\n",
       "      <td>0</td>\n",
       "      <td>M</td>\n",
       "      <td>госслужащий</td>\n",
       "      <td>0</td>\n",
       "      <td>NaN</td>\n",
       "      <td>образование</td>\n",
       "    </tr>\n",
       "    <tr>\n",
       "      <th>29</th>\n",
       "      <td>0</td>\n",
       "      <td>NaN</td>\n",
       "      <td>63</td>\n",
       "      <td>среднее</td>\n",
       "      <td>1</td>\n",
       "      <td>Не женат / не замужем</td>\n",
       "      <td>4</td>\n",
       "      <td>F</td>\n",
       "      <td>пенсионер</td>\n",
       "      <td>0</td>\n",
       "      <td>NaN</td>\n",
       "      <td>строительство жилой недвижимости</td>\n",
       "    </tr>\n",
       "    <tr>\n",
       "      <th>41</th>\n",
       "      <td>0</td>\n",
       "      <td>NaN</td>\n",
       "      <td>50</td>\n",
       "      <td>среднее</td>\n",
       "      <td>1</td>\n",
       "      <td>женат / замужем</td>\n",
       "      <td>0</td>\n",
       "      <td>F</td>\n",
       "      <td>госслужащий</td>\n",
       "      <td>0</td>\n",
       "      <td>NaN</td>\n",
       "      <td>сделка с подержанным автомобилем</td>\n",
       "    </tr>\n",
       "    <tr>\n",
       "      <th>55</th>\n",
       "      <td>0</td>\n",
       "      <td>NaN</td>\n",
       "      <td>54</td>\n",
       "      <td>среднее</td>\n",
       "      <td>1</td>\n",
       "      <td>гражданский брак</td>\n",
       "      <td>1</td>\n",
       "      <td>F</td>\n",
       "      <td>пенсионер</td>\n",
       "      <td>1</td>\n",
       "      <td>NaN</td>\n",
       "      <td>сыграть свадьбу</td>\n",
       "    </tr>\n",
       "    <tr>\n",
       "      <th>...</th>\n",
       "      <td>...</td>\n",
       "      <td>...</td>\n",
       "      <td>...</td>\n",
       "      <td>...</td>\n",
       "      <td>...</td>\n",
       "      <td>...</td>\n",
       "      <td>...</td>\n",
       "      <td>...</td>\n",
       "      <td>...</td>\n",
       "      <td>...</td>\n",
       "      <td>...</td>\n",
       "      <td>...</td>\n",
       "    </tr>\n",
       "    <tr>\n",
       "      <th>21489</th>\n",
       "      <td>2</td>\n",
       "      <td>NaN</td>\n",
       "      <td>47</td>\n",
       "      <td>Среднее</td>\n",
       "      <td>1</td>\n",
       "      <td>женат / замужем</td>\n",
       "      <td>0</td>\n",
       "      <td>M</td>\n",
       "      <td>компаньон</td>\n",
       "      <td>0</td>\n",
       "      <td>NaN</td>\n",
       "      <td>сделка с автомобилем</td>\n",
       "    </tr>\n",
       "    <tr>\n",
       "      <th>21495</th>\n",
       "      <td>1</td>\n",
       "      <td>NaN</td>\n",
       "      <td>50</td>\n",
       "      <td>среднее</td>\n",
       "      <td>1</td>\n",
       "      <td>гражданский брак</td>\n",
       "      <td>1</td>\n",
       "      <td>F</td>\n",
       "      <td>сотрудник</td>\n",
       "      <td>0</td>\n",
       "      <td>NaN</td>\n",
       "      <td>свадьба</td>\n",
       "    </tr>\n",
       "    <tr>\n",
       "      <th>21497</th>\n",
       "      <td>0</td>\n",
       "      <td>NaN</td>\n",
       "      <td>48</td>\n",
       "      <td>ВЫСШЕЕ</td>\n",
       "      <td>0</td>\n",
       "      <td>женат / замужем</td>\n",
       "      <td>0</td>\n",
       "      <td>F</td>\n",
       "      <td>компаньон</td>\n",
       "      <td>0</td>\n",
       "      <td>NaN</td>\n",
       "      <td>строительство недвижимости</td>\n",
       "    </tr>\n",
       "    <tr>\n",
       "      <th>21502</th>\n",
       "      <td>1</td>\n",
       "      <td>NaN</td>\n",
       "      <td>42</td>\n",
       "      <td>среднее</td>\n",
       "      <td>1</td>\n",
       "      <td>женат / замужем</td>\n",
       "      <td>0</td>\n",
       "      <td>F</td>\n",
       "      <td>сотрудник</td>\n",
       "      <td>0</td>\n",
       "      <td>NaN</td>\n",
       "      <td>строительство жилой недвижимости</td>\n",
       "    </tr>\n",
       "    <tr>\n",
       "      <th>21510</th>\n",
       "      <td>2</td>\n",
       "      <td>NaN</td>\n",
       "      <td>28</td>\n",
       "      <td>среднее</td>\n",
       "      <td>1</td>\n",
       "      <td>женат / замужем</td>\n",
       "      <td>0</td>\n",
       "      <td>F</td>\n",
       "      <td>сотрудник</td>\n",
       "      <td>0</td>\n",
       "      <td>NaN</td>\n",
       "      <td>приобретение автомобиля</td>\n",
       "    </tr>\n",
       "  </tbody>\n",
       "</table>\n",
       "<p>2174 rows × 12 columns</p>\n",
       "</div>"
      ],
      "text/plain": [
       "       children  days_employed  dob_years education  education_id  \\\n",
       "12            0            NaN         65   среднее             1   \n",
       "26            0            NaN         41   среднее             1   \n",
       "29            0            NaN         63   среднее             1   \n",
       "41            0            NaN         50   среднее             1   \n",
       "55            0            NaN         54   среднее             1   \n",
       "...         ...            ...        ...       ...           ...   \n",
       "21489         2            NaN         47   Среднее             1   \n",
       "21495         1            NaN         50   среднее             1   \n",
       "21497         0            NaN         48    ВЫСШЕЕ             0   \n",
       "21502         1            NaN         42   среднее             1   \n",
       "21510         2            NaN         28   среднее             1   \n",
       "\n",
       "               family_status  family_status_id gender  income_type  debt  \\\n",
       "12          гражданский брак                 1      M    пенсионер     0   \n",
       "26           женат / замужем                 0      M  госслужащий     0   \n",
       "29     Не женат / не замужем                 4      F    пенсионер     0   \n",
       "41           женат / замужем                 0      F  госслужащий     0   \n",
       "55          гражданский брак                 1      F    пенсионер     1   \n",
       "...                      ...               ...    ...          ...   ...   \n",
       "21489        женат / замужем                 0      M    компаньон     0   \n",
       "21495       гражданский брак                 1      F    сотрудник     0   \n",
       "21497        женат / замужем                 0      F    компаньон     0   \n",
       "21502        женат / замужем                 0      F    сотрудник     0   \n",
       "21510        женат / замужем                 0      F    сотрудник     0   \n",
       "\n",
       "       total_income                           purpose  \n",
       "12              NaN                   сыграть свадьбу  \n",
       "26              NaN                       образование  \n",
       "29              NaN  строительство жилой недвижимости  \n",
       "41              NaN  сделка с подержанным автомобилем  \n",
       "55              NaN                   сыграть свадьбу  \n",
       "...             ...                               ...  \n",
       "21489           NaN              сделка с автомобилем  \n",
       "21495           NaN                           свадьба  \n",
       "21497           NaN        строительство недвижимости  \n",
       "21502           NaN  строительство жилой недвижимости  \n",
       "21510           NaN           приобретение автомобиля  \n",
       "\n",
       "[2174 rows x 12 columns]"
      ]
     },
     "execution_count": 10,
     "metadata": {},
     "output_type": "execute_result"
    }
   ],
   "source": [
    "df[df['total_income'].isna()]"
   ]
  },
  {
   "cell_type": "code",
   "execution_count": 11,
   "metadata": {},
   "outputs": [
    {
     "data": {
      "text/plain": [
       "253875.639    0.000\n",
       "157691.851    0.000\n",
       "70113.903     0.000\n",
       "116196.519    0.000\n",
       "157205.835    0.000\n",
       "              ...  \n",
       "168880.592    0.000\n",
       "148042.721    0.000\n",
       "60039.334     0.000\n",
       "175979.763    0.000\n",
       "82047.419     0.000\n",
       "Name: total_income, Length: 19351, dtype: float64"
      ]
     },
     "execution_count": 11,
     "metadata": {},
     "output_type": "execute_result"
    }
   ],
   "source": [
    "# сравним распределение значения для среза с пропусками\n",
    "df['total_income'].value_counts(normalize=True)"
   ]
  },
  {
   "cell_type": "markdown",
   "metadata": {},
   "source": [
    "**Вывод**\n",
    "\n",
    "Схожих данных в nan нет, таких как, что это только пенсионеры, или только те, кто гасит кредит без просрочки. Значит предполагаем, что они не заполнены случайным образом, по ошибке выгрузке или иных случаев. Примерно 10% пропущенных данных. \n",
    "\n",
    "Поскольку запросить новые данные мы не можем, или узнать причину их не заполненности, будем только предполагать.\n",
    "\n",
    "Можем предположить, что доход зависит от типа занятости. В связи с чем можем заполнить 10% пропущенных значений медианными значениями в зависимости от занятости. Однако указать в выводе на число пропущенных необходимо, так как то влияет на конечный результат.\n",
    "\n",
    "Данные в столбце days_employed говорят о стаже работе в днях согласно заголовка, но имеют отрицательные значения, завышенные значения,такие как 401755.400 дней стажа.\n",
    "\n",
    "То есть данные нам предоставлены не совсем некорректные. Ориентироваться на них мы не можем.\n",
    "\n",
    "На решение поставленных вопросов данные о стаже нам не нужны, потому можем от данного столбца отказаться."
   ]
  },
  {
   "cell_type": "code",
   "execution_count": 12,
   "metadata": {
    "scrolled": false
   },
   "outputs": [
    {
     "data": {
      "text/plain": [
       "income_type\n",
       "безработный        0.000\n",
       "в декрете          0.000\n",
       "госслужащий        0.101\n",
       "компаньон          0.100\n",
       "пенсионер          0.107\n",
       "предприниматель    0.500\n",
       "сотрудник          0.099\n",
       "студент            0.000\n",
       "Name: total_income, dtype: float64"
      ]
     },
     "execution_count": 12,
     "metadata": {},
     "output_type": "execute_result"
    }
   ],
   "source": [
    "# Посмотрим процент не заполненных данных по типу занятости\n",
    "df.groupby('income_type')['total_income'].apply(lambda x : x.isna().mean())"
   ]
  },
  {
   "cell_type": "markdown",
   "metadata": {},
   "source": [
    "Примерно по 1% данных не заполнено по типу занятости, кроме предпринимателя (5%). Так как нет возможности уточнить сведения у заказчика. Заполним данные о доходах total_income медианными значениями в группировке по типу занятости income_type"
   ]
  },
  {
   "cell_type": "code",
   "execution_count": 15,
   "metadata": {},
   "outputs": [],
   "source": [
    "df['total_income'] = df['total_income'].fillna((df.groupby('income_type'))['total_income'].transform('median'))"
   ]
  },
  {
   "cell_type": "markdown",
   "metadata": {},
   "source": [
    "Проверим результат"
   ]
  },
  {
   "cell_type": "code",
   "execution_count": 16,
   "metadata": {},
   "outputs": [
    {
     "data": {
      "text/html": [
       "<div>\n",
       "<style scoped>\n",
       "    .dataframe tbody tr th:only-of-type {\n",
       "        vertical-align: middle;\n",
       "    }\n",
       "\n",
       "    .dataframe tbody tr th {\n",
       "        vertical-align: top;\n",
       "    }\n",
       "\n",
       "    .dataframe thead th {\n",
       "        text-align: right;\n",
       "    }\n",
       "</style>\n",
       "<table border=\"1\" class=\"dataframe\">\n",
       "  <thead>\n",
       "    <tr style=\"text-align: right;\">\n",
       "      <th></th>\n",
       "      <th>children</th>\n",
       "      <th>days_employed</th>\n",
       "      <th>dob_years</th>\n",
       "      <th>education</th>\n",
       "      <th>education_id</th>\n",
       "      <th>family_status</th>\n",
       "      <th>family_status_id</th>\n",
       "      <th>gender</th>\n",
       "      <th>income_type</th>\n",
       "      <th>debt</th>\n",
       "      <th>total_income</th>\n",
       "      <th>purpose</th>\n",
       "    </tr>\n",
       "  </thead>\n",
       "  <tbody>\n",
       "  </tbody>\n",
       "</table>\n",
       "</div>"
      ],
      "text/plain": [
       "Empty DataFrame\n",
       "Columns: [children, days_employed, dob_years, education, education_id, family_status, family_status_id, gender, income_type, debt, total_income, purpose]\n",
       "Index: []"
      ]
     },
     "execution_count": 16,
     "metadata": {},
     "output_type": "execute_result"
    }
   ],
   "source": [
    "df[df['total_income'].isna()]"
   ]
  },
  {
   "cell_type": "markdown",
   "metadata": {},
   "source": [
    "Пропущенные значения в столбце отсутствуют"
   ]
  },
  {
   "cell_type": "code",
   "execution_count": 17,
   "metadata": {},
   "outputs": [
    {
     "name": "stdout",
     "output_type": "stream",
     "text": [
      "<class 'pandas.core.frame.DataFrame'>\n",
      "RangeIndex: 21525 entries, 0 to 21524\n",
      "Data columns (total 12 columns):\n",
      " #   Column            Non-Null Count  Dtype  \n",
      "---  ------            --------------  -----  \n",
      " 0   children          21525 non-null  int64  \n",
      " 1   days_employed     19351 non-null  float64\n",
      " 2   dob_years         21525 non-null  int64  \n",
      " 3   education         21525 non-null  object \n",
      " 4   education_id      21525 non-null  int64  \n",
      " 5   family_status     21525 non-null  object \n",
      " 6   family_status_id  21525 non-null  int64  \n",
      " 7   gender            21525 non-null  object \n",
      " 8   income_type       21525 non-null  object \n",
      " 9   debt              21525 non-null  int64  \n",
      " 10  total_income      21525 non-null  float64\n",
      " 11  purpose           21525 non-null  object \n",
      "dtypes: float64(2), int64(5), object(5)\n",
      "memory usage: 2.0+ MB\n"
     ]
    }
   ],
   "source": [
    "df.info()"
   ]
  },
  {
   "cell_type": "markdown",
   "metadata": {},
   "source": [
    "Удалим столбец days_employed (стаж работы) методом dropna() с Nan значениями"
   ]
  },
  {
   "cell_type": "code",
   "execution_count": 18,
   "metadata": {},
   "outputs": [],
   "source": [
    "df = df.dropna(axis = 'columns')"
   ]
  },
  {
   "cell_type": "code",
   "execution_count": 19,
   "metadata": {},
   "outputs": [
    {
     "name": "stdout",
     "output_type": "stream",
     "text": [
      "<class 'pandas.core.frame.DataFrame'>\n",
      "RangeIndex: 21525 entries, 0 to 21524\n",
      "Data columns (total 11 columns):\n",
      " #   Column            Non-Null Count  Dtype  \n",
      "---  ------            --------------  -----  \n",
      " 0   children          21525 non-null  int64  \n",
      " 1   dob_years         21525 non-null  int64  \n",
      " 2   education         21525 non-null  object \n",
      " 3   education_id      21525 non-null  int64  \n",
      " 4   family_status     21525 non-null  object \n",
      " 5   family_status_id  21525 non-null  int64  \n",
      " 6   gender            21525 non-null  object \n",
      " 7   income_type       21525 non-null  object \n",
      " 8   debt              21525 non-null  int64  \n",
      " 9   total_income      21525 non-null  float64\n",
      " 10  purpose           21525 non-null  object \n",
      "dtypes: float64(1), int64(5), object(5)\n",
      "memory usage: 1.8+ MB\n"
     ]
    }
   ],
   "source": [
    "df.info()"
   ]
  },
  {
   "cell_type": "markdown",
   "metadata": {},
   "source": [
    "### Замена типа данных"
   ]
  },
  {
   "cell_type": "markdown",
   "metadata": {},
   "source": [
    "Изменим в total_income (ежемесячный доход) вещественный тип float на целочисленный int с помощью метода astype(), так как он позволяет переводить данные в любой тип, в отличие от to_numeric()."
   ]
  },
  {
   "cell_type": "code",
   "execution_count": 20,
   "metadata": {},
   "outputs": [
    {
     "name": "stderr",
     "output_type": "stream",
     "text": [
      "C:\\Users\\mdvor\\AppData\\Local\\Temp\\ipykernel_12576\\3602641882.py:1: SettingWithCopyWarning: \n",
      "A value is trying to be set on a copy of a slice from a DataFrame.\n",
      "Try using .loc[row_indexer,col_indexer] = value instead\n",
      "\n",
      "See the caveats in the documentation: https://pandas.pydata.org/pandas-docs/stable/user_guide/indexing.html#returning-a-view-versus-a-copy\n",
      "  df['total_income'] = df['total_income'].astype('int64')\n"
     ]
    }
   ],
   "source": [
    "df['total_income'] = df['total_income'].astype('int64')"
   ]
  },
  {
   "cell_type": "code",
   "execution_count": 21,
   "metadata": {},
   "outputs": [
    {
     "name": "stdout",
     "output_type": "stream",
     "text": [
      "<class 'pandas.core.frame.DataFrame'>\n",
      "RangeIndex: 21525 entries, 0 to 21524\n",
      "Data columns (total 11 columns):\n",
      " #   Column            Non-Null Count  Dtype \n",
      "---  ------            --------------  ----- \n",
      " 0   children          21525 non-null  int64 \n",
      " 1   dob_years         21525 non-null  int64 \n",
      " 2   education         21525 non-null  object\n",
      " 3   education_id      21525 non-null  int64 \n",
      " 4   family_status     21525 non-null  object\n",
      " 5   family_status_id  21525 non-null  int64 \n",
      " 6   gender            21525 non-null  object\n",
      " 7   income_type       21525 non-null  object\n",
      " 8   debt              21525 non-null  int64 \n",
      " 9   total_income      21525 non-null  int64 \n",
      " 10  purpose           21525 non-null  object\n",
      "dtypes: int64(6), object(5)\n",
      "memory usage: 1.8+ MB\n"
     ]
    }
   ],
   "source": [
    "df.info()"
   ]
  },
  {
   "cell_type": "code",
   "execution_count": 22,
   "metadata": {
    "scrolled": true
   },
   "outputs": [
    {
     "data": {
      "text/html": [
       "<div>\n",
       "<style scoped>\n",
       "    .dataframe tbody tr th:only-of-type {\n",
       "        vertical-align: middle;\n",
       "    }\n",
       "\n",
       "    .dataframe tbody tr th {\n",
       "        vertical-align: top;\n",
       "    }\n",
       "\n",
       "    .dataframe thead th {\n",
       "        text-align: right;\n",
       "    }\n",
       "</style>\n",
       "<table border=\"1\" class=\"dataframe\">\n",
       "  <thead>\n",
       "    <tr style=\"text-align: right;\">\n",
       "      <th></th>\n",
       "      <th>children</th>\n",
       "      <th>dob_years</th>\n",
       "      <th>education</th>\n",
       "      <th>education_id</th>\n",
       "      <th>family_status</th>\n",
       "      <th>family_status_id</th>\n",
       "      <th>gender</th>\n",
       "      <th>income_type</th>\n",
       "      <th>debt</th>\n",
       "      <th>total_income</th>\n",
       "      <th>purpose</th>\n",
       "    </tr>\n",
       "  </thead>\n",
       "  <tbody>\n",
       "    <tr>\n",
       "      <th>0</th>\n",
       "      <td>1</td>\n",
       "      <td>42</td>\n",
       "      <td>высшее</td>\n",
       "      <td>0</td>\n",
       "      <td>женат / замужем</td>\n",
       "      <td>0</td>\n",
       "      <td>F</td>\n",
       "      <td>сотрудник</td>\n",
       "      <td>0</td>\n",
       "      <td>253875</td>\n",
       "      <td>покупка жилья</td>\n",
       "    </tr>\n",
       "    <tr>\n",
       "      <th>1</th>\n",
       "      <td>1</td>\n",
       "      <td>36</td>\n",
       "      <td>среднее</td>\n",
       "      <td>1</td>\n",
       "      <td>женат / замужем</td>\n",
       "      <td>0</td>\n",
       "      <td>F</td>\n",
       "      <td>сотрудник</td>\n",
       "      <td>0</td>\n",
       "      <td>112080</td>\n",
       "      <td>приобретение автомобиля</td>\n",
       "    </tr>\n",
       "    <tr>\n",
       "      <th>2</th>\n",
       "      <td>0</td>\n",
       "      <td>33</td>\n",
       "      <td>Среднее</td>\n",
       "      <td>1</td>\n",
       "      <td>женат / замужем</td>\n",
       "      <td>0</td>\n",
       "      <td>M</td>\n",
       "      <td>сотрудник</td>\n",
       "      <td>0</td>\n",
       "      <td>145885</td>\n",
       "      <td>покупка жилья</td>\n",
       "    </tr>\n",
       "    <tr>\n",
       "      <th>3</th>\n",
       "      <td>3</td>\n",
       "      <td>32</td>\n",
       "      <td>среднее</td>\n",
       "      <td>1</td>\n",
       "      <td>женат / замужем</td>\n",
       "      <td>0</td>\n",
       "      <td>M</td>\n",
       "      <td>сотрудник</td>\n",
       "      <td>0</td>\n",
       "      <td>267628</td>\n",
       "      <td>дополнительное образование</td>\n",
       "    </tr>\n",
       "    <tr>\n",
       "      <th>4</th>\n",
       "      <td>0</td>\n",
       "      <td>53</td>\n",
       "      <td>среднее</td>\n",
       "      <td>1</td>\n",
       "      <td>гражданский брак</td>\n",
       "      <td>1</td>\n",
       "      <td>F</td>\n",
       "      <td>пенсионер</td>\n",
       "      <td>0</td>\n",
       "      <td>158616</td>\n",
       "      <td>сыграть свадьбу</td>\n",
       "    </tr>\n",
       "  </tbody>\n",
       "</table>\n",
       "</div>"
      ],
      "text/plain": [
       "   children  dob_years education  education_id     family_status  \\\n",
       "0         1         42    высшее             0   женат / замужем   \n",
       "1         1         36   среднее             1   женат / замужем   \n",
       "2         0         33   Среднее             1   женат / замужем   \n",
       "3         3         32   среднее             1   женат / замужем   \n",
       "4         0         53   среднее             1  гражданский брак   \n",
       "\n",
       "   family_status_id gender income_type  debt  total_income  \\\n",
       "0                 0      F   сотрудник     0        253875   \n",
       "1                 0      F   сотрудник     0        112080   \n",
       "2                 0      M   сотрудник     0        145885   \n",
       "3                 0      M   сотрудник     0        267628   \n",
       "4                 1      F   пенсионер     0        158616   \n",
       "\n",
       "                      purpose  \n",
       "0               покупка жилья  \n",
       "1     приобретение автомобиля  \n",
       "2               покупка жилья  \n",
       "3  дополнительное образование  \n",
       "4             сыграть свадьбу  "
      ]
     },
     "execution_count": 22,
     "metadata": {},
     "output_type": "execute_result"
    }
   ],
   "source": [
    "df.head()"
   ]
  },
  {
   "cell_type": "markdown",
   "metadata": {},
   "source": [
    "### Обработка дубликатов"
   ]
  },
  {
   "cell_type": "markdown",
   "metadata": {},
   "source": [
    "Найдем дубликаты методом duplicated() и посчитаем их количество методом sum()."
   ]
  },
  {
   "cell_type": "code",
   "execution_count": 23,
   "metadata": {},
   "outputs": [
    {
     "data": {
      "text/plain": [
       "54"
      ]
     },
     "execution_count": 23,
     "metadata": {},
     "output_type": "execute_result"
    }
   ],
   "source": [
    "df.duplicated().sum()"
   ]
  },
  {
   "cell_type": "markdown",
   "metadata": {},
   "source": [
    "54 дублирующиеся строки. Удалим их методом drop_duplicates()"
   ]
  },
  {
   "cell_type": "code",
   "execution_count": 24,
   "metadata": {},
   "outputs": [
    {
     "name": "stderr",
     "output_type": "stream",
     "text": [
      "C:\\Users\\mdvor\\AppData\\Local\\Temp\\ipykernel_12576\\3006716147.py:1: SettingWithCopyWarning: \n",
      "A value is trying to be set on a copy of a slice from a DataFrame\n",
      "\n",
      "See the caveats in the documentation: https://pandas.pydata.org/pandas-docs/stable/user_guide/indexing.html#returning-a-view-versus-a-copy\n",
      "  df.drop_duplicates(inplace=True)\n"
     ]
    }
   ],
   "source": [
    "df.drop_duplicates(inplace=True)"
   ]
  },
  {
   "cell_type": "markdown",
   "metadata": {},
   "source": [
    "Посмотрим неявные дубликаты в столбцах методом unique()."
   ]
  },
  {
   "cell_type": "code",
   "execution_count": 25,
   "metadata": {
    "scrolled": true
   },
   "outputs": [
    {
     "name": "stdout",
     "output_type": "stream",
     "text": [
      "Столбец: children\n",
      "[ 1  0  3  2 -1  4 20  5]\n",
      "Столбец: dob_years\n",
      "[42 36 33 32 53 27 43 50 35 41 40 65 54 56 26 48 24 21 57 67 28 63 62 47\n",
      " 34 68 25 31 30 20 49 37 45 61 64 44 52 46 23 38 39 51  0 59 29 60 55 58\n",
      " 71 22 73 66 69 19 72 70 74 75]\n",
      "Столбец: education\n",
      "['высшее' 'среднее' 'Среднее' 'СРЕДНЕЕ' 'ВЫСШЕЕ' 'неоконченное высшее'\n",
      " 'начальное' 'Высшее' 'НЕОКОНЧЕННОЕ ВЫСШЕЕ' 'Неоконченное высшее'\n",
      " 'НАЧАЛЬНОЕ' 'Начальное' 'Ученая степень' 'УЧЕНАЯ СТЕПЕНЬ'\n",
      " 'ученая степень']\n",
      "Столбец: education_id\n",
      "[0 1 2 3 4]\n",
      "Столбец: family_status\n",
      "['женат / замужем' 'гражданский брак' 'вдовец / вдова' 'в разводе'\n",
      " 'Не женат / не замужем']\n",
      "Столбец: family_status_id\n",
      "[0 1 2 3 4]\n",
      "Столбец: gender\n",
      "['F' 'M' 'XNA']\n",
      "Столбец: income_type\n",
      "['сотрудник' 'пенсионер' 'компаньон' 'госслужащий' 'безработный'\n",
      " 'предприниматель' 'студент' 'в декрете']\n",
      "Столбец: debt\n",
      "[0 1]\n",
      "Столбец: total_income\n",
      "[253875 112080 145885 ...  89672 244093  82047]\n",
      "Столбец: purpose\n",
      "['покупка жилья' 'приобретение автомобиля' 'дополнительное образование'\n",
      " 'сыграть свадьбу' 'операции с жильем' 'образование'\n",
      " 'на проведение свадьбы' 'покупка жилья для семьи' 'покупка недвижимости'\n",
      " 'покупка коммерческой недвижимости' 'покупка жилой недвижимости'\n",
      " 'строительство собственной недвижимости' 'недвижимость'\n",
      " 'строительство недвижимости' 'на покупку подержанного автомобиля'\n",
      " 'на покупку своего автомобиля' 'операции с коммерческой недвижимостью'\n",
      " 'строительство жилой недвижимости' 'жилье'\n",
      " 'операции со своей недвижимостью' 'автомобили' 'заняться образованием'\n",
      " 'сделка с подержанным автомобилем' 'получение образования' 'автомобиль'\n",
      " 'свадьба' 'получение дополнительного образования' 'покупка своего жилья'\n",
      " 'операции с недвижимостью' 'получение высшего образования'\n",
      " 'свой автомобиль' 'сделка с автомобилем' 'профильное образование'\n",
      " 'высшее образование' 'покупка жилья для сдачи' 'на покупку автомобиля'\n",
      " 'ремонт жилью' 'заняться высшим образованием']\n"
     ]
    }
   ],
   "source": [
    "for col in df:\n",
    "    print('Столбец:', col) # название столбца\n",
    "    print(df[col].unique()) # уникальные записи столбца"
   ]
  },
  {
   "cell_type": "markdown",
   "metadata": {},
   "source": [
    "**ВЫВОД**\n",
    "\n",
    "Данные о детях содержат странные значения -1 и 20.\n",
    "\n",
    "Данные о возрасте имеют 0 возраст.\n",
    "\n",
    "Данные об образовании и браке стоит перевести в строчное написание.\n",
    "\n",
    "Данные пола имеют неизвестное значение 'XNA'.\n",
    "\n",
    "Данные о цели кредита содержат схожие цели, стоит привести их к одному слову."
   ]
  },
  {
   "cell_type": "code",
   "execution_count": 26,
   "metadata": {},
   "outputs": [
    {
     "data": {
      "text/plain": [
       "47"
      ]
     },
     "execution_count": 26,
     "metadata": {},
     "output_type": "execute_result"
    }
   ],
   "source": [
    "# посмотрим количество записей с -1 ребенком\n",
    "df[df['children'] == -1]['children'].count()"
   ]
  },
  {
   "cell_type": "code",
   "execution_count": 27,
   "metadata": {},
   "outputs": [
    {
     "data": {
      "text/plain": [
       "0.21889991150854643"
      ]
     },
     "execution_count": 27,
     "metadata": {},
     "output_type": "execute_result"
    }
   ],
   "source": [
    "# посчитаем процент таких записей\n",
    "df[df['children'] == -1]['children'].count()/len(df)*100"
   ]
  },
  {
   "cell_type": "code",
   "execution_count": 28,
   "metadata": {},
   "outputs": [
    {
     "data": {
      "text/html": [
       "<div>\n",
       "<style scoped>\n",
       "    .dataframe tbody tr th:only-of-type {\n",
       "        vertical-align: middle;\n",
       "    }\n",
       "\n",
       "    .dataframe tbody tr th {\n",
       "        vertical-align: top;\n",
       "    }\n",
       "\n",
       "    .dataframe thead th {\n",
       "        text-align: right;\n",
       "    }\n",
       "</style>\n",
       "<table border=\"1\" class=\"dataframe\">\n",
       "  <thead>\n",
       "    <tr style=\"text-align: right;\">\n",
       "      <th></th>\n",
       "      <th>children</th>\n",
       "      <th>dob_years</th>\n",
       "      <th>education</th>\n",
       "      <th>education_id</th>\n",
       "      <th>family_status</th>\n",
       "      <th>family_status_id</th>\n",
       "      <th>gender</th>\n",
       "      <th>income_type</th>\n",
       "      <th>debt</th>\n",
       "      <th>total_income</th>\n",
       "      <th>purpose</th>\n",
       "    </tr>\n",
       "  </thead>\n",
       "  <tbody>\n",
       "    <tr>\n",
       "      <th>291</th>\n",
       "      <td>-1</td>\n",
       "      <td>46</td>\n",
       "      <td>среднее</td>\n",
       "      <td>1</td>\n",
       "      <td>гражданский брак</td>\n",
       "      <td>1</td>\n",
       "      <td>F</td>\n",
       "      <td>сотрудник</td>\n",
       "      <td>0</td>\n",
       "      <td>102816</td>\n",
       "      <td>профильное образование</td>\n",
       "    </tr>\n",
       "    <tr>\n",
       "      <th>705</th>\n",
       "      <td>-1</td>\n",
       "      <td>50</td>\n",
       "      <td>среднее</td>\n",
       "      <td>1</td>\n",
       "      <td>женат / замужем</td>\n",
       "      <td>0</td>\n",
       "      <td>F</td>\n",
       "      <td>госслужащий</td>\n",
       "      <td>0</td>\n",
       "      <td>137882</td>\n",
       "      <td>приобретение автомобиля</td>\n",
       "    </tr>\n",
       "    <tr>\n",
       "      <th>742</th>\n",
       "      <td>-1</td>\n",
       "      <td>57</td>\n",
       "      <td>среднее</td>\n",
       "      <td>1</td>\n",
       "      <td>женат / замужем</td>\n",
       "      <td>0</td>\n",
       "      <td>F</td>\n",
       "      <td>сотрудник</td>\n",
       "      <td>0</td>\n",
       "      <td>64268</td>\n",
       "      <td>дополнительное образование</td>\n",
       "    </tr>\n",
       "    <tr>\n",
       "      <th>800</th>\n",
       "      <td>-1</td>\n",
       "      <td>54</td>\n",
       "      <td>среднее</td>\n",
       "      <td>1</td>\n",
       "      <td>Не женат / не замужем</td>\n",
       "      <td>4</td>\n",
       "      <td>F</td>\n",
       "      <td>пенсионер</td>\n",
       "      <td>0</td>\n",
       "      <td>86293</td>\n",
       "      <td>дополнительное образование</td>\n",
       "    </tr>\n",
       "    <tr>\n",
       "      <th>941</th>\n",
       "      <td>-1</td>\n",
       "      <td>57</td>\n",
       "      <td>Среднее</td>\n",
       "      <td>1</td>\n",
       "      <td>женат / замужем</td>\n",
       "      <td>0</td>\n",
       "      <td>F</td>\n",
       "      <td>пенсионер</td>\n",
       "      <td>0</td>\n",
       "      <td>118514</td>\n",
       "      <td>на покупку своего автомобиля</td>\n",
       "    </tr>\n",
       "    <tr>\n",
       "      <th>1363</th>\n",
       "      <td>-1</td>\n",
       "      <td>55</td>\n",
       "      <td>СРЕДНЕЕ</td>\n",
       "      <td>1</td>\n",
       "      <td>женат / замужем</td>\n",
       "      <td>0</td>\n",
       "      <td>F</td>\n",
       "      <td>компаньон</td>\n",
       "      <td>0</td>\n",
       "      <td>69550</td>\n",
       "      <td>профильное образование</td>\n",
       "    </tr>\n",
       "    <tr>\n",
       "      <th>1929</th>\n",
       "      <td>-1</td>\n",
       "      <td>38</td>\n",
       "      <td>среднее</td>\n",
       "      <td>1</td>\n",
       "      <td>Не женат / не замужем</td>\n",
       "      <td>4</td>\n",
       "      <td>M</td>\n",
       "      <td>сотрудник</td>\n",
       "      <td>0</td>\n",
       "      <td>109121</td>\n",
       "      <td>покупка жилья</td>\n",
       "    </tr>\n",
       "    <tr>\n",
       "      <th>2073</th>\n",
       "      <td>-1</td>\n",
       "      <td>42</td>\n",
       "      <td>среднее</td>\n",
       "      <td>1</td>\n",
       "      <td>в разводе</td>\n",
       "      <td>3</td>\n",
       "      <td>F</td>\n",
       "      <td>компаньон</td>\n",
       "      <td>0</td>\n",
       "      <td>162638</td>\n",
       "      <td>покупка жилья</td>\n",
       "    </tr>\n",
       "    <tr>\n",
       "      <th>3814</th>\n",
       "      <td>-1</td>\n",
       "      <td>26</td>\n",
       "      <td>Среднее</td>\n",
       "      <td>1</td>\n",
       "      <td>гражданский брак</td>\n",
       "      <td>1</td>\n",
       "      <td>F</td>\n",
       "      <td>госслужащий</td>\n",
       "      <td>0</td>\n",
       "      <td>131892</td>\n",
       "      <td>на проведение свадьбы</td>\n",
       "    </tr>\n",
       "    <tr>\n",
       "      <th>4201</th>\n",
       "      <td>-1</td>\n",
       "      <td>41</td>\n",
       "      <td>среднее</td>\n",
       "      <td>1</td>\n",
       "      <td>женат / замужем</td>\n",
       "      <td>0</td>\n",
       "      <td>F</td>\n",
       "      <td>госслужащий</td>\n",
       "      <td>0</td>\n",
       "      <td>226375</td>\n",
       "      <td>операции со своей недвижимостью</td>\n",
       "    </tr>\n",
       "    <tr>\n",
       "      <th>4402</th>\n",
       "      <td>-1</td>\n",
       "      <td>64</td>\n",
       "      <td>СРЕДНЕЕ</td>\n",
       "      <td>1</td>\n",
       "      <td>женат / замужем</td>\n",
       "      <td>0</td>\n",
       "      <td>F</td>\n",
       "      <td>пенсионер</td>\n",
       "      <td>0</td>\n",
       "      <td>163264</td>\n",
       "      <td>покупка недвижимости</td>\n",
       "    </tr>\n",
       "    <tr>\n",
       "      <th>4542</th>\n",
       "      <td>-1</td>\n",
       "      <td>32</td>\n",
       "      <td>среднее</td>\n",
       "      <td>1</td>\n",
       "      <td>женат / замужем</td>\n",
       "      <td>0</td>\n",
       "      <td>F</td>\n",
       "      <td>сотрудник</td>\n",
       "      <td>0</td>\n",
       "      <td>160544</td>\n",
       "      <td>образование</td>\n",
       "    </tr>\n",
       "    <tr>\n",
       "      <th>5272</th>\n",
       "      <td>-1</td>\n",
       "      <td>46</td>\n",
       "      <td>среднее</td>\n",
       "      <td>1</td>\n",
       "      <td>вдовец / вдова</td>\n",
       "      <td>2</td>\n",
       "      <td>F</td>\n",
       "      <td>сотрудник</td>\n",
       "      <td>0</td>\n",
       "      <td>278708</td>\n",
       "      <td>покупка недвижимости</td>\n",
       "    </tr>\n",
       "    <tr>\n",
       "      <th>6013</th>\n",
       "      <td>-1</td>\n",
       "      <td>46</td>\n",
       "      <td>высшее</td>\n",
       "      <td>0</td>\n",
       "      <td>женат / замужем</td>\n",
       "      <td>0</td>\n",
       "      <td>F</td>\n",
       "      <td>сотрудник</td>\n",
       "      <td>0</td>\n",
       "      <td>143008</td>\n",
       "      <td>строительство собственной недвижимости</td>\n",
       "    </tr>\n",
       "    <tr>\n",
       "      <th>6385</th>\n",
       "      <td>-1</td>\n",
       "      <td>48</td>\n",
       "      <td>среднее</td>\n",
       "      <td>1</td>\n",
       "      <td>вдовец / вдова</td>\n",
       "      <td>2</td>\n",
       "      <td>F</td>\n",
       "      <td>пенсионер</td>\n",
       "      <td>0</td>\n",
       "      <td>36052</td>\n",
       "      <td>образование</td>\n",
       "    </tr>\n",
       "    <tr>\n",
       "      <th>7190</th>\n",
       "      <td>-1</td>\n",
       "      <td>34</td>\n",
       "      <td>СРЕДНЕЕ</td>\n",
       "      <td>1</td>\n",
       "      <td>женат / замужем</td>\n",
       "      <td>0</td>\n",
       "      <td>M</td>\n",
       "      <td>сотрудник</td>\n",
       "      <td>0</td>\n",
       "      <td>184315</td>\n",
       "      <td>приобретение автомобиля</td>\n",
       "    </tr>\n",
       "    <tr>\n",
       "      <th>7278</th>\n",
       "      <td>-1</td>\n",
       "      <td>51</td>\n",
       "      <td>среднее</td>\n",
       "      <td>1</td>\n",
       "      <td>женат / замужем</td>\n",
       "      <td>0</td>\n",
       "      <td>F</td>\n",
       "      <td>сотрудник</td>\n",
       "      <td>0</td>\n",
       "      <td>146928</td>\n",
       "      <td>операции с коммерческой недвижимостью</td>\n",
       "    </tr>\n",
       "    <tr>\n",
       "      <th>7615</th>\n",
       "      <td>-1</td>\n",
       "      <td>35</td>\n",
       "      <td>среднее</td>\n",
       "      <td>1</td>\n",
       "      <td>женат / замужем</td>\n",
       "      <td>0</td>\n",
       "      <td>M</td>\n",
       "      <td>сотрудник</td>\n",
       "      <td>0</td>\n",
       "      <td>142594</td>\n",
       "      <td>образование</td>\n",
       "    </tr>\n",
       "    <tr>\n",
       "      <th>7685</th>\n",
       "      <td>-1</td>\n",
       "      <td>53</td>\n",
       "      <td>среднее</td>\n",
       "      <td>1</td>\n",
       "      <td>вдовец / вдова</td>\n",
       "      <td>2</td>\n",
       "      <td>F</td>\n",
       "      <td>сотрудник</td>\n",
       "      <td>0</td>\n",
       "      <td>159676</td>\n",
       "      <td>строительство жилой недвижимости</td>\n",
       "    </tr>\n",
       "    <tr>\n",
       "      <th>8229</th>\n",
       "      <td>-1</td>\n",
       "      <td>54</td>\n",
       "      <td>высшее</td>\n",
       "      <td>0</td>\n",
       "      <td>женат / замужем</td>\n",
       "      <td>0</td>\n",
       "      <td>F</td>\n",
       "      <td>компаньон</td>\n",
       "      <td>0</td>\n",
       "      <td>138809</td>\n",
       "      <td>покупка недвижимости</td>\n",
       "    </tr>\n",
       "    <tr>\n",
       "      <th>8251</th>\n",
       "      <td>-1</td>\n",
       "      <td>31</td>\n",
       "      <td>среднее</td>\n",
       "      <td>1</td>\n",
       "      <td>гражданский брак</td>\n",
       "      <td>1</td>\n",
       "      <td>F</td>\n",
       "      <td>сотрудник</td>\n",
       "      <td>0</td>\n",
       "      <td>54412</td>\n",
       "      <td>свой автомобиль</td>\n",
       "    </tr>\n",
       "    <tr>\n",
       "      <th>8561</th>\n",
       "      <td>-1</td>\n",
       "      <td>31</td>\n",
       "      <td>среднее</td>\n",
       "      <td>1</td>\n",
       "      <td>женат / замужем</td>\n",
       "      <td>0</td>\n",
       "      <td>F</td>\n",
       "      <td>сотрудник</td>\n",
       "      <td>0</td>\n",
       "      <td>145577</td>\n",
       "      <td>ремонт жилью</td>\n",
       "    </tr>\n",
       "    <tr>\n",
       "      <th>9565</th>\n",
       "      <td>-1</td>\n",
       "      <td>34</td>\n",
       "      <td>высшее</td>\n",
       "      <td>0</td>\n",
       "      <td>женат / замужем</td>\n",
       "      <td>0</td>\n",
       "      <td>M</td>\n",
       "      <td>сотрудник</td>\n",
       "      <td>0</td>\n",
       "      <td>126754</td>\n",
       "      <td>операции с недвижимостью</td>\n",
       "    </tr>\n",
       "    <tr>\n",
       "      <th>9574</th>\n",
       "      <td>-1</td>\n",
       "      <td>28</td>\n",
       "      <td>высшее</td>\n",
       "      <td>0</td>\n",
       "      <td>женат / замужем</td>\n",
       "      <td>0</td>\n",
       "      <td>M</td>\n",
       "      <td>госслужащий</td>\n",
       "      <td>0</td>\n",
       "      <td>303137</td>\n",
       "      <td>получение дополнительного образования</td>\n",
       "    </tr>\n",
       "    <tr>\n",
       "      <th>10177</th>\n",
       "      <td>-1</td>\n",
       "      <td>37</td>\n",
       "      <td>среднее</td>\n",
       "      <td>1</td>\n",
       "      <td>женат / замужем</td>\n",
       "      <td>0</td>\n",
       "      <td>M</td>\n",
       "      <td>сотрудник</td>\n",
       "      <td>0</td>\n",
       "      <td>310367</td>\n",
       "      <td>получение образования</td>\n",
       "    </tr>\n",
       "    <tr>\n",
       "      <th>10365</th>\n",
       "      <td>-1</td>\n",
       "      <td>63</td>\n",
       "      <td>ВЫСШЕЕ</td>\n",
       "      <td>0</td>\n",
       "      <td>вдовец / вдова</td>\n",
       "      <td>2</td>\n",
       "      <td>F</td>\n",
       "      <td>пенсионер</td>\n",
       "      <td>0</td>\n",
       "      <td>170762</td>\n",
       "      <td>строительство жилой недвижимости</td>\n",
       "    </tr>\n",
       "    <tr>\n",
       "      <th>10918</th>\n",
       "      <td>-1</td>\n",
       "      <td>50</td>\n",
       "      <td>среднее</td>\n",
       "      <td>1</td>\n",
       "      <td>женат / замужем</td>\n",
       "      <td>0</td>\n",
       "      <td>M</td>\n",
       "      <td>пенсионер</td>\n",
       "      <td>0</td>\n",
       "      <td>170762</td>\n",
       "      <td>покупка своего жилья</td>\n",
       "    </tr>\n",
       "    <tr>\n",
       "      <th>11109</th>\n",
       "      <td>-1</td>\n",
       "      <td>59</td>\n",
       "      <td>среднее</td>\n",
       "      <td>1</td>\n",
       "      <td>женат / замужем</td>\n",
       "      <td>0</td>\n",
       "      <td>F</td>\n",
       "      <td>сотрудник</td>\n",
       "      <td>0</td>\n",
       "      <td>219874</td>\n",
       "      <td>операции с жильем</td>\n",
       "    </tr>\n",
       "    <tr>\n",
       "      <th>11268</th>\n",
       "      <td>-1</td>\n",
       "      <td>30</td>\n",
       "      <td>высшее</td>\n",
       "      <td>0</td>\n",
       "      <td>гражданский брак</td>\n",
       "      <td>1</td>\n",
       "      <td>F</td>\n",
       "      <td>компаньон</td>\n",
       "      <td>0</td>\n",
       "      <td>321603</td>\n",
       "      <td>на покупку автомобиля</td>\n",
       "    </tr>\n",
       "    <tr>\n",
       "      <th>11617</th>\n",
       "      <td>-1</td>\n",
       "      <td>27</td>\n",
       "      <td>среднее</td>\n",
       "      <td>1</td>\n",
       "      <td>женат / замужем</td>\n",
       "      <td>0</td>\n",
       "      <td>F</td>\n",
       "      <td>компаньон</td>\n",
       "      <td>0</td>\n",
       "      <td>164591</td>\n",
       "      <td>покупка жилья для сдачи</td>\n",
       "    </tr>\n",
       "    <tr>\n",
       "      <th>12304</th>\n",
       "      <td>-1</td>\n",
       "      <td>61</td>\n",
       "      <td>неоконченное высшее</td>\n",
       "      <td>2</td>\n",
       "      <td>женат / замужем</td>\n",
       "      <td>0</td>\n",
       "      <td>M</td>\n",
       "      <td>сотрудник</td>\n",
       "      <td>0</td>\n",
       "      <td>315006</td>\n",
       "      <td>недвижимость</td>\n",
       "    </tr>\n",
       "    <tr>\n",
       "      <th>13786</th>\n",
       "      <td>-1</td>\n",
       "      <td>42</td>\n",
       "      <td>среднее</td>\n",
       "      <td>1</td>\n",
       "      <td>Не женат / не замужем</td>\n",
       "      <td>4</td>\n",
       "      <td>M</td>\n",
       "      <td>компаньон</td>\n",
       "      <td>0</td>\n",
       "      <td>172357</td>\n",
       "      <td>автомобиль</td>\n",
       "    </tr>\n",
       "    <tr>\n",
       "      <th>14357</th>\n",
       "      <td>-1</td>\n",
       "      <td>23</td>\n",
       "      <td>среднее</td>\n",
       "      <td>1</td>\n",
       "      <td>в разводе</td>\n",
       "      <td>3</td>\n",
       "      <td>F</td>\n",
       "      <td>компаньон</td>\n",
       "      <td>0</td>\n",
       "      <td>92257</td>\n",
       "      <td>покупка жилой недвижимости</td>\n",
       "    </tr>\n",
       "    <tr>\n",
       "      <th>15147</th>\n",
       "      <td>-1</td>\n",
       "      <td>44</td>\n",
       "      <td>среднее</td>\n",
       "      <td>1</td>\n",
       "      <td>в разводе</td>\n",
       "      <td>3</td>\n",
       "      <td>F</td>\n",
       "      <td>сотрудник</td>\n",
       "      <td>0</td>\n",
       "      <td>110990</td>\n",
       "      <td>свой автомобиль</td>\n",
       "    </tr>\n",
       "    <tr>\n",
       "      <th>15435</th>\n",
       "      <td>-1</td>\n",
       "      <td>40</td>\n",
       "      <td>высшее</td>\n",
       "      <td>0</td>\n",
       "      <td>гражданский брак</td>\n",
       "      <td>1</td>\n",
       "      <td>F</td>\n",
       "      <td>сотрудник</td>\n",
       "      <td>0</td>\n",
       "      <td>98127</td>\n",
       "      <td>сыграть свадьбу</td>\n",
       "    </tr>\n",
       "    <tr>\n",
       "      <th>16129</th>\n",
       "      <td>-1</td>\n",
       "      <td>33</td>\n",
       "      <td>среднее</td>\n",
       "      <td>1</td>\n",
       "      <td>женат / замужем</td>\n",
       "      <td>0</td>\n",
       "      <td>F</td>\n",
       "      <td>сотрудник</td>\n",
       "      <td>1</td>\n",
       "      <td>149641</td>\n",
       "      <td>автомобиль</td>\n",
       "    </tr>\n",
       "    <tr>\n",
       "      <th>16265</th>\n",
       "      <td>-1</td>\n",
       "      <td>40</td>\n",
       "      <td>высшее</td>\n",
       "      <td>0</td>\n",
       "      <td>женат / замужем</td>\n",
       "      <td>0</td>\n",
       "      <td>M</td>\n",
       "      <td>сотрудник</td>\n",
       "      <td>0</td>\n",
       "      <td>111984</td>\n",
       "      <td>покупка жилья</td>\n",
       "    </tr>\n",
       "    <tr>\n",
       "      <th>17095</th>\n",
       "      <td>-1</td>\n",
       "      <td>34</td>\n",
       "      <td>среднее</td>\n",
       "      <td>1</td>\n",
       "      <td>женат / замужем</td>\n",
       "      <td>0</td>\n",
       "      <td>F</td>\n",
       "      <td>сотрудник</td>\n",
       "      <td>0</td>\n",
       "      <td>182543</td>\n",
       "      <td>на покупку подержанного автомобиля</td>\n",
       "    </tr>\n",
       "    <tr>\n",
       "      <th>17429</th>\n",
       "      <td>-1</td>\n",
       "      <td>37</td>\n",
       "      <td>среднее</td>\n",
       "      <td>1</td>\n",
       "      <td>женат / замужем</td>\n",
       "      <td>0</td>\n",
       "      <td>F</td>\n",
       "      <td>компаньон</td>\n",
       "      <td>0</td>\n",
       "      <td>214814</td>\n",
       "      <td>жилье</td>\n",
       "    </tr>\n",
       "    <tr>\n",
       "      <th>17657</th>\n",
       "      <td>-1</td>\n",
       "      <td>41</td>\n",
       "      <td>среднее</td>\n",
       "      <td>1</td>\n",
       "      <td>женат / замужем</td>\n",
       "      <td>0</td>\n",
       "      <td>F</td>\n",
       "      <td>сотрудник</td>\n",
       "      <td>0</td>\n",
       "      <td>122105</td>\n",
       "      <td>операции со своей недвижимостью</td>\n",
       "    </tr>\n",
       "    <tr>\n",
       "      <th>18219</th>\n",
       "      <td>-1</td>\n",
       "      <td>33</td>\n",
       "      <td>среднее</td>\n",
       "      <td>1</td>\n",
       "      <td>женат / замужем</td>\n",
       "      <td>0</td>\n",
       "      <td>F</td>\n",
       "      <td>сотрудник</td>\n",
       "      <td>0</td>\n",
       "      <td>128362</td>\n",
       "      <td>высшее образование</td>\n",
       "    </tr>\n",
       "    <tr>\n",
       "      <th>19100</th>\n",
       "      <td>-1</td>\n",
       "      <td>38</td>\n",
       "      <td>среднее</td>\n",
       "      <td>1</td>\n",
       "      <td>Не женат / не замужем</td>\n",
       "      <td>4</td>\n",
       "      <td>M</td>\n",
       "      <td>сотрудник</td>\n",
       "      <td>0</td>\n",
       "      <td>122205</td>\n",
       "      <td>строительство жилой недвижимости</td>\n",
       "    </tr>\n",
       "    <tr>\n",
       "      <th>19366</th>\n",
       "      <td>-1</td>\n",
       "      <td>43</td>\n",
       "      <td>СРЕДНЕЕ</td>\n",
       "      <td>1</td>\n",
       "      <td>женат / замужем</td>\n",
       "      <td>0</td>\n",
       "      <td>M</td>\n",
       "      <td>сотрудник</td>\n",
       "      <td>0</td>\n",
       "      <td>155588</td>\n",
       "      <td>сделка с подержанным автомобилем</td>\n",
       "    </tr>\n",
       "    <tr>\n",
       "      <th>19417</th>\n",
       "      <td>-1</td>\n",
       "      <td>28</td>\n",
       "      <td>среднее</td>\n",
       "      <td>1</td>\n",
       "      <td>в разводе</td>\n",
       "      <td>3</td>\n",
       "      <td>F</td>\n",
       "      <td>пенсионер</td>\n",
       "      <td>0</td>\n",
       "      <td>52872</td>\n",
       "      <td>автомобили</td>\n",
       "    </tr>\n",
       "    <tr>\n",
       "      <th>20393</th>\n",
       "      <td>-1</td>\n",
       "      <td>69</td>\n",
       "      <td>среднее</td>\n",
       "      <td>1</td>\n",
       "      <td>Не женат / не замужем</td>\n",
       "      <td>4</td>\n",
       "      <td>F</td>\n",
       "      <td>пенсионер</td>\n",
       "      <td>0</td>\n",
       "      <td>116521</td>\n",
       "      <td>операции с недвижимостью</td>\n",
       "    </tr>\n",
       "    <tr>\n",
       "      <th>20717</th>\n",
       "      <td>-1</td>\n",
       "      <td>32</td>\n",
       "      <td>высшее</td>\n",
       "      <td>0</td>\n",
       "      <td>женат / замужем</td>\n",
       "      <td>0</td>\n",
       "      <td>F</td>\n",
       "      <td>сотрудник</td>\n",
       "      <td>0</td>\n",
       "      <td>137405</td>\n",
       "      <td>покупка жилой недвижимости</td>\n",
       "    </tr>\n",
       "    <tr>\n",
       "      <th>21140</th>\n",
       "      <td>-1</td>\n",
       "      <td>44</td>\n",
       "      <td>среднее</td>\n",
       "      <td>1</td>\n",
       "      <td>женат / замужем</td>\n",
       "      <td>0</td>\n",
       "      <td>F</td>\n",
       "      <td>компаньон</td>\n",
       "      <td>0</td>\n",
       "      <td>169562</td>\n",
       "      <td>операции со своей недвижимостью</td>\n",
       "    </tr>\n",
       "  </tbody>\n",
       "</table>\n",
       "</div>"
      ],
      "text/plain": [
       "       children  dob_years            education  education_id  \\\n",
       "291          -1         46              среднее             1   \n",
       "705          -1         50              среднее             1   \n",
       "742          -1         57              среднее             1   \n",
       "800          -1         54              среднее             1   \n",
       "941          -1         57              Среднее             1   \n",
       "1363         -1         55              СРЕДНЕЕ             1   \n",
       "1929         -1         38              среднее             1   \n",
       "2073         -1         42              среднее             1   \n",
       "3814         -1         26              Среднее             1   \n",
       "4201         -1         41              среднее             1   \n",
       "4402         -1         64              СРЕДНЕЕ             1   \n",
       "4542         -1         32              среднее             1   \n",
       "5272         -1         46              среднее             1   \n",
       "6013         -1         46               высшее             0   \n",
       "6385         -1         48              среднее             1   \n",
       "7190         -1         34              СРЕДНЕЕ             1   \n",
       "7278         -1         51              среднее             1   \n",
       "7615         -1         35              среднее             1   \n",
       "7685         -1         53              среднее             1   \n",
       "8229         -1         54               высшее             0   \n",
       "8251         -1         31              среднее             1   \n",
       "8561         -1         31              среднее             1   \n",
       "9565         -1         34               высшее             0   \n",
       "9574         -1         28               высшее             0   \n",
       "10177        -1         37              среднее             1   \n",
       "10365        -1         63               ВЫСШЕЕ             0   \n",
       "10918        -1         50              среднее             1   \n",
       "11109        -1         59              среднее             1   \n",
       "11268        -1         30               высшее             0   \n",
       "11617        -1         27              среднее             1   \n",
       "12304        -1         61  неоконченное высшее             2   \n",
       "13786        -1         42              среднее             1   \n",
       "14357        -1         23              среднее             1   \n",
       "15147        -1         44              среднее             1   \n",
       "15435        -1         40               высшее             0   \n",
       "16129        -1         33              среднее             1   \n",
       "16265        -1         40               высшее             0   \n",
       "17095        -1         34              среднее             1   \n",
       "17429        -1         37              среднее             1   \n",
       "17657        -1         41              среднее             1   \n",
       "18219        -1         33              среднее             1   \n",
       "19100        -1         38              среднее             1   \n",
       "19366        -1         43              СРЕДНЕЕ             1   \n",
       "19417        -1         28              среднее             1   \n",
       "20393        -1         69              среднее             1   \n",
       "20717        -1         32               высшее             0   \n",
       "21140        -1         44              среднее             1   \n",
       "\n",
       "               family_status  family_status_id gender  income_type  debt  \\\n",
       "291         гражданский брак                 1      F    сотрудник     0   \n",
       "705          женат / замужем                 0      F  госслужащий     0   \n",
       "742          женат / замужем                 0      F    сотрудник     0   \n",
       "800    Не женат / не замужем                 4      F    пенсионер     0   \n",
       "941          женат / замужем                 0      F    пенсионер     0   \n",
       "1363         женат / замужем                 0      F    компаньон     0   \n",
       "1929   Не женат / не замужем                 4      M    сотрудник     0   \n",
       "2073               в разводе                 3      F    компаньон     0   \n",
       "3814        гражданский брак                 1      F  госслужащий     0   \n",
       "4201         женат / замужем                 0      F  госслужащий     0   \n",
       "4402         женат / замужем                 0      F    пенсионер     0   \n",
       "4542         женат / замужем                 0      F    сотрудник     0   \n",
       "5272          вдовец / вдова                 2      F    сотрудник     0   \n",
       "6013         женат / замужем                 0      F    сотрудник     0   \n",
       "6385          вдовец / вдова                 2      F    пенсионер     0   \n",
       "7190         женат / замужем                 0      M    сотрудник     0   \n",
       "7278         женат / замужем                 0      F    сотрудник     0   \n",
       "7615         женат / замужем                 0      M    сотрудник     0   \n",
       "7685          вдовец / вдова                 2      F    сотрудник     0   \n",
       "8229         женат / замужем                 0      F    компаньон     0   \n",
       "8251        гражданский брак                 1      F    сотрудник     0   \n",
       "8561         женат / замужем                 0      F    сотрудник     0   \n",
       "9565         женат / замужем                 0      M    сотрудник     0   \n",
       "9574         женат / замужем                 0      M  госслужащий     0   \n",
       "10177        женат / замужем                 0      M    сотрудник     0   \n",
       "10365         вдовец / вдова                 2      F    пенсионер     0   \n",
       "10918        женат / замужем                 0      M    пенсионер     0   \n",
       "11109        женат / замужем                 0      F    сотрудник     0   \n",
       "11268       гражданский брак                 1      F    компаньон     0   \n",
       "11617        женат / замужем                 0      F    компаньон     0   \n",
       "12304        женат / замужем                 0      M    сотрудник     0   \n",
       "13786  Не женат / не замужем                 4      M    компаньон     0   \n",
       "14357              в разводе                 3      F    компаньон     0   \n",
       "15147              в разводе                 3      F    сотрудник     0   \n",
       "15435       гражданский брак                 1      F    сотрудник     0   \n",
       "16129        женат / замужем                 0      F    сотрудник     1   \n",
       "16265        женат / замужем                 0      M    сотрудник     0   \n",
       "17095        женат / замужем                 0      F    сотрудник     0   \n",
       "17429        женат / замужем                 0      F    компаньон     0   \n",
       "17657        женат / замужем                 0      F    сотрудник     0   \n",
       "18219        женат / замужем                 0      F    сотрудник     0   \n",
       "19100  Не женат / не замужем                 4      M    сотрудник     0   \n",
       "19366        женат / замужем                 0      M    сотрудник     0   \n",
       "19417              в разводе                 3      F    пенсионер     0   \n",
       "20393  Не женат / не замужем                 4      F    пенсионер     0   \n",
       "20717        женат / замужем                 0      F    сотрудник     0   \n",
       "21140        женат / замужем                 0      F    компаньон     0   \n",
       "\n",
       "       total_income                                 purpose  \n",
       "291          102816                  профильное образование  \n",
       "705          137882                 приобретение автомобиля  \n",
       "742           64268              дополнительное образование  \n",
       "800           86293              дополнительное образование  \n",
       "941          118514            на покупку своего автомобиля  \n",
       "1363          69550                  профильное образование  \n",
       "1929         109121                           покупка жилья  \n",
       "2073         162638                           покупка жилья  \n",
       "3814         131892                   на проведение свадьбы  \n",
       "4201         226375         операции со своей недвижимостью  \n",
       "4402         163264                    покупка недвижимости  \n",
       "4542         160544                             образование  \n",
       "5272         278708                    покупка недвижимости  \n",
       "6013         143008  строительство собственной недвижимости  \n",
       "6385          36052                             образование  \n",
       "7190         184315                 приобретение автомобиля  \n",
       "7278         146928   операции с коммерческой недвижимостью  \n",
       "7615         142594                             образование  \n",
       "7685         159676        строительство жилой недвижимости  \n",
       "8229         138809                    покупка недвижимости  \n",
       "8251          54412                         свой автомобиль  \n",
       "8561         145577                            ремонт жилью  \n",
       "9565         126754                операции с недвижимостью  \n",
       "9574         303137   получение дополнительного образования  \n",
       "10177        310367                   получение образования  \n",
       "10365        170762        строительство жилой недвижимости  \n",
       "10918        170762                    покупка своего жилья  \n",
       "11109        219874                       операции с жильем  \n",
       "11268        321603                   на покупку автомобиля  \n",
       "11617        164591                 покупка жилья для сдачи  \n",
       "12304        315006                            недвижимость  \n",
       "13786        172357                              автомобиль  \n",
       "14357         92257              покупка жилой недвижимости  \n",
       "15147        110990                         свой автомобиль  \n",
       "15435         98127                         сыграть свадьбу  \n",
       "16129        149641                              автомобиль  \n",
       "16265        111984                           покупка жилья  \n",
       "17095        182543      на покупку подержанного автомобиля  \n",
       "17429        214814                                   жилье  \n",
       "17657        122105         операции со своей недвижимостью  \n",
       "18219        128362                      высшее образование  \n",
       "19100        122205        строительство жилой недвижимости  \n",
       "19366        155588        сделка с подержанным автомобилем  \n",
       "19417         52872                              автомобили  \n",
       "20393        116521                операции с недвижимостью  \n",
       "20717        137405              покупка жилой недвижимости  \n",
       "21140        169562         операции со своей недвижимостью  "
      ]
     },
     "execution_count": 28,
     "metadata": {},
     "output_type": "execute_result"
    }
   ],
   "source": [
    "# проверим содержание записей\n",
    "df[df['children'] == -1]"
   ]
  },
  {
   "cell_type": "code",
   "execution_count": 29,
   "metadata": {},
   "outputs": [
    {
     "data": {
      "text/plain": [
       "76"
      ]
     },
     "execution_count": 29,
     "metadata": {},
     "output_type": "execute_result"
    }
   ],
   "source": [
    "# посмотрим число записей с количеством детей 20\n",
    "df[df['children'] == 20]['children'].count()"
   ]
  },
  {
   "cell_type": "code",
   "execution_count": 30,
   "metadata": {},
   "outputs": [
    {
     "data": {
      "text/plain": [
       "0.35396581435424523"
      ]
     },
     "execution_count": 30,
     "metadata": {},
     "output_type": "execute_result"
    }
   ],
   "source": [
    "# посчитаем процент таких записий\n",
    "df[df['children'] == 20]['children'].count()/len(df)*100"
   ]
  },
  {
   "cell_type": "code",
   "execution_count": 31,
   "metadata": {
    "scrolled": true
   },
   "outputs": [
    {
     "data": {
      "text/html": [
       "<div>\n",
       "<style scoped>\n",
       "    .dataframe tbody tr th:only-of-type {\n",
       "        vertical-align: middle;\n",
       "    }\n",
       "\n",
       "    .dataframe tbody tr th {\n",
       "        vertical-align: top;\n",
       "    }\n",
       "\n",
       "    .dataframe thead th {\n",
       "        text-align: right;\n",
       "    }\n",
       "</style>\n",
       "<table border=\"1\" class=\"dataframe\">\n",
       "  <thead>\n",
       "    <tr style=\"text-align: right;\">\n",
       "      <th></th>\n",
       "      <th>children</th>\n",
       "      <th>dob_years</th>\n",
       "      <th>education</th>\n",
       "      <th>education_id</th>\n",
       "      <th>family_status</th>\n",
       "      <th>family_status_id</th>\n",
       "      <th>gender</th>\n",
       "      <th>income_type</th>\n",
       "      <th>debt</th>\n",
       "      <th>total_income</th>\n",
       "      <th>purpose</th>\n",
       "    </tr>\n",
       "  </thead>\n",
       "  <tbody>\n",
       "    <tr>\n",
       "      <th>606</th>\n",
       "      <td>20</td>\n",
       "      <td>21</td>\n",
       "      <td>среднее</td>\n",
       "      <td>1</td>\n",
       "      <td>женат / замужем</td>\n",
       "      <td>0</td>\n",
       "      <td>M</td>\n",
       "      <td>компаньон</td>\n",
       "      <td>0</td>\n",
       "      <td>145334</td>\n",
       "      <td>покупка жилья</td>\n",
       "    </tr>\n",
       "    <tr>\n",
       "      <th>720</th>\n",
       "      <td>20</td>\n",
       "      <td>44</td>\n",
       "      <td>среднее</td>\n",
       "      <td>1</td>\n",
       "      <td>женат / замужем</td>\n",
       "      <td>0</td>\n",
       "      <td>F</td>\n",
       "      <td>компаньон</td>\n",
       "      <td>0</td>\n",
       "      <td>112998</td>\n",
       "      <td>покупка недвижимости</td>\n",
       "    </tr>\n",
       "    <tr>\n",
       "      <th>1074</th>\n",
       "      <td>20</td>\n",
       "      <td>56</td>\n",
       "      <td>среднее</td>\n",
       "      <td>1</td>\n",
       "      <td>женат / замужем</td>\n",
       "      <td>0</td>\n",
       "      <td>F</td>\n",
       "      <td>сотрудник</td>\n",
       "      <td>1</td>\n",
       "      <td>229518</td>\n",
       "      <td>получение образования</td>\n",
       "    </tr>\n",
       "    <tr>\n",
       "      <th>2510</th>\n",
       "      <td>20</td>\n",
       "      <td>59</td>\n",
       "      <td>высшее</td>\n",
       "      <td>0</td>\n",
       "      <td>вдовец / вдова</td>\n",
       "      <td>2</td>\n",
       "      <td>F</td>\n",
       "      <td>сотрудник</td>\n",
       "      <td>0</td>\n",
       "      <td>264474</td>\n",
       "      <td>операции с коммерческой недвижимостью</td>\n",
       "    </tr>\n",
       "    <tr>\n",
       "      <th>2941</th>\n",
       "      <td>20</td>\n",
       "      <td>0</td>\n",
       "      <td>среднее</td>\n",
       "      <td>1</td>\n",
       "      <td>женат / замужем</td>\n",
       "      <td>0</td>\n",
       "      <td>F</td>\n",
       "      <td>сотрудник</td>\n",
       "      <td>0</td>\n",
       "      <td>199739</td>\n",
       "      <td>на покупку автомобиля</td>\n",
       "    </tr>\n",
       "    <tr>\n",
       "      <th>...</th>\n",
       "      <td>...</td>\n",
       "      <td>...</td>\n",
       "      <td>...</td>\n",
       "      <td>...</td>\n",
       "      <td>...</td>\n",
       "      <td>...</td>\n",
       "      <td>...</td>\n",
       "      <td>...</td>\n",
       "      <td>...</td>\n",
       "      <td>...</td>\n",
       "      <td>...</td>\n",
       "    </tr>\n",
       "    <tr>\n",
       "      <th>21008</th>\n",
       "      <td>20</td>\n",
       "      <td>40</td>\n",
       "      <td>среднее</td>\n",
       "      <td>1</td>\n",
       "      <td>женат / замужем</td>\n",
       "      <td>0</td>\n",
       "      <td>F</td>\n",
       "      <td>сотрудник</td>\n",
       "      <td>1</td>\n",
       "      <td>133524</td>\n",
       "      <td>свой автомобиль</td>\n",
       "    </tr>\n",
       "    <tr>\n",
       "      <th>21325</th>\n",
       "      <td>20</td>\n",
       "      <td>37</td>\n",
       "      <td>среднее</td>\n",
       "      <td>1</td>\n",
       "      <td>женат / замужем</td>\n",
       "      <td>0</td>\n",
       "      <td>F</td>\n",
       "      <td>компаньон</td>\n",
       "      <td>0</td>\n",
       "      <td>102986</td>\n",
       "      <td>профильное образование</td>\n",
       "    </tr>\n",
       "    <tr>\n",
       "      <th>21390</th>\n",
       "      <td>20</td>\n",
       "      <td>53</td>\n",
       "      <td>среднее</td>\n",
       "      <td>1</td>\n",
       "      <td>женат / замужем</td>\n",
       "      <td>0</td>\n",
       "      <td>M</td>\n",
       "      <td>компаньон</td>\n",
       "      <td>0</td>\n",
       "      <td>172357</td>\n",
       "      <td>покупка жилой недвижимости</td>\n",
       "    </tr>\n",
       "    <tr>\n",
       "      <th>21404</th>\n",
       "      <td>20</td>\n",
       "      <td>52</td>\n",
       "      <td>среднее</td>\n",
       "      <td>1</td>\n",
       "      <td>женат / замужем</td>\n",
       "      <td>0</td>\n",
       "      <td>M</td>\n",
       "      <td>компаньон</td>\n",
       "      <td>0</td>\n",
       "      <td>156629</td>\n",
       "      <td>операции со своей недвижимостью</td>\n",
       "    </tr>\n",
       "    <tr>\n",
       "      <th>21491</th>\n",
       "      <td>20</td>\n",
       "      <td>27</td>\n",
       "      <td>среднее</td>\n",
       "      <td>1</td>\n",
       "      <td>женат / замужем</td>\n",
       "      <td>0</td>\n",
       "      <td>F</td>\n",
       "      <td>сотрудник</td>\n",
       "      <td>0</td>\n",
       "      <td>155520</td>\n",
       "      <td>на покупку подержанного автомобиля</td>\n",
       "    </tr>\n",
       "  </tbody>\n",
       "</table>\n",
       "<p>76 rows × 11 columns</p>\n",
       "</div>"
      ],
      "text/plain": [
       "       children  dob_years education  education_id    family_status  \\\n",
       "606          20         21   среднее             1  женат / замужем   \n",
       "720          20         44   среднее             1  женат / замужем   \n",
       "1074         20         56   среднее             1  женат / замужем   \n",
       "2510         20         59    высшее             0   вдовец / вдова   \n",
       "2941         20          0   среднее             1  женат / замужем   \n",
       "...         ...        ...       ...           ...              ...   \n",
       "21008        20         40   среднее             1  женат / замужем   \n",
       "21325        20         37   среднее             1  женат / замужем   \n",
       "21390        20         53   среднее             1  женат / замужем   \n",
       "21404        20         52   среднее             1  женат / замужем   \n",
       "21491        20         27   среднее             1  женат / замужем   \n",
       "\n",
       "       family_status_id gender income_type  debt  total_income  \\\n",
       "606                   0      M   компаньон     0        145334   \n",
       "720                   0      F   компаньон     0        112998   \n",
       "1074                  0      F   сотрудник     1        229518   \n",
       "2510                  2      F   сотрудник     0        264474   \n",
       "2941                  0      F   сотрудник     0        199739   \n",
       "...                 ...    ...         ...   ...           ...   \n",
       "21008                 0      F   сотрудник     1        133524   \n",
       "21325                 0      F   компаньон     0        102986   \n",
       "21390                 0      M   компаньон     0        172357   \n",
       "21404                 0      M   компаньон     0        156629   \n",
       "21491                 0      F   сотрудник     0        155520   \n",
       "\n",
       "                                     purpose  \n",
       "606                            покупка жилья  \n",
       "720                     покупка недвижимости  \n",
       "1074                   получение образования  \n",
       "2510   операции с коммерческой недвижимостью  \n",
       "2941                   на покупку автомобиля  \n",
       "...                                      ...  \n",
       "21008                        свой автомобиль  \n",
       "21325                 профильное образование  \n",
       "21390             покупка жилой недвижимости  \n",
       "21404        операции со своей недвижимостью  \n",
       "21491     на покупку подержанного автомобиля  \n",
       "\n",
       "[76 rows x 11 columns]"
      ]
     },
     "execution_count": 31,
     "metadata": {},
     "output_type": "execute_result"
    }
   ],
   "source": [
    "# посмотрим содержание записей\n",
    "df[df['children'] == 20]"
   ]
  },
  {
   "cell_type": "markdown",
   "metadata": {},
   "source": [
    "44 записи с -1 ребенком и 67 записей с 20 детьми. Такое маловероятно. Видимо это ошибка ввода сотрудника. Число таких записей составляет менее 1% всех данных. Такое небольшое число возможно удалить или заменить такие данные предположительно на 1 и 2 ребенка или заполнить медианой, например, по возрасту.\n",
    "\n",
    "В реальности возникновение таких ошибок лучше уточнить у заказчика или программиста, что они означают, если ответа нет, то такие данные лучше удалить, так как 100% полагаться на них мы не можем.\n",
    "\n",
    "Предположим, что это мы получили данные, что это ошибка сотрудника: \"-1\" - это 1 ребенок, а \"20\" - это 2 ребенка. Заменим в соответствии."
   ]
  },
  {
   "cell_type": "code",
   "execution_count": 32,
   "metadata": {},
   "outputs": [
    {
     "name": "stderr",
     "output_type": "stream",
     "text": [
      "C:\\Users\\mdvor\\AppData\\Local\\Temp\\ipykernel_12576\\3302947032.py:1: SettingWithCopyWarning: \n",
      "A value is trying to be set on a copy of a slice from a DataFrame.\n",
      "Try using .loc[row_indexer,col_indexer] = value instead\n",
      "\n",
      "See the caveats in the documentation: https://pandas.pydata.org/pandas-docs/stable/user_guide/indexing.html#returning-a-view-versus-a-copy\n",
      "  df['children'] = df['children'].replace(-1, 1)\n",
      "C:\\Users\\mdvor\\AppData\\Local\\Temp\\ipykernel_12576\\3302947032.py:2: SettingWithCopyWarning: \n",
      "A value is trying to be set on a copy of a slice from a DataFrame.\n",
      "Try using .loc[row_indexer,col_indexer] = value instead\n",
      "\n",
      "See the caveats in the documentation: https://pandas.pydata.org/pandas-docs/stable/user_guide/indexing.html#returning-a-view-versus-a-copy\n",
      "  df['children'] = df['children'].replace(20, 2)\n"
     ]
    }
   ],
   "source": [
    "df['children'] = df['children'].replace(-1, 1)\n",
    "df['children'] = df['children'].replace(20, 2)"
   ]
  },
  {
   "cell_type": "code",
   "execution_count": 33,
   "metadata": {},
   "outputs": [
    {
     "data": {
      "text/plain": [
       "array([1, 0, 3, 2, 4, 5], dtype=int64)"
      ]
     },
     "execution_count": 33,
     "metadata": {},
     "output_type": "execute_result"
    }
   ],
   "source": [
    "# проверим результат\n",
    "df['children'].unique()"
   ]
  },
  {
   "cell_type": "markdown",
   "metadata": {},
   "source": [
    "В данных о возрасте присутствует значение 0.\n",
    "\n",
    "Проверим число таких записей и их распределение по занятости"
   ]
  },
  {
   "cell_type": "code",
   "execution_count": 34,
   "metadata": {},
   "outputs": [
    {
     "data": {
      "text/plain": [
       "101"
      ]
     },
     "execution_count": 34,
     "metadata": {},
     "output_type": "execute_result"
    }
   ],
   "source": [
    "df[df['dob_years'] == 0]['dob_years'].count()"
   ]
  },
  {
   "cell_type": "code",
   "execution_count": 35,
   "metadata": {
    "scrolled": true
   },
   "outputs": [
    {
     "data": {
      "text/plain": [
       "income_type\n",
       "госслужащий     6\n",
       "компаньон      20\n",
       "пенсионер      20\n",
       "сотрудник      55\n",
       "Name: dob_years, dtype: int64"
      ]
     },
     "execution_count": 35,
     "metadata": {},
     "output_type": "execute_result"
    }
   ],
   "source": [
    "df[df['dob_years'] == 0].groupby('income_type')['dob_years'].count()"
   ]
  },
  {
   "cell_type": "code",
   "execution_count": 36,
   "metadata": {},
   "outputs": [
    {
     "data": {
      "text/plain": [
       "income_type\n",
       "безработный          NaN\n",
       "в декрете            NaN\n",
       "госслужащий        0.000\n",
       "компаньон          0.000\n",
       "пенсионер          0.000\n",
       "предприниматель      NaN\n",
       "сотрудник          0.000\n",
       "студент              NaN\n",
       "Name: dob_years, dtype: float64"
      ]
     },
     "execution_count": 36,
     "metadata": {},
     "output_type": "execute_result"
    }
   ],
   "source": [
    "# проверим долю значений 0 возраста по типу занятости\n",
    "df.groupby('income_type')['dob_years'].apply(lambda x : x[x==0].mean())"
   ]
  },
  {
   "cell_type": "markdown",
   "metadata": {},
   "source": [
    "101 запись с 0 возрастом. К какому то определенному типу занятости не соответствует 0 значение.\n",
    "В целом возраст клиента не важен для определения поставленных целей. Поэтому изменять или удалять данные не имеет смысла."
   ]
  },
  {
   "cell_type": "markdown",
   "metadata": {},
   "source": [
    "Данные об образовании и браке имеют различное написание. Приведем данные к нижнему регистру."
   ]
  },
  {
   "cell_type": "code",
   "execution_count": 37,
   "metadata": {},
   "outputs": [
    {
     "name": "stderr",
     "output_type": "stream",
     "text": [
      "C:\\Users\\mdvor\\AppData\\Local\\Temp\\ipykernel_12576\\623256638.py:1: SettingWithCopyWarning: \n",
      "A value is trying to be set on a copy of a slice from a DataFrame.\n",
      "Try using .loc[row_indexer,col_indexer] = value instead\n",
      "\n",
      "See the caveats in the documentation: https://pandas.pydata.org/pandas-docs/stable/user_guide/indexing.html#returning-a-view-versus-a-copy\n",
      "  df['education'] = df['education'].str.lower()\n"
     ]
    }
   ],
   "source": [
    "df['education'] = df['education'].str.lower()"
   ]
  },
  {
   "cell_type": "code",
   "execution_count": 38,
   "metadata": {},
   "outputs": [
    {
     "data": {
      "text/plain": [
       "array(['высшее', 'среднее', 'неоконченное высшее', 'начальное',\n",
       "       'ученая степень'], dtype=object)"
      ]
     },
     "execution_count": 38,
     "metadata": {},
     "output_type": "execute_result"
    }
   ],
   "source": [
    "# проверим результат\n",
    "df['education'].unique()"
   ]
  },
  {
   "cell_type": "code",
   "execution_count": 39,
   "metadata": {},
   "outputs": [
    {
     "name": "stderr",
     "output_type": "stream",
     "text": [
      "C:\\Users\\mdvor\\AppData\\Local\\Temp\\ipykernel_12576\\3102737373.py:2: SettingWithCopyWarning: \n",
      "A value is trying to be set on a copy of a slice from a DataFrame.\n",
      "Try using .loc[row_indexer,col_indexer] = value instead\n",
      "\n",
      "See the caveats in the documentation: https://pandas.pydata.org/pandas-docs/stable/user_guide/indexing.html#returning-a-view-versus-a-copy\n",
      "  df['family_status'] = df['family_status'].str.lower()\n"
     ]
    }
   ],
   "source": [
    "# приводим данные о статусе брака к нижнему регистру\n",
    "df['family_status'] = df['family_status'].str.lower()"
   ]
  },
  {
   "cell_type": "code",
   "execution_count": 40,
   "metadata": {},
   "outputs": [
    {
     "data": {
      "text/plain": [
       "array(['женат / замужем', 'гражданский брак', 'вдовец / вдова',\n",
       "       'в разводе', 'не женат / не замужем'], dtype=object)"
      ]
     },
     "execution_count": 40,
     "metadata": {},
     "output_type": "execute_result"
    }
   ],
   "source": [
    "df['family_status'].unique()"
   ]
  },
  {
   "cell_type": "markdown",
   "metadata": {},
   "source": [
    "Тип пола имеет значение XNA кроме женского и мужского.\n",
    "\n",
    "Посмотрим записи с таким значением."
   ]
  },
  {
   "cell_type": "code",
   "execution_count": 41,
   "metadata": {},
   "outputs": [
    {
     "data": {
      "text/html": [
       "<div>\n",
       "<style scoped>\n",
       "    .dataframe tbody tr th:only-of-type {\n",
       "        vertical-align: middle;\n",
       "    }\n",
       "\n",
       "    .dataframe tbody tr th {\n",
       "        vertical-align: top;\n",
       "    }\n",
       "\n",
       "    .dataframe thead th {\n",
       "        text-align: right;\n",
       "    }\n",
       "</style>\n",
       "<table border=\"1\" class=\"dataframe\">\n",
       "  <thead>\n",
       "    <tr style=\"text-align: right;\">\n",
       "      <th></th>\n",
       "      <th>children</th>\n",
       "      <th>dob_years</th>\n",
       "      <th>education</th>\n",
       "      <th>education_id</th>\n",
       "      <th>family_status</th>\n",
       "      <th>family_status_id</th>\n",
       "      <th>gender</th>\n",
       "      <th>income_type</th>\n",
       "      <th>debt</th>\n",
       "      <th>total_income</th>\n",
       "      <th>purpose</th>\n",
       "    </tr>\n",
       "  </thead>\n",
       "  <tbody>\n",
       "    <tr>\n",
       "      <th>10701</th>\n",
       "      <td>0</td>\n",
       "      <td>24</td>\n",
       "      <td>неоконченное высшее</td>\n",
       "      <td>2</td>\n",
       "      <td>гражданский брак</td>\n",
       "      <td>1</td>\n",
       "      <td>XNA</td>\n",
       "      <td>компаньон</td>\n",
       "      <td>0</td>\n",
       "      <td>203905</td>\n",
       "      <td>покупка недвижимости</td>\n",
       "    </tr>\n",
       "  </tbody>\n",
       "</table>\n",
       "</div>"
      ],
      "text/plain": [
       "       children  dob_years            education  education_id  \\\n",
       "10701         0         24  неоконченное высшее             2   \n",
       "\n",
       "          family_status  family_status_id gender income_type  debt  \\\n",
       "10701  гражданский брак                 1    XNA   компаньон     0   \n",
       "\n",
       "       total_income               purpose  \n",
       "10701        203905  покупка недвижимости  "
      ]
     },
     "execution_count": 41,
     "metadata": {},
     "output_type": "execute_result"
    }
   ],
   "source": [
    "df[df['gender'] == 'XNA']"
   ]
  },
  {
   "cell_type": "markdown",
   "metadata": {},
   "source": [
    "Одна запись с типом XNA. Данный тип gender - пол не влияет на цели нашего исследования, можем его сохранить без изменений."
   ]
  },
  {
   "cell_type": "markdown",
   "metadata": {},
   "source": [
    "Отсортируем данные о ежемесячном доходе"
   ]
  },
  {
   "cell_type": "code",
   "execution_count": 42,
   "metadata": {},
   "outputs": [
    {
     "data": {
      "text/plain": [
       "14585      20667\n",
       "13006      21205\n",
       "16174      21367\n",
       "1598       21695\n",
       "14276      21895\n",
       "          ...   \n",
       "17178    1711309\n",
       "20809    1715018\n",
       "9169     1726276\n",
       "19606    2200852\n",
       "12412    2265604\n",
       "Name: total_income, Length: 21471, dtype: int64"
      ]
     },
     "execution_count": 42,
     "metadata": {},
     "output_type": "execute_result"
    }
   ],
   "source": [
    "df['total_income'].sort_values()"
   ]
  },
  {
   "cell_type": "markdown",
   "metadata": {},
   "source": [
    "Данные о зп больше 0. Изменять что-либо нет необходимости."
   ]
  },
  {
   "cell_type": "code",
   "execution_count": 43,
   "metadata": {
    "scrolled": true
   },
   "outputs": [
    {
     "data": {
      "text/plain": [
       "array(['покупка жилья', 'приобретение автомобиля',\n",
       "       'дополнительное образование', 'сыграть свадьбу',\n",
       "       'операции с жильем', 'образование', 'на проведение свадьбы',\n",
       "       'покупка жилья для семьи', 'покупка недвижимости',\n",
       "       'покупка коммерческой недвижимости', 'покупка жилой недвижимости',\n",
       "       'строительство собственной недвижимости', 'недвижимость',\n",
       "       'строительство недвижимости', 'на покупку подержанного автомобиля',\n",
       "       'на покупку своего автомобиля',\n",
       "       'операции с коммерческой недвижимостью',\n",
       "       'строительство жилой недвижимости', 'жилье',\n",
       "       'операции со своей недвижимостью', 'автомобили',\n",
       "       'заняться образованием', 'сделка с подержанным автомобилем',\n",
       "       'получение образования', 'автомобиль', 'свадьба',\n",
       "       'получение дополнительного образования', 'покупка своего жилья',\n",
       "       'операции с недвижимостью', 'получение высшего образования',\n",
       "       'свой автомобиль', 'сделка с автомобилем',\n",
       "       'профильное образование', 'высшее образование',\n",
       "       'покупка жилья для сдачи', 'на покупку автомобиля', 'ремонт жилью',\n",
       "       'заняться высшим образованием'], dtype=object)"
      ]
     },
     "execution_count": 43,
     "metadata": {},
     "output_type": "execute_result"
    }
   ],
   "source": [
    "# посмотрим цели кредита\n",
    "df['purpose'].unique()"
   ]
  },
  {
   "cell_type": "markdown",
   "metadata": {},
   "source": [
    "Необходимо цели получения кредита разбить на категории, предварительно заменив \"ремонт жилью\" на \"ремонт\".\n",
    "\n",
    "Напишем функцию замены схожих слов на определенную цель кредита.\n",
    "Перезапишем данные в столбце purpose."
   ]
  },
  {
   "cell_type": "code",
   "execution_count": 44,
   "metadata": {},
   "outputs": [
    {
     "name": "stderr",
     "output_type": "stream",
     "text": [
      "C:\\Users\\mdvor\\AppData\\Local\\Temp\\ipykernel_12576\\335468012.py:1: SettingWithCopyWarning: \n",
      "A value is trying to be set on a copy of a slice from a DataFrame.\n",
      "Try using .loc[row_indexer,col_indexer] = value instead\n",
      "\n",
      "See the caveats in the documentation: https://pandas.pydata.org/pandas-docs/stable/user_guide/indexing.html#returning-a-view-versus-a-copy\n",
      "  df['purpose'] = df['purpose'].replace('ремонт жилью', 'ремонт')\n"
     ]
    }
   ],
   "source": [
    "df['purpose'] = df['purpose'].replace('ремонт жилью', 'ремонт')"
   ]
  },
  {
   "cell_type": "code",
   "execution_count": 45,
   "metadata": {},
   "outputs": [
    {
     "name": "stderr",
     "output_type": "stream",
     "text": [
      "C:\\Users\\mdvor\\AppData\\Local\\Temp\\ipykernel_12576\\4104191713.py:15: SettingWithCopyWarning: \n",
      "A value is trying to be set on a copy of a slice from a DataFrame.\n",
      "Try using .loc[row_indexer,col_indexer] = value instead\n",
      "\n",
      "See the caveats in the documentation: https://pandas.pydata.org/pandas-docs/stable/user_guide/indexing.html#returning-a-view-versus-a-copy\n",
      "  df['purpose'] = df.apply(create_category_purpose, axis=1)\n"
     ]
    }
   ],
   "source": [
    "def create_category_purpose(row):\n",
    "    for i in row['purpose']:\n",
    "        if 'строител' in row['purpose']:\n",
    "                return 'строительство'\n",
    "        elif 'автомобил' in row['purpose']:\n",
    "            return 'автомобиль'\n",
    "        elif 'жиль' in row['purpose'] or 'недвижимост' in row['purpose']:\n",
    "            return 'недвижимость'\n",
    "        elif 'образован' in row['purpose']:\n",
    "            return 'образование'\n",
    "        elif 'ремонт' in row['purpose']:\n",
    "            return 'ремонт'\n",
    "        elif 'свадьб' in row['purpose']:\n",
    "            return 'свадьба'\n",
    "df['purpose'] = df.apply(create_category_purpose, axis=1)"
   ]
  },
  {
   "cell_type": "code",
   "execution_count": 46,
   "metadata": {},
   "outputs": [
    {
     "data": {
      "text/plain": [
       "array(['недвижимость', 'автомобиль', 'образование', 'свадьба',\n",
       "       'строительство', 'ремонт'], dtype=object)"
      ]
     },
     "execution_count": 46,
     "metadata": {},
     "output_type": "execute_result"
    }
   ],
   "source": [
    "# проверим данные\n",
    "df['purpose'].unique()"
   ]
  },
  {
   "cell_type": "code",
   "execution_count": 47,
   "metadata": {
    "scrolled": false
   },
   "outputs": [
    {
     "name": "stdout",
     "output_type": "stream",
     "text": [
      "<class 'pandas.core.frame.DataFrame'>\n",
      "Int64Index: 21471 entries, 0 to 21524\n",
      "Data columns (total 11 columns):\n",
      " #   Column            Non-Null Count  Dtype \n",
      "---  ------            --------------  ----- \n",
      " 0   children          21471 non-null  int64 \n",
      " 1   dob_years         21471 non-null  int64 \n",
      " 2   education         21471 non-null  object\n",
      " 3   education_id      21471 non-null  int64 \n",
      " 4   family_status     21471 non-null  object\n",
      " 5   family_status_id  21471 non-null  int64 \n",
      " 6   gender            21471 non-null  object\n",
      " 7   income_type       21471 non-null  object\n",
      " 8   debt              21471 non-null  int64 \n",
      " 9   total_income      21471 non-null  int64 \n",
      " 10  purpose           21471 non-null  object\n",
      "dtypes: int64(6), object(5)\n",
      "memory usage: 2.0+ MB\n"
     ]
    }
   ],
   "source": [
    "df.info()"
   ]
  },
  {
   "cell_type": "code",
   "execution_count": 48,
   "metadata": {},
   "outputs": [
    {
     "data": {
      "text/plain": [
       "271"
      ]
     },
     "execution_count": 48,
     "metadata": {},
     "output_type": "execute_result"
    }
   ],
   "source": [
    "df.duplicated().sum()"
   ]
  },
  {
   "cell_type": "markdown",
   "metadata": {},
   "source": [
    "Данные отстались в прежнем количестве. Появилось 271 явных дубликатов. Удалим их."
   ]
  },
  {
   "cell_type": "code",
   "execution_count": 49,
   "metadata": {},
   "outputs": [
    {
     "name": "stderr",
     "output_type": "stream",
     "text": [
      "C:\\Users\\mdvor\\AppData\\Local\\Temp\\ipykernel_12576\\203501858.py:1: SettingWithCopyWarning: \n",
      "A value is trying to be set on a copy of a slice from a DataFrame\n",
      "\n",
      "See the caveats in the documentation: https://pandas.pydata.org/pandas-docs/stable/user_guide/indexing.html#returning-a-view-versus-a-copy\n",
      "  df.drop_duplicates(inplace=True)\n"
     ]
    },
    {
     "data": {
      "text/plain": [
       "0"
      ]
     },
     "execution_count": 49,
     "metadata": {},
     "output_type": "execute_result"
    }
   ],
   "source": [
    "df.drop_duplicates(inplace=True)\n",
    "# проверим число дубликатов\n",
    "df.duplicated().sum()"
   ]
  },
  {
   "cell_type": "markdown",
   "metadata": {},
   "source": [
    "**ВЫВОД**\n",
    "\n",
    "Работа с данными проведена. Проведем дальнейший анализ."
   ]
  },
  {
   "cell_type": "markdown",
   "metadata": {},
   "source": [
    "### Категоризация данных"
   ]
  },
  {
   "cell_type": "markdown",
   "metadata": {},
   "source": [
    "Посмотрим на данные в столбце о количестве детей"
   ]
  },
  {
   "cell_type": "code",
   "execution_count": 50,
   "metadata": {},
   "outputs": [
    {
     "data": {
      "text/plain": [
       "children\n",
       "0    13889\n",
       "1     4814\n",
       "2     2118\n",
       "3      329\n",
       "4       41\n",
       "5        9\n",
       "Name: debt, dtype: int64"
      ]
     },
     "execution_count": 50,
     "metadata": {},
     "output_type": "execute_result"
    }
   ],
   "source": [
    "df.groupby('children')['debt'].count()"
   ]
  },
  {
   "cell_type": "markdown",
   "metadata": {},
   "source": [
    "Имеет смысл объединить 3 и более детей в одну группу, так как их не так много в общем количестве.\n",
    "Разделим на категории:\n",
    "0  - нет детей,\n",
    "1 - один ребенок,\n",
    "2 - два ребенка,\n",
    "более 3 - многодетные"
   ]
  },
  {
   "cell_type": "code",
   "execution_count": 51,
   "metadata": {},
   "outputs": [],
   "source": [
    "def children_group(row):\n",
    "    if row == 0:\n",
    "        return '0 детей'\n",
    "    if row == 1:\n",
    "        return '1 ребенок'\n",
    "    if row == 2:\n",
    "        return '2 ребенка'\n",
    "    else:\n",
    "        return 'многодетные'"
   ]
  },
  {
   "cell_type": "markdown",
   "metadata": {},
   "source": [
    "Создадим новый столбец children_group по числу детей"
   ]
  },
  {
   "cell_type": "code",
   "execution_count": 53,
   "metadata": {
    "scrolled": true
   },
   "outputs": [
    {
     "name": "stderr",
     "output_type": "stream",
     "text": [
      "C:\\Users\\mdvor\\AppData\\Local\\Temp\\ipykernel_12576\\3919888094.py:1: SettingWithCopyWarning: \n",
      "A value is trying to be set on a copy of a slice from a DataFrame.\n",
      "Try using .loc[row_indexer,col_indexer] = value instead\n",
      "\n",
      "See the caveats in the documentation: https://pandas.pydata.org/pandas-docs/stable/user_guide/indexing.html#returning-a-view-versus-a-copy\n",
      "  df['children_group'] = df['children'].apply(children_group)\n"
     ]
    },
    {
     "data": {
      "text/html": [
       "<div>\n",
       "<style scoped>\n",
       "    .dataframe tbody tr th:only-of-type {\n",
       "        vertical-align: middle;\n",
       "    }\n",
       "\n",
       "    .dataframe tbody tr th {\n",
       "        vertical-align: top;\n",
       "    }\n",
       "\n",
       "    .dataframe thead th {\n",
       "        text-align: right;\n",
       "    }\n",
       "</style>\n",
       "<table border=\"1\" class=\"dataframe\">\n",
       "  <thead>\n",
       "    <tr style=\"text-align: right;\">\n",
       "      <th></th>\n",
       "      <th>children</th>\n",
       "      <th>dob_years</th>\n",
       "      <th>education</th>\n",
       "      <th>education_id</th>\n",
       "      <th>family_status</th>\n",
       "      <th>family_status_id</th>\n",
       "      <th>gender</th>\n",
       "      <th>income_type</th>\n",
       "      <th>debt</th>\n",
       "      <th>total_income</th>\n",
       "      <th>purpose</th>\n",
       "      <th>children_group</th>\n",
       "    </tr>\n",
       "  </thead>\n",
       "  <tbody>\n",
       "    <tr>\n",
       "      <th>0</th>\n",
       "      <td>1</td>\n",
       "      <td>42</td>\n",
       "      <td>высшее</td>\n",
       "      <td>0</td>\n",
       "      <td>женат / замужем</td>\n",
       "      <td>0</td>\n",
       "      <td>F</td>\n",
       "      <td>сотрудник</td>\n",
       "      <td>0</td>\n",
       "      <td>253875</td>\n",
       "      <td>недвижимость</td>\n",
       "      <td>1 ребенок</td>\n",
       "    </tr>\n",
       "    <tr>\n",
       "      <th>1</th>\n",
       "      <td>1</td>\n",
       "      <td>36</td>\n",
       "      <td>среднее</td>\n",
       "      <td>1</td>\n",
       "      <td>женат / замужем</td>\n",
       "      <td>0</td>\n",
       "      <td>F</td>\n",
       "      <td>сотрудник</td>\n",
       "      <td>0</td>\n",
       "      <td>112080</td>\n",
       "      <td>автомобиль</td>\n",
       "      <td>1 ребенок</td>\n",
       "    </tr>\n",
       "    <tr>\n",
       "      <th>2</th>\n",
       "      <td>0</td>\n",
       "      <td>33</td>\n",
       "      <td>среднее</td>\n",
       "      <td>1</td>\n",
       "      <td>женат / замужем</td>\n",
       "      <td>0</td>\n",
       "      <td>M</td>\n",
       "      <td>сотрудник</td>\n",
       "      <td>0</td>\n",
       "      <td>145885</td>\n",
       "      <td>недвижимость</td>\n",
       "      <td>0 детей</td>\n",
       "    </tr>\n",
       "    <tr>\n",
       "      <th>3</th>\n",
       "      <td>3</td>\n",
       "      <td>32</td>\n",
       "      <td>среднее</td>\n",
       "      <td>1</td>\n",
       "      <td>женат / замужем</td>\n",
       "      <td>0</td>\n",
       "      <td>M</td>\n",
       "      <td>сотрудник</td>\n",
       "      <td>0</td>\n",
       "      <td>267628</td>\n",
       "      <td>образование</td>\n",
       "      <td>многодетные</td>\n",
       "    </tr>\n",
       "    <tr>\n",
       "      <th>4</th>\n",
       "      <td>0</td>\n",
       "      <td>53</td>\n",
       "      <td>среднее</td>\n",
       "      <td>1</td>\n",
       "      <td>гражданский брак</td>\n",
       "      <td>1</td>\n",
       "      <td>F</td>\n",
       "      <td>пенсионер</td>\n",
       "      <td>0</td>\n",
       "      <td>158616</td>\n",
       "      <td>свадьба</td>\n",
       "      <td>0 детей</td>\n",
       "    </tr>\n",
       "  </tbody>\n",
       "</table>\n",
       "</div>"
      ],
      "text/plain": [
       "   children  dob_years education  education_id     family_status  \\\n",
       "0         1         42    высшее             0   женат / замужем   \n",
       "1         1         36   среднее             1   женат / замужем   \n",
       "2         0         33   среднее             1   женат / замужем   \n",
       "3         3         32   среднее             1   женат / замужем   \n",
       "4         0         53   среднее             1  гражданский брак   \n",
       "\n",
       "   family_status_id gender income_type  debt  total_income       purpose  \\\n",
       "0                 0      F   сотрудник     0        253875  недвижимость   \n",
       "1                 0      F   сотрудник     0        112080    автомобиль   \n",
       "2                 0      M   сотрудник     0        145885  недвижимость   \n",
       "3                 0      M   сотрудник     0        267628   образование   \n",
       "4                 1      F   пенсионер     0        158616       свадьба   \n",
       "\n",
       "  children_group  \n",
       "0      1 ребенок  \n",
       "1      1 ребенок  \n",
       "2        0 детей  \n",
       "3    многодетные  \n",
       "4        0 детей  "
      ]
     },
     "execution_count": 53,
     "metadata": {},
     "output_type": "execute_result"
    }
   ],
   "source": [
    "df['children_group'] = df['children'].apply(children_group)\n",
    "df.head()"
   ]
  },
  {
   "cell_type": "markdown",
   "metadata": {},
   "source": [
    "Посмотрим минимум и максимум доходов"
   ]
  },
  {
   "cell_type": "code",
   "execution_count": 54,
   "metadata": {},
   "outputs": [
    {
     "data": {
      "text/plain": [
       "count      21200.000\n",
       "mean      165636.745\n",
       "std        98714.727\n",
       "min        20667.000\n",
       "25%       106967.250\n",
       "50%       142594.000\n",
       "75%       196685.000\n",
       "max      2265604.000\n",
       "Name: total_income, dtype: float64"
      ]
     },
     "execution_count": 54,
     "metadata": {},
     "output_type": "execute_result"
    }
   ],
   "source": [
    "df['total_income'].describe()"
   ]
  },
  {
   "cell_type": "markdown",
   "metadata": {},
   "source": [
    "Проведем категорирование уровня доходов на 5 групп, исходя из доходов:\n",
    "\n",
    "1 - от 0 до 100 000,\n",
    "\n",
    "2 - от 100 000 до 150 000,\n",
    "\n",
    "3 - от 150 000 до 200 000,\n",
    "\n",
    "4 - от 200 000 до 250 000,\n",
    "\n",
    "5 - от 250 000 и выше."
   ]
  },
  {
   "cell_type": "code",
   "execution_count": 55,
   "metadata": {},
   "outputs": [],
   "source": [
    "def total_income_group(row):\n",
    "    if row > 0 and row < 100000:\n",
    "        return 'от 0 до 100 000 р'\n",
    "    if row >= 100000 and row < 150000:\n",
    "        return 'от 100 000 до 150 000 р'\n",
    "    if row >= 150000 and row < 200000:\n",
    "        return 'от 150 000 до 200 000 р'\n",
    "    if row >= 200000 and row < 250000:\n",
    "        return 'от 200 000 до 250 000 р'\n",
    "    else:\n",
    "        return 'от 250 000 р и выше'"
   ]
  },
  {
   "cell_type": "markdown",
   "metadata": {},
   "source": [
    "Запишем данные о группах в новый столбец"
   ]
  },
  {
   "cell_type": "code",
   "execution_count": 56,
   "metadata": {
    "scrolled": true
   },
   "outputs": [
    {
     "name": "stderr",
     "output_type": "stream",
     "text": [
      "C:\\Users\\mdvor\\AppData\\Local\\Temp\\ipykernel_12576\\537585671.py:1: SettingWithCopyWarning: \n",
      "A value is trying to be set on a copy of a slice from a DataFrame.\n",
      "Try using .loc[row_indexer,col_indexer] = value instead\n",
      "\n",
      "See the caveats in the documentation: https://pandas.pydata.org/pandas-docs/stable/user_guide/indexing.html#returning-a-view-versus-a-copy\n",
      "  df['total_income_group'] = df['total_income'].apply(total_income_group)\n"
     ]
    },
    {
     "data": {
      "text/html": [
       "<div>\n",
       "<style scoped>\n",
       "    .dataframe tbody tr th:only-of-type {\n",
       "        vertical-align: middle;\n",
       "    }\n",
       "\n",
       "    .dataframe tbody tr th {\n",
       "        vertical-align: top;\n",
       "    }\n",
       "\n",
       "    .dataframe thead th {\n",
       "        text-align: right;\n",
       "    }\n",
       "</style>\n",
       "<table border=\"1\" class=\"dataframe\">\n",
       "  <thead>\n",
       "    <tr style=\"text-align: right;\">\n",
       "      <th></th>\n",
       "      <th>children</th>\n",
       "      <th>dob_years</th>\n",
       "      <th>education</th>\n",
       "      <th>education_id</th>\n",
       "      <th>family_status</th>\n",
       "      <th>family_status_id</th>\n",
       "      <th>gender</th>\n",
       "      <th>income_type</th>\n",
       "      <th>debt</th>\n",
       "      <th>total_income</th>\n",
       "      <th>purpose</th>\n",
       "      <th>children_group</th>\n",
       "      <th>total_income_group</th>\n",
       "    </tr>\n",
       "  </thead>\n",
       "  <tbody>\n",
       "    <tr>\n",
       "      <th>0</th>\n",
       "      <td>1</td>\n",
       "      <td>42</td>\n",
       "      <td>высшее</td>\n",
       "      <td>0</td>\n",
       "      <td>женат / замужем</td>\n",
       "      <td>0</td>\n",
       "      <td>F</td>\n",
       "      <td>сотрудник</td>\n",
       "      <td>0</td>\n",
       "      <td>253875</td>\n",
       "      <td>недвижимость</td>\n",
       "      <td>1 ребенок</td>\n",
       "      <td>от 250 000 р и выше</td>\n",
       "    </tr>\n",
       "    <tr>\n",
       "      <th>1</th>\n",
       "      <td>1</td>\n",
       "      <td>36</td>\n",
       "      <td>среднее</td>\n",
       "      <td>1</td>\n",
       "      <td>женат / замужем</td>\n",
       "      <td>0</td>\n",
       "      <td>F</td>\n",
       "      <td>сотрудник</td>\n",
       "      <td>0</td>\n",
       "      <td>112080</td>\n",
       "      <td>автомобиль</td>\n",
       "      <td>1 ребенок</td>\n",
       "      <td>от 100 000 до 150 000 р</td>\n",
       "    </tr>\n",
       "    <tr>\n",
       "      <th>2</th>\n",
       "      <td>0</td>\n",
       "      <td>33</td>\n",
       "      <td>среднее</td>\n",
       "      <td>1</td>\n",
       "      <td>женат / замужем</td>\n",
       "      <td>0</td>\n",
       "      <td>M</td>\n",
       "      <td>сотрудник</td>\n",
       "      <td>0</td>\n",
       "      <td>145885</td>\n",
       "      <td>недвижимость</td>\n",
       "      <td>0 детей</td>\n",
       "      <td>от 100 000 до 150 000 р</td>\n",
       "    </tr>\n",
       "    <tr>\n",
       "      <th>3</th>\n",
       "      <td>3</td>\n",
       "      <td>32</td>\n",
       "      <td>среднее</td>\n",
       "      <td>1</td>\n",
       "      <td>женат / замужем</td>\n",
       "      <td>0</td>\n",
       "      <td>M</td>\n",
       "      <td>сотрудник</td>\n",
       "      <td>0</td>\n",
       "      <td>267628</td>\n",
       "      <td>образование</td>\n",
       "      <td>многодетные</td>\n",
       "      <td>от 250 000 р и выше</td>\n",
       "    </tr>\n",
       "    <tr>\n",
       "      <th>4</th>\n",
       "      <td>0</td>\n",
       "      <td>53</td>\n",
       "      <td>среднее</td>\n",
       "      <td>1</td>\n",
       "      <td>гражданский брак</td>\n",
       "      <td>1</td>\n",
       "      <td>F</td>\n",
       "      <td>пенсионер</td>\n",
       "      <td>0</td>\n",
       "      <td>158616</td>\n",
       "      <td>свадьба</td>\n",
       "      <td>0 детей</td>\n",
       "      <td>от 150 000 до 200 000 р</td>\n",
       "    </tr>\n",
       "  </tbody>\n",
       "</table>\n",
       "</div>"
      ],
      "text/plain": [
       "   children  dob_years education  education_id     family_status  \\\n",
       "0         1         42    высшее             0   женат / замужем   \n",
       "1         1         36   среднее             1   женат / замужем   \n",
       "2         0         33   среднее             1   женат / замужем   \n",
       "3         3         32   среднее             1   женат / замужем   \n",
       "4         0         53   среднее             1  гражданский брак   \n",
       "\n",
       "   family_status_id gender income_type  debt  total_income       purpose  \\\n",
       "0                 0      F   сотрудник     0        253875  недвижимость   \n",
       "1                 0      F   сотрудник     0        112080    автомобиль   \n",
       "2                 0      M   сотрудник     0        145885  недвижимость   \n",
       "3                 0      M   сотрудник     0        267628   образование   \n",
       "4                 1      F   пенсионер     0        158616       свадьба   \n",
       "\n",
       "  children_group       total_income_group  \n",
       "0      1 ребенок      от 250 000 р и выше  \n",
       "1      1 ребенок  от 100 000 до 150 000 р  \n",
       "2        0 детей  от 100 000 до 150 000 р  \n",
       "3    многодетные      от 250 000 р и выше  \n",
       "4        0 детей  от 150 000 до 200 000 р  "
      ]
     },
     "execution_count": 56,
     "metadata": {},
     "output_type": "execute_result"
    }
   ],
   "source": [
    "df['total_income_group'] = df['total_income'].apply(total_income_group)\n",
    "df.head()"
   ]
  },
  {
   "cell_type": "code",
   "execution_count": 57,
   "metadata": {
    "scrolled": true
   },
   "outputs": [
    {
     "data": {
      "text/html": [
       "<div>\n",
       "<style scoped>\n",
       "    .dataframe tbody tr th:only-of-type {\n",
       "        vertical-align: middle;\n",
       "    }\n",
       "\n",
       "    .dataframe tbody tr th {\n",
       "        vertical-align: top;\n",
       "    }\n",
       "\n",
       "    .dataframe thead th {\n",
       "        text-align: right;\n",
       "    }\n",
       "</style>\n",
       "<table border=\"1\" class=\"dataframe\">\n",
       "  <thead>\n",
       "    <tr style=\"text-align: right;\">\n",
       "      <th></th>\n",
       "      <th>число_клиентов</th>\n",
       "      <th>std</th>\n",
       "    </tr>\n",
       "    <tr>\n",
       "      <th>total_income_group</th>\n",
       "      <th></th>\n",
       "      <th></th>\n",
       "    </tr>\n",
       "  </thead>\n",
       "  <tbody>\n",
       "    <tr>\n",
       "      <th>от 0 до 100 000 р</th>\n",
       "      <td>4463</td>\n",
       "      <td>16682.952</td>\n",
       "    </tr>\n",
       "    <tr>\n",
       "      <th>от 100 000 до 150 000 р</th>\n",
       "      <td>6940</td>\n",
       "      <td>14541.538</td>\n",
       "    </tr>\n",
       "    <tr>\n",
       "      <th>от 150 000 до 200 000 р</th>\n",
       "      <td>4730</td>\n",
       "      <td>13837.423</td>\n",
       "    </tr>\n",
       "    <tr>\n",
       "      <th>от 200 000 до 250 000 р</th>\n",
       "      <td>2254</td>\n",
       "      <td>14068.057</td>\n",
       "    </tr>\n",
       "    <tr>\n",
       "      <th>от 250 000 р и выше</th>\n",
       "      <td>2813</td>\n",
       "      <td>140994.870</td>\n",
       "    </tr>\n",
       "  </tbody>\n",
       "</table>\n",
       "</div>"
      ],
      "text/plain": [
       "                         число_клиентов         std\n",
       "total_income_group                                 \n",
       "от 0 до 100 000 р                  4463   16682.952\n",
       "от 100 000 до 150 000 р            6940   14541.538\n",
       "от 150 000 до 200 000 р            4730   13837.423\n",
       "от 200 000 до 250 000 р            2254   14068.057\n",
       "от 250 000 р и выше                2813  140994.870"
      ]
     },
     "execution_count": 57,
     "metadata": {},
     "output_type": "execute_result"
    }
   ],
   "source": [
    "# проверим стандарное распределение доходов в группах\n",
    "df.groupby('total_income_group').agg(число_клиентов=('total_income','count'),std=('total_income','std')).sort_values('total_income_group')"
   ]
  },
  {
   "cell_type": "markdown",
   "metadata": {},
   "source": [
    "Во 2 группе отклонение велико, но в остальных группах примерно одинакова. Поэтому оставим данное деление на группы."
   ]
  },
  {
   "cell_type": "markdown",
   "metadata": {},
   "source": [
    "## Шаг 3. Проверка зависимостей"
   ]
  },
  {
   "cell_type": "markdown",
   "metadata": {},
   "source": [
    "**- Есть ли зависимость между наличием детей и возвратом кредита в срок?**"
   ]
  },
  {
   "cell_type": "markdown",
   "metadata": {},
   "source": [
    "Посмотрим соотношение задолженности по группам детей"
   ]
  },
  {
   "cell_type": "code",
   "execution_count": 62,
   "metadata": {
    "scrolled": false
   },
   "outputs": [
    {
     "data": {
      "text/plain": [
       "children_group\n",
       "0 детей        7.646\n",
       "1 ребенок      9.244\n",
       "2 ребенка      9.537\n",
       "многодетные    8.179\n",
       "Name: debt, dtype: float64"
      ]
     },
     "execution_count": 62,
     "metadata": {},
     "output_type": "execute_result"
    }
   ],
   "source": [
    "(df.groupby('children_group')['debt'].mean())*100"
   ]
  },
  {
   "cell_type": "code",
   "execution_count": 60,
   "metadata": {},
   "outputs": [
    {
     "data": {
      "text/plain": [
       "children_group\n",
       "0 детей        13889\n",
       "1 ребенок       4814\n",
       "2 ребенка       2118\n",
       "многодетные      379\n",
       "Name: debt, dtype: int64"
      ]
     },
     "execution_count": 60,
     "metadata": {},
     "output_type": "execute_result"
    }
   ],
   "source": [
    "# проверим число записей с необходимым количеством детей\n",
    "(df.groupby('children_group')['debt'].count())"
   ]
  },
  {
   "cell_type": "markdown",
   "metadata": {},
   "source": [
    "**Вывод**"
   ]
  },
  {
   "cell_type": "markdown",
   "metadata": {},
   "source": [
    "При наличии 1-2 детей количество допущенных просрочек больше примерно на 2% по сравнению с теми, у кого нет детей.\n",
    "\n",
    "То есть можно сказать, что наличие 1-2 детей увеличивает процент невозврата кредита в срок до 2%."
   ]
  },
  {
   "cell_type": "markdown",
   "metadata": {},
   "source": [
    "**- Есть ли зависимость между семейным положением и возвратом кредита в срок?**"
   ]
  },
  {
   "cell_type": "code",
   "execution_count": 63,
   "metadata": {},
   "outputs": [
    {
     "data": {
      "text/plain": [
       "family_status\n",
       "в разводе                7.125\n",
       "вдовец / вдова           6.646\n",
       "гражданский брак         9.406\n",
       "женат / замужем          7.659\n",
       "не женат / не замужем    9.817\n",
       "Name: debt, dtype: float64"
      ]
     },
     "execution_count": 63,
     "metadata": {},
     "output_type": "execute_result"
    }
   ],
   "source": [
    "(df.groupby('family_status')['debt'].mean())*100"
   ]
  },
  {
   "cell_type": "code",
   "execution_count": 64,
   "metadata": {},
   "outputs": [
    {
     "data": {
      "text/plain": [
       "family_status\n",
       "в разводе                 119300\n",
       "вдовец / вдова             94800\n",
       "гражданский брак          412500\n",
       "женат / замужем          1214300\n",
       "не женат / не замужем     279100\n",
       "Name: debt, dtype: int64"
      ]
     },
     "execution_count": 64,
     "metadata": {},
     "output_type": "execute_result"
    }
   ],
   "source": [
    "# посмотрим на количество записей\n",
    "(df.groupby('family_status')['debt'].count())*100"
   ]
  },
  {
   "cell_type": "markdown",
   "metadata": {},
   "source": [
    "**Вывод**"
   ]
  },
  {
   "cell_type": "markdown",
   "metadata": {},
   "source": [
    "Наибольший процент просроченных платежей у тех, кто не в законном браке - до 10%.\n",
    "\n",
    "Наименьший процент у вдовцов и вдов - 6,6%.\n",
    "\n",
    "Чуть выше риск у женатых и разведенных - до 8%.\n",
    "\n",
    "То есть официально зарегистривавшие брак или бывшие в браке люди ответственнее подходят к погашению кредита.\n",
    "У неженатых риски до 4% выше."
   ]
  },
  {
   "cell_type": "markdown",
   "metadata": {},
   "source": [
    "**- Есть ли зависимость между уровнем дохода и возвратом кредита в срок?**"
   ]
  },
  {
   "cell_type": "code",
   "execution_count": 65,
   "metadata": {},
   "outputs": [
    {
     "data": {
      "text/plain": [
       "total_income_group\n",
       "от 0 до 100 000 р          7.932\n",
       "от 100 000 до 150 000 р    8.977\n",
       "от 150 000 до 200 000 р    8.562\n",
       "от 200 000 до 250 000 р    7.276\n",
       "от 250 000 р и выше        6.897\n",
       "Name: debt, dtype: float64"
      ]
     },
     "execution_count": 65,
     "metadata": {},
     "output_type": "execute_result"
    }
   ],
   "source": [
    "(df.groupby('total_income_group')['debt'].mean())*100"
   ]
  },
  {
   "cell_type": "markdown",
   "metadata": {},
   "source": [
    "**Вывод**"
   ]
  },
  {
   "cell_type": "markdown",
   "metadata": {},
   "source": [
    "Наименьшее число просрочки у заемщиков, чьи доходы более 200 000 рублей - около 7%.\n",
    "\n",
    "Примерно на 1% выше у тех кто получает до 100 000 рублей (7-8%)\n",
    "\n",
    "И набольший риск до 9% у тех, у кого доходы более 100 000 и менее 200 000 рублей.\n",
    "\n",
    "Таким образом, примерно на 2% больше риска невозврата кредита у людей, чьи доходы от 100 000 до 200 000 рублей.\n",
    "\n",
    "В этой части возможно рассмотреть более детальные группы по доходам. Такие вопросы предпочтительно согласовывать с заказчиком."
   ]
  },
  {
   "cell_type": "markdown",
   "metadata": {},
   "source": [
    "**- Как разные цели кредита влияют на его возврат в срок?**"
   ]
  },
  {
   "cell_type": "code",
   "execution_count": 66,
   "metadata": {
    "scrolled": true
   },
   "outputs": [
    {
     "data": {
      "text/plain": [
       "purpose\n",
       "автомобиль       9.410\n",
       "недвижимость     7.372\n",
       "образование      9.334\n",
       "ремонт           5.766\n",
       "свадьба          8.066\n",
       "строительство    7.696\n",
       "Name: debt, dtype: float64"
      ]
     },
     "execution_count": 66,
     "metadata": {},
     "output_type": "execute_result"
    }
   ],
   "source": [
    "(df.groupby('purpose')['debt'].mean())*100"
   ]
  },
  {
   "cell_type": "code",
   "execution_count": 67,
   "metadata": {},
   "outputs": [
    {
     "data": {
      "text/plain": [
       "purpose\n",
       "автомобиль       427200\n",
       "недвижимость     818000\n",
       "образование      396400\n",
       "ремонт            60700\n",
       "свадьба          230600\n",
       "строительство    187100\n",
       "Name: debt, dtype: int64"
      ]
     },
     "execution_count": 67,
     "metadata": {},
     "output_type": "execute_result"
    }
   ],
   "source": [
    "# посмотрим на количество записей\n",
    "(df.groupby('purpose')['debt'].count())*100"
   ]
  },
  {
   "cell_type": "markdown",
   "metadata": {},
   "source": [
    "**Вывод**\n",
    "\n",
    "Меньше всего просрочек по кредитам, взятым на ремонт - до 6%.\n",
    "\n",
    "На недвижимость, строительство и свадьбу - до 8%.\n",
    "\n",
    "Более всего риски при покупке автомобиля или кредита на образование - выше 9%."
   ]
  },
  {
   "cell_type": "markdown",
   "metadata": {},
   "source": [
    "## Шаг 4. Общий вывод"
   ]
  },
  {
   "cell_type": "markdown",
   "metadata": {},
   "source": [
    "1. Имеется зависимость между наличием детей и возвратом кредита в срок: да.\n",
    "\n",
    "   Наличие 1-2 детей увеличивает процент невозврата кредита в срок на 2%.\n",
    "\n",
    "\n",
    "2. Имеется зависимость между семейным положением и возвратом кредита в срок: да.\n",
    "   \n",
    "   Официально зарегистривавшие брак люди ответственнее подходят к погашению кредита (6-8%), в то время как одинокие заемщики и    не зарегистрированные в официальном браке имеют риски не возврата кредита в срок на 3-4% выше (9-10%).\n",
    "\n",
    "\n",
    "3. Имеется зависимость между уровнем дохода и возвратом кредита в срок: да.\n",
    "   \n",
    "   При доходах до 250000 рублей - примерно на 2% больше риска невозврата кредита у людей, чьи доходы от 100 000 до 200 000    \n",
    "   рублей.\n",
    "\n",
    "\n",
    "4. А так же разные цели кредита влияют на его возврат в срок: выше всего риски при покупке автомобиля или кредита на  \n",
    "   образование - более 9%, на 1% меньше при покупке недвижимости, строительства или на свадьбу - до 8%, самый низкий риск при  \n",
    "   получении кредита на ремонт - до 6%."
   ]
  },
  {
   "cell_type": "code",
   "execution_count": null,
   "metadata": {},
   "outputs": [],
   "source": []
  }
 ],
 "metadata": {
  "ExecuteTimeLog": [
   {
    "duration": 867,
    "start_time": "2021-12-09T17:53:59.645Z"
   },
   {
    "duration": 986,
    "start_time": "2021-12-09T17:55:36.005Z"
   },
   {
    "duration": 2296,
    "start_time": "2021-12-09T17:55:42.818Z"
   },
   {
    "duration": 3713,
    "start_time": "2021-12-09T17:56:39.232Z"
   },
   {
    "duration": 696,
    "start_time": "2021-12-09T17:57:19.132Z"
   },
   {
    "duration": 3644,
    "start_time": "2021-12-09T17:57:25.664Z"
   },
   {
    "duration": 6008,
    "start_time": "2021-12-09T17:59:22.441Z"
   },
   {
    "duration": 2366,
    "start_time": "2021-12-09T18:02:01.115Z"
   },
   {
    "duration": 2084,
    "start_time": "2021-12-09T18:02:41.674Z"
   },
   {
    "duration": 91,
    "start_time": "2021-12-09T18:02:50.279Z"
   },
   {
    "duration": 3193,
    "start_time": "2021-12-09T18:03:06.167Z"
   },
   {
    "duration": 3076,
    "start_time": "2021-12-09T18:03:28.325Z"
   },
   {
    "duration": 2022,
    "start_time": "2021-12-09T18:03:36.019Z"
   },
   {
    "duration": 2644,
    "start_time": "2021-12-09T18:03:41.194Z"
   },
   {
    "duration": 2038,
    "start_time": "2021-12-09T18:04:17.449Z"
   },
   {
    "duration": 2056,
    "start_time": "2021-12-09T18:04:22.393Z"
   },
   {
    "duration": 3458,
    "start_time": "2021-12-09T18:06:55.053Z"
   },
   {
    "duration": 2134,
    "start_time": "2021-12-09T18:07:44.877Z"
   },
   {
    "duration": 2118,
    "start_time": "2021-12-09T18:07:56.121Z"
   },
   {
    "duration": 2493,
    "start_time": "2021-12-09T18:08:11.535Z"
   },
   {
    "duration": 2578,
    "start_time": "2021-12-09T18:08:28.403Z"
   },
   {
    "duration": 5508,
    "start_time": "2021-12-09T18:08:36.402Z"
   },
   {
    "duration": 2098,
    "start_time": "2021-12-09T18:13:09.840Z"
   },
   {
    "duration": 3105,
    "start_time": "2021-12-09T18:13:19.853Z"
   },
   {
    "duration": 652,
    "start_time": "2021-12-10T06:15:01.667Z"
   },
   {
    "duration": 64,
    "start_time": "2021-12-10T06:15:33.464Z"
   },
   {
    "duration": 59,
    "start_time": "2021-12-10T06:15:48.580Z"
   },
   {
    "duration": 58,
    "start_time": "2021-12-10T06:22:34.277Z"
   },
   {
    "duration": 11,
    "start_time": "2021-12-10T06:22:40.476Z"
   },
   {
    "duration": 24,
    "start_time": "2021-12-10T15:44:22.855Z"
   },
   {
    "duration": 10,
    "start_time": "2021-12-10T15:44:44.828Z"
   },
   {
    "duration": 7,
    "start_time": "2021-12-10T15:45:18.466Z"
   },
   {
    "duration": 8,
    "start_time": "2021-12-10T15:45:23.576Z"
   },
   {
    "duration": 11,
    "start_time": "2021-12-10T15:45:25.531Z"
   },
   {
    "duration": 4388,
    "start_time": "2021-12-10T16:19:03.356Z"
   },
   {
    "duration": 9,
    "start_time": "2021-12-10T16:19:30.691Z"
   },
   {
    "duration": 847,
    "start_time": "2021-12-10T16:19:44.710Z"
   },
   {
    "duration": 1212,
    "start_time": "2021-12-10T16:20:16.434Z"
   },
   {
    "duration": 756,
    "start_time": "2021-12-10T16:20:35.166Z"
   },
   {
    "duration": 685,
    "start_time": "2021-12-10T16:22:37.241Z"
   },
   {
    "duration": 694,
    "start_time": "2021-12-10T16:22:53.421Z"
   },
   {
    "duration": 746,
    "start_time": "2021-12-10T16:24:17.788Z"
   },
   {
    "duration": 61,
    "start_time": "2021-12-10T16:24:41.885Z"
   },
   {
    "duration": 1134,
    "start_time": "2021-12-10T16:24:47.574Z"
   },
   {
    "duration": 178,
    "start_time": "2021-12-10T16:25:00.637Z"
   },
   {
    "duration": 60,
    "start_time": "2021-12-10T16:25:16.962Z"
   },
   {
    "duration": 61,
    "start_time": "2021-12-10T16:25:37.105Z"
   },
   {
    "duration": 11,
    "start_time": "2021-12-10T16:25:42.489Z"
   },
   {
    "duration": 8,
    "start_time": "2021-12-10T16:25:49.103Z"
   },
   {
    "duration": 9,
    "start_time": "2021-12-10T16:26:25.353Z"
   },
   {
    "duration": 12,
    "start_time": "2021-12-10T16:26:27.736Z"
   },
   {
    "duration": 4,
    "start_time": "2021-12-10T16:26:33.588Z"
   },
   {
    "duration": 2426,
    "start_time": "2021-12-10T16:26:48.695Z"
   },
   {
    "duration": 3029,
    "start_time": "2021-12-10T16:27:03.841Z"
   },
   {
    "duration": 2277,
    "start_time": "2021-12-10T16:27:22.360Z"
   },
   {
    "duration": 2209,
    "start_time": "2021-12-10T16:30:02.388Z"
   },
   {
    "duration": 3333,
    "start_time": "2021-12-10T16:37:59.142Z"
   },
   {
    "duration": 2187,
    "start_time": "2021-12-10T16:38:39.237Z"
   },
   {
    "duration": 3313,
    "start_time": "2021-12-10T16:38:53.042Z"
   },
   {
    "duration": 2679,
    "start_time": "2021-12-10T16:39:36.325Z"
   },
   {
    "duration": 2635,
    "start_time": "2021-12-10T16:40:45.656Z"
   },
   {
    "duration": 57,
    "start_time": "2021-12-10T16:41:31.664Z"
   },
   {
    "duration": 2336,
    "start_time": "2021-12-10T16:41:43.628Z"
   },
   {
    "duration": 3430,
    "start_time": "2021-12-10T16:59:44.495Z"
   },
   {
    "duration": 57,
    "start_time": "2021-12-10T17:28:16.613Z"
   },
   {
    "duration": 59,
    "start_time": "2021-12-10T17:28:37.856Z"
   },
   {
    "duration": 67,
    "start_time": "2021-12-10T17:28:52.236Z"
   },
   {
    "duration": 977,
    "start_time": "2021-12-11T15:15:51.328Z"
   },
   {
    "duration": 77,
    "start_time": "2021-12-11T15:16:03.147Z"
   },
   {
    "duration": 16,
    "start_time": "2021-12-11T15:16:44.670Z"
   },
   {
    "duration": 11,
    "start_time": "2021-12-11T15:17:17.637Z"
   },
   {
    "duration": 15,
    "start_time": "2021-12-11T15:17:24.569Z"
   },
   {
    "duration": 5,
    "start_time": "2021-12-11T15:17:37.853Z"
   },
   {
    "duration": 7,
    "start_time": "2021-12-11T15:18:27.924Z"
   },
   {
    "duration": 16,
    "start_time": "2021-12-11T15:18:37.030Z"
   },
   {
    "duration": 19,
    "start_time": "2021-12-11T15:20:09.451Z"
   },
   {
    "duration": 17,
    "start_time": "2021-12-11T15:45:19.685Z"
   },
   {
    "duration": 10,
    "start_time": "2021-12-11T15:57:36.984Z"
   },
   {
    "duration": 355,
    "start_time": "2021-12-11T16:16:31.328Z"
   },
   {
    "duration": 743,
    "start_time": "2021-12-11T16:17:09.079Z"
   },
   {
    "duration": 312,
    "start_time": "2021-12-11T16:19:40.323Z"
   },
   {
    "duration": 295,
    "start_time": "2021-12-11T16:20:55.773Z"
   },
   {
    "duration": 23,
    "start_time": "2021-12-11T16:21:22.755Z"
   },
   {
    "duration": 19,
    "start_time": "2021-12-11T16:21:31.986Z"
   },
   {
    "duration": 389,
    "start_time": "2021-12-11T16:24:44.188Z"
   },
   {
    "duration": 325,
    "start_time": "2021-12-11T16:24:50.646Z"
   },
   {
    "duration": 79,
    "start_time": "2021-12-11T16:25:12.792Z"
   },
   {
    "duration": 15,
    "start_time": "2021-12-11T16:25:15.597Z"
   },
   {
    "duration": 12,
    "start_time": "2021-12-11T16:26:11.334Z"
   },
   {
    "duration": 273,
    "start_time": "2021-12-11T16:26:44.402Z"
   },
   {
    "duration": 79,
    "start_time": "2021-12-11T17:18:36.449Z"
   },
   {
    "duration": 15,
    "start_time": "2021-12-11T17:18:43.424Z"
   },
   {
    "duration": 12,
    "start_time": "2021-12-11T17:20:46.978Z"
   },
   {
    "duration": 105,
    "start_time": "2021-12-11T17:22:41.152Z"
   },
   {
    "duration": 26,
    "start_time": "2021-12-11T17:23:07.759Z"
   },
   {
    "duration": 83,
    "start_time": "2021-12-11T17:23:13.348Z"
   },
   {
    "duration": 20,
    "start_time": "2021-12-11T17:26:31.139Z"
   },
   {
    "duration": 297,
    "start_time": "2021-12-11T17:26:53.730Z"
   },
   {
    "duration": 330,
    "start_time": "2021-12-11T17:29:36.277Z"
   },
   {
    "duration": 14,
    "start_time": "2021-12-11T17:31:06.540Z"
   },
   {
    "duration": 14,
    "start_time": "2021-12-11T17:31:32.806Z"
   },
   {
    "duration": 15,
    "start_time": "2021-12-11T17:31:47.413Z"
   },
   {
    "duration": 63,
    "start_time": "2021-12-11T17:33:08.283Z"
   },
   {
    "duration": 25,
    "start_time": "2021-12-11T17:33:12.977Z"
   },
   {
    "duration": 16,
    "start_time": "2021-12-11T17:33:17.781Z"
   },
   {
    "duration": 326,
    "start_time": "2021-12-11T17:33:25.688Z"
   },
   {
    "duration": 298,
    "start_time": "2021-12-11T17:34:17.791Z"
   },
   {
    "duration": 704,
    "start_time": "2021-12-11T17:34:25.142Z"
   },
   {
    "duration": 310,
    "start_time": "2021-12-11T17:35:16.801Z"
   },
   {
    "duration": 62,
    "start_time": "2021-12-11T17:35:22.977Z"
   },
   {
    "duration": 18,
    "start_time": "2021-12-11T17:35:30.868Z"
   },
   {
    "duration": 14,
    "start_time": "2021-12-11T17:35:34.483Z"
   },
   {
    "duration": 302,
    "start_time": "2021-12-11T17:35:44.078Z"
   },
   {
    "duration": 20,
    "start_time": "2021-12-11T17:37:29.243Z"
   },
   {
    "duration": 12,
    "start_time": "2021-12-11T17:37:39.695Z"
   },
   {
    "duration": 291,
    "start_time": "2021-12-11T17:38:04.686Z"
   },
   {
    "duration": 12,
    "start_time": "2021-12-11T17:38:10.550Z"
   },
   {
    "duration": 68,
    "start_time": "2021-12-11T17:48:21.324Z"
   },
   {
    "duration": 33,
    "start_time": "2021-12-11T17:48:23.581Z"
   },
   {
    "duration": 63,
    "start_time": "2021-12-11T17:49:37.194Z"
   },
   {
    "duration": 36,
    "start_time": "2021-12-11T17:49:38.171Z"
   },
   {
    "duration": 25,
    "start_time": "2021-12-11T17:49:51.018Z"
   },
   {
    "duration": 18,
    "start_time": "2021-12-11T17:56:44.229Z"
   },
   {
    "duration": 303,
    "start_time": "2021-12-11T17:57:21.048Z"
   },
   {
    "duration": 812,
    "start_time": "2021-12-12T12:55:56.691Z"
   },
   {
    "duration": 4,
    "start_time": "2021-12-12T12:56:44.598Z"
   },
   {
    "duration": 58,
    "start_time": "2021-12-12T12:56:45.777Z"
   },
   {
    "duration": 26,
    "start_time": "2021-12-12T12:56:59.664Z"
   },
   {
    "duration": 14,
    "start_time": "2021-12-12T12:59:22.234Z"
   },
   {
    "duration": 37,
    "start_time": "2021-12-12T13:00:42.156Z"
   },
   {
    "duration": 27,
    "start_time": "2021-12-12T13:01:02.760Z"
   },
   {
    "duration": 10,
    "start_time": "2021-12-12T13:02:12.525Z"
   },
   {
    "duration": 4,
    "start_time": "2021-12-12T13:02:23.994Z"
   },
   {
    "duration": 15,
    "start_time": "2021-12-12T13:02:35.954Z"
   },
   {
    "duration": 5,
    "start_time": "2021-12-12T13:03:28.055Z"
   },
   {
    "duration": 15,
    "start_time": "2021-12-12T13:03:36.530Z"
   },
   {
    "duration": 19,
    "start_time": "2021-12-12T13:04:47.363Z"
   },
   {
    "duration": 24,
    "start_time": "2021-12-12T13:15:56.630Z"
   },
   {
    "duration": 105,
    "start_time": "2021-12-12T13:16:14.775Z"
   },
   {
    "duration": 21,
    "start_time": "2021-12-12T13:23:46.931Z"
   },
   {
    "duration": 7,
    "start_time": "2021-12-12T13:23:48.336Z"
   },
   {
    "duration": 7,
    "start_time": "2021-12-12T13:23:49.501Z"
   },
   {
    "duration": 8,
    "start_time": "2021-12-12T13:23:53.372Z"
   },
   {
    "duration": 6,
    "start_time": "2021-12-12T13:23:58.337Z"
   },
   {
    "duration": 4,
    "start_time": "2021-12-12T13:24:00.576Z"
   },
   {
    "duration": 7,
    "start_time": "2021-12-12T13:24:01.770Z"
   },
   {
    "duration": 6,
    "start_time": "2021-12-12T13:24:04.398Z"
   },
   {
    "duration": 6,
    "start_time": "2021-12-12T13:24:05.722Z"
   },
   {
    "duration": 16,
    "start_time": "2021-12-12T13:24:10.173Z"
   },
   {
    "duration": 9,
    "start_time": "2021-12-12T13:24:14.280Z"
   },
   {
    "duration": 6,
    "start_time": "2021-12-12T13:24:20.569Z"
   },
   {
    "duration": 16,
    "start_time": "2021-12-12T13:24:26.672Z"
   },
   {
    "duration": 7,
    "start_time": "2021-12-12T13:24:27.706Z"
   },
   {
    "duration": 5,
    "start_time": "2021-12-12T13:24:29.424Z"
   },
   {
    "duration": 7,
    "start_time": "2021-12-12T13:24:32.250Z"
   },
   {
    "duration": 16,
    "start_time": "2021-12-12T13:24:33.871Z"
   },
   {
    "duration": 9,
    "start_time": "2021-12-12T13:24:37.849Z"
   },
   {
    "duration": 6,
    "start_time": "2021-12-12T13:24:39.629Z"
   },
   {
    "duration": 6,
    "start_time": "2021-12-12T13:24:44.911Z"
   },
   {
    "duration": 16,
    "start_time": "2021-12-12T13:24:46.280Z"
   },
   {
    "duration": 6,
    "start_time": "2021-12-12T13:24:51.653Z"
   },
   {
    "duration": 6,
    "start_time": "2021-12-12T13:24:53.129Z"
   },
   {
    "duration": 7,
    "start_time": "2021-12-12T13:24:54.413Z"
   },
   {
    "duration": 10,
    "start_time": "2021-12-12T13:24:55.626Z"
   },
   {
    "duration": 7,
    "start_time": "2021-12-12T13:25:01.022Z"
   },
   {
    "duration": 27,
    "start_time": "2021-12-12T13:25:05.085Z"
   },
   {
    "duration": 9,
    "start_time": "2021-12-12T13:25:08.933Z"
   },
   {
    "duration": 8,
    "start_time": "2021-12-12T13:25:11.174Z"
   },
   {
    "duration": 19,
    "start_time": "2021-12-12T13:26:02.772Z"
   },
   {
    "duration": 8,
    "start_time": "2021-12-12T13:26:06.082Z"
   },
   {
    "duration": 9,
    "start_time": "2021-12-12T13:26:07.680Z"
   },
   {
    "duration": 9,
    "start_time": "2021-12-12T13:27:13.023Z"
   },
   {
    "duration": 5,
    "start_time": "2021-12-12T13:27:33.941Z"
   },
   {
    "duration": 5363,
    "start_time": "2021-12-12T13:27:46.240Z"
   },
   {
    "duration": 10,
    "start_time": "2021-12-12T13:28:13.785Z"
   },
   {
    "duration": 22,
    "start_time": "2021-12-12T13:29:58.093Z"
   },
   {
    "duration": 4,
    "start_time": "2021-12-12T13:30:00.911Z"
   },
   {
    "duration": 5,
    "start_time": "2021-12-12T13:30:17.705Z"
   },
   {
    "duration": 8,
    "start_time": "2021-12-12T13:30:23.125Z"
   },
   {
    "duration": 5263,
    "start_time": "2021-12-12T13:30:38.660Z"
   },
   {
    "duration": 7,
    "start_time": "2021-12-12T13:30:43.926Z"
   },
   {
    "duration": 359,
    "start_time": "2021-12-12T13:31:14.545Z"
   },
   {
    "duration": 321,
    "start_time": "2021-12-12T13:31:39.554Z"
   },
   {
    "duration": 4,
    "start_time": "2021-12-12T13:36:41.653Z"
   },
   {
    "duration": 3,
    "start_time": "2021-12-12T13:36:48.156Z"
   },
   {
    "duration": 5201,
    "start_time": "2021-12-12T13:36:50.224Z"
   },
   {
    "duration": 8,
    "start_time": "2021-12-12T13:36:57.972Z"
   },
   {
    "duration": 4450,
    "start_time": "2021-12-12T14:03:44.316Z"
   },
   {
    "duration": 8,
    "start_time": "2021-12-12T14:03:48.768Z"
   },
   {
    "duration": 567,
    "start_time": "2021-12-12T14:05:22.292Z"
   },
   {
    "duration": 4,
    "start_time": "2021-12-12T14:06:31.418Z"
   },
   {
    "duration": 59,
    "start_time": "2021-12-12T14:06:32.651Z"
   },
   {
    "duration": 17,
    "start_time": "2021-12-12T14:06:35.803Z"
   },
   {
    "duration": 16,
    "start_time": "2021-12-12T14:06:42.645Z"
   },
   {
    "duration": 34,
    "start_time": "2021-12-12T14:06:48.640Z"
   },
   {
    "duration": 29,
    "start_time": "2021-12-12T14:06:52.996Z"
   },
   {
    "duration": 10,
    "start_time": "2021-12-12T14:06:56.632Z"
   },
   {
    "duration": 4,
    "start_time": "2021-12-12T14:06:57.793Z"
   },
   {
    "duration": 13,
    "start_time": "2021-12-12T14:06:58.924Z"
   },
   {
    "duration": 5,
    "start_time": "2021-12-12T14:07:02.716Z"
   },
   {
    "duration": 15,
    "start_time": "2021-12-12T14:07:04.099Z"
   },
   {
    "duration": 15,
    "start_time": "2021-12-12T14:07:07.291Z"
   },
   {
    "duration": 19,
    "start_time": "2021-12-12T14:07:12.039Z"
   },
   {
    "duration": 6,
    "start_time": "2021-12-12T14:07:14.236Z"
   },
   {
    "duration": 10,
    "start_time": "2021-12-12T14:07:21.063Z"
   },
   {
    "duration": 9,
    "start_time": "2021-12-12T14:07:24.405Z"
   },
   {
    "duration": 5,
    "start_time": "2021-12-12T14:07:28.114Z"
   },
   {
    "duration": 5,
    "start_time": "2021-12-12T14:07:29.195Z"
   },
   {
    "duration": 6,
    "start_time": "2021-12-12T14:07:30.232Z"
   },
   {
    "duration": 7,
    "start_time": "2021-12-12T14:07:31.774Z"
   },
   {
    "duration": 10,
    "start_time": "2021-12-12T14:07:34.749Z"
   },
   {
    "duration": 10,
    "start_time": "2021-12-12T14:07:37.686Z"
   },
   {
    "duration": 6,
    "start_time": "2021-12-12T14:07:40.237Z"
   },
   {
    "duration": 16,
    "start_time": "2021-12-12T14:07:43.846Z"
   },
   {
    "duration": 9,
    "start_time": "2021-12-12T14:07:49.266Z"
   },
   {
    "duration": 6,
    "start_time": "2021-12-12T14:07:52.961Z"
   },
   {
    "duration": 6,
    "start_time": "2021-12-12T14:07:54.439Z"
   },
   {
    "duration": 15,
    "start_time": "2021-12-12T14:07:55.951Z"
   },
   {
    "duration": 10,
    "start_time": "2021-12-12T14:07:59.771Z"
   },
   {
    "duration": 6,
    "start_time": "2021-12-12T14:08:02.249Z"
   },
   {
    "duration": 7,
    "start_time": "2021-12-12T14:08:03.713Z"
   },
   {
    "duration": 6,
    "start_time": "2021-12-12T14:08:08.203Z"
   },
   {
    "duration": 6,
    "start_time": "2021-12-12T14:08:11.413Z"
   },
   {
    "duration": 6,
    "start_time": "2021-12-12T14:08:15.634Z"
   },
   {
    "duration": 6,
    "start_time": "2021-12-12T14:08:16.923Z"
   },
   {
    "duration": 9,
    "start_time": "2021-12-12T14:08:18.360Z"
   },
   {
    "duration": 7,
    "start_time": "2021-12-12T14:08:27.368Z"
   },
   {
    "duration": 18,
    "start_time": "2021-12-12T14:08:32.572Z"
   },
   {
    "duration": 10,
    "start_time": "2021-12-12T14:08:37.071Z"
   },
   {
    "duration": 7,
    "start_time": "2021-12-12T14:08:39.989Z"
   },
   {
    "duration": 3,
    "start_time": "2021-12-12T14:08:47.051Z"
   },
   {
    "duration": 5679,
    "start_time": "2021-12-12T14:08:52.663Z"
   },
   {
    "duration": 9,
    "start_time": "2021-12-12T14:08:58.345Z"
   },
   {
    "duration": 33,
    "start_time": "2021-12-12T14:11:16.719Z"
   },
   {
    "duration": 1381,
    "start_time": "2021-12-12T14:11:19.653Z"
   },
   {
    "duration": 4,
    "start_time": "2021-12-12T14:11:25.814Z"
   },
   {
    "duration": 61,
    "start_time": "2021-12-12T14:11:26.811Z"
   },
   {
    "duration": 18,
    "start_time": "2021-12-12T14:11:28.058Z"
   },
   {
    "duration": 16,
    "start_time": "2021-12-12T14:11:34.399Z"
   },
   {
    "duration": 35,
    "start_time": "2021-12-12T14:11:39.597Z"
   },
   {
    "duration": 43,
    "start_time": "2021-12-12T14:11:42.700Z"
   },
   {
    "duration": 12,
    "start_time": "2021-12-12T14:11:47.360Z"
   },
   {
    "duration": 16,
    "start_time": "2021-12-12T14:11:53.526Z"
   },
   {
    "duration": 4,
    "start_time": "2021-12-12T14:11:54.851Z"
   },
   {
    "duration": 23,
    "start_time": "2021-12-12T14:11:56.717Z"
   },
   {
    "duration": 5,
    "start_time": "2021-12-12T14:12:01.258Z"
   },
   {
    "duration": 14,
    "start_time": "2021-12-12T14:12:02.826Z"
   },
   {
    "duration": 15,
    "start_time": "2021-12-12T14:12:06.792Z"
   },
   {
    "duration": 20,
    "start_time": "2021-12-12T14:12:11.876Z"
   },
   {
    "duration": 6,
    "start_time": "2021-12-12T14:12:16.730Z"
   },
   {
    "duration": 10,
    "start_time": "2021-12-12T14:12:18.816Z"
   },
   {
    "duration": 10,
    "start_time": "2021-12-12T14:12:21.878Z"
   },
   {
    "duration": 5,
    "start_time": "2021-12-12T14:12:25.231Z"
   },
   {
    "duration": 5,
    "start_time": "2021-12-12T14:12:26.261Z"
   },
   {
    "duration": 7,
    "start_time": "2021-12-12T14:12:27.290Z"
   },
   {
    "duration": 7,
    "start_time": "2021-12-12T14:12:29.071Z"
   },
   {
    "duration": 10,
    "start_time": "2021-12-12T14:12:32.690Z"
   },
   {
    "duration": 9,
    "start_time": "2021-12-12T14:12:34.615Z"
   },
   {
    "duration": 7,
    "start_time": "2021-12-12T14:12:39.839Z"
   },
   {
    "duration": 14,
    "start_time": "2021-12-12T14:12:43.633Z"
   },
   {
    "duration": 8,
    "start_time": "2021-12-12T14:12:45.426Z"
   },
   {
    "duration": 7,
    "start_time": "2021-12-12T14:12:46.941Z"
   },
   {
    "duration": 7,
    "start_time": "2021-12-12T14:12:48.177Z"
   },
   {
    "duration": 7,
    "start_time": "2021-12-12T14:12:52.872Z"
   },
   {
    "duration": 14,
    "start_time": "2021-12-12T14:12:54.608Z"
   },
   {
    "duration": 9,
    "start_time": "2021-12-12T14:12:56.373Z"
   },
   {
    "duration": 6,
    "start_time": "2021-12-12T14:12:57.752Z"
   },
   {
    "duration": 7,
    "start_time": "2021-12-12T14:12:59.307Z"
   },
   {
    "duration": 7,
    "start_time": "2021-12-12T14:13:03.273Z"
   },
   {
    "duration": 6,
    "start_time": "2021-12-12T14:13:04.877Z"
   },
   {
    "duration": 18,
    "start_time": "2021-12-12T14:13:06.767Z"
   },
   {
    "duration": 7,
    "start_time": "2021-12-12T14:13:11.549Z"
   },
   {
    "duration": 7,
    "start_time": "2021-12-12T14:13:13.204Z"
   },
   {
    "duration": 7,
    "start_time": "2021-12-12T14:13:14.464Z"
   },
   {
    "duration": 12,
    "start_time": "2021-12-12T14:13:16.234Z"
   },
   {
    "duration": 9,
    "start_time": "2021-12-12T14:13:21.158Z"
   },
   {
    "duration": 20,
    "start_time": "2021-12-12T14:13:25.034Z"
   },
   {
    "duration": 10,
    "start_time": "2021-12-12T14:13:30.650Z"
   },
   {
    "duration": 9,
    "start_time": "2021-12-12T14:13:35.982Z"
   },
   {
    "duration": 4,
    "start_time": "2021-12-12T14:13:41.073Z"
   },
   {
    "duration": 5542,
    "start_time": "2021-12-12T14:13:44.605Z"
   },
   {
    "duration": 8,
    "start_time": "2021-12-12T14:13:50.150Z"
   },
   {
    "duration": 17,
    "start_time": "2021-12-12T14:14:28.074Z"
   },
   {
    "duration": 14,
    "start_time": "2021-12-12T14:14:48.905Z"
   },
   {
    "duration": 420,
    "start_time": "2021-12-12T14:15:15.759Z"
   },
   {
    "duration": 20,
    "start_time": "2021-12-12T14:15:42.580Z"
   },
   {
    "duration": 17,
    "start_time": "2021-12-12T14:27:39.687Z"
   },
   {
    "duration": 18,
    "start_time": "2021-12-12T14:28:10.640Z"
   },
   {
    "duration": 112,
    "start_time": "2021-12-12T15:08:02.248Z"
   },
   {
    "duration": 282,
    "start_time": "2021-12-12T15:08:07.956Z"
   },
   {
    "duration": 86,
    "start_time": "2021-12-12T15:22:31.876Z"
   },
   {
    "duration": 7299,
    "start_time": "2021-12-12T15:24:30.651Z"
   },
   {
    "duration": 26,
    "start_time": "2021-12-12T15:24:38.327Z"
   },
   {
    "duration": 29,
    "start_time": "2021-12-12T15:25:17.425Z"
   },
   {
    "duration": 7217,
    "start_time": "2021-12-12T15:25:55.031Z"
   },
   {
    "duration": 32,
    "start_time": "2021-12-12T15:26:20.248Z"
   },
   {
    "duration": 18,
    "start_time": "2021-12-12T15:26:59.733Z"
   },
   {
    "duration": 21,
    "start_time": "2021-12-12T15:27:29.500Z"
   },
   {
    "duration": 18,
    "start_time": "2021-12-12T15:27:55.594Z"
   },
   {
    "duration": 12,
    "start_time": "2021-12-12T15:28:45.974Z"
   },
   {
    "duration": 11,
    "start_time": "2021-12-12T15:29:16.774Z"
   },
   {
    "duration": 412,
    "start_time": "2021-12-12T15:30:00.027Z"
   },
   {
    "duration": 300,
    "start_time": "2021-12-12T15:30:11.118Z"
   },
   {
    "duration": 8,
    "start_time": "2021-12-12T15:30:33.406Z"
   },
   {
    "duration": 11,
    "start_time": "2021-12-12T15:30:51.547Z"
   },
   {
    "duration": 8,
    "start_time": "2021-12-12T15:31:11.928Z"
   },
   {
    "duration": 16,
    "start_time": "2021-12-12T15:31:46.819Z"
   },
   {
    "duration": 6,
    "start_time": "2021-12-12T15:31:49.435Z"
   },
   {
    "duration": 12,
    "start_time": "2021-12-12T15:32:02.868Z"
   },
   {
    "duration": 9,
    "start_time": "2021-12-12T15:32:09.645Z"
   },
   {
    "duration": 11,
    "start_time": "2021-12-12T15:36:34.497Z"
   },
   {
    "duration": 8,
    "start_time": "2021-12-12T15:36:45.240Z"
   },
   {
    "duration": 468,
    "start_time": "2021-12-12T15:38:36.513Z"
   },
   {
    "duration": 432,
    "start_time": "2021-12-12T15:38:52.656Z"
   },
   {
    "duration": 89,
    "start_time": "2021-12-12T15:39:12.257Z"
   },
   {
    "duration": 533,
    "start_time": "2021-12-12T15:39:17.546Z"
   },
   {
    "duration": 1048,
    "start_time": "2021-12-12T15:39:27.389Z"
   },
   {
    "duration": 557,
    "start_time": "2021-12-12T15:39:46.768Z"
   },
   {
    "duration": 422,
    "start_time": "2021-12-12T15:40:42.491Z"
   },
   {
    "duration": 485,
    "start_time": "2021-12-12T15:40:48.596Z"
   },
   {
    "duration": 462,
    "start_time": "2021-12-12T15:41:08.476Z"
   },
   {
    "duration": 482,
    "start_time": "2021-12-12T15:41:14.591Z"
   },
   {
    "duration": 88,
    "start_time": "2021-12-12T15:42:12.356Z"
   },
   {
    "duration": 1825,
    "start_time": "2021-12-12T15:42:18.304Z"
   },
   {
    "duration": 1769,
    "start_time": "2021-12-12T15:42:46.123Z"
   },
   {
    "duration": 10,
    "start_time": "2021-12-12T15:42:58.698Z"
   },
   {
    "duration": 1860,
    "start_time": "2021-12-12T15:43:30.159Z"
   },
   {
    "duration": 1902,
    "start_time": "2021-12-12T15:43:32.023Z"
   },
   {
    "duration": 9,
    "start_time": "2021-12-12T15:43:33.928Z"
   },
   {
    "duration": 9,
    "start_time": "2021-12-12T15:45:07.237Z"
   },
   {
    "duration": 5,
    "start_time": "2021-12-12T15:52:24.893Z"
   },
   {
    "duration": 9,
    "start_time": "2021-12-12T15:53:34.804Z"
   },
   {
    "duration": 18,
    "start_time": "2021-12-12T15:53:51.613Z"
   },
   {
    "duration": 18,
    "start_time": "2021-12-12T15:53:55.954Z"
   },
   {
    "duration": 26,
    "start_time": "2021-12-12T15:55:05.471Z"
   },
   {
    "duration": 13,
    "start_time": "2021-12-12T15:55:32.087Z"
   },
   {
    "duration": 16,
    "start_time": "2021-12-12T15:56:15.845Z"
   },
   {
    "duration": 15,
    "start_time": "2021-12-12T15:56:22.251Z"
   },
   {
    "duration": 15,
    "start_time": "2021-12-12T15:56:45.475Z"
   },
   {
    "duration": 3,
    "start_time": "2021-12-12T15:57:40.370Z"
   },
   {
    "duration": 23,
    "start_time": "2021-12-12T15:57:43.490Z"
   },
   {
    "duration": 15,
    "start_time": "2021-12-12T15:57:50.639Z"
   },
   {
    "duration": 8,
    "start_time": "2021-12-12T15:58:16.521Z"
   },
   {
    "duration": 7,
    "start_time": "2021-12-12T16:06:42.614Z"
   },
   {
    "duration": 9,
    "start_time": "2021-12-12T16:09:15.677Z"
   },
   {
    "duration": 270,
    "start_time": "2021-12-12T16:10:29.683Z"
   },
   {
    "duration": 283,
    "start_time": "2021-12-12T16:10:44.324Z"
   },
   {
    "duration": 281,
    "start_time": "2021-12-12T16:10:49.163Z"
   },
   {
    "duration": 292,
    "start_time": "2021-12-12T16:11:49.541Z"
   },
   {
    "duration": 9,
    "start_time": "2021-12-12T16:11:59.987Z"
   },
   {
    "duration": 23,
    "start_time": "2021-12-12T16:12:41.519Z"
   },
   {
    "duration": 13,
    "start_time": "2021-12-12T16:13:07.138Z"
   },
   {
    "duration": 770,
    "start_time": "2021-12-13T08:39:48.611Z"
   },
   {
    "duration": 65,
    "start_time": "2021-12-13T08:39:50.186Z"
   },
   {
    "duration": 28,
    "start_time": "2021-12-13T08:39:51.810Z"
   },
   {
    "duration": 14,
    "start_time": "2021-12-13T08:39:59.325Z"
   },
   {
    "duration": 49,
    "start_time": "2021-12-13T08:40:04.574Z"
   },
   {
    "duration": 32,
    "start_time": "2021-12-13T08:40:08.878Z"
   },
   {
    "duration": 16,
    "start_time": "2021-12-13T08:40:13.745Z"
   },
   {
    "duration": 6,
    "start_time": "2021-12-13T08:40:15.470Z"
   },
   {
    "duration": 14,
    "start_time": "2021-12-13T08:40:17.426Z"
   },
   {
    "duration": 5,
    "start_time": "2021-12-13T08:40:21.851Z"
   },
   {
    "duration": 14,
    "start_time": "2021-12-13T08:40:23.779Z"
   },
   {
    "duration": 17,
    "start_time": "2021-12-13T08:40:27.566Z"
   },
   {
    "duration": 21,
    "start_time": "2021-12-13T08:40:31.638Z"
   },
   {
    "duration": 8,
    "start_time": "2021-12-13T08:40:35.967Z"
   },
   {
    "duration": 13,
    "start_time": "2021-12-13T08:40:38.101Z"
   },
   {
    "duration": 11,
    "start_time": "2021-12-13T08:40:41.664Z"
   },
   {
    "duration": 5,
    "start_time": "2021-12-13T08:40:43.782Z"
   },
   {
    "duration": 6,
    "start_time": "2021-12-13T08:40:47.173Z"
   },
   {
    "duration": 6,
    "start_time": "2021-12-13T08:40:48.644Z"
   },
   {
    "duration": 6,
    "start_time": "2021-12-13T08:40:50.326Z"
   },
   {
    "duration": 10,
    "start_time": "2021-12-13T08:40:52.469Z"
   },
   {
    "duration": 10,
    "start_time": "2021-12-13T08:40:56.296Z"
   },
   {
    "duration": 6,
    "start_time": "2021-12-13T08:40:59.185Z"
   },
   {
    "duration": 16,
    "start_time": "2021-12-13T08:41:03.689Z"
   },
   {
    "duration": 9,
    "start_time": "2021-12-13T08:41:05.294Z"
   },
   {
    "duration": 6,
    "start_time": "2021-12-13T08:41:06.836Z"
   },
   {
    "duration": 8,
    "start_time": "2021-12-13T08:41:08.187Z"
   },
   {
    "duration": 17,
    "start_time": "2021-12-13T08:41:12.919Z"
   },
   {
    "duration": 10,
    "start_time": "2021-12-13T08:41:14.290Z"
   },
   {
    "duration": 6,
    "start_time": "2021-12-13T08:41:15.783Z"
   },
   {
    "duration": 7,
    "start_time": "2021-12-13T08:41:18.141Z"
   },
   {
    "duration": 17,
    "start_time": "2021-12-13T08:41:25.559Z"
   },
   {
    "duration": 7,
    "start_time": "2021-12-13T08:41:27.340Z"
   },
   {
    "duration": 7,
    "start_time": "2021-12-13T08:41:31.437Z"
   },
   {
    "duration": 7,
    "start_time": "2021-12-13T08:41:33.068Z"
   },
   {
    "duration": 11,
    "start_time": "2021-12-13T08:41:34.797Z"
   },
   {
    "duration": 8,
    "start_time": "2021-12-13T08:41:38.852Z"
   },
   {
    "duration": 21,
    "start_time": "2021-12-13T08:41:44.132Z"
   },
   {
    "duration": 11,
    "start_time": "2021-12-13T08:41:48.457Z"
   },
   {
    "duration": 8,
    "start_time": "2021-12-13T08:41:50.672Z"
   },
   {
    "duration": 8,
    "start_time": "2021-12-13T08:41:55.323Z"
   },
   {
    "duration": 6475,
    "start_time": "2021-12-13T08:41:59.658Z"
   },
   {
    "duration": 8,
    "start_time": "2021-12-13T08:42:06.136Z"
   },
   {
    "duration": 30,
    "start_time": "2021-12-13T08:42:06.423Z"
   },
   {
    "duration": 9,
    "start_time": "2021-12-13T08:42:11.564Z"
   },
   {
    "duration": 4,
    "start_time": "2021-12-13T08:42:17.754Z"
   },
   {
    "duration": 25,
    "start_time": "2021-12-13T08:42:19.996Z"
   },
   {
    "duration": 31,
    "start_time": "2021-12-13T08:42:25.878Z"
   },
   {
    "duration": 11,
    "start_time": "2021-12-13T08:42:35.945Z"
   },
   {
    "duration": 15,
    "start_time": "2021-12-13T08:42:41.242Z"
   },
   {
    "duration": 16,
    "start_time": "2021-12-13T08:43:26.612Z"
   },
   {
    "duration": 13,
    "start_time": "2021-12-13T08:50:09.092Z"
   },
   {
    "duration": 972,
    "start_time": "2021-12-13T08:50:16.469Z"
   },
   {
    "duration": 13,
    "start_time": "2021-12-13T08:52:09.143Z"
   },
   {
    "duration": 266,
    "start_time": "2021-12-13T08:52:17.827Z"
   },
   {
    "duration": 8,
    "start_time": "2021-12-13T08:53:53.702Z"
   },
   {
    "duration": 269,
    "start_time": "2021-12-13T08:54:01.164Z"
   },
   {
    "duration": 12,
    "start_time": "2021-12-13T08:54:18.666Z"
   },
   {
    "duration": 16,
    "start_time": "2021-12-13T08:54:29.074Z"
   },
   {
    "duration": 260,
    "start_time": "2021-12-13T08:54:34.640Z"
   },
   {
    "duration": 14,
    "start_time": "2021-12-13T09:12:30.794Z"
   },
   {
    "duration": 8,
    "start_time": "2021-12-13T09:45:35.772Z"
   },
   {
    "duration": 37,
    "start_time": "2021-12-13T09:46:37.282Z"
   },
   {
    "duration": 5,
    "start_time": "2021-12-13T09:55:18.297Z"
   },
   {
    "duration": 27,
    "start_time": "2021-12-13T09:56:05.008Z"
   },
   {
    "duration": 40,
    "start_time": "2021-12-13T09:56:19.095Z"
   },
   {
    "duration": 43,
    "start_time": "2021-12-13T09:57:01.620Z"
   },
   {
    "duration": 31,
    "start_time": "2021-12-13T09:58:10.654Z"
   },
   {
    "duration": 21,
    "start_time": "2021-12-13T09:58:45.131Z"
   },
   {
    "duration": 14,
    "start_time": "2021-12-13T10:00:30.937Z"
   },
   {
    "duration": 14,
    "start_time": "2021-12-13T10:02:18.785Z"
   },
   {
    "duration": 15,
    "start_time": "2021-12-13T10:02:41.905Z"
   },
   {
    "duration": 99,
    "start_time": "2021-12-13T10:27:29.408Z"
   },
   {
    "duration": 8650,
    "start_time": "2021-12-13T10:27:57.077Z"
   },
   {
    "duration": 7583,
    "start_time": "2021-12-13T10:29:16.590Z"
   },
   {
    "duration": 4,
    "start_time": "2021-12-13T12:33:48.428Z"
   },
   {
    "duration": 73,
    "start_time": "2021-12-13T12:33:49.762Z"
   },
   {
    "duration": 18,
    "start_time": "2021-12-13T12:33:52.849Z"
   },
   {
    "duration": 19,
    "start_time": "2021-12-13T12:34:01.199Z"
   },
   {
    "duration": 37,
    "start_time": "2021-12-13T12:34:10.198Z"
   },
   {
    "duration": 14,
    "start_time": "2021-12-13T12:34:22.578Z"
   },
   {
    "duration": 5,
    "start_time": "2021-12-13T12:34:26.992Z"
   },
   {
    "duration": 6,
    "start_time": "2021-12-13T12:34:32.077Z"
   },
   {
    "duration": 14,
    "start_time": "2021-12-13T12:34:33.843Z"
   },
   {
    "duration": 23,
    "start_time": "2021-12-13T12:34:37.309Z"
   },
   {
    "duration": 27,
    "start_time": "2021-12-13T12:34:42.780Z"
   },
   {
    "duration": 8,
    "start_time": "2021-12-13T12:34:48.066Z"
   },
   {
    "duration": 11,
    "start_time": "2021-12-13T12:34:49.694Z"
   },
   {
    "duration": 11,
    "start_time": "2021-12-13T12:34:53.186Z"
   },
   {
    "duration": 9,
    "start_time": "2021-12-13T12:35:01.474Z"
   },
   {
    "duration": 6,
    "start_time": "2021-12-13T12:35:02.590Z"
   },
   {
    "duration": 6,
    "start_time": "2021-12-13T12:35:03.867Z"
   },
   {
    "duration": 6,
    "start_time": "2021-12-13T12:35:07.398Z"
   },
   {
    "duration": 11,
    "start_time": "2021-12-13T12:35:09.186Z"
   },
   {
    "duration": 10,
    "start_time": "2021-12-13T12:35:13.929Z"
   },
   {
    "duration": 8,
    "start_time": "2021-12-13T12:35:21.264Z"
   },
   {
    "duration": 16,
    "start_time": "2021-12-13T12:35:24.464Z"
   },
   {
    "duration": 9,
    "start_time": "2021-12-13T12:35:26.825Z"
   },
   {
    "duration": 7,
    "start_time": "2021-12-13T12:35:31.647Z"
   },
   {
    "duration": 7,
    "start_time": "2021-12-13T12:35:32.730Z"
   },
   {
    "duration": 17,
    "start_time": "2021-12-13T12:35:33.629Z"
   },
   {
    "duration": 13,
    "start_time": "2021-12-13T12:35:34.604Z"
   },
   {
    "duration": 8,
    "start_time": "2021-12-13T12:35:37.664Z"
   },
   {
    "duration": 6,
    "start_time": "2021-12-13T12:35:38.872Z"
   },
   {
    "duration": 19,
    "start_time": "2021-12-13T12:35:40.182Z"
   },
   {
    "duration": 8,
    "start_time": "2021-12-13T12:35:44.167Z"
   },
   {
    "duration": 6,
    "start_time": "2021-12-13T12:35:45.232Z"
   },
   {
    "duration": 8,
    "start_time": "2021-12-13T12:35:46.110Z"
   },
   {
    "duration": 11,
    "start_time": "2021-12-13T12:35:48.707Z"
   },
   {
    "duration": 11,
    "start_time": "2021-12-13T12:35:50.970Z"
   },
   {
    "duration": 25,
    "start_time": "2021-12-13T12:35:53.369Z"
   },
   {
    "duration": 11,
    "start_time": "2021-12-13T12:35:55.941Z"
   },
   {
    "duration": 7,
    "start_time": "2021-12-13T12:35:57.332Z"
   },
   {
    "duration": 25,
    "start_time": "2021-12-13T12:36:03.336Z"
   },
   {
    "duration": 5948,
    "start_time": "2021-12-13T12:36:04.342Z"
   },
   {
    "duration": 10,
    "start_time": "2021-12-13T12:36:10.294Z"
   },
   {
    "duration": 17,
    "start_time": "2021-12-13T12:36:10.306Z"
   },
   {
    "duration": 20,
    "start_time": "2021-12-13T12:36:12.437Z"
   },
   {
    "duration": 10,
    "start_time": "2021-12-13T12:36:17.398Z"
   },
   {
    "duration": 6,
    "start_time": "2021-12-13T12:36:22.893Z"
   },
   {
    "duration": 28,
    "start_time": "2021-12-13T12:36:26.058Z"
   },
   {
    "duration": 5,
    "start_time": "2021-12-13T12:36:32.337Z"
   },
   {
    "duration": 35,
    "start_time": "2021-12-13T12:36:35.115Z"
   },
   {
    "duration": 18,
    "start_time": "2021-12-13T12:36:39.998Z"
   },
   {
    "duration": 8,
    "start_time": "2021-12-13T12:36:44.917Z"
   },
   {
    "duration": 10,
    "start_time": "2021-12-13T12:36:46.527Z"
   },
   {
    "duration": 17,
    "start_time": "2021-12-13T12:36:50.519Z"
   },
   {
    "duration": 17,
    "start_time": "2021-12-13T12:37:00.258Z"
   },
   {
    "duration": 15,
    "start_time": "2021-12-13T12:37:08.493Z"
   },
   {
    "duration": 3029,
    "start_time": "2021-12-14T07:35:35.571Z"
   },
   {
    "duration": 54,
    "start_time": "2021-12-14T07:35:38.602Z"
   },
   {
    "duration": 18,
    "start_time": "2021-12-14T07:35:38.658Z"
   },
   {
    "duration": 11,
    "start_time": "2021-12-14T07:35:38.678Z"
   },
   {
    "duration": 30,
    "start_time": "2021-12-14T07:35:38.691Z"
   },
   {
    "duration": 7,
    "start_time": "2021-12-14T07:35:38.722Z"
   },
   {
    "duration": 3,
    "start_time": "2021-12-14T07:35:38.730Z"
   },
   {
    "duration": 10,
    "start_time": "2021-12-14T07:35:38.736Z"
   },
   {
    "duration": 3,
    "start_time": "2021-12-14T07:35:38.748Z"
   },
   {
    "duration": 13,
    "start_time": "2021-12-14T07:35:38.752Z"
   },
   {
    "duration": 40,
    "start_time": "2021-12-14T07:35:38.767Z"
   },
   {
    "duration": 14,
    "start_time": "2021-12-14T07:35:38.809Z"
   },
   {
    "duration": 4,
    "start_time": "2021-12-14T07:35:38.824Z"
   },
   {
    "duration": 8,
    "start_time": "2021-12-14T07:35:38.830Z"
   },
   {
    "duration": 9,
    "start_time": "2021-12-14T07:35:38.840Z"
   },
   {
    "duration": 5,
    "start_time": "2021-12-14T07:35:38.851Z"
   },
   {
    "duration": 5,
    "start_time": "2021-12-14T07:35:38.858Z"
   },
   {
    "duration": 8,
    "start_time": "2021-12-14T07:35:38.864Z"
   },
   {
    "duration": 34,
    "start_time": "2021-12-14T07:35:38.873Z"
   },
   {
    "duration": 6,
    "start_time": "2021-12-14T07:35:38.909Z"
   },
   {
    "duration": 7,
    "start_time": "2021-12-14T07:35:38.917Z"
   },
   {
    "duration": 4,
    "start_time": "2021-12-14T07:35:38.926Z"
   },
   {
    "duration": 9,
    "start_time": "2021-12-14T07:35:38.934Z"
   },
   {
    "duration": 8,
    "start_time": "2021-12-14T07:35:38.945Z"
   },
   {
    "duration": 4,
    "start_time": "2021-12-14T07:35:38.954Z"
   },
   {
    "duration": 8,
    "start_time": "2021-12-14T07:35:38.959Z"
   },
   {
    "duration": 47,
    "start_time": "2021-12-14T07:35:38.968Z"
   },
   {
    "duration": 8,
    "start_time": "2021-12-14T07:35:39.017Z"
   },
   {
    "duration": 4,
    "start_time": "2021-12-14T07:35:39.027Z"
   },
   {
    "duration": 6,
    "start_time": "2021-12-14T07:35:39.032Z"
   },
   {
    "duration": 13,
    "start_time": "2021-12-14T07:35:39.040Z"
   },
   {
    "duration": 6,
    "start_time": "2021-12-14T07:35:39.055Z"
   },
   {
    "duration": 6,
    "start_time": "2021-12-14T07:35:39.062Z"
   },
   {
    "duration": 5,
    "start_time": "2021-12-14T07:35:39.107Z"
   },
   {
    "duration": 10,
    "start_time": "2021-12-14T07:35:39.114Z"
   },
   {
    "duration": 5,
    "start_time": "2021-12-14T07:35:39.126Z"
   },
   {
    "duration": 13,
    "start_time": "2021-12-14T07:35:39.132Z"
   },
   {
    "duration": 8,
    "start_time": "2021-12-14T07:35:39.146Z"
   },
   {
    "duration": 8,
    "start_time": "2021-12-14T07:35:39.155Z"
   },
   {
    "duration": 4,
    "start_time": "2021-12-14T07:35:39.165Z"
   },
   {
    "duration": 3915,
    "start_time": "2021-12-14T07:35:39.207Z"
   },
   {
    "duration": 5,
    "start_time": "2021-12-14T07:35:43.124Z"
   },
   {
    "duration": 11,
    "start_time": "2021-12-14T07:35:43.131Z"
   },
   {
    "duration": 14,
    "start_time": "2021-12-14T07:35:43.143Z"
   },
   {
    "duration": 6,
    "start_time": "2021-12-14T07:35:43.159Z"
   },
   {
    "duration": 3,
    "start_time": "2021-12-14T07:35:43.166Z"
   },
   {
    "duration": 45,
    "start_time": "2021-12-14T07:35:43.171Z"
   },
   {
    "duration": 3,
    "start_time": "2021-12-14T07:35:43.217Z"
   },
   {
    "duration": 21,
    "start_time": "2021-12-14T07:35:43.222Z"
   },
   {
    "duration": 20,
    "start_time": "2021-12-14T07:35:43.244Z"
   },
   {
    "duration": 41,
    "start_time": "2021-12-14T07:35:43.266Z"
   },
   {
    "duration": 5,
    "start_time": "2021-12-14T07:35:43.308Z"
   },
   {
    "duration": 7,
    "start_time": "2021-12-14T07:35:43.315Z"
   },
   {
    "duration": 9,
    "start_time": "2021-12-14T07:35:43.324Z"
   },
   {
    "duration": 8,
    "start_time": "2021-12-14T07:35:43.335Z"
   },
   {
    "duration": 10,
    "start_time": "2021-12-14T07:35:43.345Z"
   },
   {
    "duration": 320,
    "start_time": "2021-12-14T16:52:20.096Z"
   },
   {
    "duration": 739,
    "start_time": "2021-12-14T16:52:46.714Z"
   },
   {
    "duration": 65,
    "start_time": "2021-12-14T16:52:47.923Z"
   },
   {
    "duration": 28,
    "start_time": "2021-12-14T16:52:49.475Z"
   },
   {
    "duration": 16,
    "start_time": "2021-12-14T16:52:54.824Z"
   },
   {
    "duration": 19,
    "start_time": "2021-12-14T16:53:40.755Z"
   },
   {
    "duration": 46,
    "start_time": "2021-12-14T16:53:45.262Z"
   },
   {
    "duration": 395,
    "start_time": "2021-12-14T17:13:04.947Z"
   },
   {
    "duration": 240,
    "start_time": "2021-12-14T17:13:56.319Z"
   },
   {
    "duration": 11,
    "start_time": "2021-12-14T17:16:41.420Z"
   },
   {
    "duration": 18,
    "start_time": "2021-12-14T17:17:03.224Z"
   },
   {
    "duration": 12,
    "start_time": "2021-12-14T17:17:21.203Z"
   },
   {
    "duration": 16,
    "start_time": "2021-12-14T17:22:27.709Z"
   },
   {
    "duration": 4,
    "start_time": "2021-12-14T17:22:56.308Z"
   },
   {
    "duration": 61,
    "start_time": "2021-12-14T17:22:56.906Z"
   },
   {
    "duration": 17,
    "start_time": "2021-12-14T17:22:57.446Z"
   },
   {
    "duration": 22,
    "start_time": "2021-12-14T17:23:03.895Z"
   },
   {
    "duration": 63,
    "start_time": "2021-12-14T17:23:10.260Z"
   },
   {
    "duration": 31,
    "start_time": "2021-12-14T17:23:17.134Z"
   },
   {
    "duration": 11,
    "start_time": "2021-12-14T17:23:21.503Z"
   },
   {
    "duration": 405,
    "start_time": "2021-12-14T17:24:28.755Z"
   },
   {
    "duration": 101,
    "start_time": "2021-12-14T17:24:53.298Z"
   },
   {
    "duration": 13,
    "start_time": "2021-12-14T17:25:11.967Z"
   },
   {
    "duration": 10,
    "start_time": "2021-12-14T17:28:52.564Z"
   },
   {
    "duration": 16,
    "start_time": "2021-12-14T17:28:57.977Z"
   },
   {
    "duration": 3,
    "start_time": "2021-12-14T17:30:17.007Z"
   },
   {
    "duration": 65,
    "start_time": "2021-12-14T17:30:18.255Z"
   },
   {
    "duration": 18,
    "start_time": "2021-12-14T17:30:19.659Z"
   },
   {
    "duration": 17,
    "start_time": "2021-12-14T17:30:26.600Z"
   },
   {
    "duration": 47,
    "start_time": "2021-12-14T17:30:30.200Z"
   },
   {
    "duration": 34,
    "start_time": "2021-12-14T17:30:34.814Z"
   },
   {
    "duration": 14,
    "start_time": "2021-12-14T17:30:39.083Z"
   },
   {
    "duration": 10,
    "start_time": "2021-12-14T17:30:45.766Z"
   },
   {
    "duration": 11,
    "start_time": "2021-12-14T17:30:47.796Z"
   },
   {
    "duration": 15,
    "start_time": "2021-12-14T17:31:04.865Z"
   },
   {
    "duration": 253,
    "start_time": "2021-12-14T17:32:50.442Z"
   },
   {
    "duration": 12,
    "start_time": "2021-12-14T17:33:04.230Z"
   },
   {
    "duration": 15,
    "start_time": "2021-12-14T17:33:07.589Z"
   },
   {
    "duration": 6,
    "start_time": "2021-12-14T17:34:01.551Z"
   },
   {
    "duration": 5,
    "start_time": "2021-12-14T17:34:17.186Z"
   },
   {
    "duration": 3,
    "start_time": "2021-12-14T17:34:48.617Z"
   },
   {
    "duration": 62,
    "start_time": "2021-12-14T17:34:49.248Z"
   },
   {
    "duration": 18,
    "start_time": "2021-12-14T17:34:50.108Z"
   },
   {
    "duration": 15,
    "start_time": "2021-12-14T17:34:56.305Z"
   },
   {
    "duration": 45,
    "start_time": "2021-12-14T17:34:57.793Z"
   },
   {
    "duration": 34,
    "start_time": "2021-12-14T17:35:05.587Z"
   },
   {
    "duration": 11,
    "start_time": "2021-12-14T17:35:09.899Z"
   },
   {
    "duration": 9,
    "start_time": "2021-12-14T17:35:18.031Z"
   },
   {
    "duration": 12,
    "start_time": "2021-12-14T17:35:19.824Z"
   },
   {
    "duration": 14,
    "start_time": "2021-12-14T17:35:21.862Z"
   },
   {
    "duration": 12,
    "start_time": "2021-12-14T17:35:28.705Z"
   },
   {
    "duration": 15,
    "start_time": "2021-12-14T17:35:30.990Z"
   },
   {
    "duration": 5,
    "start_time": "2021-12-14T17:35:42.314Z"
   },
   {
    "duration": 15,
    "start_time": "2021-12-14T17:35:49.590Z"
   },
   {
    "duration": 16,
    "start_time": "2021-12-14T17:35:54.594Z"
   },
   {
    "duration": 20,
    "start_time": "2021-12-14T17:35:59.751Z"
   },
   {
    "duration": 5,
    "start_time": "2021-12-14T17:36:01.817Z"
   },
   {
    "duration": 7,
    "start_time": "2021-12-14T17:36:04.430Z"
   },
   {
    "duration": 7,
    "start_time": "2021-12-14T17:36:24.655Z"
   },
   {
    "duration": 5,
    "start_time": "2021-12-14T17:38:01.693Z"
   },
   {
    "duration": 5,
    "start_time": "2021-12-14T17:38:02.951Z"
   },
   {
    "duration": 7,
    "start_time": "2021-12-14T17:38:07.844Z"
   },
   {
    "duration": 6,
    "start_time": "2021-12-14T17:38:09.465Z"
   },
   {
    "duration": 9,
    "start_time": "2021-12-14T17:38:10.984Z"
   },
   {
    "duration": 7,
    "start_time": "2021-12-14T17:40:11.809Z"
   },
   {
    "duration": 7,
    "start_time": "2021-12-14T17:41:30.165Z"
   },
   {
    "duration": 15,
    "start_time": "2021-12-14T17:41:33.566Z"
   },
   {
    "duration": 10,
    "start_time": "2021-12-14T17:41:34.486Z"
   },
   {
    "duration": 7,
    "start_time": "2021-12-14T17:41:39.724Z"
   },
   {
    "duration": 8,
    "start_time": "2021-12-14T17:41:41.015Z"
   },
   {
    "duration": 18,
    "start_time": "2021-12-14T17:41:48.562Z"
   },
   {
    "duration": 11,
    "start_time": "2021-12-14T17:41:51.032Z"
   },
   {
    "duration": 6,
    "start_time": "2021-12-14T17:42:05.441Z"
   },
   {
    "duration": 9,
    "start_time": "2021-12-14T17:42:07.195Z"
   },
   {
    "duration": 18,
    "start_time": "2021-12-14T17:42:11.890Z"
   },
   {
    "duration": 7,
    "start_time": "2021-12-14T17:42:19.107Z"
   },
   {
    "duration": 6,
    "start_time": "2021-12-14T17:42:23.911Z"
   },
   {
    "duration": 7,
    "start_time": "2021-12-14T17:42:35.471Z"
   },
   {
    "duration": 10,
    "start_time": "2021-12-14T17:42:40.109Z"
   },
   {
    "duration": 8,
    "start_time": "2021-12-14T17:42:47.071Z"
   },
   {
    "duration": 8,
    "start_time": "2021-12-14T17:46:44.738Z"
   },
   {
    "duration": 86,
    "start_time": "2021-12-14T17:46:56.317Z"
   },
   {
    "duration": 5674,
    "start_time": "2021-12-14T17:47:00.481Z"
   },
   {
    "duration": 7,
    "start_time": "2021-12-14T17:47:06.158Z"
   },
   {
    "duration": 8,
    "start_time": "2021-12-14T17:47:06.915Z"
   },
   {
    "duration": 4,
    "start_time": "2021-12-14T17:48:18.653Z"
   },
   {
    "duration": 61,
    "start_time": "2021-12-14T17:48:19.392Z"
   },
   {
    "duration": 19,
    "start_time": "2021-12-14T17:48:20.102Z"
   },
   {
    "duration": 15,
    "start_time": "2021-12-14T17:48:27.047Z"
   },
   {
    "duration": 47,
    "start_time": "2021-12-14T17:48:30.679Z"
   },
   {
    "duration": 34,
    "start_time": "2021-12-14T17:48:37.096Z"
   },
   {
    "duration": 12,
    "start_time": "2021-12-14T17:48:41.679Z"
   },
   {
    "duration": 10,
    "start_time": "2021-12-14T17:48:46.328Z"
   },
   {
    "duration": 11,
    "start_time": "2021-12-14T17:48:47.731Z"
   },
   {
    "duration": 19,
    "start_time": "2021-12-14T17:48:48.895Z"
   },
   {
    "duration": 13,
    "start_time": "2021-12-14T17:48:50.691Z"
   },
   {
    "duration": 18,
    "start_time": "2021-12-14T17:48:51.555Z"
   },
   {
    "duration": 5,
    "start_time": "2021-12-14T17:48:56.015Z"
   },
   {
    "duration": 17,
    "start_time": "2021-12-14T17:48:57.066Z"
   },
   {
    "duration": 16,
    "start_time": "2021-12-14T17:48:58.068Z"
   },
   {
    "duration": 21,
    "start_time": "2021-12-14T17:49:06.716Z"
   },
   {
    "duration": 5,
    "start_time": "2021-12-14T17:49:09.025Z"
   },
   {
    "duration": 7,
    "start_time": "2021-12-14T17:49:09.916Z"
   },
   {
    "duration": 7,
    "start_time": "2021-12-14T17:49:12.165Z"
   },
   {
    "duration": 4,
    "start_time": "2021-12-14T17:49:21.190Z"
   },
   {
    "duration": 6,
    "start_time": "2021-12-14T17:49:21.863Z"
   },
   {
    "duration": 7,
    "start_time": "2021-12-14T17:49:22.450Z"
   },
   {
    "duration": 6,
    "start_time": "2021-12-14T17:49:23.432Z"
   },
   {
    "duration": 8,
    "start_time": "2021-12-14T17:49:24.427Z"
   },
   {
    "duration": 10,
    "start_time": "2021-12-14T17:49:28.975Z"
   },
   {
    "duration": 6,
    "start_time": "2021-12-14T17:49:33.081Z"
   },
   {
    "duration": 15,
    "start_time": "2021-12-14T17:49:34.577Z"
   },
   {
    "duration": 8,
    "start_time": "2021-12-14T17:49:35.283Z"
   },
   {
    "duration": 7,
    "start_time": "2021-12-14T17:49:36.292Z"
   },
   {
    "duration": 7,
    "start_time": "2021-12-14T17:49:37.511Z"
   },
   {
    "duration": 18,
    "start_time": "2021-12-14T17:49:38.097Z"
   },
   {
    "duration": 10,
    "start_time": "2021-12-14T17:49:38.968Z"
   },
   {
    "duration": 7,
    "start_time": "2021-12-14T17:49:39.673Z"
   },
   {
    "duration": 7,
    "start_time": "2021-12-14T17:49:40.588Z"
   },
   {
    "duration": 17,
    "start_time": "2021-12-14T17:49:42.021Z"
   },
   {
    "duration": 7,
    "start_time": "2021-12-14T17:49:43.767Z"
   },
   {
    "duration": 6,
    "start_time": "2021-12-14T17:49:45.034Z"
   },
   {
    "duration": 7,
    "start_time": "2021-12-14T17:49:46.271Z"
   },
   {
    "duration": 11,
    "start_time": "2021-12-14T17:49:47.137Z"
   },
   {
    "duration": 10,
    "start_time": "2021-12-14T17:49:51.950Z"
   },
   {
    "duration": 121,
    "start_time": "2021-12-14T17:51:07.652Z"
   },
   {
    "duration": 6,
    "start_time": "2021-12-14T17:51:15.432Z"
   },
   {
    "duration": 8,
    "start_time": "2021-12-14T17:51:26.027Z"
   },
   {
    "duration": 8,
    "start_time": "2021-12-14T17:53:13.217Z"
   },
   {
    "duration": 24,
    "start_time": "2021-12-14T17:53:32.829Z"
   },
   {
    "duration": 5503,
    "start_time": "2021-12-14T17:53:41.150Z"
   },
   {
    "duration": 8,
    "start_time": "2021-12-14T17:53:51.858Z"
   },
   {
    "duration": 17,
    "start_time": "2021-12-14T17:53:57.869Z"
   },
   {
    "duration": 22,
    "start_time": "2021-12-14T17:53:59.550Z"
   },
   {
    "duration": 8,
    "start_time": "2021-12-14T17:54:07.713Z"
   },
   {
    "duration": 4,
    "start_time": "2021-12-14T17:54:15.542Z"
   },
   {
    "duration": 25,
    "start_time": "2021-12-14T17:55:35.173Z"
   },
   {
    "duration": 4,
    "start_time": "2021-12-14T17:56:29.383Z"
   },
   {
    "duration": 23,
    "start_time": "2021-12-14T17:58:53.310Z"
   },
   {
    "duration": 5,
    "start_time": "2021-12-14T18:02:22.630Z"
   },
   {
    "duration": 29,
    "start_time": "2021-12-14T18:02:24.932Z"
   },
   {
    "duration": 26,
    "start_time": "2021-12-14T18:02:29.548Z"
   },
   {
    "duration": 15,
    "start_time": "2021-12-14T18:08:59.058Z"
   },
   {
    "duration": 10,
    "start_time": "2021-12-14T18:10:31.604Z"
   },
   {
    "duration": 8,
    "start_time": "2021-12-14T18:12:02.996Z"
   },
   {
    "duration": 16,
    "start_time": "2021-12-14T18:12:04.541Z"
   },
   {
    "duration": 23,
    "start_time": "2021-12-14T18:12:10.379Z"
   },
   {
    "duration": 13,
    "start_time": "2021-12-14T18:12:15.769Z"
   },
   {
    "duration": 18,
    "start_time": "2021-12-14T18:12:20.381Z"
   },
   {
    "duration": 379,
    "start_time": "2021-12-15T11:01:54.604Z"
   },
   {
    "duration": 768,
    "start_time": "2021-12-15T11:01:57.927Z"
   },
   {
    "duration": 68,
    "start_time": "2021-12-15T11:01:58.697Z"
   },
   {
    "duration": 27,
    "start_time": "2021-12-15T11:01:58.767Z"
   },
   {
    "duration": 31,
    "start_time": "2021-12-15T11:01:58.797Z"
   },
   {
    "duration": 46,
    "start_time": "2021-12-15T11:01:58.831Z"
   },
   {
    "duration": 57,
    "start_time": "2021-12-15T11:01:58.879Z"
   },
   {
    "duration": 14,
    "start_time": "2021-12-15T11:01:58.938Z"
   },
   {
    "duration": 14,
    "start_time": "2021-12-15T11:01:58.956Z"
   },
   {
    "duration": 8,
    "start_time": "2021-12-15T11:01:58.973Z"
   },
   {
    "duration": 41,
    "start_time": "2021-12-15T11:01:58.984Z"
   },
   {
    "duration": 14,
    "start_time": "2021-12-15T11:01:59.027Z"
   },
   {
    "duration": 14,
    "start_time": "2021-12-15T11:01:59.043Z"
   },
   {
    "duration": 15,
    "start_time": "2021-12-15T11:01:59.059Z"
   },
   {
    "duration": 41,
    "start_time": "2021-12-15T11:01:59.076Z"
   },
   {
    "duration": 15,
    "start_time": "2021-12-15T11:01:59.120Z"
   },
   {
    "duration": 16,
    "start_time": "2021-12-15T11:01:59.137Z"
   },
   {
    "duration": 21,
    "start_time": "2021-12-15T11:01:59.156Z"
   },
   {
    "duration": 41,
    "start_time": "2021-12-15T11:01:59.180Z"
   },
   {
    "duration": 8,
    "start_time": "2021-12-15T11:01:59.223Z"
   },
   {
    "duration": 8,
    "start_time": "2021-12-15T11:01:59.233Z"
   },
   {
    "duration": 4,
    "start_time": "2021-12-15T11:01:59.243Z"
   },
   {
    "duration": 9,
    "start_time": "2021-12-15T11:01:59.250Z"
   },
   {
    "duration": 6,
    "start_time": "2021-12-15T11:01:59.266Z"
   },
   {
    "duration": 6,
    "start_time": "2021-12-15T11:01:59.318Z"
   },
   {
    "duration": 12,
    "start_time": "2021-12-15T11:01:59.326Z"
   },
   {
    "duration": 10,
    "start_time": "2021-12-15T11:01:59.340Z"
   },
   {
    "duration": 9,
    "start_time": "2021-12-15T11:01:59.352Z"
   },
   {
    "duration": 57,
    "start_time": "2021-12-15T11:01:59.363Z"
   },
   {
    "duration": 12,
    "start_time": "2021-12-15T11:01:59.423Z"
   },
   {
    "duration": 6,
    "start_time": "2021-12-15T11:01:59.438Z"
   },
   {
    "duration": 10,
    "start_time": "2021-12-15T11:01:59.446Z"
   },
   {
    "duration": 17,
    "start_time": "2021-12-15T11:01:59.458Z"
   },
   {
    "duration": 51,
    "start_time": "2021-12-15T11:01:59.477Z"
   },
   {
    "duration": 7,
    "start_time": "2021-12-15T11:01:59.531Z"
   },
   {
    "duration": 12,
    "start_time": "2021-12-15T11:01:59.540Z"
   },
   {
    "duration": 21,
    "start_time": "2021-12-15T11:01:59.554Z"
   },
   {
    "duration": 41,
    "start_time": "2021-12-15T11:01:59.577Z"
   },
   {
    "duration": 7,
    "start_time": "2021-12-15T11:01:59.620Z"
   },
   {
    "duration": 7,
    "start_time": "2021-12-15T11:01:59.630Z"
   },
   {
    "duration": 11,
    "start_time": "2021-12-15T11:01:59.639Z"
   },
   {
    "duration": 6,
    "start_time": "2021-12-15T11:01:59.652Z"
   },
   {
    "duration": 5,
    "start_time": "2021-12-15T11:01:59.660Z"
   },
   {
    "duration": 54,
    "start_time": "2021-12-15T11:01:59.668Z"
   },
   {
    "duration": 6,
    "start_time": "2021-12-15T11:01:59.725Z"
   },
   {
    "duration": 5559,
    "start_time": "2021-12-15T11:01:59.734Z"
   },
   {
    "duration": 22,
    "start_time": "2021-12-15T11:02:05.295Z"
   },
   {
    "duration": 16,
    "start_time": "2021-12-15T11:02:05.319Z"
   },
   {
    "duration": 21,
    "start_time": "2021-12-15T11:02:05.337Z"
   },
   {
    "duration": 9,
    "start_time": "2021-12-15T11:02:05.361Z"
   },
   {
    "duration": 44,
    "start_time": "2021-12-15T11:02:05.373Z"
   },
   {
    "duration": 26,
    "start_time": "2021-12-15T11:02:05.420Z"
   },
   {
    "duration": 5,
    "start_time": "2021-12-15T11:02:05.448Z"
   },
   {
    "duration": 31,
    "start_time": "2021-12-15T11:02:05.455Z"
   },
   {
    "duration": 53,
    "start_time": "2021-12-15T11:02:05.488Z"
   },
   {
    "duration": 15,
    "start_time": "2021-12-15T11:02:05.543Z"
   },
   {
    "duration": 9,
    "start_time": "2021-12-15T11:02:05.560Z"
   },
   {
    "duration": 48,
    "start_time": "2021-12-15T11:02:05.571Z"
   },
   {
    "duration": 10,
    "start_time": "2021-12-15T11:02:05.622Z"
   },
   {
    "duration": 19,
    "start_time": "2021-12-15T11:02:05.635Z"
   },
   {
    "duration": 15,
    "start_time": "2021-12-15T11:02:05.656Z"
   },
   {
    "duration": 52,
    "start_time": "2021-12-15T11:02:05.674Z"
   },
   {
    "duration": 595,
    "start_time": "2022-01-26T16:11:31.591Z"
   },
   {
    "duration": 57,
    "start_time": "2022-01-26T16:12:34.287Z"
   },
   {
    "duration": 34,
    "start_time": "2022-01-26T16:17:03.744Z"
   },
   {
    "duration": 13,
    "start_time": "2022-01-26T16:17:14.725Z"
   },
   {
    "duration": 4,
    "start_time": "2022-01-26T16:17:25.737Z"
   },
   {
    "duration": 3,
    "start_time": "2022-01-26T16:23:04.259Z"
   },
   {
    "duration": 13,
    "start_time": "2022-01-26T16:23:11.569Z"
   },
   {
    "duration": 4,
    "start_time": "2022-01-26T16:23:18.468Z"
   },
   {
    "duration": 10,
    "start_time": "2022-01-26T16:24:57.457Z"
   },
   {
    "duration": 6,
    "start_time": "2022-01-26T16:35:35.435Z"
   },
   {
    "duration": 14,
    "start_time": "2022-01-26T16:35:47.588Z"
   },
   {
    "duration": 3,
    "start_time": "2022-01-26T16:36:28.252Z"
   },
   {
    "duration": 11,
    "start_time": "2022-01-26T16:36:29.071Z"
   },
   {
    "duration": 9,
    "start_time": "2022-01-26T16:39:14.462Z"
   },
   {
    "duration": 3,
    "start_time": "2022-01-26T16:41:42.530Z"
   },
   {
    "duration": 12,
    "start_time": "2022-01-26T16:41:57.070Z"
   },
   {
    "duration": 9,
    "start_time": "2022-01-26T16:42:05.623Z"
   },
   {
    "duration": 7,
    "start_time": "2022-01-26T16:42:29.122Z"
   },
   {
    "duration": 9,
    "start_time": "2022-01-26T16:42:29.746Z"
   },
   {
    "duration": 6,
    "start_time": "2022-01-26T16:42:39.241Z"
   },
   {
    "duration": 8,
    "start_time": "2022-01-26T16:42:39.666Z"
   },
   {
    "duration": 11,
    "start_time": "2022-01-26T16:42:52.932Z"
   },
   {
    "duration": 11,
    "start_time": "2022-01-26T16:43:05.537Z"
   },
   {
    "duration": 4,
    "start_time": "2022-01-26T16:44:30.767Z"
   },
   {
    "duration": 4,
    "start_time": "2022-01-26T16:46:19.205Z"
   },
   {
    "duration": 8,
    "start_time": "2022-01-26T16:49:10.813Z"
   },
   {
    "duration": 10,
    "start_time": "2022-01-26T16:49:21.079Z"
   },
   {
    "duration": 9,
    "start_time": "2022-01-26T16:49:26.182Z"
   },
   {
    "duration": 250,
    "start_time": "2022-01-26T16:50:14.668Z"
   },
   {
    "duration": 14,
    "start_time": "2022-01-26T16:50:22.875Z"
   },
   {
    "duration": 6,
    "start_time": "2022-01-26T16:55:57.147Z"
   },
   {
    "duration": 22,
    "start_time": "2022-01-26T16:57:21.167Z"
   },
   {
    "duration": 4,
    "start_time": "2022-01-26T16:58:01.645Z"
   },
   {
    "duration": 17,
    "start_time": "2022-01-26T16:58:15.191Z"
   },
   {
    "duration": 4,
    "start_time": "2022-01-26T16:59:20.500Z"
   },
   {
    "duration": 16,
    "start_time": "2022-01-26T16:59:31.524Z"
   },
   {
    "duration": 5,
    "start_time": "2022-01-26T16:59:56.151Z"
   },
   {
    "duration": 17,
    "start_time": "2022-01-26T17:04:39.935Z"
   },
   {
    "duration": 4,
    "start_time": "2022-01-26T17:08:39.075Z"
   },
   {
    "duration": 5,
    "start_time": "2022-01-26T17:20:27.535Z"
   },
   {
    "duration": 19,
    "start_time": "2022-01-26T17:20:32.261Z"
   },
   {
    "duration": 13,
    "start_time": "2022-01-26T17:20:41.867Z"
   },
   {
    "duration": 212,
    "start_time": "2022-01-26T17:24:19.078Z"
   },
   {
    "duration": 203,
    "start_time": "2022-01-26T17:24:32.999Z"
   },
   {
    "duration": 186,
    "start_time": "2022-01-26T17:24:37.957Z"
   },
   {
    "duration": 205,
    "start_time": "2022-01-26T17:31:27.872Z"
   },
   {
    "duration": 190,
    "start_time": "2022-01-26T17:31:37.761Z"
   },
   {
    "duration": 10,
    "start_time": "2022-01-26T17:31:43.432Z"
   },
   {
    "duration": 201,
    "start_time": "2022-01-26T17:31:48.302Z"
   },
   {
    "duration": 12,
    "start_time": "2022-01-26T17:31:56.483Z"
   },
   {
    "duration": 23,
    "start_time": "2022-01-26T17:33:35.715Z"
   },
   {
    "duration": 187,
    "start_time": "2022-01-26T17:35:21.299Z"
   },
   {
    "duration": 10,
    "start_time": "2022-01-26T17:42:02.352Z"
   },
   {
    "duration": 198,
    "start_time": "2022-01-26T17:43:13.256Z"
   },
   {
    "duration": 4,
    "start_time": "2022-01-26T17:43:27.721Z"
   },
   {
    "duration": 4,
    "start_time": "2022-01-26T17:44:15.530Z"
   },
   {
    "duration": 8,
    "start_time": "2022-01-26T17:47:38.868Z"
   },
   {
    "duration": 13,
    "start_time": "2022-01-26T17:47:44.418Z"
   },
   {
    "duration": 5,
    "start_time": "2022-01-26T17:47:53.632Z"
   },
   {
    "duration": 7,
    "start_time": "2022-01-26T17:48:10.397Z"
   },
   {
    "duration": 5,
    "start_time": "2022-01-26T17:48:19.987Z"
   },
   {
    "duration": 7,
    "start_time": "2022-01-26T17:48:34.153Z"
   },
   {
    "duration": 4,
    "start_time": "2022-01-26T17:48:43.467Z"
   },
   {
    "duration": 7,
    "start_time": "2022-01-26T17:49:32.308Z"
   },
   {
    "duration": 8,
    "start_time": "2022-01-26T17:49:35.138Z"
   },
   {
    "duration": 4,
    "start_time": "2022-01-26T17:49:41.988Z"
   },
   {
    "duration": 217,
    "start_time": "2022-01-26T17:50:04.410Z"
   },
   {
    "duration": 199,
    "start_time": "2022-01-26T17:50:08.346Z"
   },
   {
    "duration": 5,
    "start_time": "2022-01-26T17:50:27.619Z"
   },
   {
    "duration": 4,
    "start_time": "2022-01-26T17:53:10.402Z"
   },
   {
    "duration": 7,
    "start_time": "2022-01-26T17:53:21.510Z"
   },
   {
    "duration": 7,
    "start_time": "2022-01-26T17:54:01.841Z"
   },
   {
    "duration": 8,
    "start_time": "2022-01-26T17:54:07.850Z"
   },
   {
    "duration": 4,
    "start_time": "2022-01-26T17:54:14.691Z"
   },
   {
    "duration": 7,
    "start_time": "2022-01-26T17:56:33.581Z"
   },
   {
    "duration": 4,
    "start_time": "2022-01-26T17:56:44.082Z"
   },
   {
    "duration": 3,
    "start_time": "2022-01-26T17:56:54.468Z"
   },
   {
    "duration": 5,
    "start_time": "2022-01-26T17:57:04.496Z"
   },
   {
    "duration": 4,
    "start_time": "2022-01-26T17:57:54.583Z"
   },
   {
    "duration": 5,
    "start_time": "2022-01-26T17:57:57.617Z"
   },
   {
    "duration": 233,
    "start_time": "2022-01-26T17:58:10.027Z"
   },
   {
    "duration": 203,
    "start_time": "2022-01-26T17:58:20.432Z"
   },
   {
    "duration": 23,
    "start_time": "2022-01-26T17:58:24.587Z"
   },
   {
    "duration": 23,
    "start_time": "2022-01-26T17:58:57.083Z"
   },
   {
    "duration": 22,
    "start_time": "2022-01-26T17:59:08.309Z"
   },
   {
    "duration": 11,
    "start_time": "2022-01-26T17:59:53.711Z"
   },
   {
    "duration": 6,
    "start_time": "2022-01-26T18:00:15.238Z"
   },
   {
    "duration": 192,
    "start_time": "2022-01-26T18:00:49.166Z"
   },
   {
    "duration": 199,
    "start_time": "2022-01-26T18:00:53.049Z"
   },
   {
    "duration": 3,
    "start_time": "2022-01-26T18:01:30.578Z"
   },
   {
    "duration": 202,
    "start_time": "2022-01-26T18:03:57.157Z"
   },
   {
    "duration": 219,
    "start_time": "2022-01-26T18:04:05.503Z"
   },
   {
    "duration": 4,
    "start_time": "2022-01-26T18:05:48.754Z"
   },
   {
    "duration": 19,
    "start_time": "2022-01-26T18:07:12.555Z"
   },
   {
    "duration": 6,
    "start_time": "2022-01-26T18:07:44.575Z"
   },
   {
    "duration": 764,
    "start_time": "2022-01-27T12:22:24.086Z"
   },
   {
    "duration": 48,
    "start_time": "2022-01-27T12:22:24.853Z"
   },
   {
    "duration": 28,
    "start_time": "2022-01-27T12:22:25.193Z"
   },
   {
    "duration": 5,
    "start_time": "2022-01-27T12:22:25.683Z"
   },
   {
    "duration": 4,
    "start_time": "2022-01-27T12:22:26.283Z"
   },
   {
    "duration": 6,
    "start_time": "2022-01-27T12:22:26.873Z"
   },
   {
    "duration": 14,
    "start_time": "2022-01-27T12:22:27.417Z"
   },
   {
    "duration": 450,
    "start_time": "2022-01-27T12:22:27.923Z"
   },
   {
    "duration": 11,
    "start_time": "2022-01-27T12:22:28.445Z"
   },
   {
    "duration": 9,
    "start_time": "2022-01-27T12:22:28.946Z"
   },
   {
    "duration": 8,
    "start_time": "2022-01-27T12:22:29.459Z"
   },
   {
    "duration": 5,
    "start_time": "2022-01-27T12:22:29.931Z"
   },
   {
    "duration": 12,
    "start_time": "2022-01-27T12:22:30.477Z"
   },
   {
    "duration": 14,
    "start_time": "2022-01-27T12:22:30.991Z"
   },
   {
    "duration": 12,
    "start_time": "2022-01-27T12:22:31.474Z"
   },
   {
    "duration": 23,
    "start_time": "2022-01-27T12:22:32.003Z"
   },
   {
    "duration": 9,
    "start_time": "2022-01-27T12:22:32.505Z"
   },
   {
    "duration": 8,
    "start_time": "2022-01-27T12:22:33.028Z"
   },
   {
    "duration": 7,
    "start_time": "2022-01-27T12:22:33.513Z"
   },
   {
    "duration": 7,
    "start_time": "2022-01-27T12:22:34.503Z"
   },
   {
    "duration": 6,
    "start_time": "2022-01-27T12:22:35.012Z"
   },
   {
    "duration": 5,
    "start_time": "2022-01-27T12:22:35.496Z"
   },
   {
    "duration": 18,
    "start_time": "2022-01-27T12:22:35.979Z"
   },
   {
    "duration": 11,
    "start_time": "2022-01-27T12:22:36.508Z"
   },
   {
    "duration": 33,
    "start_time": "2022-01-27T12:22:37.018Z"
   },
   {
    "duration": 11,
    "start_time": "2022-01-27T12:22:39.056Z"
   },
   {
    "duration": 19,
    "start_time": "2022-01-27T12:23:10.374Z"
   },
   {
    "duration": 9,
    "start_time": "2022-01-27T12:23:35.333Z"
   },
   {
    "duration": 302,
    "start_time": "2022-01-27T12:56:54.037Z"
   },
   {
    "duration": 10,
    "start_time": "2022-01-27T12:57:00.476Z"
   },
   {
    "duration": 6,
    "start_time": "2022-01-27T12:58:56.425Z"
   },
   {
    "duration": 14,
    "start_time": "2022-01-27T12:59:01.162Z"
   },
   {
    "duration": 12,
    "start_time": "2022-01-27T12:59:22.660Z"
   },
   {
    "duration": 579,
    "start_time": "2022-01-27T12:59:30.570Z"
   },
   {
    "duration": 8,
    "start_time": "2022-01-27T12:59:37.629Z"
   },
   {
    "duration": 9,
    "start_time": "2022-01-27T13:03:52.799Z"
   },
   {
    "duration": 10,
    "start_time": "2022-01-27T13:04:11.461Z"
   },
   {
    "duration": 10,
    "start_time": "2022-01-27T13:04:42.731Z"
   },
   {
    "duration": 8,
    "start_time": "2022-01-27T13:09:41.012Z"
   },
   {
    "duration": 10,
    "start_time": "2022-01-27T13:09:52.110Z"
   },
   {
    "duration": 12,
    "start_time": "2022-01-27T13:10:35.943Z"
   },
   {
    "duration": 347,
    "start_time": "2022-01-27T13:11:02.447Z"
   },
   {
    "duration": 345,
    "start_time": "2022-01-27T13:13:01.374Z"
   },
   {
    "duration": 8723,
    "start_time": "2022-01-27T13:13:17.833Z"
   },
   {
    "duration": 8180,
    "start_time": "2022-01-27T13:14:21.695Z"
   },
   {
    "duration": 241,
    "start_time": "2022-01-27T13:14:54.900Z"
   },
   {
    "duration": 318,
    "start_time": "2022-01-27T13:15:22.841Z"
   },
   {
    "duration": 11,
    "start_time": "2022-01-27T13:27:11.826Z"
   },
   {
    "duration": 304,
    "start_time": "2022-01-27T13:27:54.537Z"
   },
   {
    "duration": 41,
    "start_time": "2022-01-27T13:33:26.196Z"
   },
   {
    "duration": 297,
    "start_time": "2022-01-27T13:37:32.060Z"
   },
   {
    "duration": 322,
    "start_time": "2022-01-27T13:38:07.572Z"
   },
   {
    "duration": 113,
    "start_time": "2022-01-27T13:38:27.117Z"
   },
   {
    "duration": 367,
    "start_time": "2022-01-27T13:38:39.987Z"
   },
   {
    "duration": 15,
    "start_time": "2022-01-27T13:39:37.808Z"
   },
   {
    "duration": 9709,
    "start_time": "2022-01-27T13:39:58.955Z"
   },
   {
    "duration": 16,
    "start_time": "2022-01-27T13:40:33.377Z"
   },
   {
    "duration": 3,
    "start_time": "2022-01-27T13:43:52.414Z"
   },
   {
    "duration": 41,
    "start_time": "2022-01-27T13:43:52.973Z"
   },
   {
    "duration": 19,
    "start_time": "2022-01-27T13:43:53.503Z"
   },
   {
    "duration": 6,
    "start_time": "2022-01-27T13:43:54.197Z"
   },
   {
    "duration": 4,
    "start_time": "2022-01-27T13:43:55.215Z"
   },
   {
    "duration": 6,
    "start_time": "2022-01-27T13:43:55.937Z"
   },
   {
    "duration": 14,
    "start_time": "2022-01-27T13:43:56.528Z"
   },
   {
    "duration": 346,
    "start_time": "2022-01-27T13:43:57.161Z"
   },
   {
    "duration": 13,
    "start_time": "2022-01-27T13:43:57.795Z"
   },
   {
    "duration": 10,
    "start_time": "2022-01-27T13:43:59.794Z"
   },
   {
    "duration": 11,
    "start_time": "2022-01-27T13:44:41.113Z"
   },
   {
    "duration": 10,
    "start_time": "2022-01-27T13:45:28.238Z"
   },
   {
    "duration": 5,
    "start_time": "2022-01-27T13:45:31.017Z"
   },
   {
    "duration": 6,
    "start_time": "2022-01-27T13:45:33.329Z"
   },
   {
    "duration": 5,
    "start_time": "2022-01-27T13:45:35.875Z"
   },
   {
    "duration": 13,
    "start_time": "2022-01-27T13:45:37.246Z"
   },
   {
    "duration": 13,
    "start_time": "2022-01-27T13:45:38.081Z"
   },
   {
    "duration": 11,
    "start_time": "2022-01-27T13:45:39.418Z"
   },
   {
    "duration": 23,
    "start_time": "2022-01-27T13:45:41.778Z"
   },
   {
    "duration": 8,
    "start_time": "2022-01-27T13:45:42.814Z"
   },
   {
    "duration": 6,
    "start_time": "2022-01-27T13:45:49.197Z"
   },
   {
    "duration": 6,
    "start_time": "2022-01-27T13:45:50.271Z"
   },
   {
    "duration": 7,
    "start_time": "2022-01-27T13:45:55.964Z"
   },
   {
    "duration": 6,
    "start_time": "2022-01-27T13:45:59.824Z"
   },
   {
    "duration": 3,
    "start_time": "2022-01-27T13:46:25.242Z"
   },
   {
    "duration": 22,
    "start_time": "2022-01-27T13:46:26.465Z"
   },
   {
    "duration": 6,
    "start_time": "2022-01-27T13:46:28.837Z"
   },
   {
    "duration": 35,
    "start_time": "2022-01-27T13:46:35.238Z"
   },
   {
    "duration": 11,
    "start_time": "2022-01-27T13:46:45.790Z"
   },
   {
    "duration": 10,
    "start_time": "2022-01-27T13:47:00.037Z"
   },
   {
    "duration": 16,
    "start_time": "2022-01-27T13:47:06.966Z"
   },
   {
    "duration": 29,
    "start_time": "2022-01-27T13:47:11.389Z"
   },
   {
    "duration": 50,
    "start_time": "2022-01-27T13:50:49.241Z"
   },
   {
    "duration": 396,
    "start_time": "2022-01-27T13:51:24.332Z"
   },
   {
    "duration": 4,
    "start_time": "2022-01-27T13:51:47.431Z"
   },
   {
    "duration": 42,
    "start_time": "2022-01-27T13:51:48.146Z"
   },
   {
    "duration": 20,
    "start_time": "2022-01-27T13:51:48.832Z"
   },
   {
    "duration": 6,
    "start_time": "2022-01-27T13:51:49.532Z"
   },
   {
    "duration": 5,
    "start_time": "2022-01-27T13:51:50.188Z"
   },
   {
    "duration": 5,
    "start_time": "2022-01-27T13:51:50.916Z"
   },
   {
    "duration": 15,
    "start_time": "2022-01-27T13:51:51.558Z"
   },
   {
    "duration": 14,
    "start_time": "2022-01-27T13:51:52.859Z"
   },
   {
    "duration": 11,
    "start_time": "2022-01-27T13:51:53.514Z"
   },
   {
    "duration": 5,
    "start_time": "2022-01-27T13:51:54.224Z"
   },
   {
    "duration": 6,
    "start_time": "2022-01-27T13:51:54.909Z"
   },
   {
    "duration": 5,
    "start_time": "2022-01-27T13:51:55.538Z"
   },
   {
    "duration": 14,
    "start_time": "2022-01-27T13:51:56.385Z"
   },
   {
    "duration": 13,
    "start_time": "2022-01-27T13:51:57.046Z"
   },
   {
    "duration": 12,
    "start_time": "2022-01-27T13:51:57.754Z"
   },
   {
    "duration": 26,
    "start_time": "2022-01-27T13:51:58.382Z"
   },
   {
    "duration": 8,
    "start_time": "2022-01-27T13:51:59.051Z"
   },
   {
    "duration": 7,
    "start_time": "2022-01-27T13:51:59.626Z"
   },
   {
    "duration": 8,
    "start_time": "2022-01-27T13:52:00.241Z"
   },
   {
    "duration": 6,
    "start_time": "2022-01-27T13:52:01.539Z"
   },
   {
    "duration": 6,
    "start_time": "2022-01-27T13:52:03.795Z"
   },
   {
    "duration": 3,
    "start_time": "2022-01-27T13:52:04.466Z"
   },
   {
    "duration": 19,
    "start_time": "2022-01-27T13:52:05.148Z"
   },
   {
    "duration": 6,
    "start_time": "2022-01-27T13:52:05.858Z"
   },
   {
    "duration": 32,
    "start_time": "2022-01-27T13:52:06.555Z"
   },
   {
    "duration": 10,
    "start_time": "2022-01-27T13:52:08.655Z"
   },
   {
    "duration": 10,
    "start_time": "2022-01-27T13:52:11.240Z"
   },
   {
    "duration": 308,
    "start_time": "2022-01-27T13:52:15.364Z"
   },
   {
    "duration": 279,
    "start_time": "2022-01-27T13:52:39.354Z"
   },
   {
    "duration": 321,
    "start_time": "2022-01-27T13:52:53.417Z"
   },
   {
    "duration": 783,
    "start_time": "2022-01-27T13:53:00.222Z"
   },
   {
    "duration": 142,
    "start_time": "2022-01-27T13:53:07.427Z"
   },
   {
    "duration": 322,
    "start_time": "2022-01-27T13:53:15.557Z"
   },
   {
    "duration": 41,
    "start_time": "2022-01-27T13:53:50.774Z"
   },
   {
    "duration": 34,
    "start_time": "2022-01-27T13:57:26.084Z"
   },
   {
    "duration": 384,
    "start_time": "2022-01-27T14:06:17.606Z"
   },
   {
    "duration": 295,
    "start_time": "2022-01-27T14:07:42.958Z"
   },
   {
    "duration": 324,
    "start_time": "2022-01-27T14:08:14.155Z"
   },
   {
    "duration": 366,
    "start_time": "2022-01-27T14:09:06.303Z"
   },
   {
    "duration": 748,
    "start_time": "2022-01-27T14:09:39.212Z"
   },
   {
    "duration": 2733,
    "start_time": "2022-01-27T14:09:49.752Z"
   },
   {
    "duration": 4,
    "start_time": "2022-01-27T14:10:44.963Z"
   },
   {
    "duration": 30217,
    "start_time": "2022-01-27T14:10:58.157Z"
   },
   {
    "duration": 177,
    "start_time": "2022-01-27T14:20:17.338Z"
   },
   {
    "duration": 829,
    "start_time": "2022-01-27T14:20:27.698Z"
   },
   {
    "duration": 730,
    "start_time": "2022-01-27T14:21:37.239Z"
   },
   {
    "duration": 340,
    "start_time": "2022-01-27T14:22:11.784Z"
   },
   {
    "duration": 781,
    "start_time": "2022-01-27T14:22:28.729Z"
   },
   {
    "duration": 832,
    "start_time": "2022-01-27T14:23:00.968Z"
   },
   {
    "duration": 815,
    "start_time": "2022-01-27T14:23:34.387Z"
   },
   {
    "duration": 98,
    "start_time": "2022-01-27T14:27:09.950Z"
   },
   {
    "duration": 809,
    "start_time": "2022-01-27T14:30:05.494Z"
   },
   {
    "duration": 4,
    "start_time": "2022-01-27T15:03:09.343Z"
   },
   {
    "duration": 43,
    "start_time": "2022-01-27T15:03:10.074Z"
   },
   {
    "duration": 19,
    "start_time": "2022-01-27T15:03:10.862Z"
   },
   {
    "duration": 6,
    "start_time": "2022-01-27T15:03:11.827Z"
   },
   {
    "duration": 4,
    "start_time": "2022-01-27T15:03:12.546Z"
   },
   {
    "duration": 6,
    "start_time": "2022-01-27T15:03:13.014Z"
   },
   {
    "duration": 13,
    "start_time": "2022-01-27T15:03:13.707Z"
   },
   {
    "duration": 16,
    "start_time": "2022-01-27T15:03:15.054Z"
   },
   {
    "duration": 11,
    "start_time": "2022-01-27T15:03:15.709Z"
   },
   {
    "duration": 5,
    "start_time": "2022-01-27T15:03:16.318Z"
   },
   {
    "duration": 7,
    "start_time": "2022-01-27T15:03:17.172Z"
   },
   {
    "duration": 5,
    "start_time": "2022-01-27T15:03:17.580Z"
   },
   {
    "duration": 13,
    "start_time": "2022-01-27T15:03:18.306Z"
   },
   {
    "duration": 14,
    "start_time": "2022-01-27T15:03:18.943Z"
   },
   {
    "duration": 12,
    "start_time": "2022-01-27T15:03:19.568Z"
   },
   {
    "duration": 32,
    "start_time": "2022-01-27T15:03:20.287Z"
   },
   {
    "duration": 11,
    "start_time": "2022-01-27T15:03:20.995Z"
   },
   {
    "duration": 7,
    "start_time": "2022-01-27T15:03:21.593Z"
   },
   {
    "duration": 7,
    "start_time": "2022-01-27T15:03:22.319Z"
   },
   {
    "duration": 6,
    "start_time": "2022-01-27T15:03:23.521Z"
   },
   {
    "duration": 6,
    "start_time": "2022-01-27T15:03:24.148Z"
   },
   {
    "duration": 3,
    "start_time": "2022-01-27T15:03:24.766Z"
   },
   {
    "duration": 17,
    "start_time": "2022-01-27T15:03:25.530Z"
   },
   {
    "duration": 6,
    "start_time": "2022-01-27T15:03:26.237Z"
   },
   {
    "duration": 32,
    "start_time": "2022-01-27T15:03:26.866Z"
   },
   {
    "duration": 10,
    "start_time": "2022-01-27T15:03:28.751Z"
   },
   {
    "duration": 11,
    "start_time": "2022-01-27T15:03:30.575Z"
   },
   {
    "duration": 828,
    "start_time": "2022-01-27T15:03:31.197Z"
   },
   {
    "duration": 736,
    "start_time": "2022-01-27T15:03:35.258Z"
   },
   {
    "duration": 741,
    "start_time": "2022-01-27T15:03:38.775Z"
   },
   {
    "duration": 721,
    "start_time": "2022-01-27T15:03:46.416Z"
   },
   {
    "duration": 903,
    "start_time": "2022-01-27T15:03:49.577Z"
   },
   {
    "duration": 755,
    "start_time": "2022-01-27T15:03:52.276Z"
   },
   {
    "duration": 20,
    "start_time": "2022-01-27T15:04:49.398Z"
   },
   {
    "duration": 6,
    "start_time": "2022-01-27T15:05:28.100Z"
   },
   {
    "duration": 6,
    "start_time": "2022-01-27T15:06:18.024Z"
   },
   {
    "duration": 24,
    "start_time": "2022-01-27T15:06:29.123Z"
   },
   {
    "duration": 9,
    "start_time": "2022-01-27T15:13:51.053Z"
   },
   {
    "duration": 9,
    "start_time": "2022-01-27T15:14:24.325Z"
   },
   {
    "duration": 10,
    "start_time": "2022-01-27T15:14:29.320Z"
   },
   {
    "duration": 10,
    "start_time": "2022-01-27T15:14:54.159Z"
   },
   {
    "duration": 305,
    "start_time": "2022-01-27T15:19:06.309Z"
   },
   {
    "duration": 299,
    "start_time": "2022-01-27T15:21:24.229Z"
   },
   {
    "duration": 611,
    "start_time": "2022-01-27T15:23:25.579Z"
   },
   {
    "duration": 385,
    "start_time": "2022-01-27T15:27:28.117Z"
   },
   {
    "duration": 285,
    "start_time": "2022-01-27T15:28:01.519Z"
   },
   {
    "duration": 273,
    "start_time": "2022-01-27T15:28:12.164Z"
   },
   {
    "duration": 329,
    "start_time": "2022-01-27T15:29:33.399Z"
   },
   {
    "duration": 317,
    "start_time": "2022-01-27T15:30:06.184Z"
   },
   {
    "duration": 357,
    "start_time": "2022-01-27T15:30:27.835Z"
   },
   {
    "duration": 581,
    "start_time": "2022-01-27T15:31:31.838Z"
   },
   {
    "duration": 341,
    "start_time": "2022-01-27T15:32:07.750Z"
   },
   {
    "duration": 241,
    "start_time": "2022-01-27T15:32:41.892Z"
   },
   {
    "duration": 375,
    "start_time": "2022-01-27T15:33:47.245Z"
   },
   {
    "duration": 575,
    "start_time": "2022-01-27T15:33:52.997Z"
   },
   {
    "duration": 1510,
    "start_time": "2022-01-27T15:34:31.626Z"
   },
   {
    "duration": 1322,
    "start_time": "2022-01-27T15:35:10.251Z"
   },
   {
    "duration": 505,
    "start_time": "2022-01-27T15:35:48.679Z"
   },
   {
    "duration": 374,
    "start_time": "2022-01-27T15:38:42.975Z"
   },
   {
    "duration": 398,
    "start_time": "2022-01-27T15:38:59.641Z"
   },
   {
    "duration": 461,
    "start_time": "2022-01-27T15:39:21.798Z"
   },
   {
    "duration": 1445,
    "start_time": "2022-01-27T15:39:48.386Z"
   },
   {
    "duration": 602,
    "start_time": "2022-01-27T15:40:08.311Z"
   },
   {
    "duration": 572,
    "start_time": "2022-01-27T15:41:49.697Z"
   },
   {
    "duration": 541,
    "start_time": "2022-01-27T15:42:20.653Z"
   },
   {
    "duration": 524,
    "start_time": "2022-01-27T15:44:31.730Z"
   },
   {
    "duration": 45,
    "start_time": "2022-01-27T15:46:48.748Z"
   },
   {
    "duration": 23,
    "start_time": "2022-01-27T15:49:35.234Z"
   },
   {
    "duration": 284,
    "start_time": "2022-01-27T16:06:12.152Z"
   },
   {
    "duration": 285,
    "start_time": "2022-01-27T16:19:20.112Z"
   },
   {
    "duration": 708,
    "start_time": "2022-01-27T16:20:00.828Z"
   },
   {
    "duration": 79,
    "start_time": "2022-01-27T16:29:38.214Z"
   },
   {
    "duration": 27,
    "start_time": "2022-01-27T16:46:24.022Z"
   },
   {
    "duration": 941,
    "start_time": "2022-01-27T16:47:35.211Z"
   },
   {
    "duration": 122,
    "start_time": "2022-01-27T16:48:26.723Z"
   },
   {
    "duration": 30,
    "start_time": "2022-01-27T16:48:31.712Z"
   },
   {
    "duration": 864,
    "start_time": "2022-01-27T16:48:44.681Z"
   },
   {
    "duration": 1055,
    "start_time": "2022-01-27T16:49:17.008Z"
   },
   {
    "duration": 885,
    "start_time": "2022-01-27T16:50:01.204Z"
   },
   {
    "duration": 298,
    "start_time": "2022-01-27T16:57:07.582Z"
   },
   {
    "duration": 16,
    "start_time": "2022-01-27T16:57:50.539Z"
   },
   {
    "duration": 283,
    "start_time": "2022-01-27T16:58:28.004Z"
   },
   {
    "duration": 1072,
    "start_time": "2022-01-27T17:00:08.669Z"
   },
   {
    "duration": 5,
    "start_time": "2022-01-27T17:00:26.789Z"
   },
   {
    "duration": 6,
    "start_time": "2022-01-27T17:00:39.497Z"
   },
   {
    "duration": 6,
    "start_time": "2022-01-27T17:00:50.490Z"
   },
   {
    "duration": 6,
    "start_time": "2022-01-27T17:05:21.649Z"
   },
   {
    "duration": 7,
    "start_time": "2022-01-27T17:05:42.364Z"
   },
   {
    "duration": 369,
    "start_time": "2022-01-27T17:05:55.295Z"
   },
   {
    "duration": 14,
    "start_time": "2022-01-27T17:06:00.971Z"
   },
   {
    "duration": 6,
    "start_time": "2022-01-27T17:06:45.261Z"
   },
   {
    "duration": 16,
    "start_time": "2022-01-27T17:06:55.586Z"
   },
   {
    "duration": 6,
    "start_time": "2022-01-27T17:10:30.587Z"
   },
   {
    "duration": 7,
    "start_time": "2022-01-27T17:10:35.385Z"
   },
   {
    "duration": 2,
    "start_time": "2022-01-27T17:10:36.593Z"
   },
   {
    "duration": 19,
    "start_time": "2022-01-27T17:10:38.973Z"
   },
   {
    "duration": 5,
    "start_time": "2022-01-27T17:10:39.516Z"
   },
   {
    "duration": 39,
    "start_time": "2022-01-27T17:10:39.931Z"
   },
   {
    "duration": 10,
    "start_time": "2022-01-27T17:10:42.019Z"
   },
   {
    "duration": 10,
    "start_time": "2022-01-27T17:11:05.419Z"
   },
   {
    "duration": 24,
    "start_time": "2022-01-27T17:11:27.166Z"
   },
   {
    "duration": 882,
    "start_time": "2022-01-27T17:12:08.797Z"
   },
   {
    "duration": 835,
    "start_time": "2022-01-27T17:12:46.198Z"
   },
   {
    "duration": 835,
    "start_time": "2022-01-27T17:13:24.047Z"
   },
   {
    "duration": 904,
    "start_time": "2022-01-27T17:13:52.419Z"
   },
   {
    "duration": 785,
    "start_time": "2022-01-27T17:14:21.252Z"
   },
   {
    "duration": 718,
    "start_time": "2022-01-27T17:14:50.828Z"
   },
   {
    "duration": 792,
    "start_time": "2022-01-27T17:15:26.780Z"
   },
   {
    "duration": 761,
    "start_time": "2022-01-27T17:15:58.608Z"
   },
   {
    "duration": 23,
    "start_time": "2022-01-27T17:16:08.608Z"
   },
   {
    "duration": 9,
    "start_time": "2022-01-27T17:16:27.536Z"
   },
   {
    "duration": 525,
    "start_time": "2022-01-27T17:16:50.324Z"
   },
   {
    "duration": 405,
    "start_time": "2022-01-27T17:16:55.049Z"
   },
   {
    "duration": 497,
    "start_time": "2022-01-27T17:16:58.708Z"
   },
   {
    "duration": 1334,
    "start_time": "2022-01-27T17:17:01.552Z"
   },
   {
    "duration": 621,
    "start_time": "2022-01-27T17:17:06.138Z"
   },
   {
    "duration": 88,
    "start_time": "2022-01-27T17:17:26.379Z"
   },
   {
    "duration": 19,
    "start_time": "2022-01-27T17:18:30.529Z"
   },
   {
    "duration": 19,
    "start_time": "2022-01-27T17:19:15.077Z"
   },
   {
    "duration": 16,
    "start_time": "2022-01-27T17:21:16.044Z"
   },
   {
    "duration": 18,
    "start_time": "2022-01-27T17:23:04.909Z"
   },
   {
    "duration": 330,
    "start_time": "2022-01-27T17:29:03.001Z"
   },
   {
    "duration": 831,
    "start_time": "2022-01-27T17:29:24.142Z"
   },
   {
    "duration": 342,
    "start_time": "2022-01-27T17:29:57.058Z"
   },
   {
    "duration": 387,
    "start_time": "2022-01-27T17:30:22.910Z"
   },
   {
    "duration": 100,
    "start_time": "2022-01-27T17:31:21.019Z"
   },
   {
    "duration": 436,
    "start_time": "2022-01-27T17:31:28.724Z"
   },
   {
    "duration": 438,
    "start_time": "2022-01-27T17:31:40.927Z"
   },
   {
    "duration": 541,
    "start_time": "2022-01-27T17:31:54.606Z"
   },
   {
    "duration": 401,
    "start_time": "2022-01-27T17:33:25.461Z"
   },
   {
    "duration": 411,
    "start_time": "2022-01-27T17:35:03.048Z"
   },
   {
    "duration": 405,
    "start_time": "2022-01-27T17:35:07.829Z"
   },
   {
    "duration": 14,
    "start_time": "2022-01-27T17:36:30.301Z"
   },
   {
    "duration": 13,
    "start_time": "2022-01-27T17:36:53.136Z"
   },
   {
    "duration": 13,
    "start_time": "2022-01-27T17:37:27.950Z"
   },
   {
    "duration": 455,
    "start_time": "2022-01-27T17:42:17.439Z"
   },
   {
    "duration": 13,
    "start_time": "2022-01-27T17:42:18.832Z"
   },
   {
    "duration": 13,
    "start_time": "2022-01-27T17:42:19.660Z"
   },
   {
    "duration": 345,
    "start_time": "2022-01-27T17:43:40.682Z"
   },
   {
    "duration": 441,
    "start_time": "2022-01-27T17:43:51.553Z"
   },
   {
    "duration": 447,
    "start_time": "2022-01-27T17:44:05.943Z"
   },
   {
    "duration": 454,
    "start_time": "2022-01-27T17:44:47.982Z"
   },
   {
    "duration": 530,
    "start_time": "2022-01-27T17:53:44.545Z"
   },
   {
    "duration": 408,
    "start_time": "2022-01-27T17:54:19.148Z"
   },
   {
    "duration": 392,
    "start_time": "2022-01-27T17:54:47.491Z"
   },
   {
    "duration": 14,
    "start_time": "2022-01-27T17:54:54.589Z"
   },
   {
    "duration": 12,
    "start_time": "2022-01-27T17:54:57.225Z"
   },
   {
    "duration": 408,
    "start_time": "2022-01-27T17:55:45.990Z"
   },
   {
    "duration": 281,
    "start_time": "2022-01-27T17:58:39.612Z"
   },
   {
    "duration": 298,
    "start_time": "2022-01-27T17:58:55.796Z"
   },
   {
    "duration": 403,
    "start_time": "2022-01-27T17:59:17.805Z"
   },
   {
    "duration": 1452,
    "start_time": "2022-01-27T17:59:33.693Z"
   },
   {
    "duration": 566,
    "start_time": "2022-01-27T18:00:14.073Z"
   },
   {
    "duration": 10000,
    "start_time": "2022-01-27T18:01:28.712Z"
   },
   {
    "duration": 9754,
    "start_time": "2022-01-27T18:03:58.802Z"
   },
   {
    "duration": 9252,
    "start_time": "2022-01-27T18:05:05.174Z"
   },
   {
    "duration": 269,
    "start_time": "2022-01-27T18:05:56.540Z"
   },
   {
    "duration": 6,
    "start_time": "2022-01-27T18:06:11.667Z"
   },
   {
    "duration": 259,
    "start_time": "2022-01-27T18:12:11.879Z"
   },
   {
    "duration": 578,
    "start_time": "2022-01-27T18:12:25.543Z"
   },
   {
    "duration": 503,
    "start_time": "2022-01-27T18:14:39.015Z"
   },
   {
    "duration": 9729,
    "start_time": "2022-01-27T18:14:49.587Z"
   },
   {
    "duration": 9828,
    "start_time": "2022-01-27T18:15:06.946Z"
   },
   {
    "duration": 1456,
    "start_time": "2022-01-28T09:45:33.684Z"
   },
   {
    "duration": 49,
    "start_time": "2022-01-28T09:45:35.143Z"
   },
   {
    "duration": 23,
    "start_time": "2022-01-28T09:45:35.387Z"
   },
   {
    "duration": 5,
    "start_time": "2022-01-28T09:45:36.135Z"
   },
   {
    "duration": 3,
    "start_time": "2022-01-28T09:45:37.315Z"
   },
   {
    "duration": 6,
    "start_time": "2022-01-28T09:45:38.156Z"
   },
   {
    "duration": 15,
    "start_time": "2022-01-28T09:45:39.126Z"
   },
   {
    "duration": 11,
    "start_time": "2022-01-28T09:45:40.723Z"
   },
   {
    "duration": 10,
    "start_time": "2022-01-28T09:45:41.596Z"
   },
   {
    "duration": 5,
    "start_time": "2022-01-28T09:45:42.399Z"
   },
   {
    "duration": 7,
    "start_time": "2022-01-28T09:45:43.109Z"
   },
   {
    "duration": 5,
    "start_time": "2022-01-28T09:45:43.817Z"
   },
   {
    "duration": 12,
    "start_time": "2022-01-28T09:45:44.593Z"
   },
   {
    "duration": 13,
    "start_time": "2022-01-28T09:45:45.273Z"
   },
   {
    "duration": 11,
    "start_time": "2022-01-28T09:45:46.196Z"
   },
   {
    "duration": 22,
    "start_time": "2022-01-28T09:45:46.819Z"
   },
   {
    "duration": 9,
    "start_time": "2022-01-28T09:45:47.629Z"
   },
   {
    "duration": 6,
    "start_time": "2022-01-28T09:45:48.256Z"
   },
   {
    "duration": 7,
    "start_time": "2022-01-28T09:45:48.931Z"
   },
   {
    "duration": 6,
    "start_time": "2022-01-28T09:45:50.319Z"
   },
   {
    "duration": 6,
    "start_time": "2022-01-28T09:45:50.936Z"
   },
   {
    "duration": 6,
    "start_time": "2022-01-28T09:45:51.590Z"
   },
   {
    "duration": 7,
    "start_time": "2022-01-28T09:45:52.226Z"
   },
   {
    "duration": 4,
    "start_time": "2022-01-28T09:45:52.885Z"
   },
   {
    "duration": 18,
    "start_time": "2022-01-28T09:45:53.529Z"
   },
   {
    "duration": 12,
    "start_time": "2022-01-28T09:45:54.158Z"
   },
   {
    "duration": 33,
    "start_time": "2022-01-28T09:45:54.988Z"
   },
   {
    "duration": 11,
    "start_time": "2022-01-28T09:45:57.026Z"
   },
   {
    "duration": 10,
    "start_time": "2022-01-28T09:45:59.131Z"
   },
   {
    "duration": 23,
    "start_time": "2022-01-28T09:45:59.803Z"
   },
   {
    "duration": 815,
    "start_time": "2022-01-28T09:46:00.530Z"
   },
   {
    "duration": 735,
    "start_time": "2022-01-28T09:46:02.071Z"
   },
   {
    "duration": 731,
    "start_time": "2022-01-28T09:46:03.783Z"
   },
   {
    "duration": 706,
    "start_time": "2022-01-28T09:46:05.319Z"
   },
   {
    "duration": 786,
    "start_time": "2022-01-28T09:46:06.800Z"
   },
   {
    "duration": 716,
    "start_time": "2022-01-28T09:46:08.276Z"
   },
   {
    "duration": 22,
    "start_time": "2022-01-28T09:46:10.385Z"
   },
   {
    "duration": 9,
    "start_time": "2022-01-28T09:46:11.730Z"
   },
   {
    "duration": 445,
    "start_time": "2022-01-28T09:46:12.425Z"
   },
   {
    "duration": 379,
    "start_time": "2022-01-28T09:46:13.812Z"
   },
   {
    "duration": 454,
    "start_time": "2022-01-28T09:46:15.147Z"
   },
   {
    "duration": 131,
    "start_time": "2022-01-28T09:46:15.781Z"
   },
   {
    "duration": 1327,
    "start_time": "2022-01-28T09:46:16.466Z"
   },
   {
    "duration": 122,
    "start_time": "2022-01-28T09:46:17.795Z"
   },
   {
    "duration": 14,
    "start_time": "2022-01-28T09:46:17.906Z"
   },
   {
    "duration": 494,
    "start_time": "2022-01-28T09:46:25.076Z"
   },
   {
    "duration": 450,
    "start_time": "2022-01-28T09:46:29.032Z"
   },
   {
    "duration": 18,
    "start_time": "2022-01-28T09:46:31.550Z"
   },
   {
    "duration": 372,
    "start_time": "2022-01-28T09:46:32.979Z"
   },
   {
    "duration": 432,
    "start_time": "2022-01-28T09:46:33.725Z"
   },
   {
    "duration": 12,
    "start_time": "2022-01-28T09:46:34.431Z"
   },
   {
    "duration": 12,
    "start_time": "2022-01-28T09:46:35.132Z"
   },
   {
    "duration": 382,
    "start_time": "2022-01-28T09:46:37.103Z"
   },
   {
    "duration": 480,
    "start_time": "2022-01-28T09:46:37.783Z"
   },
   {
    "duration": 12,
    "start_time": "2022-01-28T09:46:38.411Z"
   },
   {
    "duration": 14,
    "start_time": "2022-01-28T09:46:39.047Z"
   },
   {
    "duration": 410,
    "start_time": "2022-01-28T09:46:40.416Z"
   },
   {
    "duration": 416,
    "start_time": "2022-01-28T09:46:41.112Z"
   },
   {
    "duration": 13,
    "start_time": "2022-01-28T09:46:41.875Z"
   },
   {
    "duration": 12,
    "start_time": "2022-01-28T09:46:42.492Z"
   },
   {
    "duration": 8979,
    "start_time": "2022-01-28T09:46:44.481Z"
   },
   {
    "duration": 18,
    "start_time": "2022-01-28T09:51:29.045Z"
   },
   {
    "duration": 18,
    "start_time": "2022-01-28T09:52:13.816Z"
   },
   {
    "duration": 309,
    "start_time": "2022-01-28T09:52:49.486Z"
   },
   {
    "duration": 349,
    "start_time": "2022-01-28T09:53:16.952Z"
   },
   {
    "duration": 499,
    "start_time": "2022-01-28T09:54:15.726Z"
   },
   {
    "duration": 131,
    "start_time": "2022-01-28T09:54:28.247Z"
   },
   {
    "duration": 341,
    "start_time": "2022-01-28T09:54:31.414Z"
   },
   {
    "duration": 6,
    "start_time": "2022-01-28T09:55:35.047Z"
   },
   {
    "duration": 4,
    "start_time": "2022-01-28T09:57:29.163Z"
   },
   {
    "duration": 35,
    "start_time": "2022-01-28T09:59:03.512Z"
   },
   {
    "duration": 593,
    "start_time": "2022-01-28T10:04:57.008Z"
   },
   {
    "duration": 10,
    "start_time": "2022-01-28T10:06:32.594Z"
   },
   {
    "duration": 387,
    "start_time": "2022-01-28T10:07:26.164Z"
   },
   {
    "duration": 13,
    "start_time": "2022-01-28T10:09:14.365Z"
   },
   {
    "duration": 19,
    "start_time": "2022-01-28T10:09:36.441Z"
   },
   {
    "duration": 295,
    "start_time": "2022-01-28T10:10:19.359Z"
   },
   {
    "duration": 408,
    "start_time": "2022-01-28T10:11:14.263Z"
   },
   {
    "duration": 302,
    "start_time": "2022-01-28T10:11:58.493Z"
   },
   {
    "duration": 406,
    "start_time": "2022-01-28T10:12:47.287Z"
   },
   {
    "duration": 272,
    "start_time": "2022-01-28T10:13:11.719Z"
   },
   {
    "duration": 274,
    "start_time": "2022-01-28T10:13:27.083Z"
   },
   {
    "duration": 857,
    "start_time": "2022-01-28T10:14:07.765Z"
   },
   {
    "duration": 839,
    "start_time": "2022-01-28T10:20:24.542Z"
   },
   {
    "duration": 788,
    "start_time": "2022-01-28T10:22:06.356Z"
   },
   {
    "duration": 6,
    "start_time": "2022-01-28T11:05:08.415Z"
   },
   {
    "duration": 7,
    "start_time": "2022-01-28T11:06:14.984Z"
   },
   {
    "duration": 11,
    "start_time": "2022-01-28T11:06:22.339Z"
   },
   {
    "duration": 9,
    "start_time": "2022-01-28T11:06:54.127Z"
   },
   {
    "duration": 20,
    "start_time": "2022-01-28T11:07:04.610Z"
   },
   {
    "duration": 10,
    "start_time": "2022-01-28T11:07:31.446Z"
   },
   {
    "duration": 499,
    "start_time": "2022-01-28T11:11:22.037Z"
   },
   {
    "duration": 4,
    "start_time": "2022-01-28T11:13:02.352Z"
   },
   {
    "duration": 14,
    "start_time": "2022-01-28T11:13:56.913Z"
   },
   {
    "duration": 101,
    "start_time": "2022-01-28T11:14:08.964Z"
   },
   {
    "duration": 5,
    "start_time": "2022-01-28T11:53:11.623Z"
   },
   {
    "duration": 12,
    "start_time": "2022-01-28T11:54:22.760Z"
   },
   {
    "duration": 158,
    "start_time": "2022-01-28T11:59:06.392Z"
   },
   {
    "duration": 30,
    "start_time": "2022-01-28T12:06:43.627Z"
   },
   {
    "duration": 131,
    "start_time": "2022-01-28T12:28:09.605Z"
   }
  ],
  "kernelspec": {
   "display_name": "Python 3 (ipykernel)",
   "language": "python",
   "name": "python3"
  },
  "language_info": {
   "codemirror_mode": {
    "name": "ipython",
    "version": 3
   },
   "file_extension": ".py",
   "mimetype": "text/x-python",
   "name": "python",
   "nbconvert_exporter": "python",
   "pygments_lexer": "ipython3",
   "version": "3.9.12"
  },
  "toc": {
   "base_numbering": 1,
   "nav_menu": {},
   "number_sections": true,
   "sideBar": true,
   "skip_h1_title": true,
   "title_cell": "Table of Contents",
   "title_sidebar": "Contents",
   "toc_cell": false,
   "toc_position": {},
   "toc_section_display": true,
   "toc_window_display": false
  }
 },
 "nbformat": 4,
 "nbformat_minor": 2
}
